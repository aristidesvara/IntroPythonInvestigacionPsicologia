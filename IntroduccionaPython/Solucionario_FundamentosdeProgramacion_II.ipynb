{
 "cells": [
  {
   "cell_type": "markdown",
   "metadata": {},
   "source": [
    "# Guía Práctica: Fundamentos de Programación II\n",
    "\n",
    "Este tutorial es una adaptación al español del tutorial [Foundations of Python Programming](https://runestone.academy/runestone/books/published/fopp/index.html) desarrollado por Brad Miller, Paul Resnick, Lauren Murphy, Jeffrey Elkner, Peter Wentworth, Allen B. Downey, Chris como parte del proyecto [Runstone Interactive](http://runestoneinteractive.org/).\n",
    "\n",
    ">Barbara Ericson and Bradley Miller. 2020 Runestone: A Platform for Free, On-line, and Interactive Ebooks In Proceedings of the 51st ACM Technical Symposium on Computer Science Education (SIGCSE ’20). Association for Computing Machinery, New York, NY, USA, 1240.\n"
   ]
  },
  {
   "cell_type": "markdown",
   "metadata": {},
   "source": [
    "# Ejercicio 1\n",
    "\n",
    "Considere la lista `letras` presente en la celda siguiente. Escribe código que te permita hacer lo siguiente:\n",
    "\n",
    "- Imprimir la letra \"C\" de esta lista\n",
    "- Imprimir la longitud de esta lista\n",
    "- Imprimir el primer elemento de esta lista\n",
    "- Imprimir el último elemento de esta lista\n",
    "- Crear una variable llamada calificación y asignarle el tercer elemento (\"C\") de la lista de letras de la lista (imprime la variable para asegurarte de que realizaste la indexación correcta)"
   ]
  },
  {
   "cell_type": "code",
   "execution_count": 22,
   "metadata": {},
   "outputs": [
    {
     "name": "stdout",
     "output_type": "stream",
     "text": [
      "1. C\n",
      "2. 5\n",
      "3. A\n",
      "4. E\n",
      "5. C\n"
     ]
    }
   ],
   "source": [
    "letras = [\"A\", \"B\", \"C\", \"D\", \"E\"]\n",
    "\n",
    "## Escribe tu respuesta aquí\n",
    "print(\"1.\", letras[2])\n",
    "print(\"2.\", len(letras))\n",
    "print(\"3.\", letras[0])\n",
    "print(\"4.\", letras[-1])\n",
    "\n",
    "calificacion = letras[2]\n",
    "print(\"5.\", calificacion)"
   ]
  },
  {
   "cell_type": "markdown",
   "metadata": {},
   "source": [
    "# Ejercicio 2\n",
    "\n",
    "Escriba un programa que imprima la longitud de cada elemento de la lista `estudiantes`, así como el primer y último caracter del elemento."
   ]
  },
  {
   "cell_type": "code",
   "execution_count": 14,
   "metadata": {},
   "outputs": [
    {
     "name": "stdout",
     "output_type": "stream",
     "text": [
      "Claudia\n",
      "longitud: 7\n",
      "primer: C\n",
      "último: a\n",
      "Fernando\n",
      "longitud: 8\n",
      "primer: F\n",
      "último: o\n",
      "Jesus\n",
      "longitud: 5\n",
      "primer: J\n",
      "último: s\n",
      "Silvana\n",
      "longitud: 7\n",
      "primer: S\n",
      "último: a\n",
      "Gloria\n",
      "longitud: 6\n",
      "primer: G\n",
      "último: a\n",
      "Jose Carlos\n",
      "longitud: 11\n",
      "primer: J\n",
      "último: s\n",
      "Carlos\n",
      "longitud: 6\n",
      "primer: C\n",
      "último: s\n",
      "Chyristian\n",
      "longitud: 10\n",
      "primer: C\n",
      "último: n\n",
      "Arlis\n",
      "longitud: 5\n",
      "primer: A\n",
      "último: s\n",
      "Ricardo\n",
      "longitud: 7\n",
      "primer: R\n",
      "último: o\n",
      "Zulma\n",
      "longitud: 5\n",
      "primer: Z\n",
      "último: a\n",
      "María\n",
      "longitud: 5\n",
      "primer: M\n",
      "último: a\n",
      "Alex\n",
      "longitud: 4\n",
      "primer: A\n",
      "último: x\n",
      "Melanie\n",
      "longitud: 7\n",
      "primer: M\n",
      "último: e\n",
      "Almendra\n",
      "longitud: 8\n",
      "primer: A\n",
      "último: a\n"
     ]
    }
   ],
   "source": [
    "estudiantes = [\n",
    "    \"Claudia\",\n",
    "    \"Fernando\",\n",
    "    \"Jesus\",\n",
    "    \"Silvana\",\n",
    "    \"Gloria\",\n",
    "    \"Jose Carlos\",\n",
    "    \"Carlos\",\n",
    "    \"Chyristian\",\n",
    "    \"Arlis\",\n",
    "    \"Ricardo\",\n",
    "    \"Zulma\",\n",
    "    \"María\",\n",
    "    \"Alex\",\n",
    "    \"Melanie\",\n",
    "    \"Almendra\",\n",
    "]\n",
    "\n",
    "## Escribe tu respuesta aquí\n",
    "\n",
    "for nombre in estudiantes:\n",
    "    print(nombre)\n",
    "    print(\"longitud:\", len(nombre))\n",
    "    print(\"primer:\", nombre[0])\n",
    "    print(\"último:\", nombre[-1])"
   ]
  },
  {
   "cell_type": "markdown",
   "metadata": {},
   "source": [
    "# Ejercicio 3\n",
    "\n",
    "Escribe código para determinar cuántas \"t\" hay en las siguientes oraciones.\n"
   ]
  },
  {
   "cell_type": "code",
   "execution_count": 9,
   "metadata": {},
   "outputs": [
    {
     "name": "stdout",
     "output_type": "stream",
     "text": [
      "\"¿En qué momento se jodió el Perú, Zavalita?\" tiene 2 \"t\"\n",
      "\"Señor Ministro de Salud: ¿qué hacer? ¡Ah! desgraciadamente, hombre humanos, hay, hermanos, muchísimo que hacer.\" tiene 2 \"t\"\n",
      "\"¡Los viejos a la tumba, los jóvenes a la obra!\" tiene 1 \"t\"\n"
     ]
    }
   ],
   "source": [
    "oraciones = [\n",
    "    \"¿En qué momento se jodió el Perú, Zavalita?\",\n",
    "    \"Señor Ministro de Salud: ¿qué hacer? ¡Ah! desgraciadamente, hombre humanos, hay, hermanos, muchísimo que hacer.\",\n",
    "    \"¡Los viejos a la tumba, los jóvenes a la obra!\",\n",
    "]\n",
    "\n",
    "# Escribe tu respuesta aquí\n",
    "\n",
    "for frase in oraciones:\n",
    "    count = 0\n",
    "    for letra in frase:\n",
    "        if letra == \"t\":\n",
    "            count = count + 1\n",
    "    print('\"' + frase + '\"', \"tiene\", str(count), '\"t\"')"
   ]
  },
  {
   "cell_type": "markdown",
   "metadata": {},
   "source": [
    "# Ejercicio 4\n",
    "\n",
    "Tienes una lista de números `12, 10, 32, 3, 66, 17, 42, 99, 20`\n",
    "\n",
    "1. Escribe un bucle que imprima cada uno de los números en una nueva línea.\n",
    "\n",
    "2. Escribe un bucle que imprima cada número y su cuadrado en una nueva línea."
   ]
  },
  {
   "cell_type": "code",
   "execution_count": 53,
   "metadata": {},
   "outputs": [
    {
     "name": "stdout",
     "output_type": "stream",
     "text": [
      "Ejercicio A\n",
      "12\n",
      "10\n",
      "32\n",
      "3\n",
      "66\n",
      "17\n",
      "42\n",
      "99\n",
      "20\n",
      "Ejercicio B\n",
      "número: 12\n",
      "cuadrado: 144\n",
      "número: 10\n",
      "cuadrado: 100\n",
      "número: 32\n",
      "cuadrado: 1024\n",
      "número: 3\n",
      "cuadrado: 9\n",
      "número: 66\n",
      "cuadrado: 4356\n",
      "número: 17\n",
      "cuadrado: 289\n",
      "número: 42\n",
      "cuadrado: 1764\n",
      "número: 99\n",
      "cuadrado: 9801\n",
      "número: 20\n",
      "cuadrado: 400\n"
     ]
    }
   ],
   "source": [
    "# Escribe tu respuesta aquí\n",
    "\n",
    "numeros = [12, 10, 32, 3, 66, 17, 42, 99, 20]\n",
    "\n",
    "print(\"Ejercicio A\")\n",
    "for i in numeros:\n",
    "    print(i)\n",
    "\n",
    "print(\"Ejercicio B\")\n",
    "for i in numeros:\n",
    "    print(\"número:\", i)\n",
    "    print(\"cuadrado:\", i**2)"
   ]
  },
  {
   "cell_type": "markdown",
   "metadata": {},
   "source": [
    "# Ejercicio 5\n",
    "\n",
    "Escriba un bucle for para imprimir cada carácter de la cadena `my_str` en una línea separada."
   ]
  },
  {
   "cell_type": "code",
   "execution_count": 23,
   "metadata": {},
   "outputs": [
    {
     "name": "stdout",
     "output_type": "stream",
     "text": [
      "E\n",
      "S\n",
      "T\n",
      "R\n",
      "U\n",
      "E\n",
      "N\n",
      "D\n",
      "O\n",
      "M\n",
      "U\n",
      "D\n",
      "O\n"
     ]
    }
   ],
   "source": [
    "my_str = \"ESTRUENDOMUDO\"\n",
    "\n",
    "## Escribe tu respuesta aquí\n",
    "\n",
    "for i in my_str:\n",
    "    print(i)"
   ]
  },
  {
   "cell_type": "markdown",
   "metadata": {},
   "source": [
    "# Ejercicio 6\n",
    "\n",
    "Este código debe producir acrónimos, que son la concatenación de las primeras letras (en mayúsculas) de cada palabra presente en `lst`. El código tiene un error y no produce el resultado esperado. Haz las correciones necesarias. Deberías tener solo una respuesta: MAPS. "
   ]
  },
  {
   "cell_type": "code",
   "execution_count": 38,
   "metadata": {},
   "outputs": [
    {
     "name": "stdout",
     "output_type": "stream",
     "text": [
      "MAPS\n"
     ]
    }
   ],
   "source": [
    "lst = [\"mathematics\", \"astronomy\", \"physics\", \"stuff\"]\n",
    "# No modifiques la variable lst\n",
    "\n",
    "acronym = \"\"\n",
    "for word in lst:\n",
    "    acronym = acronym + word[0].capitalize()\n",
    "\n",
    "print(acronym)"
   ]
  },
  {
   "cell_type": "markdown",
   "metadata": {},
   "source": [
    "# Ejercicio 7\n",
    "\n",
    "Escribe una función que le pida al usuario que ingrese una puntuación numérica (0-100). En respuesta, debe imprimir el puntaje y la calificación de la letra correspondiente, de acuerdo con la tabla a continuación.\n",
    "\n",
    "| Puntaje | Nota |\n",
    "|:-------:|:----:|\n",
    "|  >= 90  |   A  |\n",
    "| [80-90) |   B  |\n",
    "| [70-80) |   C  |\n",
    "| [60-70) |   D  |\n",
    "|   <60   |   E  |\n",
    "\n",
    "Los corchetes y paréntesis denotan intervalos cerrados y abiertos. Un intervalo cerrado incluye el número y el intervalo abierto lo excluye. Entonces 79.99999 obtiene la calificación C, pero 80 obtiene la calificación B."
   ]
  },
  {
   "cell_type": "code",
   "execution_count": 52,
   "metadata": {},
   "outputs": [
    {
     "name": "stdout",
     "output_type": "stream",
     "text": [
      "C\n",
      "B\n"
     ]
    }
   ],
   "source": [
    "# Escribe tu respuesta aquí\n",
    "\n",
    "\n",
    "def calificar(x):\n",
    "    if x >= 90:\n",
    "        nota = \"A\"\n",
    "    elif x >= 80 and x < 90:\n",
    "        nota = \"B\"\n",
    "    elif x >= 70 and x < 80:\n",
    "        nota = \"C\"\n",
    "    elif x >= 60 and x < 70:\n",
    "        nota = \"D\"\n",
    "    elif x < 60:\n",
    "        nota = \"E\"\n",
    "\n",
    "    return nota\n",
    "\n",
    "\n",
    "print(calificar(79.99999))\n",
    "print(calificar(80))"
   ]
  },
  {
   "cell_type": "markdown",
   "metadata": {},
   "source": [
    "# Ejercicio 8\n",
    "\n",
    "Escriba un programa que imprima un saludo para cada estudiante en la lista `estudiantes`. Este programa también debe llevar un registro de cuántos estudiantes se han recibido y tener en cuenta que cada vez que se saluda a un nuevo estudiante. Cuando solo haya ingresado un estudiante, el programa debe decir “¡Ha ingresado el primer estudiante!”. Después, el programa debería decir \"¡Hay {número aquí} estudiantes en el aula!\".\n"
   ]
  },
  {
   "cell_type": "code",
   "execution_count": 4,
   "metadata": {},
   "outputs": [
    {
     "name": "stdout",
     "output_type": "stream",
     "text": [
      "Hola, Claudia\n",
      "¡Ha ingresado el primer estudiante!\n",
      "Hola, Fernando\n",
      "¡Hay 2 estudiantes en el aula!\n",
      "Hola, Jesus\n",
      "¡Hay 3 estudiantes en el aula!\n",
      "Hola, Silvana\n",
      "¡Hay 4 estudiantes en el aula!\n",
      "Hola, Gloria\n",
      "¡Hay 5 estudiantes en el aula!\n",
      "Hola, Jose Carlos\n",
      "¡Hay 6 estudiantes en el aula!\n",
      "Hola, Carlos\n",
      "¡Hay 7 estudiantes en el aula!\n",
      "Hola, Chyristian\n",
      "¡Hay 8 estudiantes en el aula!\n",
      "Hola, Arlis\n",
      "¡Hay 9 estudiantes en el aula!\n",
      "Hola, Ricardo\n",
      "¡Hay 10 estudiantes en el aula!\n",
      "Hola, Zulma\n",
      "¡Hay 11 estudiantes en el aula!\n",
      "Hola, María\n",
      "¡Hay 12 estudiantes en el aula!\n",
      "Hola, Alex\n",
      "¡Hay 13 estudiantes en el aula!\n",
      "Hola, Melanie\n",
      "¡Hay 14 estudiantes en el aula!\n",
      "Hola, Almendra\n",
      "¡Hay 15 estudiantes en el aula!\n"
     ]
    }
   ],
   "source": [
    "estudiantes = [\n",
    "    \"Claudia\",\n",
    "    \"Fernando\",\n",
    "    \"Jesus\",\n",
    "    \"Silvana\",\n",
    "    \"Gloria\",\n",
    "    \"Jose Carlos\",\n",
    "    \"Carlos\",\n",
    "    \"Chyristian\",\n",
    "    \"Arlis\",\n",
    "    \"Ricardo\",\n",
    "    \"Zulma\",\n",
    "    \"María\",\n",
    "    \"Alex\",\n",
    "    \"Melanie\",\n",
    "    \"Almendra\",\n",
    "]\n",
    "\n",
    "# Escribe tu solución aquí\n",
    "\n",
    "\n",
    "def ingreso(lista_estudiantes):\n",
    "    count = 0\n",
    "    for estudiante in lista_estudiantes:\n",
    "        print(\"Hola,\", estudiante)\n",
    "        count = count + 1\n",
    "\n",
    "        if count < 2:\n",
    "            print(\"¡Ha ingresado el primer estudiante!\")\n",
    "        else:\n",
    "            print(\"¡Hay\", count, \"estudiantes en el aula!\")\n",
    "\n",
    "\n",
    "ingreso(estudiantes)"
   ]
  },
  {
   "cell_type": "code",
   "execution_count": 3,
   "metadata": {},
   "outputs": [
    {
     "name": "stdout",
     "output_type": "stream",
     "text": [
      "Hola, Claudia\n",
      "¡Ha ingresado el primer estudiante!\n",
      "Hola, Fernando\n",
      "¡Hay 2 estudiantes en el aula!\n",
      "Hola, Jesus\n",
      "¡Hay 3 estudiantes en el aula!\n",
      "Hola, Silvana\n",
      "¡Hay 4 estudiantes en el aula!\n",
      "Hola, Gloria\n",
      "¡Hay 5 estudiantes en el aula!\n",
      "Hola, Jose Carlos\n",
      "¡Hay 6 estudiantes en el aula!\n",
      "Hola, Carlos\n",
      "¡Hay 7 estudiantes en el aula!\n",
      "Hola, Chyristian\n",
      "¡Hay 8 estudiantes en el aula!\n",
      "Hola, Arlis\n",
      "¡Hay 9 estudiantes en el aula!\n",
      "Hola, Ricardo\n",
      "¡Hay 10 estudiantes en el aula!\n",
      "Hola, Zulma\n",
      "¡Hay 11 estudiantes en el aula!\n",
      "Hola, María\n",
      "¡Hay 12 estudiantes en el aula!\n",
      "Hola, Alex\n",
      "¡Hay 13 estudiantes en el aula!\n",
      "Hola, Melanie\n",
      "¡Hay 14 estudiantes en el aula!\n",
      "Hola, Almendra\n",
      "¡Hay 15 estudiantes en el aula!\n"
     ]
    }
   ],
   "source": [
    "# Solución alternativa\n",
    "\n",
    "estudiantes = [\n",
    "    \"Claudia\",\n",
    "    \"Fernando\",\n",
    "    \"Jesus\",\n",
    "    \"Silvana\",\n",
    "    \"Gloria\",\n",
    "    \"Jose Carlos\",\n",
    "    \"Carlos\",\n",
    "    \"Chyristian\",\n",
    "    \"Arlis\",\n",
    "    \"Ricardo\",\n",
    "    \"Zulma\",\n",
    "    \"María\",\n",
    "    \"Alex\",\n",
    "    \"Melanie\",\n",
    "    \"Almendra\",\n",
    "]\n",
    "\n",
    "count = 0\n",
    "for estudiante in estudiantes:\n",
    "    print(\"Hola,\", estudiante)\n",
    "    count = count + 1\n",
    "\n",
    "    if count < 2:\n",
    "        print(\"¡Ha ingresado el primer estudiante!\")\n",
    "    else:\n",
    "        print(\"¡Hay\", count, \"estudiantes en el aula!\")"
   ]
  },
  {
   "cell_type": "markdown",
   "metadata": {},
   "source": [
    "Si tienes tiempo, te invito a explorar los [ejercicios de los capítulos 6, 7 y 8](https://runestone.academy/runestone/books/published/fopp/index.html) del tutorial original en inglés."
   ]
  }
 ],
 "metadata": {
  "interpreter": {
   "hash": "e84bdd4a79bc3851096d1aca18d217dcfba9c3a6615164e04ce6738c3fa474db"
  },
  "kernelspec": {
   "display_name": "Python 3.7.9 64-bit (conda)",
   "language": "python",
   "name": "python3"
  },
  "language_info": {
   "codemirror_mode": {
    "name": "ipython",
    "version": 3
   },
   "file_extension": ".py",
   "mimetype": "text/x-python",
   "name": "python",
   "nbconvert_exporter": "python",
   "pygments_lexer": "ipython3",
   "version": "3.7.13"
  },
  "orig_nbformat": 2
 },
 "nbformat": 4,
 "nbformat_minor": 2
}
