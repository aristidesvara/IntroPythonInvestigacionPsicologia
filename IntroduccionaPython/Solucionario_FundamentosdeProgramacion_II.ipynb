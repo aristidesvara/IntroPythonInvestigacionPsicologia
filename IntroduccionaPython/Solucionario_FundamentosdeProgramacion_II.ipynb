{
 "metadata": {
  "language_info": {
   "codemirror_mode": {
    "name": "ipython",
    "version": 3
   },
   "file_extension": ".py",
   "mimetype": "text/x-python",
   "name": "python",
   "nbconvert_exporter": "python",
   "pygments_lexer": "ipython3",
   "version": "3.7.9"
  },
  "orig_nbformat": 2,
  "kernelspec": {
   "name": "python379jvsc74a57bd0fcc1d2c210046f8d6f0962280d91bf96fd89619bab60881df3e6b70c67140f94",
   "display_name": "Python 3.7.9 64-bit (conda)"
  }
 },
 "nbformat": 4,
 "nbformat_minor": 2,
 "cells": [
  {
   "source": [
    "# Guía Práctica: Fundamentos de Programación II\n",
    "\n",
    "Este tutorial es una adaptación al español del tutorial [Foundations of Python Programming](https://runestone.academy/runestone/books/published/fopp/index.html) desarrollado por Brad Miller, Paul Resnick, Lauren Murphy, Jeffrey Elkner, Peter Wentworth, Allen B. Downey, Chris como parte del proyecto [Runstone Interactive](http://runestoneinteractive.org/).\n",
    "\n",
    ">Barbara Ericson and Bradley Miller. 2020 Runestone: A Platform for Free, On-line, and Interactive Ebooks In Proceedings of the 51st ACM Technical Symposium on Computer Science Education (SIGCSE ’20). Association for Computing Machinery, New York, NY, USA, 1240.\n"
   ],
   "cell_type": "markdown",
   "metadata": {}
  },
  {
   "source": [
    "# Ejercicio 1\n",
    "\n",
    "Considere la lista `letras` presente en la celda siguiente. Escribe código que te permita hacer lo siguiente:\n",
    "\n",
    "- Imprimir la letra \"C\" de esta lista\n",
    "- Imprimir la longitud de esta lista\n",
    "- Imprimir el primer elemento de esta lista\n",
    "- Imprimir el último elemento de esta lista\n",
    "- Crear una variable llamada calificación y asignarle el tercer elemento (\"C\") de la lista de letras de la lista (imprime la variable para asegurarte de que realizaste la indexación correcta)"
   ],
   "cell_type": "markdown",
   "metadata": {}
  },
  {
   "cell_type": "code",
   "execution_count": 22,
   "metadata": {},
   "outputs": [
    {
     "output_type": "stream",
     "name": "stdout",
     "text": [
      "1. C\n2. 5\n3. A\n4. E\n5. C\n"
     ]
    }
   ],
   "source": [
    "letras = ['A', 'B', 'C', 'D', 'E']\n",
    "\n",
    "## Escribe tu respuesta aquí\n",
    "print('1.',letras[2])\n",
    "print('2.',len(letras))\n",
    "print('3.',letras[0])\n",
    "print('4.',letras[-1])\n",
    "\n",
    "calificacion = letras[2]\n",
    "print('5.',calificacion)"
   ]
  },
  {
   "source": [
    "# Ejercicio 2\n",
    "\n",
    "Escriba un programa que imprima la longitud de cada elemento de la lista `estudiantes`, así como el primer y último caracter del elemento."
   ],
   "cell_type": "markdown",
   "metadata": {}
  },
  {
   "cell_type": "code",
   "execution_count": 14,
   "metadata": {},
   "outputs": [
    {
     "output_type": "stream",
     "name": "stdout",
     "text": [
      "Claudia\nlongitud: 7\nprimer: C\núltimo: a\nFernando\nlongitud: 8\nprimer: F\núltimo: o\nJesus\nlongitud: 5\nprimer: J\núltimo: s\nSilvana\nlongitud: 7\nprimer: S\núltimo: a\nGloria\nlongitud: 6\nprimer: G\núltimo: a\nJose Carlos\nlongitud: 11\nprimer: J\núltimo: s\nCarlos\nlongitud: 6\nprimer: C\núltimo: s\nChyristian\nlongitud: 10\nprimer: C\núltimo: n\nArlis\nlongitud: 5\nprimer: A\núltimo: s\nRicardo\nlongitud: 7\nprimer: R\núltimo: o\nZulma\nlongitud: 5\nprimer: Z\núltimo: a\nMaría\nlongitud: 5\nprimer: M\núltimo: a\nAlex\nlongitud: 4\nprimer: A\núltimo: x\nMelanie\nlongitud: 7\nprimer: M\núltimo: e\nAlmendra\nlongitud: 8\nprimer: A\núltimo: a\n"
     ]
    }
   ],
   "source": [
    "estudiantes = ['Claudia','Fernando','Jesus','Silvana','Gloria','Jose Carlos','Carlos','Chyristian','Arlis','Ricardo','Zulma','María','Alex','Melanie','Almendra']\n",
    "\n",
    "## Escribe tu respuesta aquí\n",
    "\n",
    "for nombre in estudiantes:\n",
    "    print(nombre)\n",
    "    print('longitud:',len(nombre))\n",
    "    print('primer:',nombre[0])\n",
    "    print('último:',nombre[-1])"
   ]
  },
  {
   "source": [
    "# Ejercicio 3\n",
    "\n",
    "Escribe código para determinar cuántas \"t\" hay en las siguientes oraciones.\n"
   ],
   "cell_type": "markdown",
   "metadata": {}
  },
  {
   "cell_type": "code",
   "execution_count": 9,
   "metadata": {},
   "outputs": [
    {
     "output_type": "stream",
     "name": "stdout",
     "text": [
      "\"¿En qué momento se jodió el Perú, Zavalita?\" tiene 2 \"t\"\n\"Señor Ministro de Salud: ¿qué hacer? ¡Ah! desgraciadamente, hombre humanos, hay, hermanos, muchísimo que hacer.\" tiene 2 \"t\"\n\"¡Los viejos a la tumba, los jóvenes a la obra!\" tiene 1 \"t\"\n"
     ]
    }
   ],
   "source": [
    "oraciones = ['¿En qué momento se jodió el Perú, Zavalita?',\n",
    "'Señor Ministro de Salud: ¿qué hacer? ¡Ah! desgraciadamente, hombre humanos, hay, hermanos, muchísimo que hacer.',\n",
    "'¡Los viejos a la tumba, los jóvenes a la obra!']\n",
    "\n",
    "# Escribe tu respuesta aquí\n",
    "\n",
    "for frase in oraciones:\n",
    "  count=0\n",
    "  for letra in frase:\n",
    "    if letra == 't': count=count+1\n",
    "  print('\"'+frase+'\"','tiene',str(count),'\"t\"')  "
   ]
  },
  {
   "source": [
    "# Ejercicio 4\n",
    "\n",
    "Tienes una lista de números `12, 10, 32, 3, 66, 17, 42, 99, 20`\n",
    "\n",
    "1. Escribe un bucle que imprima cada uno de los números en una nueva línea.\n",
    "\n",
    "2. Escribe un bucle que imprima cada número y su cuadrado en una nueva línea."
   ],
   "cell_type": "markdown",
   "metadata": {}
  },
  {
   "cell_type": "code",
   "execution_count": 53,
   "metadata": {},
   "outputs": [
    {
     "output_type": "stream",
     "name": "stdout",
     "text": [
      "Ejercicio A\n12\n10\n32\n3\n66\n17\n42\n99\n20\nEjercicio B\nnúmero: 12\ncuadrado: 144\nnúmero: 10\ncuadrado: 100\nnúmero: 32\ncuadrado: 1024\nnúmero: 3\ncuadrado: 9\nnúmero: 66\ncuadrado: 4356\nnúmero: 17\ncuadrado: 289\nnúmero: 42\ncuadrado: 1764\nnúmero: 99\ncuadrado: 9801\nnúmero: 20\ncuadrado: 400\n"
     ]
    }
   ],
   "source": [
    "# Escribe tu respuesta aquí\n",
    "\n",
    "numeros=[12, 10, 32, 3, 66, 17, 42, 99, 20]\n",
    "\n",
    "print('Ejercicio A')\n",
    "for i in numeros:\n",
    "    print(i)\n",
    "\n",
    "print('Ejercicio B')\n",
    "for i in numeros:\n",
    "    print('número:',i)\n",
    "    print('cuadrado:',i**2)"
   ]
  },
  {
   "source": [
    "# Ejercicio 5\n",
    "\n",
    "Escriba un bucle for para imprimir cada carácter de la cadena `my_str` en una línea separada."
   ],
   "cell_type": "markdown",
   "metadata": {}
  },
  {
   "cell_type": "code",
   "execution_count": 23,
   "metadata": {},
   "outputs": [
    {
     "output_type": "stream",
     "name": "stdout",
     "text": [
      "E\nS\nT\nR\nU\nE\nN\nD\nO\nM\nU\nD\nO\n"
     ]
    }
   ],
   "source": [
    "my_str = 'ESTRUENDOMUDO'\n",
    "\n",
    "## Escribe tu respuesta aquí\n",
    "\n",
    "for i in my_str:\n",
    "    print(i)"
   ]
  },
  {
   "source": [
    "# Ejercicio 6\n",
    "\n",
    "Este código debe producir acrónimos, que son la concatenación de las primeras letras (en mayúsculas) de cada palabra presente en `lst`. El código tiene un error y no produce el resultado esperado. Haz las correciones necesarias. Deberías tener solo una respuesta: MAPS. "
   ],
   "cell_type": "markdown",
   "metadata": {}
  },
  {
   "source": [
    "lst = ['mathematics', 'astronomy', 'physics', 'stuff']\n",
    "# No modifiques la variable lst\n",
    "\n",
    "acronym = ''\n",
    "for word in lst:\n",
    "    acronym = acronym + word[0].capitalize()\n",
    "\n",
    "print(acronym)"
   ],
   "cell_type": "code",
   "metadata": {},
   "execution_count": 38,
   "outputs": [
    {
     "output_type": "stream",
     "name": "stdout",
     "text": [
      "MAPS\n"
     ]
    }
   ]
  },
  {
   "source": [
    "# Ejercicio 7\n",
    "\n",
    "Escribe una función que le pida al usuario que ingrese una puntuación numérica (0-100). En respuesta, debe imprimir el puntaje y la calificación de la letra correspondiente, de acuerdo con la tabla a continuación.\n",
    "\n",
    "| Puntaje | Nota |\n",
    "|:-------:|:----:|\n",
    "|  >= 90  |   A  |\n",
    "| [80-90) |   B  |\n",
    "| [70-80) |   C  |\n",
    "| [60-70) |   D  |\n",
    "|   <60   |   E  |\n",
    "\n",
    "Los corchetes y paréntesis denotan intervalos cerrados y abiertos. Un intervalo cerrado incluye el número y el intervalo abierto lo excluye. Entonces 79.99999 obtiene la calificación C, pero 80 obtiene la calificación B."
   ],
   "cell_type": "markdown",
   "metadata": {}
  },
  {
   "cell_type": "code",
   "execution_count": 52,
   "metadata": {},
   "outputs": [
    {
     "output_type": "stream",
     "name": "stdout",
     "text": [
      "C\nB\n"
     ]
    }
   ],
   "source": [
    "# Escribe tu respuesta aquí\n",
    "\n",
    "def calificar(x):\n",
    "    if x>= 90:\n",
    "        nota = 'A'\n",
    "    elif (x>= 80 and x<90):\n",
    "        nota = 'B'\n",
    "    elif (x>= 70 and x<80):\n",
    "        nota = 'C'\n",
    "    elif (x>= 60 and x<70):\n",
    "        nota = 'D'\n",
    "    elif (x<60):\n",
    "        nota = 'E'   \n",
    "        \n",
    "    return nota\n",
    "\n",
    "print(calificar(79.99999))\n",
    "print(calificar(80))"
   ]
  },
  {
   "source": [
    "# Ejercicio 8\n",
    "\n",
    "Escriba un programa que imprima un saludo para cada estudiante en la lista `estudiantes`. Este programa también debe llevar un registro de cuántos estudiantes se han recibido y tener en cuenta que cada vez que se saluda a un nuevo estudiante. Cuando solo haya ingresado un estudiante, el programa debe decir “¡Ha ingresado el primer estudiante!”. Después, el programa debería decir \"¡Hay {número aquí} estudiantes en el aula!\".\n"
   ],
   "cell_type": "markdown",
   "metadata": {}
  },
  {
   "source": [
    "estudiantes = ['Claudia','Fernando','Jesus','Silvana','Gloria','Jose Carlos','Carlos','Chyristian','Arlis','Ricardo','Zulma','María','Alex','Melanie','Almendra']\n",
    "\n",
    "# Escribe tu solución aquí\n",
    "\n",
    "def ingreso(x):\n",
    "    count=0\n",
    "    for i in x:\n",
    "        print('Hola,',i)\n",
    "        count=count+1\n",
    "        \n",
    "        if count<2:\n",
    "            print('¡Ha ingresado el primer estudiante!')\n",
    "        else:\n",
    "            print('¡Hay',count,'estudiantes en el aula!')\n",
    "\n",
    "ingreso(estudiantes)"
   ],
   "cell_type": "code",
   "metadata": {},
   "execution_count": 60,
   "outputs": [
    {
     "output_type": "stream",
     "name": "stdout",
     "text": [
      "Hola, Claudia\n¡Ha ingresado el primer estudiante!\nHola, Fernando\n¡Hay 2 estudiantes en el aula!\nHola, Jesus\n¡Hay 3 estudiantes en el aula!\nHola, Silvana\n¡Hay 4 estudiantes en el aula!\nHola, Gloria\n¡Hay 5 estudiantes en el aula!\nHola, Jose Carlos\n¡Hay 6 estudiantes en el aula!\nHola, Carlos\n¡Hay 7 estudiantes en el aula!\nHola, Chyristian\n¡Hay 8 estudiantes en el aula!\nHola, Arlis\n¡Hay 9 estudiantes en el aula!\nHola, Ricardo\n¡Hay 10 estudiantes en el aula!\nHola, Zulma\n¡Hay 11 estudiantes en el aula!\nHola, María\n¡Hay 12 estudiantes en el aula!\nHola, Alex\n¡Hay 13 estudiantes en el aula!\nHola, Melanie\n¡Hay 14 estudiantes en el aula!\nHola, Almendra\n¡Hay 15 estudiantes en el aula!\n"
     ]
    }
   ]
  },
  {
   "source": [
    "Si tienes tiempo, te invito a explorar los [ejercicios de los capítulos 6, 7 y 8](https://runestone.academy/runestone/books/published/fopp/index.html) del tutorial original en inglés."
   ],
   "cell_type": "markdown",
   "metadata": {}
  }
 ]
}