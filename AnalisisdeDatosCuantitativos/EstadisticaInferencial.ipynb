{
 "metadata": {
  "language_info": {
   "codemirror_mode": {
    "name": "ipython",
    "version": 3
   },
   "file_extension": ".py",
   "mimetype": "text/x-python",
   "name": "python",
   "nbconvert_exporter": "python",
   "pygments_lexer": "ipython3",
   "version": "3.7.9-final"
  },
  "orig_nbformat": 2,
  "kernelspec": {
   "name": "python379jvsc74a57bd0fcc1d2c210046f8d6f0962280d91bf96fd89619bab60881df3e6b70c67140f94",
   "display_name": "Python 3.7.9 64-bit (conda)"
  }
 },
 "nbformat": 4,
 "nbformat_minor": 2,
 "cells": [
  {
   "source": [
    "# Estadística Inferencial con Scipy y Statsmodels\n",
    "\n",
    "Este tutorial es una adaptación al español de los materiales del curso [Quantitative Neuroscience](http://www.compneurosci.com/NSCI801.html) desarrollado por Gunnar Blohm y Joe Nashed en la [Universidad de Queens](https://www.queensu.ca/). \n"
   ],
   "cell_type": "markdown",
   "metadata": {}
  },
  {
   "source": [
    "## La lógica de la prueba de hipótesis\n",
    "\n",
    "La lógica de la prueba de hipótesis en estadística consta de cuatro pasos. \n",
    "\n",
    "- Enunciar la hipótesis: Enunciamos una hipótesis (conjetura) sobre una población. Por lo general, la hipótesis se refiere al valor de un parámetro de población. \n",
    "\n",
    "- Definir el método de decisión: definimos un método para tomar una decisión sobre la hipótesis. El método involucra datos de muestra. \n",
    "\n",
    "- Recopilar datos: obtenemos una muestra aleatoria de la población. \n",
    "\n",
    "- Tomar una decisión: comparamos los datos de la muestra con la hipótesis sobre la población. Por lo general, comparamos el valor de una estadística calculada a partir de los datos de la muestra con el valor hipotético del parámetro de población. Si los datos son consistentes con la hipótesis, concluimos que la hipótesis es razonable. \n",
    "\n",
    ">NOTA: No concluimos que sea correcto, ¡pero razonable! Y: De hecho, hacemos esto rechazando la hipótesis opuesta (llamada hipótesis NULA). Más sobre esto más adelante. Si hay una gran discrepancia entre los datos y la hipótesis, concluimos que la hipótesis era incorrecta. Ampliamos esos pasos en esta sección:\n",
    "\n",
    "### Primer paso: plantear la hipótesis\n",
    "\n",
    "En realidad, plantear la hipótesis implica plantear dos hipótesis opuestas sobre el valor de un parámetro de población. Ejemplo: supongamos que estamos interesados ​​en el efecto de la exposición prenatal al alcohol sobre el peso al nacer de las ratas. Además, suponga que sabemos que el peso medio al nacer de la población de ratas de laboratorio no tratadas es de 18 gramos.\n",
    "\n",
    "Aquí están las dos hipótesis opuestas:\n",
    "\n",
    "La hipótesis nula (Ho). Esta hipótesis establece que el tratamiento no tiene ningún efecto. Para nuestro ejemplo, declaramos formalmente: La hipótesis nula (Ho) es que la exposición prenatal al alcohol no tiene ningún efecto sobre el peso al nacer de la población de ratas de laboratorio. El peso al nacer será igual a 18 gramos.\n",
    "\n",
    "La hipótesis alternativa (H1). Esta hipótesis establece que el tratamiento sí tiene efecto. Para nuestro ejemplo, declaramos formalmente: La hipótesis alternativa (H1) es que la exposición prenatal al alcohol tiene un efecto sobre el peso al nacer de la población de ratas de laboratorio. El peso al nacer será diferente a los 18 gramos.\n",
    "\n",
    "### Segundo paso: definir el método de decisión\n",
    "\n",
    "Debemos definir un método que nos permita decidir si la media muestral es diferente de la media poblacional hipotetizada. El método nos permitirá concluir si (rechazar la hipótesis nula) o no (aceptar la hipótesis nula) el tratamiento (alcohol prenatal) tiene un efecto (sobre el peso al nacer). Entraremos en detalles más adelante.\n",
    "\n",
    "### Tercer paso: recopilar datos\n",
    "\n",
    "Ahora recopilamos datos. Hacemos esto obteniendo una muestra aleatoria de la población. Ejemplo: una muestra aleatoria de ratas recibe dosis diarias de alcohol durante el embarazo. Al nacer, medimos el peso de la muestra de ratas recién nacidas. Los pesos, en gramos, se muestran en la tabla.\n",
    "\n",
    "Calculamos el peso medio al nacer.\n",
    "\n",
    "Experimento 1 \n",
    "Media muestral = 13 \n",
    "\n",
    "### Cuarto paso: Tome una decisión\n",
    "\n",
    "Tomamos una decisión sobre si la media de la muestra es consistente con nuestra hipótesis nula sobre la media de la población. Si los datos son consistentes con la hipótesis nula, concluimos que la hipótesis nula es razonable. Formalmente: no rechazamos la hipótesis nula.\n",
    "\n",
    "Si hay una gran discrepancia entre los datos y la hipótesis nula, concluimos que la hipótesis nula era incorrecta. Formalmente: rechazamos la hipótesis nula.\n",
    "\n",
    "Ejemplo: Comparamos el peso medio al nacer observado con el valor hipotético, bajo la hipótesis nula, de 18 gramos.\n",
    "\n",
    "Si una muestra de crías de rata que fueron expuestas a alcohol prenatal tiene un peso al nacer \"cercano\" a 18 gramos, concluimos que el tratamiento no tiene ningún efecto. Formalmente: No rechazamos la hipótesis nula de que la exposición prenatal al alcohol no tiene ningún efecto sobre el peso al nacer de la población de ratas de laboratorio.\n",
    "\n",
    "Si nuestra muestra de crías de rata tiene un peso al nacer \"lejos\" de 18 gramos, concluimos que el tratamiento tiene efecto. Formalmente: rechazamos la hipótesis nula de que la exposición prenatal al alcohol no tiene ningún efecto sobre el peso al nacer de la población de ratas de laboratorio.\n",
    "\n",
    "Para este ejemplo, probablemente decidiríamos que el peso medio observado al nacer de 13 gramos es \"diferente\" del valor de 18 gramos hipotético bajo la hipótesis nula. Formalmente: rechazamos la hipótesis nula de que la exposición prenatal al alcohol no tiene ningún efecto sobre el peso al nacer de la población de ratas de laboratorio.\n",
    "\n",
    "## Significancia estadística\n",
    "\n",
    "La significancia estadística es la probabilidad de que una relación entre dos o más variables sea causada por algo diferente al azar.\n",
    "\n",
    "La significacia estadística se utiliza para proporcionar evidencia sobre la verosimilitud de la hipótesis nula, que plantea la hipótesis de que no hay nada más que azar en los datos.\n",
    "\n",
    "Las pruebas de hipótesis estadísticas se utilizan para determinar si el resultado de un conjunto de datos es estadísticamente significativo.\n",
    "\n",
    "### Comprensión de la significación estadística \n",
    "\n",
    "La significación estadística es una determinación sobre la hipótesis nula, que plantea la hipótesis de que los resultados se deben únicamente al azar. Un conjunto de datos proporciona significación estadística cuando el valor p es suficientemente pequeño.\n",
    "\n",
    "Cuando el valor p es grande, entonces los resultados en los datos se pueden explicar solo por azar, y los datos se consideran consistentes con (aunque no prueban) la hipótesis nula.\n",
    "\n",
    "Cuando el valor p es suficientemente pequeño (por ejemplo, 5% o menos), entonces los resultados no se explican fácilmente solo por azar, y los datos se consideran inconsistentes con la hipótesis nula; en este caso, la hipótesis nula del azar por sí sola como explicación de los datos se rechaza en favor de una explicación más sistemática.\n",
    "\n",
    "## Prueba T de student\n",
    "\n",
    "La prueba T de student se utiliza para comparar dos muestras, como en el ejemplo anterior. Aquí una simulación de datos de la prueba T. ¿Qué principio estadístico está demostrando el código?"
   ],
   "cell_type": "markdown",
   "metadata": {}
  },
  {
   "cell_type": "code",
   "execution_count": 2,
   "metadata": {},
   "outputs": [
    {
     "output_type": "stream",
     "name": "stdout",
     "text": [
      "Ttest_indResult(statistic=-2.1135592098979537, pvalue=0.03580505191464462)\nTtest_indResult(statistic=-2.0152133817308187, pvalue=0.04523445492951538)\nTtest_indResult(statistic=-2.56196299750764, pvalue=0.011151789294820327)\nTtest_indResult(statistic=-1.993194336318683, pvalue=0.047613159135408374)\nTtest_indResult(statistic=-2.2446657976538944, pvalue=0.025895818048733272)\n"
     ]
    }
   ],
   "source": [
    "from scipy.stats import ttest_ind\n",
    "import numpy as np\n",
    "\n",
    "for i in range(100):\n",
    "    vals1 = np.random.rand(100)\n",
    "    vals2 = np.random.rand(100)\n",
    "    if ttest_ind(vals1,vals2)[1]<0.05:\n",
    "        print(ttest_ind(vals1,vals2))"
   ]
  },
  {
   "source": [
    "## ANOVA\n",
    "\n",
    "El análisis de varianza (ANOVA) se puede considerar como una extensión de la prueba t. La prueba t independiente se utiliza para comparar las medias de una condición entre 2 grupos. ANOVA se usa cuando se quiere comparar las medias de una condición entre más de 2 grupos. \n",
    "\n",
    "ANOVA prueba los datos como un todo. Otra forma de decir eso es esta: ANOVA prueba si hay una diferencia en la media en algún lugar del modelo (probando si hubo un efecto general), pero no le dice a uno dónde está la diferencia si la hay. Para averiguar dónde está la diferencia entre los grupos, es necesario realizar pruebas post-hoc.\n",
    "\n",
    "### Supuestos\n",
    "Hay 3 supuestos que deben cumplirse para que los resultados de una prueba ANOVA se consideren precisos y dignos de confianza. Es importante tener en cuenta que los supuestos se aplican a los residuos y no a las variables en sí mismas. Los supuestos de ANOVA son los mismos que para la regresión lineal:\n",
    "\n",
    "1 - Normalidad: la advertencia a esto es que, si los tamaños de los grupos son iguales, la estadística F es robusta a las violaciones de la normalidad\n",
    "\n",
    "2 - Homogeneidad de varianza: la misma advertencia que la anterior, si los tamaños de los grupos son iguales, la estadística F es robusta a esta violación\n",
    "\n",
    "3 - Observaciones independientes\n",
    "\n",
    "### Ejemplo: ¿Qué dosis fue mejor para reducir el sueño?"
   ],
   "cell_type": "markdown",
   "metadata": {}
  },
  {
   "cell_type": "code",
   "execution_count": 6,
   "metadata": {},
   "outputs": [
    {
     "output_type": "stream",
     "name": "stdout",
     "text": [
      "   High_dose  Medium_dose  Low_dose  Placebo\n0         25           45        30       54\n1         30           55        29       60\n2         28           29        33       51\n3         36           56        37       62\n4         29           40        27       73\n"
     ]
    },
    {
     "output_type": "display_data",
     "data": {
      "text/plain": "<Figure size 432x288 with 1 Axes>",
      "image/svg+xml": "<?xml version=\"1.0\" encoding=\"utf-8\" standalone=\"no\"?>\r\n<!DOCTYPE svg PUBLIC \"-//W3C//DTD SVG 1.1//EN\"\r\n  \"http://www.w3.org/Graphics/SVG/1.1/DTD/svg11.dtd\">\r\n<!-- Created with matplotlib (https://matplotlib.org/) -->\r\n<svg height=\"248.79625pt\" version=\"1.1\" viewBox=\"0 0 368.925 248.79625\" width=\"368.925pt\" xmlns=\"http://www.w3.org/2000/svg\" xmlns:xlink=\"http://www.w3.org/1999/xlink\">\r\n <metadata>\r\n  <rdf:RDF xmlns:cc=\"http://creativecommons.org/ns#\" xmlns:dc=\"http://purl.org/dc/elements/1.1/\" xmlns:rdf=\"http://www.w3.org/1999/02/22-rdf-syntax-ns#\">\r\n   <cc:Work>\r\n    <dc:type rdf:resource=\"http://purl.org/dc/dcmitype/StillImage\"/>\r\n    <dc:date>2021-04-20T21:47:07.989822</dc:date>\r\n    <dc:format>image/svg+xml</dc:format>\r\n    <dc:creator>\r\n     <cc:Agent>\r\n      <dc:title>Matplotlib v3.3.2, https://matplotlib.org/</dc:title>\r\n     </cc:Agent>\r\n    </dc:creator>\r\n   </cc:Work>\r\n  </rdf:RDF>\r\n </metadata>\r\n <defs>\r\n  <style type=\"text/css\">*{stroke-linecap:butt;stroke-linejoin:round;}</style>\r\n </defs>\r\n <g id=\"figure_1\">\r\n  <g id=\"patch_1\">\r\n   <path d=\"M -0 248.79625 \r\nL 368.925 248.79625 \r\nL 368.925 0 \r\nL -0 0 \r\nz\r\n\" style=\"fill:none;\"/>\r\n  </g>\r\n  <g id=\"axes_1\">\r\n   <g id=\"patch_2\">\r\n    <path d=\"M 26.925 224.64 \r\nL 361.725 224.64 \r\nL 361.725 7.2 \r\nL 26.925 7.2 \r\nz\r\n\" style=\"fill:#ffffff;\"/>\r\n   </g>\r\n   <g id=\"matplotlib.axis_1\">\r\n    <g id=\"xtick_1\">\r\n     <g id=\"line2d_1\">\r\n      <defs>\r\n       <path d=\"M 0 0 \r\nL 0 3.5 \r\n\" id=\"m4a65baa69d\" style=\"stroke:#000000;stroke-width:0.8;\"/>\r\n      </defs>\r\n      <g>\r\n       <use style=\"stroke:#000000;stroke-width:0.8;\" x=\"68.775\" xlink:href=\"#m4a65baa69d\" y=\"224.64\"/>\r\n      </g>\r\n     </g>\r\n     <g id=\"text_1\">\r\n      <!-- High_dose -->\r\n      <g transform=\"translate(42.867969 239.238437)scale(0.1 -0.1)\">\r\n       <defs>\r\n        <path d=\"M 9.8125 72.90625 \r\nL 19.671875 72.90625 \r\nL 19.671875 43.015625 \r\nL 55.515625 43.015625 \r\nL 55.515625 72.90625 \r\nL 65.375 72.90625 \r\nL 65.375 0 \r\nL 55.515625 0 \r\nL 55.515625 34.71875 \r\nL 19.671875 34.71875 \r\nL 19.671875 0 \r\nL 9.8125 0 \r\nz\r\n\" id=\"DejaVuSans-72\"/>\r\n        <path d=\"M 9.421875 54.6875 \r\nL 18.40625 54.6875 \r\nL 18.40625 0 \r\nL 9.421875 0 \r\nz\r\nM 9.421875 75.984375 \r\nL 18.40625 75.984375 \r\nL 18.40625 64.59375 \r\nL 9.421875 64.59375 \r\nz\r\n\" id=\"DejaVuSans-105\"/>\r\n        <path d=\"M 45.40625 27.984375 \r\nQ 45.40625 37.75 41.375 43.109375 \r\nQ 37.359375 48.484375 30.078125 48.484375 \r\nQ 22.859375 48.484375 18.828125 43.109375 \r\nQ 14.796875 37.75 14.796875 27.984375 \r\nQ 14.796875 18.265625 18.828125 12.890625 \r\nQ 22.859375 7.515625 30.078125 7.515625 \r\nQ 37.359375 7.515625 41.375 12.890625 \r\nQ 45.40625 18.265625 45.40625 27.984375 \r\nz\r\nM 54.390625 6.78125 \r\nQ 54.390625 -7.171875 48.1875 -13.984375 \r\nQ 42 -20.796875 29.203125 -20.796875 \r\nQ 24.46875 -20.796875 20.265625 -20.09375 \r\nQ 16.0625 -19.390625 12.109375 -17.921875 \r\nL 12.109375 -9.1875 \r\nQ 16.0625 -11.328125 19.921875 -12.34375 \r\nQ 23.78125 -13.375 27.78125 -13.375 \r\nQ 36.625 -13.375 41.015625 -8.765625 \r\nQ 45.40625 -4.15625 45.40625 5.171875 \r\nL 45.40625 9.625 \r\nQ 42.625 4.78125 38.28125 2.390625 \r\nQ 33.9375 0 27.875 0 \r\nQ 17.828125 0 11.671875 7.65625 \r\nQ 5.515625 15.328125 5.515625 27.984375 \r\nQ 5.515625 40.671875 11.671875 48.328125 \r\nQ 17.828125 56 27.875 56 \r\nQ 33.9375 56 38.28125 53.609375 \r\nQ 42.625 51.21875 45.40625 46.390625 \r\nL 45.40625 54.6875 \r\nL 54.390625 54.6875 \r\nz\r\n\" id=\"DejaVuSans-103\"/>\r\n        <path d=\"M 54.890625 33.015625 \r\nL 54.890625 0 \r\nL 45.90625 0 \r\nL 45.90625 32.71875 \r\nQ 45.90625 40.484375 42.875 44.328125 \r\nQ 39.84375 48.1875 33.796875 48.1875 \r\nQ 26.515625 48.1875 22.3125 43.546875 \r\nQ 18.109375 38.921875 18.109375 30.90625 \r\nL 18.109375 0 \r\nL 9.078125 0 \r\nL 9.078125 75.984375 \r\nL 18.109375 75.984375 \r\nL 18.109375 46.1875 \r\nQ 21.34375 51.125 25.703125 53.5625 \r\nQ 30.078125 56 35.796875 56 \r\nQ 45.21875 56 50.046875 50.171875 \r\nQ 54.890625 44.34375 54.890625 33.015625 \r\nz\r\n\" id=\"DejaVuSans-104\"/>\r\n        <path d=\"M 50.984375 -16.609375 \r\nL 50.984375 -23.578125 \r\nL -0.984375 -23.578125 \r\nL -0.984375 -16.609375 \r\nz\r\n\" id=\"DejaVuSans-95\"/>\r\n        <path d=\"M 45.40625 46.390625 \r\nL 45.40625 75.984375 \r\nL 54.390625 75.984375 \r\nL 54.390625 0 \r\nL 45.40625 0 \r\nL 45.40625 8.203125 \r\nQ 42.578125 3.328125 38.25 0.953125 \r\nQ 33.9375 -1.421875 27.875 -1.421875 \r\nQ 17.96875 -1.421875 11.734375 6.484375 \r\nQ 5.515625 14.40625 5.515625 27.296875 \r\nQ 5.515625 40.1875 11.734375 48.09375 \r\nQ 17.96875 56 27.875 56 \r\nQ 33.9375 56 38.25 53.625 \r\nQ 42.578125 51.265625 45.40625 46.390625 \r\nz\r\nM 14.796875 27.296875 \r\nQ 14.796875 17.390625 18.875 11.75 \r\nQ 22.953125 6.109375 30.078125 6.109375 \r\nQ 37.203125 6.109375 41.296875 11.75 \r\nQ 45.40625 17.390625 45.40625 27.296875 \r\nQ 45.40625 37.203125 41.296875 42.84375 \r\nQ 37.203125 48.484375 30.078125 48.484375 \r\nQ 22.953125 48.484375 18.875 42.84375 \r\nQ 14.796875 37.203125 14.796875 27.296875 \r\nz\r\n\" id=\"DejaVuSans-100\"/>\r\n        <path d=\"M 30.609375 48.390625 \r\nQ 23.390625 48.390625 19.1875 42.75 \r\nQ 14.984375 37.109375 14.984375 27.296875 \r\nQ 14.984375 17.484375 19.15625 11.84375 \r\nQ 23.34375 6.203125 30.609375 6.203125 \r\nQ 37.796875 6.203125 41.984375 11.859375 \r\nQ 46.1875 17.53125 46.1875 27.296875 \r\nQ 46.1875 37.015625 41.984375 42.703125 \r\nQ 37.796875 48.390625 30.609375 48.390625 \r\nz\r\nM 30.609375 56 \r\nQ 42.328125 56 49.015625 48.375 \r\nQ 55.71875 40.765625 55.71875 27.296875 \r\nQ 55.71875 13.875 49.015625 6.21875 \r\nQ 42.328125 -1.421875 30.609375 -1.421875 \r\nQ 18.84375 -1.421875 12.171875 6.21875 \r\nQ 5.515625 13.875 5.515625 27.296875 \r\nQ 5.515625 40.765625 12.171875 48.375 \r\nQ 18.84375 56 30.609375 56 \r\nz\r\n\" id=\"DejaVuSans-111\"/>\r\n        <path d=\"M 44.28125 53.078125 \r\nL 44.28125 44.578125 \r\nQ 40.484375 46.53125 36.375 47.5 \r\nQ 32.28125 48.484375 27.875 48.484375 \r\nQ 21.1875 48.484375 17.84375 46.4375 \r\nQ 14.5 44.390625 14.5 40.28125 \r\nQ 14.5 37.15625 16.890625 35.375 \r\nQ 19.28125 33.59375 26.515625 31.984375 \r\nL 29.59375 31.296875 \r\nQ 39.15625 29.25 43.1875 25.515625 \r\nQ 47.21875 21.78125 47.21875 15.09375 \r\nQ 47.21875 7.46875 41.1875 3.015625 \r\nQ 35.15625 -1.421875 24.609375 -1.421875 \r\nQ 20.21875 -1.421875 15.453125 -0.5625 \r\nQ 10.6875 0.296875 5.421875 2 \r\nL 5.421875 11.28125 \r\nQ 10.40625 8.6875 15.234375 7.390625 \r\nQ 20.0625 6.109375 24.8125 6.109375 \r\nQ 31.15625 6.109375 34.5625 8.28125 \r\nQ 37.984375 10.453125 37.984375 14.40625 \r\nQ 37.984375 18.0625 35.515625 20.015625 \r\nQ 33.0625 21.96875 24.703125 23.78125 \r\nL 21.578125 24.515625 \r\nQ 13.234375 26.265625 9.515625 29.90625 \r\nQ 5.8125 33.546875 5.8125 39.890625 \r\nQ 5.8125 47.609375 11.28125 51.796875 \r\nQ 16.75 56 26.8125 56 \r\nQ 31.78125 56 36.171875 55.265625 \r\nQ 40.578125 54.546875 44.28125 53.078125 \r\nz\r\n\" id=\"DejaVuSans-115\"/>\r\n        <path d=\"M 56.203125 29.59375 \r\nL 56.203125 25.203125 \r\nL 14.890625 25.203125 \r\nQ 15.484375 15.921875 20.484375 11.0625 \r\nQ 25.484375 6.203125 34.421875 6.203125 \r\nQ 39.59375 6.203125 44.453125 7.46875 \r\nQ 49.3125 8.734375 54.109375 11.28125 \r\nL 54.109375 2.78125 \r\nQ 49.265625 0.734375 44.1875 -0.34375 \r\nQ 39.109375 -1.421875 33.890625 -1.421875 \r\nQ 20.796875 -1.421875 13.15625 6.1875 \r\nQ 5.515625 13.8125 5.515625 26.8125 \r\nQ 5.515625 40.234375 12.765625 48.109375 \r\nQ 20.015625 56 32.328125 56 \r\nQ 43.359375 56 49.78125 48.890625 \r\nQ 56.203125 41.796875 56.203125 29.59375 \r\nz\r\nM 47.21875 32.234375 \r\nQ 47.125 39.59375 43.09375 43.984375 \r\nQ 39.0625 48.390625 32.421875 48.390625 \r\nQ 24.90625 48.390625 20.390625 44.140625 \r\nQ 15.875 39.890625 15.1875 32.171875 \r\nz\r\n\" id=\"DejaVuSans-101\"/>\r\n       </defs>\r\n       <use xlink:href=\"#DejaVuSans-72\"/>\r\n       <use x=\"75.195312\" xlink:href=\"#DejaVuSans-105\"/>\r\n       <use x=\"102.978516\" xlink:href=\"#DejaVuSans-103\"/>\r\n       <use x=\"166.455078\" xlink:href=\"#DejaVuSans-104\"/>\r\n       <use x=\"229.833984\" xlink:href=\"#DejaVuSans-95\"/>\r\n       <use x=\"279.833984\" xlink:href=\"#DejaVuSans-100\"/>\r\n       <use x=\"343.310547\" xlink:href=\"#DejaVuSans-111\"/>\r\n       <use x=\"404.492188\" xlink:href=\"#DejaVuSans-115\"/>\r\n       <use x=\"456.591797\" xlink:href=\"#DejaVuSans-101\"/>\r\n      </g>\r\n     </g>\r\n    </g>\r\n    <g id=\"xtick_2\">\r\n     <g id=\"line2d_2\">\r\n      <g>\r\n       <use style=\"stroke:#000000;stroke-width:0.8;\" x=\"152.475\" xlink:href=\"#m4a65baa69d\" y=\"224.64\"/>\r\n      </g>\r\n     </g>\r\n     <g id=\"text_2\">\r\n      <!-- Medium_dose -->\r\n      <g transform=\"translate(118.067188 239.238437)scale(0.1 -0.1)\">\r\n       <defs>\r\n        <path d=\"M 9.8125 72.90625 \r\nL 24.515625 72.90625 \r\nL 43.109375 23.296875 \r\nL 61.8125 72.90625 \r\nL 76.515625 72.90625 \r\nL 76.515625 0 \r\nL 66.890625 0 \r\nL 66.890625 64.015625 \r\nL 48.09375 14.015625 \r\nL 38.1875 14.015625 \r\nL 19.390625 64.015625 \r\nL 19.390625 0 \r\nL 9.8125 0 \r\nz\r\n\" id=\"DejaVuSans-77\"/>\r\n        <path d=\"M 8.5 21.578125 \r\nL 8.5 54.6875 \r\nL 17.484375 54.6875 \r\nL 17.484375 21.921875 \r\nQ 17.484375 14.15625 20.5 10.265625 \r\nQ 23.53125 6.390625 29.59375 6.390625 \r\nQ 36.859375 6.390625 41.078125 11.03125 \r\nQ 45.3125 15.671875 45.3125 23.6875 \r\nL 45.3125 54.6875 \r\nL 54.296875 54.6875 \r\nL 54.296875 0 \r\nL 45.3125 0 \r\nL 45.3125 8.40625 \r\nQ 42.046875 3.421875 37.71875 1 \r\nQ 33.40625 -1.421875 27.6875 -1.421875 \r\nQ 18.265625 -1.421875 13.375 4.4375 \r\nQ 8.5 10.296875 8.5 21.578125 \r\nz\r\nM 31.109375 56 \r\nz\r\n\" id=\"DejaVuSans-117\"/>\r\n        <path d=\"M 52 44.1875 \r\nQ 55.375 50.25 60.0625 53.125 \r\nQ 64.75 56 71.09375 56 \r\nQ 79.640625 56 84.28125 50.015625 \r\nQ 88.921875 44.046875 88.921875 33.015625 \r\nL 88.921875 0 \r\nL 79.890625 0 \r\nL 79.890625 32.71875 \r\nQ 79.890625 40.578125 77.09375 44.375 \r\nQ 74.3125 48.1875 68.609375 48.1875 \r\nQ 61.625 48.1875 57.5625 43.546875 \r\nQ 53.515625 38.921875 53.515625 30.90625 \r\nL 53.515625 0 \r\nL 44.484375 0 \r\nL 44.484375 32.71875 \r\nQ 44.484375 40.625 41.703125 44.40625 \r\nQ 38.921875 48.1875 33.109375 48.1875 \r\nQ 26.21875 48.1875 22.15625 43.53125 \r\nQ 18.109375 38.875 18.109375 30.90625 \r\nL 18.109375 0 \r\nL 9.078125 0 \r\nL 9.078125 54.6875 \r\nL 18.109375 54.6875 \r\nL 18.109375 46.1875 \r\nQ 21.1875 51.21875 25.484375 53.609375 \r\nQ 29.78125 56 35.6875 56 \r\nQ 41.65625 56 45.828125 52.96875 \r\nQ 50 49.953125 52 44.1875 \r\nz\r\n\" id=\"DejaVuSans-109\"/>\r\n       </defs>\r\n       <use xlink:href=\"#DejaVuSans-77\"/>\r\n       <use x=\"86.279297\" xlink:href=\"#DejaVuSans-101\"/>\r\n       <use x=\"147.802734\" xlink:href=\"#DejaVuSans-100\"/>\r\n       <use x=\"211.279297\" xlink:href=\"#DejaVuSans-105\"/>\r\n       <use x=\"239.0625\" xlink:href=\"#DejaVuSans-117\"/>\r\n       <use x=\"302.441406\" xlink:href=\"#DejaVuSans-109\"/>\r\n       <use x=\"399.853516\" xlink:href=\"#DejaVuSans-95\"/>\r\n       <use x=\"449.853516\" xlink:href=\"#DejaVuSans-100\"/>\r\n       <use x=\"513.330078\" xlink:href=\"#DejaVuSans-111\"/>\r\n       <use x=\"574.511719\" xlink:href=\"#DejaVuSans-115\"/>\r\n       <use x=\"626.611328\" xlink:href=\"#DejaVuSans-101\"/>\r\n      </g>\r\n     </g>\r\n    </g>\r\n    <g id=\"xtick_3\">\r\n     <g id=\"line2d_3\">\r\n      <g>\r\n       <use style=\"stroke:#000000;stroke-width:0.8;\" x=\"236.175\" xlink:href=\"#m4a65baa69d\" y=\"224.64\"/>\r\n      </g>\r\n     </g>\r\n     <g id=\"text_3\">\r\n      <!-- Low_dose -->\r\n      <g transform=\"translate(211.913281 239.238437)scale(0.1 -0.1)\">\r\n       <defs>\r\n        <path d=\"M 9.8125 72.90625 \r\nL 19.671875 72.90625 \r\nL 19.671875 8.296875 \r\nL 55.171875 8.296875 \r\nL 55.171875 0 \r\nL 9.8125 0 \r\nz\r\n\" id=\"DejaVuSans-76\"/>\r\n        <path d=\"M 4.203125 54.6875 \r\nL 13.1875 54.6875 \r\nL 24.421875 12.015625 \r\nL 35.59375 54.6875 \r\nL 46.1875 54.6875 \r\nL 57.421875 12.015625 \r\nL 68.609375 54.6875 \r\nL 77.59375 54.6875 \r\nL 63.28125 0 \r\nL 52.6875 0 \r\nL 40.921875 44.828125 \r\nL 29.109375 0 \r\nL 18.5 0 \r\nz\r\n\" id=\"DejaVuSans-119\"/>\r\n       </defs>\r\n       <use xlink:href=\"#DejaVuSans-76\"/>\r\n       <use x=\"53.962891\" xlink:href=\"#DejaVuSans-111\"/>\r\n       <use x=\"115.144531\" xlink:href=\"#DejaVuSans-119\"/>\r\n       <use x=\"196.931641\" xlink:href=\"#DejaVuSans-95\"/>\r\n       <use x=\"246.931641\" xlink:href=\"#DejaVuSans-100\"/>\r\n       <use x=\"310.408203\" xlink:href=\"#DejaVuSans-111\"/>\r\n       <use x=\"371.589844\" xlink:href=\"#DejaVuSans-115\"/>\r\n       <use x=\"423.689453\" xlink:href=\"#DejaVuSans-101\"/>\r\n      </g>\r\n     </g>\r\n    </g>\r\n    <g id=\"xtick_4\">\r\n     <g id=\"line2d_4\">\r\n      <g>\r\n       <use style=\"stroke:#000000;stroke-width:0.8;\" x=\"319.875\" xlink:href=\"#m4a65baa69d\" y=\"224.64\"/>\r\n      </g>\r\n     </g>\r\n     <g id=\"text_4\">\r\n      <!-- Placebo -->\r\n      <g transform=\"translate(300.347656 239.238437)scale(0.1 -0.1)\">\r\n       <defs>\r\n        <path d=\"M 19.671875 64.796875 \r\nL 19.671875 37.40625 \r\nL 32.078125 37.40625 \r\nQ 38.96875 37.40625 42.71875 40.96875 \r\nQ 46.484375 44.53125 46.484375 51.125 \r\nQ 46.484375 57.671875 42.71875 61.234375 \r\nQ 38.96875 64.796875 32.078125 64.796875 \r\nz\r\nM 9.8125 72.90625 \r\nL 32.078125 72.90625 \r\nQ 44.34375 72.90625 50.609375 67.359375 \r\nQ 56.890625 61.8125 56.890625 51.125 \r\nQ 56.890625 40.328125 50.609375 34.8125 \r\nQ 44.34375 29.296875 32.078125 29.296875 \r\nL 19.671875 29.296875 \r\nL 19.671875 0 \r\nL 9.8125 0 \r\nz\r\n\" id=\"DejaVuSans-80\"/>\r\n        <path d=\"M 9.421875 75.984375 \r\nL 18.40625 75.984375 \r\nL 18.40625 0 \r\nL 9.421875 0 \r\nz\r\n\" id=\"DejaVuSans-108\"/>\r\n        <path d=\"M 34.28125 27.484375 \r\nQ 23.390625 27.484375 19.1875 25 \r\nQ 14.984375 22.515625 14.984375 16.5 \r\nQ 14.984375 11.71875 18.140625 8.90625 \r\nQ 21.296875 6.109375 26.703125 6.109375 \r\nQ 34.1875 6.109375 38.703125 11.40625 \r\nQ 43.21875 16.703125 43.21875 25.484375 \r\nL 43.21875 27.484375 \r\nz\r\nM 52.203125 31.203125 \r\nL 52.203125 0 \r\nL 43.21875 0 \r\nL 43.21875 8.296875 \r\nQ 40.140625 3.328125 35.546875 0.953125 \r\nQ 30.953125 -1.421875 24.3125 -1.421875 \r\nQ 15.921875 -1.421875 10.953125 3.296875 \r\nQ 6 8.015625 6 15.921875 \r\nQ 6 25.140625 12.171875 29.828125 \r\nQ 18.359375 34.515625 30.609375 34.515625 \r\nL 43.21875 34.515625 \r\nL 43.21875 35.40625 \r\nQ 43.21875 41.609375 39.140625 45 \r\nQ 35.0625 48.390625 27.6875 48.390625 \r\nQ 23 48.390625 18.546875 47.265625 \r\nQ 14.109375 46.140625 10.015625 43.890625 \r\nL 10.015625 52.203125 \r\nQ 14.9375 54.109375 19.578125 55.046875 \r\nQ 24.21875 56 28.609375 56 \r\nQ 40.484375 56 46.34375 49.84375 \r\nQ 52.203125 43.703125 52.203125 31.203125 \r\nz\r\n\" id=\"DejaVuSans-97\"/>\r\n        <path d=\"M 48.78125 52.59375 \r\nL 48.78125 44.1875 \r\nQ 44.96875 46.296875 41.140625 47.34375 \r\nQ 37.3125 48.390625 33.40625 48.390625 \r\nQ 24.65625 48.390625 19.8125 42.84375 \r\nQ 14.984375 37.3125 14.984375 27.296875 \r\nQ 14.984375 17.28125 19.8125 11.734375 \r\nQ 24.65625 6.203125 33.40625 6.203125 \r\nQ 37.3125 6.203125 41.140625 7.25 \r\nQ 44.96875 8.296875 48.78125 10.40625 \r\nL 48.78125 2.09375 \r\nQ 45.015625 0.34375 40.984375 -0.53125 \r\nQ 36.96875 -1.421875 32.421875 -1.421875 \r\nQ 20.0625 -1.421875 12.78125 6.34375 \r\nQ 5.515625 14.109375 5.515625 27.296875 \r\nQ 5.515625 40.671875 12.859375 48.328125 \r\nQ 20.21875 56 33.015625 56 \r\nQ 37.15625 56 41.109375 55.140625 \r\nQ 45.0625 54.296875 48.78125 52.59375 \r\nz\r\n\" id=\"DejaVuSans-99\"/>\r\n        <path d=\"M 48.6875 27.296875 \r\nQ 48.6875 37.203125 44.609375 42.84375 \r\nQ 40.53125 48.484375 33.40625 48.484375 \r\nQ 26.265625 48.484375 22.1875 42.84375 \r\nQ 18.109375 37.203125 18.109375 27.296875 \r\nQ 18.109375 17.390625 22.1875 11.75 \r\nQ 26.265625 6.109375 33.40625 6.109375 \r\nQ 40.53125 6.109375 44.609375 11.75 \r\nQ 48.6875 17.390625 48.6875 27.296875 \r\nz\r\nM 18.109375 46.390625 \r\nQ 20.953125 51.265625 25.265625 53.625 \r\nQ 29.59375 56 35.59375 56 \r\nQ 45.5625 56 51.78125 48.09375 \r\nQ 58.015625 40.1875 58.015625 27.296875 \r\nQ 58.015625 14.40625 51.78125 6.484375 \r\nQ 45.5625 -1.421875 35.59375 -1.421875 \r\nQ 29.59375 -1.421875 25.265625 0.953125 \r\nQ 20.953125 3.328125 18.109375 8.203125 \r\nL 18.109375 0 \r\nL 9.078125 0 \r\nL 9.078125 75.984375 \r\nL 18.109375 75.984375 \r\nz\r\n\" id=\"DejaVuSans-98\"/>\r\n       </defs>\r\n       <use xlink:href=\"#DejaVuSans-80\"/>\r\n       <use x=\"60.302734\" xlink:href=\"#DejaVuSans-108\"/>\r\n       <use x=\"88.085938\" xlink:href=\"#DejaVuSans-97\"/>\r\n       <use x=\"149.365234\" xlink:href=\"#DejaVuSans-99\"/>\r\n       <use x=\"204.345703\" xlink:href=\"#DejaVuSans-101\"/>\r\n       <use x=\"265.869141\" xlink:href=\"#DejaVuSans-98\"/>\r\n       <use x=\"329.345703\" xlink:href=\"#DejaVuSans-111\"/>\r\n      </g>\r\n     </g>\r\n    </g>\r\n   </g>\r\n   <g id=\"matplotlib.axis_2\">\r\n    <g id=\"ytick_1\">\r\n     <g id=\"line2d_5\">\r\n      <defs>\r\n       <path d=\"M 0 0 \r\nL -3.5 0 \r\n\" id=\"m2c6b46a3ba\" style=\"stroke:#000000;stroke-width:0.8;\"/>\r\n      </defs>\r\n      <g>\r\n       <use style=\"stroke:#000000;stroke-width:0.8;\" x=\"26.925\" xlink:href=\"#m2c6b46a3ba\" y=\"194.165455\"/>\r\n      </g>\r\n     </g>\r\n     <g id=\"text_5\">\r\n      <!-- 30 -->\r\n      <g transform=\"translate(7.2 197.964673)scale(0.1 -0.1)\">\r\n       <defs>\r\n        <path d=\"M 40.578125 39.3125 \r\nQ 47.65625 37.796875 51.625 33 \r\nQ 55.609375 28.21875 55.609375 21.1875 \r\nQ 55.609375 10.40625 48.1875 4.484375 \r\nQ 40.765625 -1.421875 27.09375 -1.421875 \r\nQ 22.515625 -1.421875 17.65625 -0.515625 \r\nQ 12.796875 0.390625 7.625 2.203125 \r\nL 7.625 11.71875 \r\nQ 11.71875 9.328125 16.59375 8.109375 \r\nQ 21.484375 6.890625 26.8125 6.890625 \r\nQ 36.078125 6.890625 40.9375 10.546875 \r\nQ 45.796875 14.203125 45.796875 21.1875 \r\nQ 45.796875 27.640625 41.28125 31.265625 \r\nQ 36.765625 34.90625 28.71875 34.90625 \r\nL 20.21875 34.90625 \r\nL 20.21875 43.015625 \r\nL 29.109375 43.015625 \r\nQ 36.375 43.015625 40.234375 45.921875 \r\nQ 44.09375 48.828125 44.09375 54.296875 \r\nQ 44.09375 59.90625 40.109375 62.90625 \r\nQ 36.140625 65.921875 28.71875 65.921875 \r\nQ 24.65625 65.921875 20.015625 65.03125 \r\nQ 15.375 64.15625 9.8125 62.3125 \r\nL 9.8125 71.09375 \r\nQ 15.4375 72.65625 20.34375 73.4375 \r\nQ 25.25 74.21875 29.59375 74.21875 \r\nQ 40.828125 74.21875 47.359375 69.109375 \r\nQ 53.90625 64.015625 53.90625 55.328125 \r\nQ 53.90625 49.265625 50.4375 45.09375 \r\nQ 46.96875 40.921875 40.578125 39.3125 \r\nz\r\n\" id=\"DejaVuSans-51\"/>\r\n        <path d=\"M 31.78125 66.40625 \r\nQ 24.171875 66.40625 20.328125 58.90625 \r\nQ 16.5 51.421875 16.5 36.375 \r\nQ 16.5 21.390625 20.328125 13.890625 \r\nQ 24.171875 6.390625 31.78125 6.390625 \r\nQ 39.453125 6.390625 43.28125 13.890625 \r\nQ 47.125 21.390625 47.125 36.375 \r\nQ 47.125 51.421875 43.28125 58.90625 \r\nQ 39.453125 66.40625 31.78125 66.40625 \r\nz\r\nM 31.78125 74.21875 \r\nQ 44.046875 74.21875 50.515625 64.515625 \r\nQ 56.984375 54.828125 56.984375 36.375 \r\nQ 56.984375 17.96875 50.515625 8.265625 \r\nQ 44.046875 -1.421875 31.78125 -1.421875 \r\nQ 19.53125 -1.421875 13.0625 8.265625 \r\nQ 6.59375 17.96875 6.59375 36.375 \r\nQ 6.59375 54.828125 13.0625 64.515625 \r\nQ 19.53125 74.21875 31.78125 74.21875 \r\nz\r\n\" id=\"DejaVuSans-48\"/>\r\n       </defs>\r\n       <use xlink:href=\"#DejaVuSans-51\"/>\r\n       <use x=\"63.623047\" xlink:href=\"#DejaVuSans-48\"/>\r\n      </g>\r\n     </g>\r\n    </g>\r\n    <g id=\"ytick_2\">\r\n     <g id=\"line2d_6\">\r\n      <g>\r\n       <use style=\"stroke:#000000;stroke-width:0.8;\" x=\"26.925\" xlink:href=\"#m2c6b46a3ba\" y=\"152.983636\"/>\r\n      </g>\r\n     </g>\r\n     <g id=\"text_6\">\r\n      <!-- 40 -->\r\n      <g transform=\"translate(7.2 156.782855)scale(0.1 -0.1)\">\r\n       <defs>\r\n        <path d=\"M 37.796875 64.3125 \r\nL 12.890625 25.390625 \r\nL 37.796875 25.390625 \r\nz\r\nM 35.203125 72.90625 \r\nL 47.609375 72.90625 \r\nL 47.609375 25.390625 \r\nL 58.015625 25.390625 \r\nL 58.015625 17.1875 \r\nL 47.609375 17.1875 \r\nL 47.609375 0 \r\nL 37.796875 0 \r\nL 37.796875 17.1875 \r\nL 4.890625 17.1875 \r\nL 4.890625 26.703125 \r\nz\r\n\" id=\"DejaVuSans-52\"/>\r\n       </defs>\r\n       <use xlink:href=\"#DejaVuSans-52\"/>\r\n       <use x=\"63.623047\" xlink:href=\"#DejaVuSans-48\"/>\r\n      </g>\r\n     </g>\r\n    </g>\r\n    <g id=\"ytick_3\">\r\n     <g id=\"line2d_7\">\r\n      <g>\r\n       <use style=\"stroke:#000000;stroke-width:0.8;\" x=\"26.925\" xlink:href=\"#m2c6b46a3ba\" y=\"111.801818\"/>\r\n      </g>\r\n     </g>\r\n     <g id=\"text_7\">\r\n      <!-- 50 -->\r\n      <g transform=\"translate(7.2 115.601037)scale(0.1 -0.1)\">\r\n       <defs>\r\n        <path d=\"M 10.796875 72.90625 \r\nL 49.515625 72.90625 \r\nL 49.515625 64.59375 \r\nL 19.828125 64.59375 \r\nL 19.828125 46.734375 \r\nQ 21.96875 47.46875 24.109375 47.828125 \r\nQ 26.265625 48.1875 28.421875 48.1875 \r\nQ 40.625 48.1875 47.75 41.5 \r\nQ 54.890625 34.8125 54.890625 23.390625 \r\nQ 54.890625 11.625 47.5625 5.09375 \r\nQ 40.234375 -1.421875 26.90625 -1.421875 \r\nQ 22.3125 -1.421875 17.546875 -0.640625 \r\nQ 12.796875 0.140625 7.71875 1.703125 \r\nL 7.71875 11.625 \r\nQ 12.109375 9.234375 16.796875 8.0625 \r\nQ 21.484375 6.890625 26.703125 6.890625 \r\nQ 35.15625 6.890625 40.078125 11.328125 \r\nQ 45.015625 15.765625 45.015625 23.390625 \r\nQ 45.015625 31 40.078125 35.4375 \r\nQ 35.15625 39.890625 26.703125 39.890625 \r\nQ 22.75 39.890625 18.8125 39.015625 \r\nQ 14.890625 38.140625 10.796875 36.28125 \r\nz\r\n\" id=\"DejaVuSans-53\"/>\r\n       </defs>\r\n       <use xlink:href=\"#DejaVuSans-53\"/>\r\n       <use x=\"63.623047\" xlink:href=\"#DejaVuSans-48\"/>\r\n      </g>\r\n     </g>\r\n    </g>\r\n    <g id=\"ytick_4\">\r\n     <g id=\"line2d_8\">\r\n      <g>\r\n       <use style=\"stroke:#000000;stroke-width:0.8;\" x=\"26.925\" xlink:href=\"#m2c6b46a3ba\" y=\"70.62\"/>\r\n      </g>\r\n     </g>\r\n     <g id=\"text_8\">\r\n      <!-- 60 -->\r\n      <g transform=\"translate(7.2 74.419219)scale(0.1 -0.1)\">\r\n       <defs>\r\n        <path d=\"M 33.015625 40.375 \r\nQ 26.375 40.375 22.484375 35.828125 \r\nQ 18.609375 31.296875 18.609375 23.390625 \r\nQ 18.609375 15.53125 22.484375 10.953125 \r\nQ 26.375 6.390625 33.015625 6.390625 \r\nQ 39.65625 6.390625 43.53125 10.953125 \r\nQ 47.40625 15.53125 47.40625 23.390625 \r\nQ 47.40625 31.296875 43.53125 35.828125 \r\nQ 39.65625 40.375 33.015625 40.375 \r\nz\r\nM 52.59375 71.296875 \r\nL 52.59375 62.3125 \r\nQ 48.875 64.0625 45.09375 64.984375 \r\nQ 41.3125 65.921875 37.59375 65.921875 \r\nQ 27.828125 65.921875 22.671875 59.328125 \r\nQ 17.53125 52.734375 16.796875 39.40625 \r\nQ 19.671875 43.65625 24.015625 45.921875 \r\nQ 28.375 48.1875 33.59375 48.1875 \r\nQ 44.578125 48.1875 50.953125 41.515625 \r\nQ 57.328125 34.859375 57.328125 23.390625 \r\nQ 57.328125 12.15625 50.6875 5.359375 \r\nQ 44.046875 -1.421875 33.015625 -1.421875 \r\nQ 20.359375 -1.421875 13.671875 8.265625 \r\nQ 6.984375 17.96875 6.984375 36.375 \r\nQ 6.984375 53.65625 15.1875 63.9375 \r\nQ 23.390625 74.21875 37.203125 74.21875 \r\nQ 40.921875 74.21875 44.703125 73.484375 \r\nQ 48.484375 72.75 52.59375 71.296875 \r\nz\r\n\" id=\"DejaVuSans-54\"/>\r\n       </defs>\r\n       <use xlink:href=\"#DejaVuSans-54\"/>\r\n       <use x=\"63.623047\" xlink:href=\"#DejaVuSans-48\"/>\r\n      </g>\r\n     </g>\r\n    </g>\r\n    <g id=\"ytick_5\">\r\n     <g id=\"line2d_9\">\r\n      <g>\r\n       <use style=\"stroke:#000000;stroke-width:0.8;\" x=\"26.925\" xlink:href=\"#m2c6b46a3ba\" y=\"29.438182\"/>\r\n      </g>\r\n     </g>\r\n     <g id=\"text_9\">\r\n      <!-- 70 -->\r\n      <g transform=\"translate(7.2 33.237401)scale(0.1 -0.1)\">\r\n       <defs>\r\n        <path d=\"M 8.203125 72.90625 \r\nL 55.078125 72.90625 \r\nL 55.078125 68.703125 \r\nL 28.609375 0 \r\nL 18.3125 0 \r\nL 43.21875 64.59375 \r\nL 8.203125 64.59375 \r\nz\r\n\" id=\"DejaVuSans-55\"/>\r\n       </defs>\r\n       <use xlink:href=\"#DejaVuSans-55\"/>\r\n       <use x=\"63.623047\" xlink:href=\"#DejaVuSans-48\"/>\r\n      </g>\r\n     </g>\r\n    </g>\r\n   </g>\r\n   <g id=\"line2d_10\">\r\n    <path clip-path=\"url(#p5d6bbf8ac0)\" d=\"M 49.9425 202.401818 \r\nL 87.6075 202.401818 \r\nL 87.6075 194.165455 \r\nL 49.9425 194.165455 \r\nL 49.9425 202.401818 \r\n\" style=\"fill:none;stroke:#1f77b4;stroke-linecap:square;\"/>\r\n   </g>\r\n   <g id=\"line2d_11\">\r\n    <path clip-path=\"url(#p5d6bbf8ac0)\" d=\"M 68.775 202.401818 \r\nL 68.775 214.756364 \r\n\" style=\"fill:none;stroke:#1f77b4;stroke-linecap:square;\"/>\r\n   </g>\r\n   <g id=\"line2d_12\">\r\n    <path clip-path=\"url(#p5d6bbf8ac0)\" d=\"M 68.775 194.165455 \r\nL 68.775 194.165455 \r\n\" style=\"fill:none;stroke:#1f77b4;stroke-linecap:square;\"/>\r\n   </g>\r\n   <g id=\"line2d_13\">\r\n    <path clip-path=\"url(#p5d6bbf8ac0)\" d=\"M 59.35875 214.756364 \r\nL 78.19125 214.756364 \r\n\" style=\"fill:none;stroke:#000000;stroke-linecap:square;\"/>\r\n   </g>\r\n   <g id=\"line2d_14\">\r\n    <path clip-path=\"url(#p5d6bbf8ac0)\" d=\"M 59.35875 194.165455 \r\nL 78.19125 194.165455 \r\n\" style=\"fill:none;stroke:#000000;stroke-linecap:square;\"/>\r\n   </g>\r\n   <g id=\"line2d_15\">\r\n    <defs>\r\n     <path d=\"M 0 3 \r\nC 0.795609 3 1.55874 2.683901 2.12132 2.12132 \r\nC 2.683901 1.55874 3 0.795609 3 0 \r\nC 3 -0.795609 2.683901 -1.55874 2.12132 -2.12132 \r\nC 1.55874 -2.683901 0.795609 -3 0 -3 \r\nC -0.795609 -3 -1.55874 -2.683901 -2.12132 -2.12132 \r\nC -2.683901 -1.55874 -3 -0.795609 -3 0 \r\nC -3 0.795609 -2.683901 1.55874 -2.12132 2.12132 \r\nC -1.55874 2.683901 -0.795609 3 0 3 \r\nz\r\n\" id=\"m66e7c549e1\" style=\"stroke:#000000;\"/>\r\n    </defs>\r\n    <g clip-path=\"url(#p5d6bbf8ac0)\">\r\n     <use style=\"fill-opacity:0;stroke:#000000;\" x=\"68.775\" xlink:href=\"#m66e7c549e1\" y=\"169.456364\"/>\r\n    </g>\r\n   </g>\r\n   <g id=\"line2d_16\">\r\n    <path clip-path=\"url(#p5d6bbf8ac0)\" d=\"M 133.6425 152.983636 \r\nL 171.3075 152.983636 \r\nL 171.3075 91.210909 \r\nL 133.6425 91.210909 \r\nL 133.6425 152.983636 \r\n\" style=\"fill:none;stroke:#1f77b4;stroke-linecap:square;\"/>\r\n   </g>\r\n   <g id=\"line2d_17\">\r\n    <path clip-path=\"url(#p5d6bbf8ac0)\" d=\"M 152.475 152.983636 \r\nL 152.475 198.283636 \r\n\" style=\"fill:none;stroke:#1f77b4;stroke-linecap:square;\"/>\r\n   </g>\r\n   <g id=\"line2d_18\">\r\n    <path clip-path=\"url(#p5d6bbf8ac0)\" d=\"M 152.475 91.210909 \r\nL 152.475 87.092727 \r\n\" style=\"fill:none;stroke:#1f77b4;stroke-linecap:square;\"/>\r\n   </g>\r\n   <g id=\"line2d_19\">\r\n    <path clip-path=\"url(#p5d6bbf8ac0)\" d=\"M 143.05875 198.283636 \r\nL 161.89125 198.283636 \r\n\" style=\"fill:none;stroke:#000000;stroke-linecap:square;\"/>\r\n   </g>\r\n   <g id=\"line2d_20\">\r\n    <path clip-path=\"url(#p5d6bbf8ac0)\" d=\"M 143.05875 87.092727 \r\nL 161.89125 87.092727 \r\n\" style=\"fill:none;stroke:#000000;stroke-linecap:square;\"/>\r\n   </g>\r\n   <g id=\"line2d_21\"/>\r\n   <g id=\"line2d_22\">\r\n    <path clip-path=\"url(#p5d6bbf8ac0)\" d=\"M 217.3425 198.283636 \r\nL 255.0075 198.283636 \r\nL 255.0075 181.810909 \r\nL 217.3425 181.810909 \r\nL 217.3425 198.283636 \r\n\" style=\"fill:none;stroke:#1f77b4;stroke-linecap:square;\"/>\r\n   </g>\r\n   <g id=\"line2d_23\">\r\n    <path clip-path=\"url(#p5d6bbf8ac0)\" d=\"M 236.175 198.283636 \r\nL 236.175 206.52 \r\n\" style=\"fill:none;stroke:#1f77b4;stroke-linecap:square;\"/>\r\n   </g>\r\n   <g id=\"line2d_24\">\r\n    <path clip-path=\"url(#p5d6bbf8ac0)\" d=\"M 236.175 181.810909 \r\nL 236.175 165.338182 \r\n\" style=\"fill:none;stroke:#1f77b4;stroke-linecap:square;\"/>\r\n   </g>\r\n   <g id=\"line2d_25\">\r\n    <path clip-path=\"url(#p5d6bbf8ac0)\" d=\"M 226.75875 206.52 \r\nL 245.59125 206.52 \r\n\" style=\"fill:none;stroke:#000000;stroke-linecap:square;\"/>\r\n   </g>\r\n   <g id=\"line2d_26\">\r\n    <path clip-path=\"url(#p5d6bbf8ac0)\" d=\"M 226.75875 165.338182 \r\nL 245.59125 165.338182 \r\n\" style=\"fill:none;stroke:#000000;stroke-linecap:square;\"/>\r\n   </g>\r\n   <g id=\"line2d_27\"/>\r\n   <g id=\"line2d_28\">\r\n    <path clip-path=\"url(#p5d6bbf8ac0)\" d=\"M 301.0425 95.329091 \r\nL 338.7075 95.329091 \r\nL 338.7075 62.383636 \r\nL 301.0425 62.383636 \r\nL 301.0425 95.329091 \r\n\" style=\"fill:none;stroke:#1f77b4;stroke-linecap:square;\"/>\r\n   </g>\r\n   <g id=\"line2d_29\">\r\n    <path clip-path=\"url(#p5d6bbf8ac0)\" d=\"M 319.875 95.329091 \r\nL 319.875 107.683636 \r\n\" style=\"fill:none;stroke:#1f77b4;stroke-linecap:square;\"/>\r\n   </g>\r\n   <g id=\"line2d_30\">\r\n    <path clip-path=\"url(#p5d6bbf8ac0)\" d=\"M 319.875 62.383636 \r\nL 319.875 17.083636 \r\n\" style=\"fill:none;stroke:#1f77b4;stroke-linecap:square;\"/>\r\n   </g>\r\n   <g id=\"line2d_31\">\r\n    <path clip-path=\"url(#p5d6bbf8ac0)\" d=\"M 310.45875 107.683636 \r\nL 329.29125 107.683636 \r\n\" style=\"fill:none;stroke:#000000;stroke-linecap:square;\"/>\r\n   </g>\r\n   <g id=\"line2d_32\">\r\n    <path clip-path=\"url(#p5d6bbf8ac0)\" d=\"M 310.45875 17.083636 \r\nL 329.29125 17.083636 \r\n\" style=\"fill:none;stroke:#000000;stroke-linecap:square;\"/>\r\n   </g>\r\n   <g id=\"line2d_33\"/>\r\n   <g id=\"line2d_34\">\r\n    <path clip-path=\"url(#p5d6bbf8ac0)\" d=\"M 49.9425 198.283636 \r\nL 87.6075 198.283636 \r\n\" style=\"fill:none;stroke:#2ca02c;stroke-linecap:square;\"/>\r\n   </g>\r\n   <g id=\"line2d_35\">\r\n    <path clip-path=\"url(#p5d6bbf8ac0)\" d=\"M 133.6425 132.392727 \r\nL 171.3075 132.392727 \r\n\" style=\"fill:none;stroke:#2ca02c;stroke-linecap:square;\"/>\r\n   </g>\r\n   <g id=\"line2d_36\">\r\n    <path clip-path=\"url(#p5d6bbf8ac0)\" d=\"M 217.3425 194.165455 \r\nL 255.0075 194.165455 \r\n\" style=\"fill:none;stroke:#2ca02c;stroke-linecap:square;\"/>\r\n   </g>\r\n   <g id=\"line2d_37\">\r\n    <path clip-path=\"url(#p5d6bbf8ac0)\" d=\"M 301.0425 70.62 \r\nL 338.7075 70.62 \r\n\" style=\"fill:none;stroke:#2ca02c;stroke-linecap:square;\"/>\r\n   </g>\r\n   <g id=\"patch_3\">\r\n    <path d=\"M 26.925 224.64 \r\nL 26.925 7.2 \r\n\" style=\"fill:none;stroke:#000000;stroke-linecap:square;stroke-linejoin:miter;stroke-width:0.8;\"/>\r\n   </g>\r\n   <g id=\"patch_4\">\r\n    <path d=\"M 361.725 224.64 \r\nL 361.725 7.2 \r\n\" style=\"fill:none;stroke:#000000;stroke-linecap:square;stroke-linejoin:miter;stroke-width:0.8;\"/>\r\n   </g>\r\n   <g id=\"patch_5\">\r\n    <path d=\"M 26.925 224.64 \r\nL 361.725 224.64 \r\n\" style=\"fill:none;stroke:#000000;stroke-linecap:square;stroke-linejoin:miter;stroke-width:0.8;\"/>\r\n   </g>\r\n   <g id=\"patch_6\">\r\n    <path d=\"M 26.925 7.2 \r\nL 361.725 7.2 \r\n\" style=\"fill:none;stroke:#000000;stroke-linecap:square;stroke-linejoin:miter;stroke-width:0.8;\"/>\r\n   </g>\r\n  </g>\r\n </g>\r\n <defs>\r\n  <clipPath id=\"p5d6bbf8ac0\">\r\n   <rect height=\"217.44\" width=\"334.8\" x=\"26.925\" y=\"7.2\"/>\r\n  </clipPath>\r\n </defs>\r\n</svg>\r\n",
      "image/png": "[encoded data removed]"
     },
     "metadata": {
      "needs_background": "light"
     }
    }
   ],
   "source": [
    "import pandas as pd\n",
    "import numpy as np\n",
    "import matplotlib.pyplot as plt\n",
    "\n",
    "# nuestros grupos:\n",
    "High_dose = [25,30,28,36,29]\n",
    "Medium_dose = [45,55,29,56,40]\n",
    "Low_dose = [30,29,33,37,27]\n",
    "Placebo = [54,60,51,62,73]\n",
    "\n",
    "data1 = np.array([High_dose,Medium_dose,Low_dose,Placebo])\n",
    "df = pd.DataFrame(data=data1.transpose(), columns = ['High_dose','Medium_dose','Low_dose','Placebo'])\n",
    "\n",
    "print(df)\n",
    "df.boxplot(column = ['High_dose','Medium_dose','Low_dose','Placebo'], grid=False)\n",
    "plt.show()"
   ]
  },
  {
   "source": [
    "Al observar nuestra muestra, podríamos decir que los tiempos de sueño oscilan entre ~ 20 minutos y ~ 75 minutos. Si ignoramos la información sobre el tipo, la mejor estimación que podríamos dar para el tiempo de sueño del medicamento sería entre ~ 20 y ~ 75 minutos. Por ahora llamemos a esto variación total.\n",
    "\n",
    "El siguiente paso es dividir esta variación total en dos: variación entre grupos y variación dentro del grupo\n",
    "\n",
    "La variación entre grupos se explica por nuestro tipo de fármaco:\n",
    "\n",
    "Si sumamos la variable empresa en el gráfico, vemos que si sabemos qué fármaco se toma, podemos dar un rango más preciso de tiempos de sueño.\n",
    "\n",
    "Si se toma el fármaco A, tarda entre ~ 20 y ~ 35 minutos.\n",
    "\n",
    "Si se toma el fármaco B, tarda entre ~ 30 y ~ 55 minutos.\n",
    "\n",
    "Si se toma el fármaco C, tarda entre ~ 25 y ~ 35 minutos.\n",
    "\n",
    "Si se toma placebo, tarda entre ~ 50 y ~ 75 minutos.\n",
    "\n",
    "Este fenómeno se debe a la variación entre grupos: una cuantificación de la variación explicada por nuestra variable.\n",
    "\n",
    "La variación dentro del grupo no se explica por nuestro tipo de medicamento:\n",
    "\n",
    "Sin embargo, también hay una parte de la variación que no puede explicarse con nuestra variable \"Fármaco\": se refiere a variaciones causadas por diferencias dentro de grupos (o niveles) individuales. En otras palabras, no todos los valores dentro de cada grupo (por ejemplo, medias) son iguales.\n",
    "\n",
    "Dado que no tenemos esas nuevas variables, la variación permanece sin explicación y se llama variación dentro del grupo.\n",
    "\n",
    "### Suma de cuadrados\n",
    "¡Vayamos a la acción! Lo que describí antes como variación se mide matemáticamente por la suma de cuadrados. Esta se define como:\n",
    "\n",
    "![Suma de cuadrados](https://raw.githubusercontent.com/BlohmLab/NSCI801-QuantNeuro/master/Figures/1A_gM0yge15fq_UnNFNY7r0Uw.png)\n",
    "\n",
    "### Grados de libertad\n",
    "Los necesitamos en cálculos posteriores:\n",
    "- df1 = df de la parte explicada = número de grupos - 1 \n",
    "- df2 = df del residuo = número de observaciones - número de grupos\n",
    "\n",
    "En nuestro ejemplo, df1 = 3 y df2 = 21.\n",
    "\n",
    "### Cuadrados medios\n",
    "La prueba estadística que es central en ANOVA es la prueba F. La hipótesis nula establece que la media de todos los grupos es igual, lo que implica que nuestro modelo no tiene valor explicativo y que no tenemos pruebas para elegir un fármaco sobre otro.\n",
    "\n",
    "La hipótesis alternativa establece que al menos una de las medias es diferente, lo cuál sería una razón para profundizar más y averiguar qué fármaco funciona mejor. Calculamos los cuadrados medios de la siguiente manera:\n",
    "\n",
    "![Cuadrados medios](https://raw.githubusercontent.com/BlohmLab/NSCI801-QuantNeuro/master/Figures/1A_0LXxDWgMYiz4EXft5j_Ixw.png)\n",
    "\n",
    "### Estadístico F\n",
    "Usamos los cuadrados medios para calcular el estadístico F como la relación entre la variación explicada y la inexplicada:\n",
    "\n",
    "![Estadístico F](https://raw.githubusercontent.com/BlohmLab/NSCI801-QuantNeuro/master/Figures/1A_IOV_eIIQHXZq4taC0lLn2A.png)\n"
   ],
   "cell_type": "markdown",
   "metadata": {}
  },
  {
   "cell_type": "code",
   "execution_count": 8,
   "metadata": {},
   "outputs": [
    {
     "output_type": "stream",
     "name": "stdout",
     "text": [
      "[[25 30 28 36 29]\n [45 55 29 56 40]\n [30 29 33 37 27]\n [54 60 51 62 73]]\nLas medias de los grupos son: Drug A  29.6  Drug B:  45.0 , Drug C:  31.2 , Placebo:  60.0\n"
     ]
    }
   ],
   "source": [
    "### lets calculate the means and see what we get here...\n",
    "print(data1)\n",
    "print(\"Las medias de los grupos son: Drug A \", np.mean(data1,1)[0],\" Drug B: \", np.mean(data1,1)[1], \", Drug C: \", np.mean(data1,1)[2], \", Placebo: \", np.mean(data1,1)[3])"
   ]
  },
  {
   "cell_type": "code",
   "execution_count": 9,
   "metadata": {},
   "outputs": [
    {
     "output_type": "stream",
     "name": "stdout",
     "text": [
      "The f-Value is:  17.492810457516338  The p-value is:  2.639241146210922e-05\n"
     ]
    }
   ],
   "source": [
    "import scipy.stats as stats\n",
    "fvalue, pvalue = stats.f_oneway(df['High_dose'], df['Medium_dose'], df['Low_dose'], df['Placebo'])\n",
    "print(\"The f-Value is: \", fvalue, \" The p-value is: \", pvalue)"
   ]
  },
  {
   "cell_type": "code",
   "execution_count": 10,
   "metadata": {},
   "outputs": [
    {
     "output_type": "stream",
     "name": "stdout",
     "text": [
      "            df   sum_sq   mean_sq         F    PR(>F)\nDrug       3.0  3010.95  1003.650  17.49281  0.000026\nResidual  16.0   918.00    57.375       NaN       NaN\n"
     ]
    }
   ],
   "source": [
    "import statsmodels.api as sm\n",
    "from statsmodels.formula.api import ols\n",
    "data_vals = (data1).reshape(-1,1)[:,0]\n",
    "# print(data_vals)\n",
    "data_heads = ['Drug A']*5+['Drug B']*5+['Drug C']*5+['Placebo']*5\n",
    "data_tot = [[data_heads[num] , i ]for num,i in enumerate(data_vals)]\n",
    "\n",
    "df_data = pd.DataFrame(data_tot, columns= ['Drug','SleepTime'])\n",
    "\n",
    "lm = ols('SleepTime ~ Drug',data=df_data).fit()\n",
    "table = sm.stats.anova_lm(lm) # Type 2 ANOVA DataFrame\n",
    "print(table)"
   ]
  },
  {
   "source": [
    "Entonces sabemos que hay una diferencia aquí, pero ¿dónde?\n",
    "\n",
    "### Pruebas post-hoc\n",
    "Aquí es donde entran en juego las pruebas post-hoc:\n",
    "\n",
    "Y hay una variedad de pruebas post-hoc. Por ejemplo, Prueba de Tukey, Prueba de diferencia mínima significativa de Fisher"
   ],
   "cell_type": "markdown",
   "metadata": {}
  },
  {
   "cell_type": "code",
   "execution_count": 11,
   "metadata": {},
   "outputs": [
    {
     "output_type": "stream",
     "name": "stdout",
     "text": [
      " Multiple Comparison of Means - Tukey HSD, FWER=0.05  \n======================================================\ngroup1  group2 meandiff p-adj   lower    upper  reject\n------------------------------------------------------\nDrug A  Drug B     15.4 0.0251   1.6929 29.1071   True\nDrug A  Drug C      1.6    0.9 -12.1071 15.3071  False\nDrug A Placebo     30.4  0.001  16.6929 44.1071   True\nDrug B  Drug C    -13.8 0.0482 -27.5071 -0.0929   True\nDrug B Placebo     15.0 0.0296   1.2929 28.7071   True\nDrug C Placebo     28.8  0.001  15.0929 42.5071   True\n------------------------------------------------------\n"
     ]
    }
   ],
   "source": [
    "from statsmodels.stats.multicomp import pairwise_tukeyhsd\n",
    "from statsmodels.stats.multicomp import MultiComparison\n",
    "\n",
    "mc = pairwise_tukeyhsd(df_data['SleepTime'],df_data['Drug'])\n",
    "mc_results = mc.summary()\n",
    "print(mc_results)"
   ]
  },
  {
   "source": [
    "### CÁLCULO DEL TAMAÑO DEL EFECTO DEL MODELO\n",
    "Algo que es útil es el tamaño del efecto. El tamaño del efecto nos dice cuánto impacto tendrá el experimento en el mundo real. Hay algunos tamaños de efecto diferentes que se pueden usar: eta al cuadrado y omega al cuadrado. Omega al cuadrado se considera una mejor medida del tamaño del efecto que eta al cuadrado porque no tiene sesgo en su cálculo.\n",
    "\n",
    "El tamaño del efecto no reemplaza los resultados de una prueba de hipótesis estadística. En cambio, el tamaño del efecto complementa la prueba. Idealmente, los resultados tanto de la prueba de hipótesis como del cálculo del tamaño del efecto se presentarían uno al lado del otro.\n",
    "\n",
    "- Prueba de hipótesis: cuantifica la probabilidad de observar los datos dado un supuesto (hipótesis nula). \n",
    "- Tamaño del efecto: cuantifica el tamaño del efecto asumiendo que el efecto está presente."
   ],
   "cell_type": "markdown",
   "metadata": {}
  },
  {
   "cell_type": "code",
   "execution_count": 12,
   "metadata": {},
   "outputs": [
    {
     "output_type": "execute_result",
     "data": {
      "text/plain": [
       "           sum_sq    df   mean_sq         F    PR(>F)   eta_sq  omega_sq\n",
       "Drug      3010.95   3.0  1003.650  17.49281  0.000026  0.76635  0.712141\n",
       "Residual   918.00  16.0    57.375       NaN       NaN      NaN       NaN"
      ],
      "text/html": "<div>\n<style scoped>\n    .dataframe tbody tr th:only-of-type {\n        vertical-align: middle;\n    }\n\n    .dataframe tbody tr th {\n        vertical-align: top;\n    }\n\n    .dataframe thead th {\n        text-align: right;\n    }\n</style>\n<table border=\"1\" class=\"dataframe\">\n  <thead>\n    <tr style=\"text-align: right;\">\n      <th></th>\n      <th>sum_sq</th>\n      <th>df</th>\n      <th>mean_sq</th>\n      <th>F</th>\n      <th>PR(&gt;F)</th>\n      <th>eta_sq</th>\n      <th>omega_sq</th>\n    </tr>\n  </thead>\n  <tbody>\n    <tr>\n      <th>Drug</th>\n      <td>3010.95</td>\n      <td>3.0</td>\n      <td>1003.650</td>\n      <td>17.49281</td>\n      <td>0.000026</td>\n      <td>0.76635</td>\n      <td>0.712141</td>\n    </tr>\n    <tr>\n      <th>Residual</th>\n      <td>918.00</td>\n      <td>16.0</td>\n      <td>57.375</td>\n      <td>NaN</td>\n      <td>NaN</td>\n      <td>NaN</td>\n      <td>NaN</td>\n    </tr>\n  </tbody>\n</table>\n</div>"
     },
     "metadata": {},
     "execution_count": 12
    }
   ],
   "source": [
    "def anova_table(aov):\n",
    "    aov['mean_sq'] = aov[:]['sum_sq']/aov[:]['df']\n",
    "    \n",
    "    aov['eta_sq'] = aov[:-1]['sum_sq']/sum(aov['sum_sq'])\n",
    "    \n",
    "    aov['omega_sq'] = (aov[:-1]['sum_sq']-(aov[:-1]['df']*aov['mean_sq'][-1]))/(sum(aov['sum_sq'])+aov['mean_sq'][-1])\n",
    "    \n",
    "    cols = ['sum_sq', 'df', 'mean_sq', 'F', 'PR(>F)', 'eta_sq', 'omega_sq']\n",
    "    aov = aov[cols]\n",
    "    return aov\n",
    "\n",
    "anova_table(table)"
   ]
  },
  {
   "source": [
    "Eso significa que el modelo actual representa el 70-76% de la variación en la contribución a la droga. Como se acaba de mencionar, dentro del marco ANOVA, R2 también se denomina eta cuadrado y puede interpretarse como la cantidad de varianza explicada, así como como una medida del tamaño del efecto.\n",
    "\n",
    "## Otros tipos de ANOVA\n",
    "ANOVA de medidas repetidas y ANOVA de 2 vías:"
   ],
   "cell_type": "markdown",
   "metadata": {}
  },
  {
   "cell_type": "code",
   "execution_count": 13,
   "metadata": {},
   "outputs": [
    {
     "output_type": "stream",
     "name": "stdout",
     "text": [
      "               Anova\n===================================\n     F Value  Num DF  Den DF Pr > F\n-----------------------------------\ncond 499.1549 1.0000 59.0000 0.0000\n===================================\n\n"
     ]
    }
   ],
   "source": [
    "import pandas as pd\n",
    "from statsmodels.stats.anova import AnovaRM\n",
    "\n",
    "df = pd.read_csv('https://raw.githubusercontent.com/BlohmLab/NSCI801-QuantNeuro/master/Figures/rmAOV1way.csv')\n",
    "\n",
    "aovrm = AnovaRM(df, 'rt', 'Sub_id', within=['cond'])\n",
    "res = aovrm.fit()\n",
    "print(res.summary())"
   ]
  },
  {
   "cell_type": "code",
   "execution_count": 14,
   "metadata": {},
   "outputs": [
    {
     "output_type": "stream",
     "name": "stdout",
     "text": [
      "                 Anova\n========================================\n         F Value  Num DF  Den DF  Pr > F\n----------------------------------------\niv1     2207.0162 1.0000  59.0000 0.0000\niv2      275.4144 2.0000 118.0000 0.0000\niv1:iv2    1.8651 2.0000 118.0000 0.1594\n========================================\n\n"
     ]
    }
   ],
   "source": [
    "df2way = pd.read_csv('https://raw.githubusercontent.com/BlohmLab/NSCI801-QuantNeuro/master/Figures/rmAOV2way.csv')\n",
    "aovrm2way = AnovaRM(df2way, 'rt', 'Sub_id', within=['iv1', 'iv2'])\n",
    "res2way = aovrm2way.fit()\n",
    "\n",
    "print(res2way)"
   ]
  },
  {
   "source": [
    "## ANOVA Factorial\n",
    "\n",
    "Interacciones Factor A x Factor B:\n",
    "\n",
    "- H0: no hay interacción \n",
    "- H1: hay interacción\n",
    "\n",
    "Efecto principal del factor A:\n",
    "\n",
    "- H0: Las medias son iguales \n",
    "- H1: No todas las medias son iguales\n",
    "\n",
    "Efecto principal del factor B:\n",
    "\n",
    "- H0: Las medias son iguales \n",
    "- H1: No todas las medias son iguales\n",
    "\n",
    "Sé lo que estás pensando acerca de estas cosas: esto es confuso ... ¡pero lo analizaremos!\n",
    "\n",
    "### Ejemplo\n",
    "\n",
    "Estos datos son ficticios. Se realizó un estudio para probar el efecto de 2 nuevos fertilizantes y la cantidad de agua sobre el rendimiento medio de los cultivos."
   ],
   "cell_type": "markdown",
   "metadata": {}
  },
  {
   "cell_type": "code",
   "execution_count": 17,
   "metadata": {},
   "outputs": [],
   "source": [
    "import pandas\n",
    "import researchpy as rp\n",
    "import seaborn as sns\n",
    "\n",
    "import statsmodels.api as sm\n",
    "from statsmodels.formula.api import ols\n",
    "import statsmodels.stats.multicomp\n",
    "\n",
    "df = pandas.read_csv(\"https://raw.githubusercontent.com/Opensourcefordatascience/Data-sets/master/crop_yield.csv\")"
   ]
  },
  {
   "cell_type": "code",
   "execution_count": 18,
   "metadata": {},
   "outputs": [
    {
     "output_type": "stream",
     "name": "stdout",
     "text": [
      "\n\n"
     ]
    },
    {
     "output_type": "execute_result",
     "data": {
      "text/plain": [
       "  Variable     N   Mean      SD     SE  95% Conf.  Interval\n",
       "0    Yield  20.0  29.04  4.2305  0.946    27.0601   31.0199"
      ],
      "text/html": "<div>\n<style scoped>\n    .dataframe tbody tr th:only-of-type {\n        vertical-align: middle;\n    }\n\n    .dataframe tbody tr th {\n        vertical-align: top;\n    }\n\n    .dataframe thead th {\n        text-align: right;\n    }\n</style>\n<table border=\"1\" class=\"dataframe\">\n  <thead>\n    <tr style=\"text-align: right;\">\n      <th></th>\n      <th>Variable</th>\n      <th>N</th>\n      <th>Mean</th>\n      <th>SD</th>\n      <th>SE</th>\n      <th>95% Conf.</th>\n      <th>Interval</th>\n    </tr>\n  </thead>\n  <tbody>\n    <tr>\n      <th>0</th>\n      <td>Yield</td>\n      <td>20.0</td>\n      <td>29.04</td>\n      <td>4.2305</td>\n      <td>0.946</td>\n      <td>27.0601</td>\n      <td>31.0199</td>\n    </tr>\n  </tbody>\n</table>\n</div>"
     },
     "metadata": {},
     "execution_count": 18
    }
   ],
   "source": [
    "rp.summary_cont(df['Yield'])"
   ]
  },
  {
   "cell_type": "code",
   "execution_count": 19,
   "metadata": {},
   "outputs": [
    {
     "output_type": "stream",
     "name": "stdout",
     "text": [
      "\n\n"
     ]
    },
    {
     "output_type": "execute_result",
     "data": {
      "text/plain": [
       "       N   Mean      SD      SE  95% Conf.  Interval\n",
       "Fert                                                \n",
       "A     10  30.90  3.2840  1.0385    28.5508   33.2492\n",
       "B     10  27.18  4.3944  1.3896    24.0364   30.3236"
      ],
      "text/html": "<div>\n<style scoped>\n    .dataframe tbody tr th:only-of-type {\n        vertical-align: middle;\n    }\n\n    .dataframe tbody tr th {\n        vertical-align: top;\n    }\n\n    .dataframe thead th {\n        text-align: right;\n    }\n</style>\n<table border=\"1\" class=\"dataframe\">\n  <thead>\n    <tr style=\"text-align: right;\">\n      <th></th>\n      <th>N</th>\n      <th>Mean</th>\n      <th>SD</th>\n      <th>SE</th>\n      <th>95% Conf.</th>\n      <th>Interval</th>\n    </tr>\n    <tr>\n      <th>Fert</th>\n      <th></th>\n      <th></th>\n      <th></th>\n      <th></th>\n      <th></th>\n      <th></th>\n    </tr>\n  </thead>\n  <tbody>\n    <tr>\n      <th>A</th>\n      <td>10</td>\n      <td>30.90</td>\n      <td>3.2840</td>\n      <td>1.0385</td>\n      <td>28.5508</td>\n      <td>33.2492</td>\n    </tr>\n    <tr>\n      <th>B</th>\n      <td>10</td>\n      <td>27.18</td>\n      <td>4.3944</td>\n      <td>1.3896</td>\n      <td>24.0364</td>\n      <td>30.3236</td>\n    </tr>\n  </tbody>\n</table>\n</div>"
     },
     "metadata": {},
     "execution_count": 19
    }
   ],
   "source": [
    "rp.summary_cont(df.groupby(['Fert']))['Yield']"
   ]
  },
  {
   "cell_type": "code",
   "execution_count": 20,
   "metadata": {},
   "outputs": [
    {
     "output_type": "stream",
     "name": "stdout",
     "text": [
      "\n\n"
     ]
    },
    {
     "output_type": "execute_result",
     "data": {
      "text/plain": [
       "            N   Mean      SD      SE  95% Conf.  Interval\n",
       "Fert Water                                               \n",
       "A    High   5  31.80  3.1464  1.4071    27.8932   35.7068\n",
       "     Low    5  30.00  3.5128  1.5710    25.6382   34.3618\n",
       "B    High   5  29.84  3.3746  1.5092    25.6499   34.0301\n",
       "     Low    5  24.52  3.7910  1.6954    19.8128   29.2272"
      ],
      "text/html": "<div>\n<style scoped>\n    .dataframe tbody tr th:only-of-type {\n        vertical-align: middle;\n    }\n\n    .dataframe tbody tr th {\n        vertical-align: top;\n    }\n\n    .dataframe thead th {\n        text-align: right;\n    }\n</style>\n<table border=\"1\" class=\"dataframe\">\n  <thead>\n    <tr style=\"text-align: right;\">\n      <th></th>\n      <th></th>\n      <th>N</th>\n      <th>Mean</th>\n      <th>SD</th>\n      <th>SE</th>\n      <th>95% Conf.</th>\n      <th>Interval</th>\n    </tr>\n    <tr>\n      <th>Fert</th>\n      <th>Water</th>\n      <th></th>\n      <th></th>\n      <th></th>\n      <th></th>\n      <th></th>\n      <th></th>\n    </tr>\n  </thead>\n  <tbody>\n    <tr>\n      <th rowspan=\"2\" valign=\"top\">A</th>\n      <th>High</th>\n      <td>5</td>\n      <td>31.80</td>\n      <td>3.1464</td>\n      <td>1.4071</td>\n      <td>27.8932</td>\n      <td>35.7068</td>\n    </tr>\n    <tr>\n      <th>Low</th>\n      <td>5</td>\n      <td>30.00</td>\n      <td>3.5128</td>\n      <td>1.5710</td>\n      <td>25.6382</td>\n      <td>34.3618</td>\n    </tr>\n    <tr>\n      <th rowspan=\"2\" valign=\"top\">B</th>\n      <th>High</th>\n      <td>5</td>\n      <td>29.84</td>\n      <td>3.3746</td>\n      <td>1.5092</td>\n      <td>25.6499</td>\n      <td>34.0301</td>\n    </tr>\n    <tr>\n      <th>Low</th>\n      <td>5</td>\n      <td>24.52</td>\n      <td>3.7910</td>\n      <td>1.6954</td>\n      <td>19.8128</td>\n      <td>29.2272</td>\n    </tr>\n  </tbody>\n</table>\n</div>"
     },
     "metadata": {},
     "execution_count": 20
    }
   ],
   "source": [
    "rp.summary_cont(df.groupby(['Fert', 'Water']))['Yield']"
   ]
  },
  {
   "cell_type": "code",
   "execution_count": 22,
   "metadata": {},
   "outputs": [
    {
     "output_type": "stream",
     "name": "stdout",
     "text": [
      "Overall model F( 3, 16) =  4.112, p =  0.0243\n"
     ]
    }
   ],
   "source": [
    "# Fits the model with the interaction term\n",
    "# This will also automatically include the main effects for each factor\n",
    "model = ols('Yield ~ C(Fert)*C(Water)', df).fit()\n",
    "\n",
    "# Seeing if the overall model is significant\n",
    "print(f\"Overall model F({model.df_model: .0f},{model.df_resid: .0f}) = {model.fvalue: .3f}, p = {model.f_pvalue: .4f}\")"
   ]
  },
  {
   "cell_type": "code",
   "execution_count": 23,
   "metadata": {},
   "outputs": [
    {
     "output_type": "execute_result",
     "data": {
      "text/plain": [
       "<class 'statsmodels.iolib.summary.Summary'>\n",
       "\"\"\"\n",
       "                            OLS Regression Results                            \n",
       "==============================================================================\n",
       "Dep. Variable:                  Yield   R-squared:                       0.435\n",
       "Model:                            OLS   Adj. R-squared:                  0.330\n",
       "Method:                 Least Squares   F-statistic:                     4.112\n",
       "Date:                Tue, 20 Apr 2021   Prob (F-statistic):             0.0243\n",
       "Time:                        22:58:10   Log-Likelihood:                -50.996\n",
       "No. Observations:                  20   AIC:                             110.0\n",
       "Df Residuals:                      16   BIC:                             114.0\n",
       "Df Model:                           3                                         \n",
       "Covariance Type:            nonrobust                                         \n",
       "================================================================================================\n",
       "                                   coef    std err          t      P>|t|      [0.025      0.975]\n",
       "------------------------------------------------------------------------------------------------\n",
       "Intercept                       31.8000      1.549     20.527      0.000      28.516      35.084\n",
       "C(Fert)[T.B]                    -1.9600      2.191     -0.895      0.384      -6.604       2.684\n",
       "C(Water)[T.Low]                 -1.8000      2.191     -0.822      0.423      -6.444       2.844\n",
       "C(Fert)[T.B]:C(Water)[T.Low]    -3.5200      3.098     -1.136      0.273     -10.088       3.048\n",
       "==============================================================================\n",
       "Omnibus:                        3.427   Durbin-Watson:                   2.963\n",
       "Prob(Omnibus):                  0.180   Jarque-Bera (JB):                1.319\n",
       "Skew:                          -0.082   Prob(JB):                        0.517\n",
       "Kurtosis:                       1.752   Cond. No.                         6.85\n",
       "==============================================================================\n",
       "\n",
       "Notes:\n",
       "[1] Standard Errors assume that the covariance matrix of the errors is correctly specified.\n",
       "\"\"\""
      ],
      "text/html": "<table class=\"simpletable\">\n<caption>OLS Regression Results</caption>\n<tr>\n  <th>Dep. Variable:</th>          <td>Yield</td>      <th>  R-squared:         </th> <td>   0.435</td>\n</tr>\n<tr>\n  <th>Model:</th>                   <td>OLS</td>       <th>  Adj. R-squared:    </th> <td>   0.330</td>\n</tr>\n<tr>\n  <th>Method:</th>             <td>Least Squares</td>  <th>  F-statistic:       </th> <td>   4.112</td>\n</tr>\n<tr>\n  <th>Date:</th>             <td>Tue, 20 Apr 2021</td> <th>  Prob (F-statistic):</th>  <td>0.0243</td> \n</tr>\n<tr>\n  <th>Time:</th>                 <td>22:58:10</td>     <th>  Log-Likelihood:    </th> <td> -50.996</td>\n</tr>\n<tr>\n  <th>No. Observations:</th>      <td>    20</td>      <th>  AIC:               </th> <td>   110.0</td>\n</tr>\n<tr>\n  <th>Df Residuals:</th>          <td>    16</td>      <th>  BIC:               </th> <td>   114.0</td>\n</tr>\n<tr>\n  <th>Df Model:</th>              <td>     3</td>      <th>                     </th>     <td> </td>   \n</tr>\n<tr>\n  <th>Covariance Type:</th>      <td>nonrobust</td>    <th>                     </th>     <td> </td>   \n</tr>\n</table>\n<table class=\"simpletable\">\n<tr>\n                <td></td>                  <th>coef</th>     <th>std err</th>      <th>t</th>      <th>P>|t|</th>  <th>[0.025</th>    <th>0.975]</th>  \n</tr>\n<tr>\n  <th>Intercept</th>                    <td>   31.8000</td> <td>    1.549</td> <td>   20.527</td> <td> 0.000</td> <td>   28.516</td> <td>   35.084</td>\n</tr>\n<tr>\n  <th>C(Fert)[T.B]</th>                 <td>   -1.9600</td> <td>    2.191</td> <td>   -0.895</td> <td> 0.384</td> <td>   -6.604</td> <td>    2.684</td>\n</tr>\n<tr>\n  <th>C(Water)[T.Low]</th>              <td>   -1.8000</td> <td>    2.191</td> <td>   -0.822</td> <td> 0.423</td> <td>   -6.444</td> <td>    2.844</td>\n</tr>\n<tr>\n  <th>C(Fert)[T.B]:C(Water)[T.Low]</th> <td>   -3.5200</td> <td>    3.098</td> <td>   -1.136</td> <td> 0.273</td> <td>  -10.088</td> <td>    3.048</td>\n</tr>\n</table>\n<table class=\"simpletable\">\n<tr>\n  <th>Omnibus:</th>       <td> 3.427</td> <th>  Durbin-Watson:     </th> <td>   2.963</td>\n</tr>\n<tr>\n  <th>Prob(Omnibus):</th> <td> 0.180</td> <th>  Jarque-Bera (JB):  </th> <td>   1.319</td>\n</tr>\n<tr>\n  <th>Skew:</th>          <td>-0.082</td> <th>  Prob(JB):          </th> <td>   0.517</td>\n</tr>\n<tr>\n  <th>Kurtosis:</th>      <td> 1.752</td> <th>  Cond. No.          </th> <td>    6.85</td>\n</tr>\n</table><br/><br/>Notes:<br/>[1] Standard Errors assume that the covariance matrix of the errors is correctly specified."
     },
     "metadata": {},
     "execution_count": 23
    }
   ],
   "source": [
    "model.summary()"
   ]
  },
  {
   "cell_type": "code",
   "execution_count": 24,
   "metadata": {},
   "outputs": [
    {
     "output_type": "execute_result",
     "data": {
      "text/plain": [
       "                   sum_sq    df         F    PR(>F)\n",
       "C(Fert)            69.192   1.0  5.766000  0.028847\n",
       "C(Water)           63.368   1.0  5.280667  0.035386\n",
       "C(Fert):C(Water)   15.488   1.0  1.290667  0.272656\n",
       "Residual          192.000  16.0       NaN       NaN"
      ],
      "text/html": "<div>\n<style scoped>\n    .dataframe tbody tr th:only-of-type {\n        vertical-align: middle;\n    }\n\n    .dataframe tbody tr th {\n        vertical-align: top;\n    }\n\n    .dataframe thead th {\n        text-align: right;\n    }\n</style>\n<table border=\"1\" class=\"dataframe\">\n  <thead>\n    <tr style=\"text-align: right;\">\n      <th></th>\n      <th>sum_sq</th>\n      <th>df</th>\n      <th>F</th>\n      <th>PR(&gt;F)</th>\n    </tr>\n  </thead>\n  <tbody>\n    <tr>\n      <th>C(Fert)</th>\n      <td>69.192</td>\n      <td>1.0</td>\n      <td>5.766000</td>\n      <td>0.028847</td>\n    </tr>\n    <tr>\n      <th>C(Water)</th>\n      <td>63.368</td>\n      <td>1.0</td>\n      <td>5.280667</td>\n      <td>0.035386</td>\n    </tr>\n    <tr>\n      <th>C(Fert):C(Water)</th>\n      <td>15.488</td>\n      <td>1.0</td>\n      <td>1.290667</td>\n      <td>0.272656</td>\n    </tr>\n    <tr>\n      <th>Residual</th>\n      <td>192.000</td>\n      <td>16.0</td>\n      <td>NaN</td>\n      <td>NaN</td>\n    </tr>\n  </tbody>\n</table>\n</div>"
     },
     "metadata": {},
     "execution_count": 24
    }
   ],
   "source": [
    "# Creates the ANOVA table\n",
    "res = sm.stats.anova_lm(model, typ= 2)\n",
    "res"
   ]
  },
  {
   "source": [
    "El término de interacción no es significativo. Esto indica que no existe un efecto de interacción entre el tipo de fertilizante y la cantidad de agua sobre el rendimiento medio del cultivo. Dado que esto no es significativo, el término de interacción debe eliminarse del modelo y debe volver a ejecutarse para que podamos ver los efectos principales de cada factor de forma independiente."
   ],
   "cell_type": "markdown",
   "metadata": {}
  },
  {
   "cell_type": "code",
   "execution_count": 25,
   "metadata": {},
   "outputs": [
    {
     "output_type": "stream",
     "name": "stdout",
     "text": [
      "Overall model F( 2, 17) =  5.430, p =  0.0150\n"
     ]
    }
   ],
   "source": [
    "# Fits the model\n",
    "model2 = ols('Yield ~ C(Fert)+ C(Water)', df).fit()\n",
    "\n",
    "print(f\"Overall model F({model2.df_model: .0f},{model2.df_resid: .0f}) = {model2.fvalue: .3f}, p = {model2.f_pvalue: .4f}\")"
   ]
  },
  {
   "cell_type": "code",
   "execution_count": 26,
   "metadata": {},
   "outputs": [
    {
     "output_type": "execute_result",
     "data": {
      "text/plain": [
       "<class 'statsmodels.iolib.summary.Summary'>\n",
       "\"\"\"\n",
       "                            OLS Regression Results                            \n",
       "==============================================================================\n",
       "Dep. Variable:                  Yield   R-squared:                       0.390\n",
       "Model:                            OLS   Adj. R-squared:                  0.318\n",
       "Method:                 Least Squares   F-statistic:                     5.430\n",
       "Date:                Tue, 20 Apr 2021   Prob (F-statistic):             0.0150\n",
       "Time:                        23:01:23   Log-Likelihood:                -51.772\n",
       "No. Observations:                  20   AIC:                             109.5\n",
       "Df Residuals:                      17   BIC:                             112.5\n",
       "Df Model:                           2                                         \n",
       "Covariance Type:            nonrobust                                         \n",
       "===================================================================================\n",
       "                      coef    std err          t      P>|t|      [0.025      0.975]\n",
       "-----------------------------------------------------------------------------------\n",
       "Intercept          32.6800      1.353     24.153      0.000      29.825      35.535\n",
       "C(Fert)[T.B]       -3.7200      1.562     -2.381      0.029      -7.016      -0.424\n",
       "C(Water)[T.Low]    -3.5600      1.562     -2.279      0.036      -6.856      -0.264\n",
       "==============================================================================\n",
       "Omnibus:                        1.169   Durbin-Watson:                   2.736\n",
       "Prob(Omnibus):                  0.557   Jarque-Bera (JB):                0.820\n",
       "Skew:                          -0.081   Prob(JB):                        0.664\n",
       "Kurtosis:                       2.022   Cond. No.                         3.19\n",
       "==============================================================================\n",
       "\n",
       "Notes:\n",
       "[1] Standard Errors assume that the covariance matrix of the errors is correctly specified.\n",
       "\"\"\""
      ],
      "text/html": "<table class=\"simpletable\">\n<caption>OLS Regression Results</caption>\n<tr>\n  <th>Dep. Variable:</th>          <td>Yield</td>      <th>  R-squared:         </th> <td>   0.390</td>\n</tr>\n<tr>\n  <th>Model:</th>                   <td>OLS</td>       <th>  Adj. R-squared:    </th> <td>   0.318</td>\n</tr>\n<tr>\n  <th>Method:</th>             <td>Least Squares</td>  <th>  F-statistic:       </th> <td>   5.430</td>\n</tr>\n<tr>\n  <th>Date:</th>             <td>Tue, 20 Apr 2021</td> <th>  Prob (F-statistic):</th>  <td>0.0150</td> \n</tr>\n<tr>\n  <th>Time:</th>                 <td>23:01:23</td>     <th>  Log-Likelihood:    </th> <td> -51.772</td>\n</tr>\n<tr>\n  <th>No. Observations:</th>      <td>    20</td>      <th>  AIC:               </th> <td>   109.5</td>\n</tr>\n<tr>\n  <th>Df Residuals:</th>          <td>    17</td>      <th>  BIC:               </th> <td>   112.5</td>\n</tr>\n<tr>\n  <th>Df Model:</th>              <td>     2</td>      <th>                     </th>     <td> </td>   \n</tr>\n<tr>\n  <th>Covariance Type:</th>      <td>nonrobust</td>    <th>                     </th>     <td> </td>   \n</tr>\n</table>\n<table class=\"simpletable\">\n<tr>\n         <td></td>            <th>coef</th>     <th>std err</th>      <th>t</th>      <th>P>|t|</th>  <th>[0.025</th>    <th>0.975]</th>  \n</tr>\n<tr>\n  <th>Intercept</th>       <td>   32.6800</td> <td>    1.353</td> <td>   24.153</td> <td> 0.000</td> <td>   29.825</td> <td>   35.535</td>\n</tr>\n<tr>\n  <th>C(Fert)[T.B]</th>    <td>   -3.7200</td> <td>    1.562</td> <td>   -2.381</td> <td> 0.029</td> <td>   -7.016</td> <td>   -0.424</td>\n</tr>\n<tr>\n  <th>C(Water)[T.Low]</th> <td>   -3.5600</td> <td>    1.562</td> <td>   -2.279</td> <td> 0.036</td> <td>   -6.856</td> <td>   -0.264</td>\n</tr>\n</table>\n<table class=\"simpletable\">\n<tr>\n  <th>Omnibus:</th>       <td> 1.169</td> <th>  Durbin-Watson:     </th> <td>   2.736</td>\n</tr>\n<tr>\n  <th>Prob(Omnibus):</th> <td> 0.557</td> <th>  Jarque-Bera (JB):  </th> <td>   0.820</td>\n</tr>\n<tr>\n  <th>Skew:</th>          <td>-0.081</td> <th>  Prob(JB):          </th> <td>   0.664</td>\n</tr>\n<tr>\n  <th>Kurtosis:</th>      <td> 2.022</td> <th>  Cond. No.          </th> <td>    3.19</td>\n</tr>\n</table><br/><br/>Notes:<br/>[1] Standard Errors assume that the covariance matrix of the errors is correctly specified."
     },
     "metadata": {},
     "execution_count": 26
    }
   ],
   "source": [
    "model2.summary()"
   ]
  },
  {
   "source": [
    "## Pruebas no paramétricas\n",
    "¡No todos los datos están normalmente desintegrados, o incluso se ajustan a las simples suposiciones que hemos hecho!\n",
    "\n",
    "Entonces, ¿cómo superamos esto? Necesitamos pruebas estadísticas que nos ayuden a probar las cosas INCLUSO si esas suposiciones no se cumplen\n",
    "\n",
    "Aunque hay MUCHAS pruebas no paramétricas: las tres principales que repasaré incluyen:\n",
    "\n",
    "La prueba U de Mann-Whitney para comparar muestras de datos independientes: la versión no paramétrica de la prueba t de Student.\n",
    "\n",
    "La prueba de rango con signo de Wilcoxon para comparar muestras de datos pareadas: la versión no paramétrica de la prueba t de Student pareada.\n",
    "\n",
    "Las pruebas Kruskal-Wallis H y Friedman para comparar más de dos muestras de datos: la versión no paramétrica del ANOVA y las pruebas ANOVA de medidas repetidas.\n",
    "\n",
    "A menudo, se refieren a métodos estadísticos que no asumen una distribución gaussiana. Fueron desarrollados para su uso con datos ordinales o de intervalo, pero en la práctica también se pueden usar con una clasificación de observaciones de valor real en una muestra de datos en lugar de los valores de observación en sí.\n",
    "\n",
    "Una pregunta común sobre dos o más conjuntos de datos es si son diferentes. Específicamente, si la diferencia entre su tendencia central (por ejemplo, media o mediana) es estadísticamente significativa.\n",
    "\n",
    "p <= alfa: rechazar H0, distribución diferente.\n",
    "\n",
    "p> alpha: falla al rechazar H0, misma distribución.\n",
    "\n",
    "### Prueba de Mann-Whitney\n",
    "La prueba U de Mann-Whitney es una prueba de significación estadística no paramétrica para determinar si se extrajeron dos muestras independientes de una población con la misma distribución.\n",
    "\n",
    "La prueba recibió el nombre de Henry Mann y Donald Whitney, aunque a veces se la llama prueba de Wilcoxon-Mann-Whitney, también llamada así por Frank Wilcoxon, quien también desarrolló una variación de la prueba.\n",
    "\n",
    "Las dos muestras se combinan y clasifican juntas. La estrategia consiste en determinar si los valores de las dos muestras se mezclan aleatoriamente en el orden de clasificación o si se agrupan en extremos opuestos cuando se combinan. Un orden de clasificación aleatorio significaría que las dos muestras no son diferentes, mientras que un grupo de valores de una muestra indicaría una diferencia entre ellas."
   ],
   "cell_type": "markdown",
   "metadata": {}
  },
  {
   "cell_type": "code",
   "execution_count": 27,
   "metadata": {},
   "outputs": [
    {
     "output_type": "stream",
     "name": "stdout",
     "text": [
      "data1: mean=50.303 stdv=4.426\ndata2: mean=51.764 stdv=4.660\n"
     ]
    }
   ],
   "source": [
    "# generate gaussian data samples\n",
    "from numpy.random import seed\n",
    "from numpy.random import randn\n",
    "from numpy import mean\n",
    "from numpy import std\n",
    "# seed the random number generator\n",
    "seed(1)\n",
    "# generate two sets of univariate observations\n",
    "data1 = 5 * randn(100) + 50\n",
    "data2 = 5 * randn(100) + 51\n",
    "# summarize\n",
    "print('data1: mean=%.3f stdv=%.3f' % (mean(data1), std(data1)))\n",
    "print('data2: mean=%.3f stdv=%.3f' % (mean(data2), std(data2)))"
   ]
  },
  {
   "source": [
    "### Prueba de rangos con signo de Wilcoxon\n",
    "En algunos casos, las muestras de datos pueden emparejarse.\n",
    "\n",
    "Hay muchas razones por las que este puede ser el caso, por ejemplo, las muestras están relacionadas o emparejadas de alguna manera o representan dos medidas de la misma técnica. Más específicamente, cada muestra es independiente, pero proviene de la misma población.\n",
    "\n",
    "Los ejemplos de muestras emparejadas en el aprendizaje automático pueden ser el mismo algoritmo evaluado en diferentes conjuntos de datos o diferentes algoritmos evaluados exactamente con los mismos datos de entrenamiento y prueba.\n",
    "\n",
    "Las muestras no son independientes, por lo que no se puede utilizar la prueba U de Mann-Whitney. En su lugar, se utiliza la prueba de rangos con signo de Wilcoxon, también llamada prueba T de Wilcoxon, llamada así por Frank Wilcoxon. Es el equivalente de la prueba T de Student pareada, pero para datos categóricos en lugar de datos de valor real con distribución gaussiana."
   ],
   "cell_type": "markdown",
   "metadata": {}
  },
  {
   "cell_type": "code",
   "execution_count": 28,
   "metadata": {},
   "outputs": [
    {
     "output_type": "stream",
     "name": "stdout",
     "text": [
      "Statistics=1886.000, p=0.028\nDifferent distribution (reject H0)\n"
     ]
    }
   ],
   "source": [
    "# Wilcoxon signed-rank test\n",
    "from numpy.random import seed\n",
    "from numpy.random import randn\n",
    "from scipy.stats import wilcoxon\n",
    "# seed the random number generator\n",
    "seed(1)\n",
    "# generate two independent samples\n",
    "data1 = 5 * randn(100) + 50\n",
    "data2 = 5 * randn(100) + 51\n",
    "# compare samples\n",
    "stat, p = wilcoxon(data1, data2)\n",
    "print('Statistics=%.3f, p=%.3f' % (stat, p))\n",
    "# interpret\n",
    "alpha = 0.05\n",
    "if p > alpha:\n",
    "\tprint('Same distribution (fail to reject H0)')\n",
    "else:\n",
    "\tprint('Different distribution (reject H0)')"
   ]
  },
  {
   "source": [
    "### Prueba H de Kruskal-Wallis\n",
    "Cuando se trabaja con pruebas de significación, como la U de Mann-Whitney y las pruebas de rangos con signo de Wilcoxon, las comparaciones entre muestras de datos deben realizarse por pares.\n",
    "\n",
    "Esto puede resultar ineficaz si tiene muchas muestras de datos y solo le interesa si dos o más muestras tienen una distribución diferente.\n",
    "\n",
    "La prueba de Kruskal-Wallis es una versión no paramétrica de la prueba de análisis de varianza unidireccional o ANOVA para abreviar. Lleva el nombre de los desarrolladores del método, William Kruskal y Wilson Wallis. Esta prueba se puede utilizar para determinar si más de dos muestras independientes tienen una distribución diferente. Se puede considerar como la generalización de la prueba U de Mann-Whitney.\n",
    "\n",
    "El supuesto predeterminado o la hipótesis nula es que todas las muestras de datos se extrajeron de la misma distribución. Específicamente, que las medianas de población de todos los grupos son iguales. Un rechazo de la hipótesis nula indica que hay suficiente evidencia para sugerir que una o más muestras dominan a otra muestra, pero la prueba no indica qué muestras o cuánto.\n",
    "\n",
    "Cuando la prueba H de Kruskal-Wallis arroja resultados significativos, al menos una de las muestras es diferente de las otras muestras. Sin embargo, la prueba no identifica dónde ocurren las diferencias. Además, no identifica cuántas diferencias ocurren. \n",
    "\n",
    "Para identificar las diferencias particulares entre pares de muestras, un investigador puede usar contrastes de muestras, o pruebas post hoc, para analizar los pares de muestras específicos en busca de diferencias significativas. La prueba U de Mann-Whitney es un método útil para realizar pares de muestras entre conjuntos de muestras individuales."
   ],
   "cell_type": "markdown",
   "metadata": {}
  },
  {
   "cell_type": "code",
   "execution_count": 29,
   "metadata": {},
   "outputs": [
    {
     "output_type": "stream",
     "name": "stdout",
     "text": [
      "Statistics=6.051, p=0.049\nDifferent distributions (reject H0)\n"
     ]
    }
   ],
   "source": [
    "\n",
    "# generate three independent samples\n",
    "data1 = 5 * randn(100) + 50\n",
    "data2 = 5 * randn(100) + 50\n",
    "data3 = 5 * randn(100) + 52\n",
    "\n",
    "# Kruskal-Wallis H-test\n",
    "from numpy.random import seed\n",
    "from numpy.random import randn\n",
    "from scipy.stats import kruskal\n",
    "# seed the random number generator\n",
    "seed(1)\n",
    "# generate three independent samples\n",
    "data1 = 5 * randn(100) + 50\n",
    "data2 = 5 * randn(100) + 50\n",
    "data3 = 5 * randn(100) + 52\n",
    "# compare samples\n",
    "stat, p = kruskal(data1, data2, data3)\n",
    "print('Statistics=%.3f, p=%.3f' % (stat, p))\n",
    "# interpret\n",
    "alpha = 0.05\n",
    "if p > alpha:\n",
    "\tprint('Same distributions (fail to reject H0)')\n",
    "else:\n",
    "\tprint('Different distributions (reject H0)')"
   ]
  },
  {
   "source": [
    "### Prueba de Friedman\n",
    "Como en el ejemplo anterior, es posible que tengamos más de dos muestras diferentes y nos interese saber si todas las muestras tienen la misma distribución o no.\n",
    "\n",
    "Si las muestras están emparejadas de alguna manera, como medidas repetidas, entonces la prueba Kruskal-Wallis H no sería apropiada. En su lugar, se puede utilizar la prueba de Friedman, llamada así por Milton Friedman.\n",
    "\n",
    "La prueba de Friedman es la versión no paramétrica del análisis de varianza de medidas repetidas o ANOVA de medidas repetidas. La prueba se puede considerar como una generalización de la prueba Kruskal-Wallis H a más de dos muestras.\n",
    "\n",
    "La suposición predeterminada, o hipótesis nula, es que las múltiples muestras pareadas tienen la misma distribución. Un rechazo de la hipótesis nula indica que una o más de las muestras emparejadas tienen una distribución diferente.\n",
    "\n",
    "- No se puede rechazar H0: las distribuciones de muestras emparejadas son iguales. \n",
    "- Rechazar H0: Las distribuciones de muestras pareadas no son iguales. \n",
    "\n",
    "La prueba asume dos o más muestras de datos emparejados con 10 o más muestras por grupo.\n",
    "\n",
    "La prueba de Friedman es un procedimiento estadístico no paramétrico para comparar más de dos muestras relacionadas. El equivalente paramétrico de esta prueba es el análisis de varianza de medidas repetidas (ANOVA). Cuando la prueba de Friedman arroja resultados significativos, al menos una de las muestras es diferente de las otras muestras."
   ],
   "cell_type": "markdown",
   "metadata": {}
  },
  {
   "cell_type": "code",
   "execution_count": 30,
   "metadata": {},
   "outputs": [
    {
     "output_type": "stream",
     "name": "stdout",
     "text": [
      "Statistics=9.360, p=0.009\nDifferent distributions (reject H0)\n"
     ]
    }
   ],
   "source": [
    "\n",
    "# Friedman test\n",
    "from numpy.random import seed\n",
    "from numpy.random import randn\n",
    "from scipy.stats import friedmanchisquare\n",
    "# seed the random number generator\n",
    "seed(1)\n",
    "# generate three independent samples\n",
    "data1 = 5 * randn(100) + 50\n",
    "data2 = 5 * randn(100) + 50\n",
    "data3 = 5 * randn(100) + 52\n",
    "# compare samples\n",
    "stat, p = friedmanchisquare(data1, data2, data3)\n",
    "print('Statistics=%.3f, p=%.3f' % (stat, p))\n",
    "# interpret\n",
    "alpha = 0.05\n",
    "if p > alpha:\n",
    "\tprint('Same distributions (fail to reject H0)')\n",
    "else:\n",
    "\tprint('Different distributions (reject H0)')"
   ]
  },
  {
   "source": [
    "Si tienes tiempo, puedes revisar la documentación de las librerías [scipy.stats](https://docs.scipy.org/doc/scipy/reference/stats.html), [statsmodels](https://www.statsmodels.org/stable/user-guide.html) y [researchpy](https://researchpy.readthedocs.io/en/latest/)."
   ],
   "cell_type": "markdown",
   "metadata": {}
  }
 ]
}