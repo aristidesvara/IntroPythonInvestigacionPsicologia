{
 "cells": [
  {
   "cell_type": "markdown",
   "metadata": {},
   "source": [
    "# Práctica: Visualización de datos con Seaborn\n",
    "\n",
    "Sigues siendo un funcionario del gobierno uruguayo especializado en psicología educacional. Se te ha asignado la responsabilidad de diseñar una estrategia para fortalecer la formación superior de los psicólogos en el país. \n",
    "\n",
    "Uno de tus primeros informes consiste en elaborar un reporte del Censo Nacional de Psicología realizado en el año 2014, con miras a que sirva de sustento para tus propuestas:\n",
    "\n",
    ">Suárez, Jorge; Facultad de Psicología de la Universidad de la República (2015): 1st. National Census of Psychology -Uruguay 2014-. Version: 1. FDP-URU - Facultad de Psicología de la Universidad de la República. Datensatz. http://doi.org/10.17891/19871.1\n",
    "\n",
    "A continuación, se plantean una serie de ejercicios que te servirán para elaborar tu reporte."
   ]
  },
  {
   "cell_type": "code",
   "execution_count": 2,
   "metadata": {
    "tags": []
   },
   "outputs": [
    {
     "data": {
      "text/html": [
       "<div>\n",
       "<style scoped>\n",
       "    .dataframe tbody tr th:only-of-type {\n",
       "        vertical-align: middle;\n",
       "    }\n",
       "\n",
       "    .dataframe tbody tr th {\n",
       "        vertical-align: top;\n",
       "    }\n",
       "\n",
       "    .dataframe thead th {\n",
       "        text-align: right;\n",
       "    }\n",
       "</style>\n",
       "<table border=\"1\" class=\"dataframe\">\n",
       "  <thead>\n",
       "    <tr style=\"text-align: right;\">\n",
       "      <th></th>\n",
       "      <th>ID</th>\n",
       "      <th>Sexo</th>\n",
       "      <th>Edad</th>\n",
       "      <th>Lugar_Nac</th>\n",
       "      <th>Dep_Nac</th>\n",
       "      <th>Localidad</th>\n",
       "      <th>País</th>\n",
       "      <th>Lugar_residencia_15a</th>\n",
       "      <th>Departamento_15a</th>\n",
       "      <th>Localidad_15a</th>\n",
       "      <th>País_15a</th>\n",
       "      <th>Lugar_residencia_CC</th>\n",
       "      <th>Deptartamento_CC</th>\n",
       "      <th>Localidad_CC</th>\n",
       "      <th>País_CC</th>\n",
       "      <th>Lugar_residencia_actual</th>\n",
       "      <th>Deptartamento_RA</th>\n",
       "      <th>Localidad_RA</th>\n",
       "      <th>Estado_conyugal</th>\n",
       "      <th>Num_hijos</th>\n",
       "      <th>Padres_Ud</th>\n",
       "      <th>Cónyuge_comp_Ud</th>\n",
       "      <th>Cónyuge_padres_Ud</th>\n",
       "      <th>Hijos_Ud</th>\n",
       "      <th>Hermanos_Ud</th>\n",
       "      <th>Abuelos_Ud</th>\n",
       "      <th>Suegros_Ud</th>\n",
       "      <th>Otros_Familiares_Ud</th>\n",
       "      <th>Otras_Personas_Ud</th>\n",
       "      <th>Único_percibe_ingresos_hogar</th>\n",
       "      <th>Vivienda_Ud_es</th>\n",
       "      <th>Titulado_Uy</th>\n",
       "      <th>Centro_estudio_T</th>\n",
       "      <th>Centro_estudio_E</th>\n",
       "      <th>País_D</th>\n",
       "      <th>Año_comienzo_carrera</th>\n",
       "      <th>Año_grad</th>\n",
       "      <th>Máximo_niv_educativo</th>\n",
       "      <th>Nombre_C</th>\n",
       "      <th>Nombre_Inst</th>\n",
       "      <th>País_E</th>\n",
       "      <th>Por_qué_no_posgrado</th>\n",
       "      <th>Próximos_tres_años_posgrado</th>\n",
       "      <th>Tipo_estudio_posgrado</th>\n",
       "      <th>Áreas_interés_formacion_1</th>\n",
       "      <th>Áreas_interés_formacion_2</th>\n",
       "      <th>Nro_trabajos</th>\n",
       "      <th>Buscando_trabajo_N</th>\n",
       "      <th>Buscando_otro_trabajo_T</th>\n",
       "      <th>Razón_busca_otro_trabajo</th>\n",
       "      <th>Posición_Ocupacional</th>\n",
       "      <th>Sector</th>\n",
       "      <th>Razón_trabaja_más_un_lugar</th>\n",
       "      <th>Tiempo_más_un_lugar</th>\n",
       "      <th>Cuánto_hace_busca_trabajo</th>\n",
       "      <th>Tiempo_trabaja_ininterrumpida</th>\n",
       "      <th>Hs_promedio_trab_semana</th>\n",
       "      <th>Ingresos_mensuales_pesos_último_año</th>\n",
       "      <th>Aprox_porcentaje_ingreso_hogar_aportado_Ud</th>\n",
       "      <th>Área_inser_1</th>\n",
       "      <th>Área_inser_2</th>\n",
       "      <th>Área_inser_3</th>\n",
       "      <th>Área_inser_4</th>\n",
       "      <th>Otras_áreas</th>\n",
       "    </tr>\n",
       "  </thead>\n",
       "  <tbody>\n",
       "    <tr>\n",
       "      <th>0</th>\n",
       "      <td>10.0</td>\n",
       "      <td>0</td>\n",
       "      <td>46</td>\n",
       "      <td>91</td>\n",
       "      <td>911.0</td>\n",
       "      <td>Colon</td>\n",
       "      <td>NaN</td>\n",
       "      <td>101</td>\n",
       "      <td>911.0</td>\n",
       "      <td>Colon</td>\n",
       "      <td>NaN</td>\n",
       "      <td>111</td>\n",
       "      <td>911</td>\n",
       "      <td>Colon</td>\n",
       "      <td>NaN</td>\n",
       "      <td>121</td>\n",
       "      <td>913</td>\n",
       "      <td>Lomas de Solymar</td>\n",
       "      <td>2132</td>\n",
       "      <td>0</td>\n",
       "      <td>0</td>\n",
       "      <td>1</td>\n",
       "      <td>0</td>\n",
       "      <td>0</td>\n",
       "      <td>0</td>\n",
       "      <td>0</td>\n",
       "      <td>0</td>\n",
       "      <td>1</td>\n",
       "      <td>0</td>\n",
       "      <td>1.611</td>\n",
       "      <td>2.175</td>\n",
       "      <td>3.18</td>\n",
       "      <td>3.181</td>\n",
       "      <td>NaN</td>\n",
       "      <td>NaN</td>\n",
       "      <td>1.987</td>\n",
       "      <td>2.012</td>\n",
       "      <td>3.211</td>\n",
       "      <td>NaN</td>\n",
       "      <td>NaN</td>\n",
       "      <td>NaN</td>\n",
       "      <td>3.233</td>\n",
       "      <td>3.241</td>\n",
       "      <td>2.412</td>\n",
       "      <td>Primera Infancia</td>\n",
       "      <td>NaN</td>\n",
       "      <td>243</td>\n",
       "      <td>NaN</td>\n",
       "      <td>2.611</td>\n",
       "      <td>NaN</td>\n",
       "      <td>4.242</td>\n",
       "      <td>42.421</td>\n",
       "      <td>261.0</td>\n",
       "      <td>271.0</td>\n",
       "      <td>NaN</td>\n",
       "      <td>25</td>\n",
       "      <td>32.0</td>\n",
       "      <td>5283</td>\n",
       "      <td>5.293</td>\n",
       "      <td>63.306</td>\n",
       "      <td>NaN</td>\n",
       "      <td>NaN</td>\n",
       "      <td>NaN</td>\n",
       "      <td>Docente en UTU</td>\n",
       "    </tr>\n",
       "    <tr>\n",
       "      <th>1</th>\n",
       "      <td>88.0</td>\n",
       "      <td>0</td>\n",
       "      <td>25</td>\n",
       "      <td>91</td>\n",
       "      <td>913.0</td>\n",
       "      <td>Las Piedras</td>\n",
       "      <td>NaN</td>\n",
       "      <td>101</td>\n",
       "      <td>911.0</td>\n",
       "      <td>Colón</td>\n",
       "      <td>NaN</td>\n",
       "      <td>111</td>\n",
       "      <td>911</td>\n",
       "      <td>Colón</td>\n",
       "      <td>NaN</td>\n",
       "      <td>121</td>\n",
       "      <td>913</td>\n",
       "      <td>La Paz</td>\n",
       "      <td>2131</td>\n",
       "      <td>1</td>\n",
       "      <td>0</td>\n",
       "      <td>0</td>\n",
       "      <td>0</td>\n",
       "      <td>1</td>\n",
       "      <td>0</td>\n",
       "      <td>0</td>\n",
       "      <td>0</td>\n",
       "      <td>0</td>\n",
       "      <td>0</td>\n",
       "      <td>1.610</td>\n",
       "      <td>2.171</td>\n",
       "      <td>3.18</td>\n",
       "      <td>3.181</td>\n",
       "      <td>NaN</td>\n",
       "      <td>NaN</td>\n",
       "      <td>2.007</td>\n",
       "      <td>2.012</td>\n",
       "      <td>3.211</td>\n",
       "      <td>NaN</td>\n",
       "      <td>NaN</td>\n",
       "      <td>NaN</td>\n",
       "      <td>3.235</td>\n",
       "      <td>3.241</td>\n",
       "      <td>2.412</td>\n",
       "      <td>Educacional</td>\n",
       "      <td>Sexología</td>\n",
       "      <td>241</td>\n",
       "      <td>NaN</td>\n",
       "      <td>2.610</td>\n",
       "      <td>261.0</td>\n",
       "      <td>4.246</td>\n",
       "      <td>42.421</td>\n",
       "      <td>NaN</td>\n",
       "      <td>NaN</td>\n",
       "      <td>NaN</td>\n",
       "      <td>2</td>\n",
       "      <td>25.0</td>\n",
       "      <td>5281</td>\n",
       "      <td>5.293</td>\n",
       "      <td>NaN</td>\n",
       "      <td>NaN</td>\n",
       "      <td>NaN</td>\n",
       "      <td>NaN</td>\n",
       "      <td>NaN</td>\n",
       "    </tr>\n",
       "    <tr>\n",
       "      <th>4</th>\n",
       "      <td>95.0</td>\n",
       "      <td>0</td>\n",
       "      <td>26</td>\n",
       "      <td>91</td>\n",
       "      <td>913.0</td>\n",
       "      <td>La Paz</td>\n",
       "      <td>NaN</td>\n",
       "      <td>101</td>\n",
       "      <td>913.0</td>\n",
       "      <td>La Paz</td>\n",
       "      <td>NaN</td>\n",
       "      <td>111</td>\n",
       "      <td>913</td>\n",
       "      <td>La Paz</td>\n",
       "      <td>NaN</td>\n",
       "      <td>121</td>\n",
       "      <td>911</td>\n",
       "      <td>Ciudad Vieja</td>\n",
       "      <td>2133</td>\n",
       "      <td>0</td>\n",
       "      <td>0</td>\n",
       "      <td>1</td>\n",
       "      <td>0</td>\n",
       "      <td>0</td>\n",
       "      <td>0</td>\n",
       "      <td>0</td>\n",
       "      <td>0</td>\n",
       "      <td>0</td>\n",
       "      <td>0</td>\n",
       "      <td>1.611</td>\n",
       "      <td>2.174</td>\n",
       "      <td>3.18</td>\n",
       "      <td>3.181</td>\n",
       "      <td>NaN</td>\n",
       "      <td>NaN</td>\n",
       "      <td>2.007</td>\n",
       "      <td>2.012</td>\n",
       "      <td>3.211</td>\n",
       "      <td>NaN</td>\n",
       "      <td>NaN</td>\n",
       "      <td>NaN</td>\n",
       "      <td>3.235</td>\n",
       "      <td>3.241</td>\n",
       "      <td>2.412</td>\n",
       "      <td>Postgrado en psicología laboral (gestión de pe...</td>\n",
       "      <td>Especialización en psicoanálisis con niños</td>\n",
       "      <td>241</td>\n",
       "      <td>NaN</td>\n",
       "      <td>2.611</td>\n",
       "      <td>NaN</td>\n",
       "      <td>4.242</td>\n",
       "      <td>42.421</td>\n",
       "      <td>NaN</td>\n",
       "      <td>NaN</td>\n",
       "      <td>NaN</td>\n",
       "      <td>1</td>\n",
       "      <td>48.0</td>\n",
       "      <td>5283</td>\n",
       "      <td>5.291</td>\n",
       "      <td>63.307</td>\n",
       "      <td>NaN</td>\n",
       "      <td>NaN</td>\n",
       "      <td>NaN</td>\n",
       "      <td>NaN</td>\n",
       "    </tr>\n",
       "    <tr>\n",
       "      <th>7</th>\n",
       "      <td>100.0</td>\n",
       "      <td>0</td>\n",
       "      <td>28</td>\n",
       "      <td>91</td>\n",
       "      <td>911.0</td>\n",
       "      <td>NaN</td>\n",
       "      <td>NaN</td>\n",
       "      <td>101</td>\n",
       "      <td>911.0</td>\n",
       "      <td>NaN</td>\n",
       "      <td>NaN</td>\n",
       "      <td>111</td>\n",
       "      <td>911</td>\n",
       "      <td>NaN</td>\n",
       "      <td>NaN</td>\n",
       "      <td>121</td>\n",
       "      <td>911</td>\n",
       "      <td>NaN</td>\n",
       "      <td>2131</td>\n",
       "      <td>0</td>\n",
       "      <td>1</td>\n",
       "      <td>0</td>\n",
       "      <td>1</td>\n",
       "      <td>0</td>\n",
       "      <td>4</td>\n",
       "      <td>0</td>\n",
       "      <td>0</td>\n",
       "      <td>0</td>\n",
       "      <td>0</td>\n",
       "      <td>1.611</td>\n",
       "      <td>2.178</td>\n",
       "      <td>3.18</td>\n",
       "      <td>3.181</td>\n",
       "      <td>NaN</td>\n",
       "      <td>NaN</td>\n",
       "      <td>2.006</td>\n",
       "      <td>2.011</td>\n",
       "      <td>3.211</td>\n",
       "      <td>NaN</td>\n",
       "      <td>NaN</td>\n",
       "      <td>NaN</td>\n",
       "      <td>3.235</td>\n",
       "      <td>3.241</td>\n",
       "      <td>NaN</td>\n",
       "      <td>psicologia educacional</td>\n",
       "      <td>psicoterapia de niños</td>\n",
       "      <td>242</td>\n",
       "      <td>NaN</td>\n",
       "      <td>2.610</td>\n",
       "      <td>261.0</td>\n",
       "      <td>4.242</td>\n",
       "      <td>42.421</td>\n",
       "      <td>261.0</td>\n",
       "      <td>272.0</td>\n",
       "      <td>NaN</td>\n",
       "      <td>3</td>\n",
       "      <td>20.0</td>\n",
       "      <td>5281</td>\n",
       "      <td>5.291</td>\n",
       "      <td>63.301</td>\n",
       "      <td>63.302</td>\n",
       "      <td>63.303</td>\n",
       "      <td>63.306</td>\n",
       "      <td>NaN</td>\n",
       "    </tr>\n",
       "    <tr>\n",
       "      <th>8</th>\n",
       "      <td>101.0</td>\n",
       "      <td>0</td>\n",
       "      <td>26</td>\n",
       "      <td>91</td>\n",
       "      <td>911.0</td>\n",
       "      <td>Montevideo</td>\n",
       "      <td>NaN</td>\n",
       "      <td>101</td>\n",
       "      <td>911.0</td>\n",
       "      <td>Montevideo</td>\n",
       "      <td>NaN</td>\n",
       "      <td>111</td>\n",
       "      <td>911</td>\n",
       "      <td>NaN</td>\n",
       "      <td>NaN</td>\n",
       "      <td>121</td>\n",
       "      <td>911</td>\n",
       "      <td>NaN</td>\n",
       "      <td>2131</td>\n",
       "      <td>0</td>\n",
       "      <td>2</td>\n",
       "      <td>0</td>\n",
       "      <td>0</td>\n",
       "      <td>0</td>\n",
       "      <td>0</td>\n",
       "      <td>0</td>\n",
       "      <td>0</td>\n",
       "      <td>0</td>\n",
       "      <td>0</td>\n",
       "      <td>1.611</td>\n",
       "      <td>2.178</td>\n",
       "      <td>3.18</td>\n",
       "      <td>3.181</td>\n",
       "      <td>NaN</td>\n",
       "      <td>NaN</td>\n",
       "      <td>2.006</td>\n",
       "      <td>2.014</td>\n",
       "      <td>3.211</td>\n",
       "      <td>NaN</td>\n",
       "      <td>NaN</td>\n",
       "      <td>NaN</td>\n",
       "      <td>3.237</td>\n",
       "      <td>3.241</td>\n",
       "      <td>2.413</td>\n",
       "      <td>Psicología y Cultura</td>\n",
       "      <td>Producción subjetividad</td>\n",
       "      <td>242</td>\n",
       "      <td>NaN</td>\n",
       "      <td>2.611</td>\n",
       "      <td>NaN</td>\n",
       "      <td>4.245</td>\n",
       "      <td>42.422</td>\n",
       "      <td>263.0</td>\n",
       "      <td>271.0</td>\n",
       "      <td>NaN</td>\n",
       "      <td>6</td>\n",
       "      <td>50.0</td>\n",
       "      <td>5284</td>\n",
       "      <td>5.291</td>\n",
       "      <td>63.308</td>\n",
       "      <td>63.324</td>\n",
       "      <td>NaN</td>\n",
       "      <td>NaN</td>\n",
       "      <td>NaN</td>\n",
       "    </tr>\n",
       "  </tbody>\n",
       "</table>\n",
       "</div>"
      ],
      "text/plain": [
       "      ID  Sexo  Edad  Lugar_Nac  Dep_Nac    Localidad País  \\\n",
       "0   10.0     0    46         91    911.0        Colon  NaN   \n",
       "1   88.0     0    25         91    913.0  Las Piedras  NaN   \n",
       "4   95.0     0    26         91    913.0       La Paz  NaN   \n",
       "7  100.0     0    28         91    911.0          NaN  NaN   \n",
       "8  101.0     0    26         91    911.0   Montevideo  NaN   \n",
       "\n",
       "   Lugar_residencia_15a  Departamento_15a Localidad_15a País_15a  \\\n",
       "0                   101             911.0         Colon      NaN   \n",
       "1                   101             911.0         Colón      NaN   \n",
       "4                   101             913.0        La Paz      NaN   \n",
       "7                   101             911.0           NaN      NaN   \n",
       "8                   101             911.0    Montevideo      NaN   \n",
       "\n",
       "   Lugar_residencia_CC Deptartamento_CC Localidad_CC País_CC  \\\n",
       "0                  111              911        Colon     NaN   \n",
       "1                  111              911        Colón     NaN   \n",
       "4                  111              913       La Paz     NaN   \n",
       "7                  111              911          NaN     NaN   \n",
       "8                  111              911          NaN     NaN   \n",
       "\n",
       "   Lugar_residencia_actual  Deptartamento_RA      Localidad_RA  \\\n",
       "0                      121               913  Lomas de Solymar   \n",
       "1                      121               913            La Paz   \n",
       "4                      121               911      Ciudad Vieja   \n",
       "7                      121               911               NaN   \n",
       "8                      121               911               NaN   \n",
       "\n",
       "   Estado_conyugal  Num_hijos  Padres_Ud  Cónyuge_comp_Ud  Cónyuge_padres_Ud  \\\n",
       "0             2132          0          0                1                  0   \n",
       "1             2131          1          0                0                  0   \n",
       "4             2133          0          0                1                  0   \n",
       "7             2131          0          1                0                  1   \n",
       "8             2131          0          2                0                  0   \n",
       "\n",
       "   Hijos_Ud  Hermanos_Ud  Abuelos_Ud  Suegros_Ud  Otros_Familiares_Ud  \\\n",
       "0         0            0           0           0                    1   \n",
       "1         1            0           0           0                    0   \n",
       "4         0            0           0           0                    0   \n",
       "7         0            4           0           0                    0   \n",
       "8         0            0           0           0                    0   \n",
       "\n",
       "   Otras_Personas_Ud  Único_percibe_ingresos_hogar  Vivienda_Ud_es  \\\n",
       "0                  0                         1.611           2.175   \n",
       "1                  0                         1.610           2.171   \n",
       "4                  0                         1.611           2.174   \n",
       "7                  0                         1.611           2.178   \n",
       "8                  0                         1.611           2.178   \n",
       "\n",
       "   Titulado_Uy  Centro_estudio_T Centro_estudio_E País_D  \\\n",
       "0         3.18             3.181              NaN    NaN   \n",
       "1         3.18             3.181              NaN    NaN   \n",
       "4         3.18             3.181              NaN    NaN   \n",
       "7         3.18             3.181              NaN    NaN   \n",
       "8         3.18             3.181              NaN    NaN   \n",
       "\n",
       "   Año_comienzo_carrera  Año_grad  Máximo_niv_educativo Nombre_C Nombre_Inst  \\\n",
       "0                 1.987     2.012                 3.211      NaN         NaN   \n",
       "1                 2.007     2.012                 3.211      NaN         NaN   \n",
       "4                 2.007     2.012                 3.211      NaN         NaN   \n",
       "7                 2.006     2.011                 3.211      NaN         NaN   \n",
       "8                 2.006     2.014                 3.211      NaN         NaN   \n",
       "\n",
       "  País_E  Por_qué_no_posgrado  Próximos_tres_años_posgrado  \\\n",
       "0    NaN                3.233                        3.241   \n",
       "1    NaN                3.235                        3.241   \n",
       "4    NaN                3.235                        3.241   \n",
       "7    NaN                3.235                        3.241   \n",
       "8    NaN                3.237                        3.241   \n",
       "\n",
       "   Tipo_estudio_posgrado                          Áreas_interés_formacion_1  \\\n",
       "0                  2.412                                   Primera Infancia   \n",
       "1                  2.412                                        Educacional   \n",
       "4                  2.412  Postgrado en psicología laboral (gestión de pe...   \n",
       "7                    NaN                             psicologia educacional   \n",
       "8                  2.413                               Psicología y Cultura   \n",
       "\n",
       "                    Áreas_interés_formacion_2  Nro_trabajos  \\\n",
       "0                                         NaN           243   \n",
       "1                                   Sexología           241   \n",
       "4  Especialización en psicoanálisis con niños           241   \n",
       "7                       psicoterapia de niños           242   \n",
       "8                     Producción subjetividad           242   \n",
       "\n",
       "   Buscando_trabajo_N  Buscando_otro_trabajo_T  Razón_busca_otro_trabajo  \\\n",
       "0                 NaN                    2.611                       NaN   \n",
       "1                 NaN                    2.610                     261.0   \n",
       "4                 NaN                    2.611                       NaN   \n",
       "7                 NaN                    2.610                     261.0   \n",
       "8                 NaN                    2.611                       NaN   \n",
       "\n",
       "   Posición_Ocupacional  Sector  Razón_trabaja_más_un_lugar  \\\n",
       "0                 4.242  42.421                       261.0   \n",
       "1                 4.246  42.421                         NaN   \n",
       "4                 4.242  42.421                         NaN   \n",
       "7                 4.242  42.421                       261.0   \n",
       "8                 4.245  42.422                       263.0   \n",
       "\n",
       "   Tiempo_más_un_lugar  Cuánto_hace_busca_trabajo  \\\n",
       "0                271.0                        NaN   \n",
       "1                  NaN                        NaN   \n",
       "4                  NaN                        NaN   \n",
       "7                272.0                        NaN   \n",
       "8                271.0                        NaN   \n",
       "\n",
       "  Tiempo_trabaja_ininterrumpida  Hs_promedio_trab_semana  \\\n",
       "0                            25                     32.0   \n",
       "1                             2                     25.0   \n",
       "4                             1                     48.0   \n",
       "7                             3                     20.0   \n",
       "8                             6                     50.0   \n",
       "\n",
       "   Ingresos_mensuales_pesos_último_año  \\\n",
       "0                                 5283   \n",
       "1                                 5281   \n",
       "4                                 5283   \n",
       "7                                 5281   \n",
       "8                                 5284   \n",
       "\n",
       "   Aprox_porcentaje_ingreso_hogar_aportado_Ud  Área_inser_1  Área_inser_2  \\\n",
       "0                                       5.293        63.306           NaN   \n",
       "1                                       5.293           NaN           NaN   \n",
       "4                                       5.291        63.307           NaN   \n",
       "7                                       5.291        63.301        63.302   \n",
       "8                                       5.291        63.308        63.324   \n",
       "\n",
       "   Área_inser_3  Área_inser_4     Otras_áreas  \n",
       "0           NaN           NaN  Docente en UTU  \n",
       "1           NaN           NaN             NaN  \n",
       "4           NaN           NaN             NaN  \n",
       "7        63.303        63.306             NaN  \n",
       "8           NaN           NaN             NaN  "
      ]
     },
     "execution_count": 2,
     "metadata": {},
     "output_type": "execute_result"
    }
   ],
   "source": [
    "## Este código sirve para cargar la información del Censo Nacional de Psicología.\n",
    "import pandas as pd\n",
    "import matplotlib.pyplot as plt\n",
    "import seaborn as sns\n",
    "\n",
    "pd.set_option(\"display.max.columns\", None)\n",
    "df = pd.read_csv(\n",
    "    \"https://catalogodatos.gub.uy/dataset/b62bc86e-c4c2-4cb8-af18-388124eea2c9/resource/dec0a55d-1d86-4100-88ec-fc8dad06a363/download/microdatoscensopsicologia.csv\"\n",
    ")\n",
    "nan_value = float(\"NaN\")\n",
    "df.replace(\" \", nan_value, inplace=True)\n",
    "df[\"Hs_promedio_trab_semana\"] = pd.to_numeric(df[\"Hs_promedio_trab_semana\"])\n",
    "df = df.dropna(\n",
    "    subset=[\n",
    "        \"Hs_promedio_trab_semana\",\n",
    "        \"Num_hijos\",\n",
    "        \"Sexo\",\n",
    "        \"Próximos_tres_años_posgrado\",\n",
    "        \"Por_qué_no_posgrado\",\n",
    "    ]\n",
    ")\n",
    "df.head()"
   ]
  },
  {
   "cell_type": "markdown",
   "metadata": {},
   "source": [
    "# Reporte de variables cuantitativas\n",
    "\n",
    "## Elabora los siguientes gráficos:\n",
    "\n",
    "- Histograma que ilustre el promedio de horas de trabajo por semana de los encuestados a partir de la variable `Hs_promedio_trab_semana`.\n",
    "\n"
   ]
  },
  {
   "cell_type": "code",
   "execution_count": 7,
   "metadata": {
    "tags": []
   },
   "outputs": [
    {
     "data": {
      "image/png": "[encoded data removed]",
      "text/plain": [
       "<Figure size 432x288 with 1 Axes>"
      ]
     },
     "metadata": {
      "needs_background": "light"
     },
     "output_type": "display_data"
    }
   ],
   "source": [
    "## Escribe tu respuesta aquí\n",
    "histogram = sns.histplot(x=\"Hs_promedio_trab_semana\",data=df)\n",
    "plt.show()"
   ]
  },
  {
   "cell_type": "markdown",
   "metadata": {},
   "source": [
    "- Gráfico de cajas que ilustre la cantidad de hijos de los encuestados a partir de la variable `Num_hijos`.\n",
    "\n"
   ]
  },
  {
   "cell_type": "code",
   "execution_count": 8,
   "metadata": {},
   "outputs": [
    {
     "data": {
      "image/png": "[encoded data removed]",
      "text/plain": [
       "<Figure size 432x288 with 1 Axes>"
      ]
     },
     "metadata": {
      "needs_background": "light"
     },
     "output_type": "display_data"
    }
   ],
   "source": [
    "## Escribe tu respuesta aquí\n",
    "box = sns.boxplot(x=\"Num_hijos\",data=df)\n",
    "plt.show()"
   ]
  },
  {
   "cell_type": "markdown",
   "metadata": {},
   "source": [
    "Si llegaste a este punto, ahora edita los gráficos para que los ejes X e Y tengan títulos apropiados. "
   ]
  },
  {
   "cell_type": "code",
   "execution_count": 12,
   "metadata": {},
   "outputs": [
    {
     "data": {
      "image/png": "[encoded data removed]",
      "text/plain": [
       "<Figure size 432x288 with 1 Axes>"
      ]
     },
     "metadata": {
      "needs_background": "light"
     },
     "output_type": "display_data"
    }
   ],
   "source": [
    "## Escribe tu respuesta aquí\n",
    "histogram = sns.histplot(x=\"Hs_promedio_trab_semana\",data=df)\n",
    "histogram.set_xlabel(\"Promedio de horas de trabajo por semana\", size=12)\n",
    "histogram.set_ylabel(\"# Encuestados\", size=12)\n",
    "plt.show()"
   ]
  },
  {
   "cell_type": "code",
   "execution_count": 21,
   "metadata": {},
   "outputs": [
    {
     "data": {
      "image/png": "[encoded data removed]",
      "text/plain": [
       "<Figure size 432x288 with 1 Axes>"
      ]
     },
     "metadata": {
      "needs_background": "light"
     },
     "output_type": "display_data"
    }
   ],
   "source": [
    "## Escribe tu respuesta aquí\n",
    "box = sns.boxplot(x=\"Num_hijos\",data=df)\n",
    "box.set_xlabel(\"Número de hijos\", size=12)\n",
    "box.set_ylabel(\"Encuestados\", size=12)\n",
    "plt.show()"
   ]
  },
  {
   "cell_type": "markdown",
   "metadata": {},
   "source": [
    "# Reporte de variables cualitativas\n",
    "\n",
    "## Elabora los siguientes gráficos:\n",
    "\n",
    "- Gráfico de barras que ilustre el sexo de los encuestados a partir de la variable `Sexo`, la cual está codificada de la siguiente manera:\n",
    "\n",
    "| Categoría \t| Descripción \t|\n",
    "|:---------:\t|:---------------------:\t|\n",
    "|     0     \t|        Femenino       \t|\n",
    "|     1     \t|       Masculino       \t|\n",
    "|     2     \t|       Otr@s       \t|\n",
    "\n",
    "Pista:\n",
    "https://stackoverflow.com/questions/22391433/count-the-frequency-that-a-value-occurs-in-a-dataframe-column"
   ]
  },
  {
   "cell_type": "code",
   "execution_count": 63,
   "metadata": {},
   "outputs": [
    {
     "data": {
      "image/png": "[encoded data removed]",
      "text/plain": [
       "<Figure size 432x288 with 1 Axes>"
      ]
     },
     "metadata": {
      "needs_background": "light"
     },
     "output_type": "display_data"
    }
   ],
   "source": [
    "## Escribe tu respuesta aquí\n",
    "bar = sns.countplot(x=\"Sexo\",data=df)\n",
    "plt.show()"
   ]
  },
  {
   "cell_type": "markdown",
   "metadata": {},
   "source": [
    "Si llegaste a este punto, edita los gráficos para que las etiquetas de las categorías reflejen su descripción. Por ejemplo, en lugar de mostrar 0 y 1, pueden mostrar \"Femenino\" y \"Masculino\". "
   ]
  },
  {
   "cell_type": "code",
   "execution_count": 65,
   "metadata": {},
   "outputs": [
    {
     "data": {
      "image/png": "[encoded data removed]",
      "text/plain": [
       "<Figure size 432x288 with 1 Axes>"
      ]
     },
     "metadata": {
      "needs_background": "light"
     },
     "output_type": "display_data"
    }
   ],
   "source": [
    "## Escribe tu respuesta aquí\n",
    "bar = sns.countplot(x=\"Sexo\",data=df)\n",
    "bar.set_xlabel(\"Sexo\")\n",
    "bar.set_ylabel(\"# Encuestados\")\n",
    "bar.set_xticklabels([\"Femenino\", \"Masculino\", \"Otr@s\"], rotation=0)\n",
    "plt.show()"
   ]
  },
  {
   "cell_type": "markdown",
   "metadata": {},
   "source": [
    "# Asociación entre variables\n",
    "\n",
    "## Elabora los siguientes gráficos:\n",
    "\n",
    "- Gráfico de dispersión que muestre la relación entre el número de hijos (`Num_hijos`) y el promedio de horas de trabajo por semana (`Hs_promedio_trab_semana`) de los encuestados."
   ]
  },
  {
   "cell_type": "code",
   "execution_count": 67,
   "metadata": {},
   "outputs": [
    {
     "data": {
      "image/png": "[encoded data removed]",
      "text/plain": [
       "<Figure size 432x288 with 1 Axes>"
      ]
     },
     "metadata": {
      "needs_background": "light"
     },
     "output_type": "display_data"
    }
   ],
   "source": [
    "## Escribe tu respuesta aquí\n",
    "scatter = sns.scatterplot(x=\"Num_hijos\", y=\"Hs_promedio_trab_semana\",data=df)\n",
    "plt.show()"
   ]
  },
  {
   "cell_type": "markdown",
   "metadata": {},
   "source": [
    "- Gráfico de cajas que compare el promedio de horas de trabajo por semana (`Hs_promedio_trab_semana`) de los encuestados según su sexo (`Sexo`)."
   ]
  },
  {
   "cell_type": "code",
   "execution_count": 74,
   "metadata": {},
   "outputs": [
    {
     "data": {
      "image/png": "[encoded data removed]",
      "text/plain": [
       "<Figure size 432x288 with 1 Axes>"
      ]
     },
     "metadata": {
      "needs_background": "light"
     },
     "output_type": "display_data"
    }
   ],
   "source": [
    "## Escribe tu respuesta aquí\n",
    "box = sns.boxplot(x=\"Sexo\", y=\"Hs_promedio_trab_semana\", data=df)\n",
    "plt.show()"
   ]
  },
  {
   "cell_type": "markdown",
   "metadata": {},
   "source": [
    "- Gráfico de cajas que compare la cantidad de hijos (`Num_hijos`) de los encuestados de acuerdo a si tienen contemplado realizar estudios de posgrado en los próximos tres años (`Próximos_tres_años_posgrado`)."
   ]
  },
  {
   "cell_type": "code",
   "execution_count": 73,
   "metadata": {},
   "outputs": [
    {
     "data": {
      "image/png": "[encoded data removed]",
      "text/plain": [
       "<Figure size 432x288 with 1 Axes>"
      ]
     },
     "metadata": {
      "needs_background": "light"
     },
     "output_type": "display_data"
    }
   ],
   "source": [
    "## Escribe tu respuesta aquí\n",
    "box = sns.boxplot(x=\"Próximos_tres_años_posgrado\", y=\"Num_hijos\", data=df)\n",
    "plt.show()"
   ]
  },
  {
   "cell_type": "markdown",
   "metadata": {},
   "source": [
    "Si llegaste a este punto, ahora edita cada uno de los gráficos para que los ejes X e Y tengan un título apropiado,y los valores de las cateogorías muestren su descripción."
   ]
  },
  {
   "cell_type": "code",
   "execution_count": 75,
   "metadata": {},
   "outputs": [
    {
     "data": {
      "image/png": "[encoded data removed]",
      "text/plain": [
       "<Figure size 432x288 with 1 Axes>"
      ]
     },
     "metadata": {
      "needs_background": "light"
     },
     "output_type": "display_data"
    }
   ],
   "source": [
    "## Escribe tu respuesta aquí\n",
    "scatter = sns.scatterplot(x=\"Num_hijos\", y=\"Hs_promedio_trab_semana\",data=df)\n",
    "scatter.set_xlabel(\"Número de hijos\", size=12)\n",
    "scatter.set_ylabel(\"Promedio de horas de trabajo por semana\", size=12)\n",
    "plt.show()"
   ]
  },
  {
   "cell_type": "code",
   "execution_count": 78,
   "metadata": {},
   "outputs": [
    {
     "data": {
      "image/png": "[encoded data removed]",
      "text/plain": [
       "<Figure size 432x288 with 1 Axes>"
      ]
     },
     "metadata": {
      "needs_background": "light"
     },
     "output_type": "display_data"
    }
   ],
   "source": [
    "## Escribe tu respuesta aquí\n",
    "box = sns.boxplot(x=\"Sexo\", y=\"Hs_promedio_trab_semana\", data=df)\n",
    "box.set_ylabel(\"Promedio de horas de trabajo por semana\", size=12)\n",
    "box.set_xlabel(\"Sexo\", size=12)\n",
    "descripciones = [\"Femenino\", \"Masculino\", \"Otr@s\"]\n",
    "box.set_xticklabels(descripciones)\n",
    "plt.show()"
   ]
  },
  {
   "cell_type": "code",
   "execution_count": 80,
   "metadata": {},
   "outputs": [
    {
     "data": {
      "image/png": "[encoded data removed]",
      "text/plain": [
       "<Figure size 432x288 with 1 Axes>"
      ]
     },
     "metadata": {
      "needs_background": "light"
     },
     "output_type": "display_data"
    }
   ],
   "source": [
    "## Escribe tu respuesta aquí\n",
    "box = sns.boxplot(x=\"Próximos_tres_años_posgrado\", y=\"Num_hijos\", data=df)\n",
    "box.set_ylabel(\"Número de hijos\", size=12)\n",
    "box.set_xlabel(\"¿Tiene proyectado realizar estudios de posgrado?\", size=12)\n",
    "descripciones = [\"Sí\", \"No\"]\n",
    "box.set_xticklabels(descripciones)\n",
    "plt.show()"
   ]
  }
 ],
 "metadata": {
  "interpreter": {
   "hash": "429183b29f7e15a3d52783890ad1398801cfd8f8cc4f4898fadd3811035dbdaa"
  },
  "kernelspec": {
   "display_name": "Python 3.7.9 64-bit (conda)",
   "language": "python",
   "name": "python3"
  },
  "language_info": {
   "codemirror_mode": {
    "name": "ipython",
    "version": 3
   },
   "file_extension": ".py",
   "mimetype": "text/x-python",
   "name": "python",
   "nbconvert_exporter": "python",
   "pygments_lexer": "ipython3",
   "version": "3.7.13"
  },
  "orig_nbformat": 2
 },
 "nbformat": 4,
 "nbformat_minor": 2
}
