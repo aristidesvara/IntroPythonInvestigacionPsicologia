{
 "cells": [
  {
   "cell_type": "markdown",
   "metadata": {
    "slideshow": {
     "slide_type": "slide"
    }
   },
   "source": [
    "# Estadística descriptiva con Pandas\n",
    "\n",
    "Este tutorial es una adaptación al español de los materiales del curso [Quantitative Neuroscience](http://www.compneurosci.com/NSCI801.html) desarrollado por Gunnar Blohm y Joe Nashed en la [Universidad de Queens](https://www.queensu.ca/). \n",
    "\n",
    "También incluye fragmentos de los tutoriales [Python Statistics Fundamentals: How to Describe Your Data](https://realpython.com/python-statistics/#summary-of-descriptive-statistics) y [NumPy, SciPy, and Pandas: Correlation With Python](https://realpython.com/numpy-scipy-pandas-correlation-python/#linear-correlation)\n",
    "desarrollados por Mirko Stojiljković en el portal Real Python."
   ]
  },
  {
   "cell_type": "markdown",
   "metadata": {},
   "source": [
    "## Medidas de estadística descriptiva\n",
    "\n",
    "Todas las estadísticas descriptivas son medidas de tendencia central o medidas de variabilidad, también conocidas como medidas de dispersión. \n",
    "\n",
    "Las medidas de tendencia central se centran en los promedios o valores medios de los conjuntos de datos; mientras que las medidas de variabilidad se centran en la dispersión de los datos. \n",
    "\n",
    "Estas dos medidas utilizan gráficos, tablas y discusiones generales para ayudar a las personas a comprender el significado de los datos analizados."
   ]
  },
  {
   "cell_type": "markdown",
   "metadata": {
    "slideshow": {
     "slide_type": "subslide"
    }
   },
   "source": [
    "### Resumen global de medidas estadísticas\n",
    "\n",
    "Pandas ofrece rutinas útiles para obtener rápidamente estadísticas descriptivas con una sola función o llamada a un método. \n",
    "\n",
    "Puedes usar `describe()` así:"
   ]
  },
  {
   "cell_type": "code",
   "execution_count": 1,
   "metadata": {},
   "outputs": [
    {
     "data": {
      "text/html": [
       "<div>\n",
       "<style scoped>\n",
       "    .dataframe tbody tr th:only-of-type {\n",
       "        vertical-align: middle;\n",
       "    }\n",
       "\n",
       "    .dataframe tbody tr th {\n",
       "        vertical-align: top;\n",
       "    }\n",
       "\n",
       "    .dataframe thead th {\n",
       "        text-align: right;\n",
       "    }\n",
       "</style>\n",
       "<table border=\"1\" class=\"dataframe\">\n",
       "  <thead>\n",
       "    <tr style=\"text-align: right;\">\n",
       "      <th></th>\n",
       "      <th>name</th>\n",
       "      <th>gender</th>\n",
       "      <th>height</th>\n",
       "      <th>weight</th>\n",
       "      <th>eyecolor</th>\n",
       "      <th>haircolor</th>\n",
       "      <th>skincolor</th>\n",
       "      <th>homeland</th>\n",
       "      <th>born</th>\n",
       "      <th>died</th>\n",
       "      <th>jedi</th>\n",
       "      <th>species</th>\n",
       "      <th>weapon</th>\n",
       "    </tr>\n",
       "  </thead>\n",
       "  <tbody>\n",
       "    <tr>\n",
       "      <th>0</th>\n",
       "      <td>Anakin Skywalker</td>\n",
       "      <td>male</td>\n",
       "      <td>1.88</td>\n",
       "      <td>84.0</td>\n",
       "      <td>blue</td>\n",
       "      <td>blond</td>\n",
       "      <td>fair</td>\n",
       "      <td>Tatooine</td>\n",
       "      <td>41.9BBY</td>\n",
       "      <td>4ABY</td>\n",
       "      <td>yes_jedi</td>\n",
       "      <td>human</td>\n",
       "      <td>lightsaber</td>\n",
       "    </tr>\n",
       "    <tr>\n",
       "      <th>1</th>\n",
       "      <td>Padme Amidala</td>\n",
       "      <td>female</td>\n",
       "      <td>1.65</td>\n",
       "      <td>45.0</td>\n",
       "      <td>brown</td>\n",
       "      <td>brown</td>\n",
       "      <td>light</td>\n",
       "      <td>Naboo</td>\n",
       "      <td>46BBY</td>\n",
       "      <td>19BBY</td>\n",
       "      <td>no_jedi</td>\n",
       "      <td>human</td>\n",
       "      <td>unarmed</td>\n",
       "    </tr>\n",
       "    <tr>\n",
       "      <th>2</th>\n",
       "      <td>Luke Skywalker</td>\n",
       "      <td>male</td>\n",
       "      <td>1.72</td>\n",
       "      <td>77.0</td>\n",
       "      <td>blue</td>\n",
       "      <td>blond</td>\n",
       "      <td>fair</td>\n",
       "      <td>Tatooine</td>\n",
       "      <td>19BBY</td>\n",
       "      <td>unk_died</td>\n",
       "      <td>yes_jedi</td>\n",
       "      <td>human</td>\n",
       "      <td>lightsaber</td>\n",
       "    </tr>\n",
       "    <tr>\n",
       "      <th>3</th>\n",
       "      <td>Leia Organa</td>\n",
       "      <td>female</td>\n",
       "      <td>1.50</td>\n",
       "      <td>49.0</td>\n",
       "      <td>brown</td>\n",
       "      <td>brown</td>\n",
       "      <td>light</td>\n",
       "      <td>Alderaan</td>\n",
       "      <td>19BBY</td>\n",
       "      <td>unk_died</td>\n",
       "      <td>no_jedi</td>\n",
       "      <td>human</td>\n",
       "      <td>blaster</td>\n",
       "    </tr>\n",
       "    <tr>\n",
       "      <th>4</th>\n",
       "      <td>Qui-Gon Jinn</td>\n",
       "      <td>male</td>\n",
       "      <td>1.93</td>\n",
       "      <td>88.5</td>\n",
       "      <td>blue</td>\n",
       "      <td>brown</td>\n",
       "      <td>light</td>\n",
       "      <td>unk_planet</td>\n",
       "      <td>92BBY</td>\n",
       "      <td>32BBY</td>\n",
       "      <td>yes_jedi</td>\n",
       "      <td>human</td>\n",
       "      <td>lightsaber</td>\n",
       "    </tr>\n",
       "  </tbody>\n",
       "</table>\n",
       "</div>"
      ],
      "text/plain": [
       "               name  gender  height  weight eyecolor haircolor skincolor  \\\n",
       "0  Anakin Skywalker    male    1.88    84.0     blue     blond      fair   \n",
       "1     Padme Amidala  female    1.65    45.0    brown     brown     light   \n",
       "2    Luke Skywalker    male    1.72    77.0     blue     blond      fair   \n",
       "3       Leia Organa  female    1.50    49.0    brown     brown     light   \n",
       "4      Qui-Gon Jinn    male    1.93    88.5     blue     brown     light   \n",
       "\n",
       "     homeland     born      died      jedi species      weapon  \n",
       "0    Tatooine  41.9BBY      4ABY  yes_jedi   human  lightsaber  \n",
       "1       Naboo    46BBY     19BBY   no_jedi   human     unarmed  \n",
       "2    Tatooine    19BBY  unk_died  yes_jedi   human  lightsaber  \n",
       "3    Alderaan    19BBY  unk_died   no_jedi   human     blaster  \n",
       "4  unk_planet    92BBY     32BBY  yes_jedi   human  lightsaber  "
      ]
     },
     "execution_count": 1,
     "metadata": {},
     "output_type": "execute_result"
    }
   ],
   "source": [
    "import pandas as pd\n",
    "\n",
    "sw = pd.read_csv(\n",
    "    \"https://raw.githubusercontent.com/gastonstat/matrix4sl/master/data/starwars.csv\"\n",
    ")\n",
    "sw.head()"
   ]
  },
  {
   "cell_type": "code",
   "execution_count": 8,
   "metadata": {
    "slideshow": {
     "slide_type": "subslide"
    }
   },
   "outputs": [
    {
     "data": {
      "text/html": [
       "<div>\n",
       "<style scoped>\n",
       "    .dataframe tbody tr th:only-of-type {\n",
       "        vertical-align: middle;\n",
       "    }\n",
       "\n",
       "    .dataframe tbody tr th {\n",
       "        vertical-align: top;\n",
       "    }\n",
       "\n",
       "    .dataframe thead th {\n",
       "        text-align: right;\n",
       "    }\n",
       "</style>\n",
       "<table border=\"1\" class=\"dataframe\">\n",
       "  <thead>\n",
       "    <tr style=\"text-align: right;\">\n",
       "      <th></th>\n",
       "      <th>height</th>\n",
       "      <th>weight</th>\n",
       "    </tr>\n",
       "  </thead>\n",
       "  <tbody>\n",
       "    <tr>\n",
       "      <th>count</th>\n",
       "      <td>20.000000</td>\n",
       "      <td>19.000000</td>\n",
       "    </tr>\n",
       "    <tr>\n",
       "      <th>mean</th>\n",
       "      <td>1.789000</td>\n",
       "      <td>74.868421</td>\n",
       "    </tr>\n",
       "    <tr>\n",
       "      <th>std</th>\n",
       "      <td>0.632405</td>\n",
       "      <td>30.112678</td>\n",
       "    </tr>\n",
       "    <tr>\n",
       "      <th>min</th>\n",
       "      <td>0.660000</td>\n",
       "      <td>17.000000</td>\n",
       "    </tr>\n",
       "    <tr>\n",
       "      <th>25%</th>\n",
       "      <td>1.665000</td>\n",
       "      <td>62.500000</td>\n",
       "    </tr>\n",
       "    <tr>\n",
       "      <th>50%</th>\n",
       "      <td>1.790000</td>\n",
       "      <td>78.000000</td>\n",
       "    </tr>\n",
       "    <tr>\n",
       "      <th>75%</th>\n",
       "      <td>1.892500</td>\n",
       "      <td>82.000000</td>\n",
       "    </tr>\n",
       "    <tr>\n",
       "      <th>max</th>\n",
       "      <td>3.900000</td>\n",
       "      <td>159.000000</td>\n",
       "    </tr>\n",
       "  </tbody>\n",
       "</table>\n",
       "</div>"
      ],
      "text/plain": [
       "          height      weight\n",
       "count  20.000000   19.000000\n",
       "mean    1.789000   74.868421\n",
       "std     0.632405   30.112678\n",
       "min     0.660000   17.000000\n",
       "25%     1.665000   62.500000\n",
       "50%     1.790000   78.000000\n",
       "75%     1.892500   82.000000\n",
       "max     3.900000  159.000000"
      ]
     },
     "execution_count": 8,
     "metadata": {},
     "output_type": "execute_result"
    }
   ],
   "source": [
    "sw.describe()"
   ]
  },
  {
   "cell_type": "markdown",
   "metadata": {
    "slideshow": {
     "slide_type": "fragment"
    }
   },
   "source": [
    "Este método devuelve un nuevo DataFrame que contiene lo siguiente:\n",
    "\n",
    "- count: la cantidad de elementos en su conjunto de datos\n",
    "- mean: la media de su conjunto de datos\n",
    "- std: la desviación estándar de su conjunto de datos\n",
    "- min y max: los valores mínimo y máximo de su conjunto de datos\n",
    "- 25%, 50% y 75%: los cuartiles de su conjunto de datos\n",
    "\n",
    "Si deseas que el objeto Serie resultante contenga otros percentiles, debes especificar el valor de los percentiles de los parámetros opcionales."
   ]
  },
  {
   "cell_type": "markdown",
   "metadata": {
    "slideshow": {
     "slide_type": "subslide"
    }
   },
   "source": [
    "Puedes calcular cada resultado por separado llamando a los métodos específicos:"
   ]
  },
  {
   "cell_type": "code",
   "execution_count": 9,
   "metadata": {
    "slideshow": {
     "slide_type": "fragment"
    }
   },
   "outputs": [
    {
     "data": {
      "text/plain": [
       "name         20\n",
       "gender       20\n",
       "height       20\n",
       "weight       19\n",
       "eyecolor     18\n",
       "haircolor    18\n",
       "skincolor    17\n",
       "homeland     20\n",
       "born         20\n",
       "died         20\n",
       "jedi         20\n",
       "species      20\n",
       "weapon       20\n",
       "dtype: int64"
      ]
     },
     "execution_count": 9,
     "metadata": {},
     "output_type": "execute_result"
    }
   ],
   "source": [
    "sw.count()"
   ]
  },
  {
   "cell_type": "code",
   "execution_count": 14,
   "metadata": {
    "slideshow": {
     "slide_type": "subslide"
    }
   },
   "outputs": [
    {
     "data": {
      "text/plain": [
       "height     1.789000\n",
       "weight    74.868421\n",
       "dtype: float64"
      ]
     },
     "execution_count": 14,
     "metadata": {},
     "output_type": "execute_result"
    }
   ],
   "source": [
    "sw.mean(numeric_only=True)"
   ]
  },
  {
   "cell_type": "code",
   "execution_count": 15,
   "metadata": {
    "slideshow": {
     "slide_type": "fragment"
    }
   },
   "outputs": [
    {
     "data": {
      "text/plain": [
       "height     0.632405\n",
       "weight    30.112678\n",
       "dtype: float64"
      ]
     },
     "execution_count": 15,
     "metadata": {},
     "output_type": "execute_result"
    }
   ],
   "source": [
    "sw.std(numeric_only=True)"
   ]
  },
  {
   "cell_type": "code",
   "execution_count": 16,
   "metadata": {
    "slideshow": {
     "slide_type": "fragment"
    }
   },
   "outputs": [
    {
     "data": {
      "text/plain": [
       "height     0.66\n",
       "weight    17.00\n",
       "dtype: float64"
      ]
     },
     "execution_count": 16,
     "metadata": {},
     "output_type": "execute_result"
    }
   ],
   "source": [
    "sw.min(numeric_only=True)"
   ]
  },
  {
   "cell_type": "code",
   "execution_count": 17,
   "metadata": {
    "slideshow": {
     "slide_type": "subslide"
    }
   },
   "outputs": [
    {
     "data": {
      "text/plain": [
       "height      3.9\n",
       "weight    159.0\n",
       "dtype: float64"
      ]
     },
     "execution_count": 17,
     "metadata": {},
     "output_type": "execute_result"
    }
   ],
   "source": [
    "sw.max(numeric_only=True)"
   ]
  },
  {
   "cell_type": "code",
   "execution_count": 18,
   "metadata": {
    "slideshow": {
     "slide_type": "fragment"
    }
   },
   "outputs": [
    {
     "data": {
      "text/plain": [
       "height     1.665\n",
       "weight    62.500\n",
       "Name: 0.25, dtype: float64"
      ]
     },
     "execution_count": 18,
     "metadata": {},
     "output_type": "execute_result"
    }
   ],
   "source": [
    "sw.quantile(0.25, numeric_only=True)"
   ]
  },
  {
   "cell_type": "code",
   "execution_count": 19,
   "metadata": {
    "slideshow": {
     "slide_type": "fragment"
    }
   },
   "outputs": [
    {
     "data": {
      "text/plain": [
       "height     1.8925\n",
       "weight    82.0000\n",
       "Name: 0.75, dtype: float64"
      ]
     },
     "execution_count": 19,
     "metadata": {},
     "output_type": "execute_result"
    }
   ],
   "source": [
    "sw.quantile(0.75, numeric_only=True)"
   ]
  },
  {
   "cell_type": "markdown",
   "metadata": {
    "slideshow": {
     "slide_type": "slide"
    }
   },
   "source": [
    "### Forma de la distribución\n",
    "\n",
    "La asimetría es un parámetro para medir la simetría de un conjunto de datos y la curtosis para medir qué tan pesadas son sus colas en comparación con una distribución normal."
   ]
  },
  {
   "cell_type": "markdown",
   "metadata": {
    "slideshow": {
     "slide_type": "subslide"
    }
   },
   "source": [
    "Veámoslo en nuestro ejemplo:"
   ]
  },
  {
   "cell_type": "code",
   "execution_count": 61,
   "metadata": {
    "slideshow": {
     "slide_type": "fragment"
    }
   },
   "outputs": [
    {
     "data": {
      "image/png": "[encoded data removed]",
      "text/plain": [
       "<Figure size 432x288 with 1 Axes>"
      ]
     },
     "metadata": {
      "needs_background": "light"
     },
     "output_type": "display_data"
    }
   ],
   "source": [
    "import seaborn as sns\n",
    "import matplotlib.pyplot as plt\n",
    "\n",
    "sns.histplot(x=\"weight\", data=sw)\n",
    "plt.show()"
   ]
  },
  {
   "cell_type": "code",
   "execution_count": 67,
   "metadata": {
    "slideshow": {
     "slide_type": "fragment"
    }
   },
   "outputs": [
    {
     "name": "stdout",
     "output_type": "stream",
     "text": [
      "skew: 0.7274902112518916\n",
      "kurtosis: 2.871429772733397\n"
     ]
    }
   ],
   "source": [
    "print(\"skew:\", sw[\"weight\"].skew())\n",
    "print(\"kurtosis:\", sw[\"weight\"].kurtosis())"
   ]
  },
  {
   "cell_type": "code",
   "execution_count": 62,
   "metadata": {
    "slideshow": {
     "slide_type": "subslide"
    }
   },
   "outputs": [
    {
     "data": {
      "image/png": "[encoded data removed]",
      "text/plain": [
       "<Figure size 432x288 with 1 Axes>"
      ]
     },
     "metadata": {
      "needs_background": "light"
     },
     "output_type": "display_data"
    }
   ],
   "source": [
    "sns.histplot(x=\"height\", data=sw)\n",
    "plt.show()"
   ]
  },
  {
   "cell_type": "code",
   "execution_count": 68,
   "metadata": {
    "slideshow": {
     "slide_type": "fragment"
    }
   },
   "outputs": [
    {
     "name": "stdout",
     "output_type": "stream",
     "text": [
      "skew: 1.6310448597414178\n",
      "kurtosis: 6.5905839871644964\n"
     ]
    }
   ],
   "source": [
    "print(\"skew:\", sw[\"height\"].skew())\n",
    "print(\"kurtosis:\", sw[\"height\"].kurtosis())"
   ]
  },
  {
   "cell_type": "markdown",
   "metadata": {
    "slideshow": {
     "slide_type": "subslide"
    }
   },
   "source": [
    "También podemos armar un reporte integrado:"
   ]
  },
  {
   "cell_type": "code",
   "execution_count": 75,
   "metadata": {
    "slideshow": {
     "slide_type": "fragment"
    }
   },
   "outputs": [
    {
     "data": {
      "text/html": [
       "<div>\n",
       "<style scoped>\n",
       "    .dataframe tbody tr th:only-of-type {\n",
       "        vertical-align: middle;\n",
       "    }\n",
       "\n",
       "    .dataframe tbody tr th {\n",
       "        vertical-align: top;\n",
       "    }\n",
       "\n",
       "    .dataframe thead th {\n",
       "        text-align: right;\n",
       "    }\n",
       "</style>\n",
       "<table border=\"1\" class=\"dataframe\">\n",
       "  <thead>\n",
       "    <tr style=\"text-align: right;\">\n",
       "      <th></th>\n",
       "      <th>height</th>\n",
       "      <th>weight</th>\n",
       "    </tr>\n",
       "  </thead>\n",
       "  <tbody>\n",
       "    <tr>\n",
       "      <th>skew</th>\n",
       "      <td>1.631045</td>\n",
       "      <td>0.72749</td>\n",
       "    </tr>\n",
       "    <tr>\n",
       "      <th>kurtosis</th>\n",
       "      <td>6.590584</td>\n",
       "      <td>2.87143</td>\n",
       "    </tr>\n",
       "  </tbody>\n",
       "</table>\n",
       "</div>"
      ],
      "text/plain": [
       "            height   weight\n",
       "skew      1.631045  0.72749\n",
       "kurtosis  6.590584  2.87143"
      ]
     },
     "execution_count": 75,
     "metadata": {},
     "output_type": "execute_result"
    }
   ],
   "source": [
    "skew = sw.skew(numeric_only=True)\n",
    "skew.name = \"skew\"\n",
    "\n",
    "kurt = sw.kurtosis(numeric_only=True)\n",
    "kurt.name = \"kurtosis\"\n",
    "\n",
    "pd.DataFrame([skew, kurt])"
   ]
  },
  {
   "cell_type": "markdown",
   "metadata": {
    "slideshow": {
     "slide_type": "slide"
    }
   },
   "source": [
    "## Análisis de correlación \n",
    "\n",
    "La correlación está estrechamente relacionada con otras cantidades estadísticas como la media, la desviación estándar, la varianza y la covarianza. \n",
    "\n",
    "Hay varias estadísticas que puedes utilizar para cuantificar la correlación. En esta sección, aprenderás acerca de tres coeficientes de correlación:\n",
    "\n",
    "- R de Pearson\n",
    "- Rho de Spearman\n",
    "- Tau de Kendall\n",
    "\n",
    "El coeficiente de Pearson mide la correlación lineal, mientras que los coeficientes de Spearman y Kendall comparan los rankings de datos. Hay métodos de Pandas que pueden utilizar para calcular estos coeficientes. También puedes utilizar Seaborn para ilustrar convenientemente los resultados."
   ]
  },
  {
   "cell_type": "markdown",
   "metadata": {
    "slideshow": {
     "slide_type": "subslide"
    }
   },
   "source": [
    "En Pandas puedes llamar al método `.corr()` presente en los objetos de tipo Series o DataFrame. \n",
    "\n",
    ">**Nota:** Cuando trabajes con instancias de DataFrame, debes tener en cuenta que las filas son observaciones y las columnas son características o variables."
   ]
  },
  {
   "cell_type": "code",
   "execution_count": 38,
   "metadata": {
    "slideshow": {
     "slide_type": "subslide"
    }
   },
   "outputs": [
    {
     "data": {
      "text/html": [
       "<div>\n",
       "<style scoped>\n",
       "    .dataframe tbody tr th:only-of-type {\n",
       "        vertical-align: middle;\n",
       "    }\n",
       "\n",
       "    .dataframe tbody tr th {\n",
       "        vertical-align: top;\n",
       "    }\n",
       "\n",
       "    .dataframe thead th {\n",
       "        text-align: right;\n",
       "    }\n",
       "</style>\n",
       "<table border=\"1\" class=\"dataframe\">\n",
       "  <thead>\n",
       "    <tr style=\"text-align: right;\">\n",
       "      <th></th>\n",
       "      <th>height</th>\n",
       "      <th>weight</th>\n",
       "    </tr>\n",
       "  </thead>\n",
       "  <tbody>\n",
       "    <tr>\n",
       "      <th>height</th>\n",
       "      <td>1.000000</td>\n",
       "      <td>0.853301</td>\n",
       "    </tr>\n",
       "    <tr>\n",
       "      <th>weight</th>\n",
       "      <td>0.853301</td>\n",
       "      <td>1.000000</td>\n",
       "    </tr>\n",
       "  </tbody>\n",
       "</table>\n",
       "</div>"
      ],
      "text/plain": [
       "          height    weight\n",
       "height  1.000000  0.853301\n",
       "weight  0.853301  1.000000"
      ]
     },
     "execution_count": 38,
     "metadata": {},
     "output_type": "execute_result"
    }
   ],
   "source": [
    "corr_matrix = sw.corr()\n",
    "corr_matrix"
   ]
  },
  {
   "cell_type": "markdown",
   "metadata": {
    "slideshow": {
     "slide_type": "fragment"
    }
   },
   "source": [
    "La matriz de correlación resultante es una nueva instancia de DataFrame y contiene los coeficientes de correlación para las columnas `sw['height']` y `sw['weight']`. Estos resultados etiquetados suelen ser muy convenientes para trabajar porque puedes acceder a ellos con sus etiquetas o sus índices de posición:"
   ]
  },
  {
   "cell_type": "code",
   "execution_count": 37,
   "metadata": {
    "slideshow": {
     "slide_type": "subslide"
    }
   },
   "outputs": [
    {
     "name": "stdout",
     "output_type": "stream",
     "text": [
      "0.8533009433159517\n",
      "0.8533009433159517\n"
     ]
    }
   ],
   "source": [
    "print(corr_matrix.at[\"height\", \"weight\"])\n",
    "print(corr_matrix.iat[0, 1])"
   ]
  },
  {
   "cell_type": "markdown",
   "metadata": {
    "slideshow": {
     "slide_type": "fragment"
    }
   },
   "source": [
    "Este ejemplo muestra dos formas de acceder a los valores:\n",
    "\n",
    "- Utiliza `.at[]` para acceder a un solo valor por sus etiquetas de fila y columna.\n",
    "- Utiliza `.iat[]` para acceder a un valor por sus posiciones de su fila y columna."
   ]
  },
  {
   "cell_type": "markdown",
   "metadata": {
    "slideshow": {
     "slide_type": "subslide"
    }
   },
   "source": [
    "O de manera más sencilla:"
   ]
  },
  {
   "cell_type": "code",
   "execution_count": 76,
   "metadata": {
    "slideshow": {
     "slide_type": "fragment"
    }
   },
   "outputs": [
    {
     "name": "stdout",
     "output_type": "stream",
     "text": [
      "height    1.000000\n",
      "weight    0.815491\n",
      "Name: height, dtype: float64\n"
     ]
    }
   ],
   "source": [
    "print(corr_matrix[\"height\"])"
   ]
  },
  {
   "cell_type": "code",
   "execution_count": 77,
   "metadata": {
    "slideshow": {
     "slide_type": "fragment"
    }
   },
   "outputs": [
    {
     "name": "stdout",
     "output_type": "stream",
     "text": [
      "height    0.815491\n",
      "weight    1.000000\n",
      "Name: weight, dtype: float64\n"
     ]
    }
   ],
   "source": [
    "print(corr_matrix[\"weight\"])"
   ]
  },
  {
   "cell_type": "markdown",
   "metadata": {
    "slideshow": {
     "slide_type": "subslide"
    }
   },
   "source": [
    "Puedes usar `.corr()` para calcular los tres coeficientes de correlación:\n",
    "\n",
    "- 'pearson'\n",
    "- 'spearman'\n",
    "- 'kendall'"
   ]
  },
  {
   "cell_type": "code",
   "execution_count": 46,
   "metadata": {
    "slideshow": {
     "slide_type": "subslide"
    }
   },
   "outputs": [
    {
     "data": {
      "text/html": [
       "<div>\n",
       "<style scoped>\n",
       "    .dataframe tbody tr th:only-of-type {\n",
       "        vertical-align: middle;\n",
       "    }\n",
       "\n",
       "    .dataframe tbody tr th {\n",
       "        vertical-align: top;\n",
       "    }\n",
       "\n",
       "    .dataframe thead th {\n",
       "        text-align: right;\n",
       "    }\n",
       "</style>\n",
       "<table border=\"1\" class=\"dataframe\">\n",
       "  <thead>\n",
       "    <tr style=\"text-align: right;\">\n",
       "      <th></th>\n",
       "      <th>height</th>\n",
       "      <th>weight</th>\n",
       "    </tr>\n",
       "  </thead>\n",
       "  <tbody>\n",
       "    <tr>\n",
       "      <th>height</th>\n",
       "      <td>1.000000</td>\n",
       "      <td>0.853301</td>\n",
       "    </tr>\n",
       "    <tr>\n",
       "      <th>weight</th>\n",
       "      <td>0.853301</td>\n",
       "      <td>1.000000</td>\n",
       "    </tr>\n",
       "  </tbody>\n",
       "</table>\n",
       "</div>"
      ],
      "text/plain": [
       "          height    weight\n",
       "height  1.000000  0.853301\n",
       "weight  0.853301  1.000000"
      ]
     },
     "execution_count": 46,
     "metadata": {},
     "output_type": "execute_result"
    }
   ],
   "source": [
    "pearson_corr_matrix = sw.corr(method=\"pearson\")\n",
    "pearson_corr_matrix"
   ]
  },
  {
   "cell_type": "code",
   "execution_count": 45,
   "metadata": {
    "slideshow": {
     "slide_type": "fragment"
    }
   },
   "outputs": [
    {
     "data": {
      "text/html": [
       "<div>\n",
       "<style scoped>\n",
       "    .dataframe tbody tr th:only-of-type {\n",
       "        vertical-align: middle;\n",
       "    }\n",
       "\n",
       "    .dataframe tbody tr th {\n",
       "        vertical-align: top;\n",
       "    }\n",
       "\n",
       "    .dataframe thead th {\n",
       "        text-align: right;\n",
       "    }\n",
       "</style>\n",
       "<table border=\"1\" class=\"dataframe\">\n",
       "  <thead>\n",
       "    <tr style=\"text-align: right;\">\n",
       "      <th></th>\n",
       "      <th>height</th>\n",
       "      <th>weight</th>\n",
       "    </tr>\n",
       "  </thead>\n",
       "  <tbody>\n",
       "    <tr>\n",
       "      <th>height</th>\n",
       "      <td>1.000000</td>\n",
       "      <td>0.936236</td>\n",
       "    </tr>\n",
       "    <tr>\n",
       "      <th>weight</th>\n",
       "      <td>0.936236</td>\n",
       "      <td>1.000000</td>\n",
       "    </tr>\n",
       "  </tbody>\n",
       "</table>\n",
       "</div>"
      ],
      "text/plain": [
       "          height    weight\n",
       "height  1.000000  0.936236\n",
       "weight  0.936236  1.000000"
      ]
     },
     "execution_count": 45,
     "metadata": {},
     "output_type": "execute_result"
    }
   ],
   "source": [
    "spearman_corr_matrix = sw.corr(method=\"spearman\")\n",
    "spearman_corr_matrix"
   ]
  },
  {
   "cell_type": "code",
   "execution_count": 44,
   "metadata": {
    "slideshow": {
     "slide_type": "fragment"
    }
   },
   "outputs": [
    {
     "data": {
      "text/html": [
       "<div>\n",
       "<style scoped>\n",
       "    .dataframe tbody tr th:only-of-type {\n",
       "        vertical-align: middle;\n",
       "    }\n",
       "\n",
       "    .dataframe tbody tr th {\n",
       "        vertical-align: top;\n",
       "    }\n",
       "\n",
       "    .dataframe thead th {\n",
       "        text-align: right;\n",
       "    }\n",
       "</style>\n",
       "<table border=\"1\" class=\"dataframe\">\n",
       "  <thead>\n",
       "    <tr style=\"text-align: right;\">\n",
       "      <th></th>\n",
       "      <th>height</th>\n",
       "      <th>weight</th>\n",
       "    </tr>\n",
       "  </thead>\n",
       "  <tbody>\n",
       "    <tr>\n",
       "      <th>height</th>\n",
       "      <td>1.000000</td>\n",
       "      <td>0.815491</td>\n",
       "    </tr>\n",
       "    <tr>\n",
       "      <th>weight</th>\n",
       "      <td>0.815491</td>\n",
       "      <td>1.000000</td>\n",
       "    </tr>\n",
       "  </tbody>\n",
       "</table>\n",
       "</div>"
      ],
      "text/plain": [
       "          height    weight\n",
       "height  1.000000  0.815491\n",
       "weight  0.815491  1.000000"
      ]
     },
     "execution_count": 44,
     "metadata": {},
     "output_type": "execute_result"
    }
   ],
   "source": [
    "kendall_corr_matrix = sw.corr(method=\"kendall\")\n",
    "kendall_corr_matrix"
   ]
  },
  {
   "cell_type": "markdown",
   "metadata": {
    "slideshow": {
     "slide_type": "subslide"
    }
   },
   "source": [
    "\n",
    "\n",
    "Puedes aplicar `.corr()` de la misma manera con los objetos DataFrame que contienen tres o más columnas:"
   ]
  },
  {
   "cell_type": "code",
   "execution_count": 47,
   "metadata": {
    "slideshow": {
     "slide_type": "fragment"
    }
   },
   "outputs": [
    {
     "data": {
      "text/html": [
       "<div>\n",
       "<style scoped>\n",
       "    .dataframe tbody tr th:only-of-type {\n",
       "        vertical-align: middle;\n",
       "    }\n",
       "\n",
       "    .dataframe tbody tr th {\n",
       "        vertical-align: top;\n",
       "    }\n",
       "\n",
       "    .dataframe thead th {\n",
       "        text-align: right;\n",
       "    }\n",
       "</style>\n",
       "<table border=\"1\" class=\"dataframe\">\n",
       "  <thead>\n",
       "    <tr style=\"text-align: right;\">\n",
       "      <th></th>\n",
       "      <th>sex</th>\n",
       "      <th>weight</th>\n",
       "      <th>height</th>\n",
       "      <th>reportedWeight</th>\n",
       "      <th>reportedHeight</th>\n",
       "    </tr>\n",
       "  </thead>\n",
       "  <tbody>\n",
       "    <tr>\n",
       "      <th>1</th>\n",
       "      <td>M</td>\n",
       "      <td>77</td>\n",
       "      <td>182</td>\n",
       "      <td>77.0</td>\n",
       "      <td>180.0</td>\n",
       "    </tr>\n",
       "    <tr>\n",
       "      <th>2</th>\n",
       "      <td>F</td>\n",
       "      <td>58</td>\n",
       "      <td>161</td>\n",
       "      <td>51.0</td>\n",
       "      <td>159.0</td>\n",
       "    </tr>\n",
       "    <tr>\n",
       "      <th>3</th>\n",
       "      <td>F</td>\n",
       "      <td>53</td>\n",
       "      <td>161</td>\n",
       "      <td>54.0</td>\n",
       "      <td>158.0</td>\n",
       "    </tr>\n",
       "    <tr>\n",
       "      <th>4</th>\n",
       "      <td>M</td>\n",
       "      <td>68</td>\n",
       "      <td>177</td>\n",
       "      <td>70.0</td>\n",
       "      <td>175.0</td>\n",
       "    </tr>\n",
       "    <tr>\n",
       "      <th>5</th>\n",
       "      <td>F</td>\n",
       "      <td>59</td>\n",
       "      <td>157</td>\n",
       "      <td>59.0</td>\n",
       "      <td>155.0</td>\n",
       "    </tr>\n",
       "  </tbody>\n",
       "</table>\n",
       "</div>"
      ],
      "text/plain": [
       "  sex  weight  height  reportedWeight  reportedHeight\n",
       "1   M      77     182            77.0           180.0\n",
       "2   F      58     161            51.0           159.0\n",
       "3   F      53     161            54.0           158.0\n",
       "4   M      68     177            70.0           175.0\n",
       "5   F      59     157            59.0           155.0"
      ]
     },
     "execution_count": 47,
     "metadata": {},
     "output_type": "execute_result"
    }
   ],
   "source": [
    "davis_data = pd.read_csv(\n",
    "    \"https://socialsciences.mcmaster.ca/jfox/Books/Applied-Regression-3E/datasets/Davis.txt\",\n",
    "    sep=r\"\\s{1,}\",\n",
    "    engine=\"python\",\n",
    ")\n",
    "davis_data.head()"
   ]
  },
  {
   "cell_type": "code",
   "execution_count": 70,
   "metadata": {
    "slideshow": {
     "slide_type": "fragment"
    }
   },
   "outputs": [
    {
     "data": {
      "text/html": [
       "<div>\n",
       "<style scoped>\n",
       "    .dataframe tbody tr th:only-of-type {\n",
       "        vertical-align: middle;\n",
       "    }\n",
       "\n",
       "    .dataframe tbody tr th {\n",
       "        vertical-align: top;\n",
       "    }\n",
       "\n",
       "    .dataframe thead th {\n",
       "        text-align: right;\n",
       "    }\n",
       "</style>\n",
       "<table border=\"1\" class=\"dataframe\">\n",
       "  <thead>\n",
       "    <tr style=\"text-align: right;\">\n",
       "      <th></th>\n",
       "      <th>weight</th>\n",
       "      <th>height</th>\n",
       "      <th>reportedWeight</th>\n",
       "      <th>reportedHeight</th>\n",
       "    </tr>\n",
       "  </thead>\n",
       "  <tbody>\n",
       "    <tr>\n",
       "      <th>weight</th>\n",
       "      <td>1.000000</td>\n",
       "      <td>0.189650</td>\n",
       "      <td>0.835841</td>\n",
       "      <td>0.636326</td>\n",
       "    </tr>\n",
       "    <tr>\n",
       "      <th>height</th>\n",
       "      <td>0.189650</td>\n",
       "      <td>1.000000</td>\n",
       "      <td>0.603269</td>\n",
       "      <td>0.744637</td>\n",
       "    </tr>\n",
       "    <tr>\n",
       "      <th>reportedWeight</th>\n",
       "      <td>0.835841</td>\n",
       "      <td>0.603269</td>\n",
       "      <td>1.000000</td>\n",
       "      <td>0.761860</td>\n",
       "    </tr>\n",
       "    <tr>\n",
       "      <th>reportedHeight</th>\n",
       "      <td>0.636326</td>\n",
       "      <td>0.744637</td>\n",
       "      <td>0.761860</td>\n",
       "      <td>1.000000</td>\n",
       "    </tr>\n",
       "  </tbody>\n",
       "</table>\n",
       "</div>"
      ],
      "text/plain": [
       "                  weight    height  reportedWeight  reportedHeight\n",
       "weight          1.000000  0.189650        0.835841        0.636326\n",
       "height          0.189650  1.000000        0.603269        0.744637\n",
       "reportedWeight  0.835841  0.603269        1.000000        0.761860\n",
       "reportedHeight  0.636326  0.744637        0.761860        1.000000"
      ]
     },
     "execution_count": 70,
     "metadata": {},
     "output_type": "execute_result"
    }
   ],
   "source": [
    "davis_data.corr()"
   ]
  },
  {
   "cell_type": "markdown",
   "metadata": {
    "slideshow": {
     "slide_type": "slide"
    }
   },
   "source": [
    "### Mapas de calor de matrices de correlación\n",
    "\n",
    "¡La matriz de correlación puede volverse realmente grande y confusa cuando tiene muchas funciones! Afortunadamente, puedes presentarlo visualmente como un mapa de calor donde cada campo tiene el color que corresponde a su valor."
   ]
  },
  {
   "cell_type": "markdown",
   "metadata": {
    "slideshow": {
     "slide_type": "subslide"
    }
   },
   "source": [
    "Para realizarlo, nos apoyaremos en la función `heatmap` presente en el paquete seaborn:"
   ]
  },
  {
   "cell_type": "code",
   "execution_count": 55,
   "metadata": {
    "slideshow": {
     "slide_type": "fragment"
    }
   },
   "outputs": [
    {
     "data": {
      "text/plain": [
       "<matplotlib.axes._subplots.AxesSubplot at 0x7f0aae74b410>"
      ]
     },
     "execution_count": 55,
     "metadata": {},
     "output_type": "execute_result"
    },
    {
     "data": {
      "image/png": "[encoded data removed]",
      "text/plain": [
       "<Figure size 432x288 with 2 Axes>"
      ]
     },
     "metadata": {
      "needs_background": "light"
     },
     "output_type": "display_data"
    }
   ],
   "source": [
    "import seaborn as sns\n",
    "\n",
    "sns.heatmap(davis_data.corr())"
   ]
  },
  {
   "cell_type": "markdown",
   "metadata": {
    "slideshow": {
     "slide_type": "slide"
    }
   },
   "source": [
    "Si tienes tiempo, te invito a revisar los tutoriales originales."
   ]
  }
 ],
 "metadata": {
  "celltoolbar": "Slideshow",
  "kernelspec": {
   "display_name": "Python 3.7.13 ('intropy')",
   "language": "python",
   "name": "python3"
  },
  "language_info": {
   "codemirror_mode": {
    "name": "ipython",
    "version": 3
   },
   "file_extension": ".py",
   "mimetype": "text/x-python",
   "name": "python",
   "nbconvert_exporter": "python",
   "pygments_lexer": "ipython3",
   "version": "3.7.13"
  },
  "vscode": {
   "interpreter": {
    "hash": "94285bb15823d6808010e9c4aa3c0f3449aea2861795e388604752bf8b5281bb"
   }
  }
 },
 "nbformat": 4,
 "nbformat_minor": 2
}
