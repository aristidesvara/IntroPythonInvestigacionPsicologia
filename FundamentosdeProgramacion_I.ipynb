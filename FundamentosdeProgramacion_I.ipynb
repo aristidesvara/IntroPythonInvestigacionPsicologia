{
 "metadata": {
  "language_info": {
   "codemirror_mode": {
    "name": "ipython",
    "version": 3
   },
   "file_extension": ".py",
   "mimetype": "text/x-python",
   "name": "python",
   "nbconvert_exporter": "python",
   "pygments_lexer": "ipython3",
   "version": "3.7.9-final"
  },
  "orig_nbformat": 2,
  "kernelspec": {
   "name": "python3",
   "display_name": "Python 3.7.9 64-bit (conda)",
   "metadata": {
    "interpreter": {
     "hash": "fcc1d2c210046f8d6f0962280d91bf96fd89619bab60881df3e6b70c67140f94"
    }
   }
  }
 },
 "nbformat": 4,
 "nbformat_minor": 2,
 "cells": [
  {
   "source": [
    "**Bienvenido**\n",
    "\n",
    "Adaptado de> https://runestone.academy/runestone/books/published/fopp/SimplePythonData/Values.html#values-and-data-types"
   ],
   "cell_type": "markdown",
   "metadata": {}
  },
  {
   "source": [
    "# Valores y Tipos de datos\n",
    "\n",
    "Un valor es una de las cosas fundamentales, como una palabra o un número, que un programa manipula. Algunos valores son `5` (el resultado cuando sumamos `2 + 3`) y `\"¡Hola, mundo!\"`. Estos objetos se clasifican en diferentes clases o tipos de datos: `4` es un número entero (**integer**) y \"¡Hola, mundo!\" es una cadena (**string**), así llamada porque contiene una cadena o secuencia de letras. Usted (y el intérprete) pueden identificar cadenas porque están entre comillas.\n",
    "\n",
    "Podemos especificar valores directamente en los programas que escribimos. Por ejemplo, podemos especificar un número como literal simplemente escribiéndolo (literalmente) directamente en el programa (por ejemplo, `5` o `4.32`). En un programa, especificamos una palabra, o más generalmente una cadena de caracteres, encerrando los caracteres entre comillas (por ejemplo, `\"¡Hola, mundo!\"`).\n",
    "\n",
    "Durante la ejecución de un programa, el intérprete de Python crea una representación interna de literales que se especifican en un programa. Luego puede manipularlos, por ejemplo, multiplicando dos números. Llamamos a las representaciones internas **objetos** o simplemente **valores**.\n",
    "\n",
    "No puede ver directamente las representaciones internas de valores. Sin embargo, puede utilizar la función `print` para ver una representación impresa en la ventana de salida.\n",
    "\n",
    "La representación impresa de un número utiliza la conocida representación decimal. Por lo tanto, la representación impresa de un número que se muestra en la ventana de salida es la misma que el literal que especifica en un programa.\n",
    "\n",
    "Sin embargo, la representación impresa de una cadena de caracteres no es exactamente la misma que la del literal utilizado para especificar la cadena en un programa. Para el literal en un programa, encierra la cadena entre comillas. La representación impresa, en la ventana de salida, omite las comillas.\n",
    "\n",
    "### Prueba imprimiendo valores decimales y literales:\n"
   ],
   "cell_type": "markdown",
   "metadata": {}
  },
  {
   "cell_type": "code",
   "execution_count": 1,
   "metadata": {},
   "outputs": [
    {
     "output_type": "stream",
     "name": "stdout",
     "text": [
      "3.2\nHello, World!\n"
     ]
    }
   ],
   "source": [
    "print(3.2)\n",
    "print(\"Hello, World!\")"
   ]
  },
  {
   "source": [
    "> Nota\n",
    "> \n",
    "> Literals appear in programs. The Python interpreter turns literals into values, which have internal representations that people never get to see directly. Outputs are external representations of values that appear in the output window. When we are being careful, we will use the terms this way. Sometimes, however, we will get a little sloppy and refer to literals or external representations as values."
   ],
   "cell_type": "markdown",
   "metadata": {}
  }
 ]
}