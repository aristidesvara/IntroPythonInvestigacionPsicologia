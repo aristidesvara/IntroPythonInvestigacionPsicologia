{
 "metadata": {
  "language_info": {
   "codemirror_mode": {
    "name": "ipython",
    "version": 3
   },
   "file_extension": ".py",
   "mimetype": "text/x-python",
   "name": "python",
   "nbconvert_exporter": "python",
   "pygments_lexer": "ipython3",
   "version": "3.7.9"
  },
  "orig_nbformat": 2,
  "kernelspec": {
   "name": "python3",
   "display_name": "Python 3.7.9 64-bit ('base': conda)",
   "metadata": {
    "interpreter": {
     "hash": "fcc1d2c210046f8d6f0962280d91bf96fd89619bab60881df3e6b70c67140f94"
    }
   }
  }
 },
 "nbformat": 4,
 "nbformat_minor": 2,
 "cells": [
  {
   "source": [
    "# Bienvenido\n",
    "\n",
    "Adaptado de: https://runestone.academy/runestone/books/published/fopp/SimplePythonData/Values.html#values-and-data-types"
   ],
   "cell_type": "markdown",
   "metadata": {}
  },
  {
   "source": [
    "# Valores y Tipos de datos\n",
    "\n",
    "Un valor es una de las cosas fundamentales, como una palabra o un número, que un programa manipula. Algunos valores son `5` (el resultado cuando sumamos `2 + 3`) y `\"¡Hola, mundo!\"`. Estos objetos se clasifican en diferentes clases o tipos de datos: `4` es un número entero (**integer**) y \"¡Hola, mundo!\" es una cadena (**string**), así llamada porque contiene una cadena o secuencia de letras. Usted (y el intérprete) pueden identificar cadenas porque están entre comillas.\n",
    "\n",
    "Podemos especificar valores directamente en los programas que escribimos. Por ejemplo, podemos especificar un número como literal simplemente escribiéndolo (literalmente) directamente en el programa (por ejemplo, `5` o `4.32`). En un programa, especificamos una palabra, o más generalmente una cadena de caracteres, encerrando los caracteres entre comillas (por ejemplo, `\"¡Hola, mundo!\"`).\n",
    "\n",
    "Durante la ejecución de un programa, el intérprete de Python crea una representación interna de literales que se especifican en un programa. Luego puede manipularlos, por ejemplo, multiplicando dos números. Llamamos a las representaciones internas **objetos** o simplemente **valores**.\n",
    "\n",
    "No puede ver directamente las representaciones internas de valores. Sin embargo, puede utilizar la función `print` para ver una representación impresa en la ventana de salida.\n",
    "\n",
    "La representación impresa de un número utiliza la conocida representación decimal. Por lo tanto, la representación impresa de un número que se muestra en la ventana de salida es la misma que el literal que especifica en un programa.\n",
    "\n",
    "Sin embargo, la representación impresa de una cadena de caracteres no es exactamente la misma que la del literal utilizado para especificar la cadena en un programa. Para el literal en un programa, encierra la cadena entre comillas. La representación impresa, en la ventana de salida, omite las comillas.\n",
    "\n",
    "### Prueba imprimiendo valores decimales y literales:\n"
   ],
   "cell_type": "markdown",
   "metadata": {}
  },
  {
   "cell_type": "code",
   "execution_count": 1,
   "metadata": {},
   "outputs": [
    {
     "output_type": "stream",
     "name": "stdout",
     "text": [
      "3.2\nHello, World!\n"
     ]
    }
   ],
   "source": [
    "print(3.2)\n",
    "print(\"Hello, World!\")"
   ]
  },
  {
   "source": [
    "> Nota\n",
    ">\n",
    "Los literales (**literals**) aparecen en los programas. El intérprete de Python convierte los literales en valores (**values**), que tienen representaciones internas que la gente nunca puede ver directamente. Las salidas (**outputs**) son representaciones externas de valores que aparecen en la ventana de salida. En ese tutorial se usarán los términos de esta manera. A veces, sin embargo, nos volveremos un poco descuidados y nos referiremos a literales o representaciones externas como valores (**values**).\n",
    "> \n",
    "\n",
    "Los números con un punto decimal pertenecen a un tipo llamado **float**, porque estos números se representan en un formato llamado floating-point.\n",
    "\n",
    "Pronto encontrarás también otros tipos de objetos, como listas (**lists**) y diccionarios (**dictionaries**). Cada uno de estos tiene su propia representación especial para especificar un objeto como literal en un programa y para mostrar un objeto cuando se imprime. Por ejemplo, el contenido de la lista se incluye entre corchetes []. También encontrará algunos objetos más complicados que no tienen representaciones impresas muy agradables: imprimirlos no será muy útil."
   ],
   "cell_type": "markdown",
   "metadata": {}
  },
  {
   "source": [
    "# Operadores y operandos\n",
    "\n",
    "Puede construir expresiones complejas a partir de expresiones más simples usando operadores (**operators**). Los operadores son fichas especiales que representan cálculos como suma, multiplicación y división. Los valores con los que trabaja el operador se denominan operandos.\n",
    "\n",
    "Las siguientes son expresiones legales de Python cuyo significado es más o menos claro:\n",
    "\n",
    ">\n",
    "20 + 32\n",
    ">\n",
    "5 ** 2\n",
    ">\n",
    "(5 + 9) * (15 - 7)\n",
    ">\n",
    "\n",
    "Los tokens `+`, `-` y `*`, y el uso de paréntesis para agrupar, significan en Python lo que significan en matemáticas. El asterisco (`*`) es el símbolo para la multiplicación y `**` es el símbolo para la potenciación. La suma, la resta, la multiplicación y la potenciación hacen lo que esperas.\n",
    "\n",
    "Recuerde que si queremos ver los resultados del cálculo, el programa debe especificarlo con la palabra `print`. Se producen los tres primeros cálculos, pero sus resultados no se imprimen."
   ],
   "cell_type": "markdown",
   "metadata": {}
  },
  {
   "cell_type": "code",
   "execution_count": 1,
   "metadata": {},
   "outputs": [
    {
     "output_type": "stream",
     "name": "stdout",
     "text": [
      "12\n"
     ]
    }
   ],
   "source": [
    "20 + 32\n",
    "5 ** 2\n",
    "(5 + 9) * (15 - 7)\n",
    "print(7 + 5)\n"
   ]
  },
  {
   "source": [
    "En Python 3, que usaremos, el operador de división `/` produce un resultado de punto flotante (incluso si el resultado es un número entero; `4/2` es `2.0`). Si desea una división truncada, que ignora el residuo, puede usar el operador `//` (por ejemplo: `5 // 2` es `2`)."
   ],
   "cell_type": "markdown",
   "metadata": {}
  },
  {
   "cell_type": "code",
   "execution_count": 3,
   "metadata": {},
   "outputs": [
    {
     "output_type": "stream",
     "name": "stdout",
     "text": [
      "1.8\n0.5555555555555556\n1\n"
     ]
    }
   ],
   "source": [
    "print(9 / 5)\n",
    "print(5 / 9)\n",
    "print(9 // 5)"
   ]
  },
  {
   "source": [
    "Presta especial atención a los ejemplos anteriores. Tenga en cuenta que `9 // 5` trunca en lugar de redondear, por lo que produce el valor 1 en lugar de 2.\n",
    "\n",
    "El operador de división truncado, `//`, también funciona con números de punto flotante. Se trunca al número entero más cercano, pero aún produce un resultado de punto flotante. Por tanto, `7.0 // 3.0` es `2.0`."
   ],
   "cell_type": "markdown",
   "metadata": {}
  },
  {
   "cell_type": "code",
   "execution_count": 5,
   "metadata": {},
   "outputs": [
    {
     "output_type": "stream",
     "name": "stdout",
     "text": [
      "2.3333333333333335\n2.0\n"
     ]
    }
   ],
   "source": [
    "print(7.0 / 3.0)\n",
    "print(7.0 // 3.0)"
   ]
  },
  {
   "source": [
    "El operador módulo (**modulus**), a veces también llamado operador de residuo (**remainder**) o operador de residuo entero (**integer remainder**), funciona con enteros (**integers**) (y expresiones de números enteros) y produce el residuo cuando el primer operando se divide por el segundo. En Python, el operador de módulo es un signo de porcentaje (`%`). La sintaxis es la misma que para otros operadores."
   ],
   "cell_type": "markdown",
   "metadata": {}
  },
  {
   "cell_type": "code",
   "execution_count": 6,
   "metadata": {},
   "outputs": [
    {
     "output_type": "stream",
     "name": "stdout",
     "text": [
      "2\n1\n"
     ]
    }
   ],
   "source": [
    "print(7 // 3)    # Este es operador de división de enteros\n",
    "print(7 % 3)     # Este es el operador de residuo o módulo"
   ]
  },
  {
   "source": [
    "En el ejemplo anterior, 7 dividido por 3 es 2 cuando usamos la división entera y hay un resto de 1.\n",
    "\n",
    "El operador de módulo resulta sorprendentemente útil. Por ejemplo, puedes verificar si un número es divisible por otro; si `x % y` es cero, entonces x es divisible por y. Además, puede extraer el dígito o dígitos más a la derecha de un número. Por ejemplo, `x % 10` produce el dígito más a la derecha de `x` (en base 10). De manera similar, `x % 100` produce los dos últimos dígitos."
   ],
   "cell_type": "markdown",
   "metadata": {}
  },
  {
   "source": [
    "# Uso de funciones\n",
    "\n",
    "El intérprete de Python puede calcular nuevos valores con el uso de funciones. Estás familiarizado con la idea de funciones del álgebra de la escuela secundaria. Allí puedes definir una función `f` especificando cómo transforma una entrada en una salida, `f (x) = 3x + 2`. Luego, puede escribir `f (5)` y esperar obtener el valor 17.\n",
    "\n",
    "Python adopta una sintaxis similar para invocar funciones. Si hay una función con nombre `foo` que toma una sola entrada, podemos invocar a foo en el valor 5 escribiendo `foo (5)`.\n",
    "\n",
    "Hay muchas funciones integradas disponibles en Python. Veremos algunas en este tutorial.\n",
    "\n",
    "Las funciones son como fábricas que toman algún material, realizan alguna operación y luego envían el objeto resultante. En este caso, nos referimos a los materiales como argumentos o entradas (**input**) y el objeto resultante se denomina salida o valor de retorno (**output**). Este proceso de tomar información, hacer algo y luego devolver la salida se demuestra en el siguiente gif. \n",
    "\n",
    "En este caso, nos referimos a los materiales como argumentos o entradas y el objeto resultante se denomina salida o valor de retorno. Este proceso de tomar información, hacer algo y luego devolver la salida se demuestra en el siguiente gif.\n",
    "\n",
    "<center><img src=\"https://runestone.academy/runestone/books/published/fopp/_images/function_calls.gif\" alt=\"Funciones\"\n",
    "\ttitle=\"Funciones\" width=\"300\" height=\"300\" /></center>\n",
    "\n",
    "También es posible que los programadores definan nuevas funciones en sus programas. A continuación un par de ejemplos sobre funciones definidas por un usuario: \n"
   ],
   "cell_type": "markdown",
   "metadata": {}
  },
  {
   "source": [
    "def square(x):\n",
    "   return x * x\n",
    "\n",
    "def sub(x, y):\n",
    "   return x - y"
   ],
   "cell_type": "code",
   "metadata": {},
   "execution_count": 7,
   "outputs": []
  },
  {
   "source": [
    "La función `square` toma un único parámetro de entrada y devuelve esa entrada multiplicada por sí misma. La función `sub` toma dos parámetros de entrada y devuelve el resultado de restar el segundo del primero. Obviamente, estas funciones no son particularmente útiles, ya que tenemos los operadores `*` y `-` disponibles. Pero ilustran cómo operan las funciones. La imagen siguiente ilustra cómo opera la función `square`.\n",
    "\n",
    "<center><img src=\"https://runestone.academy/runestone/books/published/fopp/_images/square_function.gif\" alt=\"Square\"\n",
    "\ttitle=\"Square\" width=\"400\" height=\"200\" /></center>"
   ],
   "cell_type": "markdown",
   "metadata": {}
  },
  {
   "cell_type": "code",
   "execution_count": 8,
   "metadata": {},
   "outputs": [
    {
     "output_type": "stream",
     "name": "stdout",
     "text": [
      "9\n2\n-4\n"
     ]
    }
   ],
   "source": [
    "print(square(3))\n",
    "square(5)\n",
    "print(sub(6, 4))\n",
    "print(sub(5, 9))\n"
   ]
  },
  {
   "source": [
    "Observa que cuando una función toma más de un parámetro de entrada, las entradas están separadas por una coma. También tenga en cuenta que el orden de las entradas es importante. El valor antes de la coma se trata como la primera entrada, el valor después de ella como la segunda entrada.\n",
    "\n",
    "Nuevamente, recuerde que cuando Python realiza cálculos, los resultados solo se muestran en la ventana de salida si hay una declaración `print` que indique que haga eso. En la ventana de código activo de arriba, `square (5)` produce el valor 25 pero nunca lo vemos en la ventana de salida, porque no se imprime.\n",
    "\n",
    "## Uso de funciones como parte de expresiones complejas\n",
    "\n",
    "En cualquier lugar de una expresión en la que puedas escribir un literal como un número, también puedes escribir una invocación de función que produzca un número.\n",
    "\n",
    "Por ejemplo:\n"
   ],
   "cell_type": "markdown",
   "metadata": {}
  },
  {
   "cell_type": "code",
   "execution_count": 9,
   "metadata": {},
   "outputs": [
    {
     "output_type": "stream",
     "name": "stdout",
     "text": [
      "11\n5\n"
     ]
    }
   ],
   "source": [
    "print(square(3) + 2)\n",
    "print(sub(square(3), square(1+1)))\n"
   ]
  },
  {
   "source": [
    "## Las funciones son objetos; los paréntesis invocan funciones\n",
    "\n",
    "Las funciones son en sí mismas solo objetos. Si le dice a Python que imprima el objeto de la función, en lugar de imprimir los resultados de invocar el objeto de la función, obtendrá una representacón impresas no tan agradable.\n",
    "\n",
    "Simplemente escribir el nombre de la función se refiere a la función como un objeto. Escribir el nombre de la función seguido de paréntesis `()` invoca la función."
   ],
   "cell_type": "markdown",
   "metadata": {}
  },
  {
   "cell_type": "code",
   "execution_count": 11,
   "metadata": {},
   "outputs": [
    {
     "output_type": "stream",
     "name": "stdout",
     "text": [
      "<function square at 0x000001C485FB20D8>\n9\n"
     ]
    }
   ],
   "source": [
    "print(square)\n",
    "print(square(3))"
   ]
  },
  {
   "source": [
    "# Tipos de datos\n",
    "Si no estás seguro de qué tipo de dato se trata un valor determinado, Python tiene una función llamada `type` que puede decírtelo.\n"
   ],
   "cell_type": "markdown",
   "metadata": {}
  },
  {
   "cell_type": "code",
   "execution_count": 12,
   "metadata": {},
   "outputs": [
    {
     "output_type": "stream",
     "name": "stdout",
     "text": [
      "<class 'str'>\n<class 'int'>\nHello, World\n<class 'float'>\n"
     ]
    }
   ],
   "source": [
    "print(type(\"Hello, World!\"))\n",
    "print(type(17))\n",
    "print(\"Hello, World\")\n",
    "print(type(3.2))"
   ]
  },
  {
   "source": [
    "¿Qué pasa con valores como `\"17\"` y `\"3,2\"`? Parecen números, pero están entre comillas como cadenas."
   ],
   "cell_type": "markdown",
   "metadata": {}
  },
  {
   "cell_type": "code",
   "execution_count": 13,
   "metadata": {},
   "outputs": [
    {
     "output_type": "stream",
     "name": "stdout",
     "text": [
      "<class 'str'>\n<class 'str'>\n"
     ]
    }
   ],
   "source": [
    "print(type(\"17\"))\n",
    "print(type(\"3.2\"))"
   ]
  },
  {
   "source": [
    "¡Son cadenas!\n",
    "\n",
    "Las cadenas en Python se pueden escribir entre comillas simples (`'`) o comillas dobles (`\"`), o tres de cada uno (`'''` o `\"\"\"`)"
   ],
   "cell_type": "markdown",
   "metadata": {}
  },
  {
   "cell_type": "code",
   "execution_count": 14,
   "metadata": {},
   "outputs": [
    {
     "output_type": "stream",
     "name": "stdout",
     "text": [
      "<class 'str'>\n<class 'str'>\n<class 'str'>\n<class 'str'>\n"
     ]
    }
   ],
   "source": [
    "print(type('This is a string.'))\n",
    "print(type(\"And so is this.\"))\n",
    "print(type(\"\"\"and this.\"\"\"))\n",
    "print(type('''and even this...'''))"
   ]
  },
  {
   "source": [
    "A Python no le importa si usas comillas simples o dobles o las comillas tripartitas para rodear sus cadenas. Una vez que ha analizado el texto de su programa o comando, la forma en que almacena el valor es idéntica en todos los casos, y las comillas circundantes no forman parte del valor."
   ],
   "cell_type": "markdown",
   "metadata": {}
  },
  {
   "cell_type": "code",
   "execution_count": 16,
   "metadata": {},
   "outputs": [
    {
     "output_type": "stream",
     "name": "stdout",
     "text": [
      "This is a string.\nAnd so is this.\n"
     ]
    }
   ],
   "source": [
    "print('This is a string.')\n",
    "print(\"\"\"And so is this.\"\"\")"
   ]
  },
  {
   "source": [
    "Cuando escribe un número entero grande, puede tener la tentación de utilizar comas entre grupos de tres dígitos, como en `42,000`. Este no es integer legal en Python, pero significa algo más, que es legal:"
   ],
   "cell_type": "markdown",
   "metadata": {}
  },
  {
   "cell_type": "code",
   "execution_count": 18,
   "metadata": {},
   "outputs": [
    {
     "output_type": "stream",
     "name": "stdout",
     "text": [
      "42500\n42 500\n"
     ]
    }
   ],
   "source": [
    "print(42500)\n",
    "print(42,500)"
   ]
  },
  {
   "source": [
    "Bueno, ¡eso no es lo que esperábamos en absoluto! Debido a la coma, Python eligió tratar esto como un par de valores. De hecho, una declaración `print` puede imprimir cualquier número de valores siempre que sean separados con comas. Observa que los valores están separados por espacios cuando se muestran."
   ],
   "cell_type": "markdown",
   "metadata": {}
  },
  {
   "cell_type": "code",
   "execution_count": 19,
   "metadata": {},
   "outputs": [
    {
     "output_type": "stream",
     "name": "stdout",
     "text": [
      "42 17 56 34 11 4.35 32\n3.4 hello 45\n"
     ]
    }
   ],
   "source": [
    "print(42, 17, 56, 34, 11, 4.35, 32)\n",
    "print(3.4, \"hello\", 45)"
   ]
  },
  {
   "source": [
    "Recuerda no poner comas o espacios en sus números enteros, sin importar cuán grandes sean. *Los lenguajes formales son estrictos, la notación es concisa e incluso el cambio más pequeño puede significar algo bastante diferente de lo que se pretendía*."
   ],
   "cell_type": "markdown",
   "metadata": {}
  },
  {
   "source": [
    "# Variables\n",
    "\n",
    "Una de las características más poderosas de un lenguaje de programación es la capacidad de manipular variables. Una variable es un nombre que hace referencia a un valor.\n",
    "\n",
    "Las declaraciones de asignación (**assignment statements**) crean nuevas variables y también les dan valores a los que hacer referencia.\n",
    "\n",
    ">\n",
    "mensaje = \"¿Qué onda, Doc?\"\n",
    ">\n",
    "n = 17\n",
    ">\n",
    "pi = 3.14159\n",
    ">\n",
    "\n",
    "Este ejemplo hace tres asignaciones. El primero asigna el valor de cadena `\"¿Qué onda, Doc?\"` a una nueva variable llamada `mensaje`. El segundo asigna el integer `17` a `n`, y el tercero asigna el número de punto flotante `3.14159` a una variable llamada `pi`.\n",
    "\n",
    "El token de asignación, `=`, no debe confundirse con la igualdad (veremos más adelante que la igualdad usa el token `==`). La declaración de asignación vincula un nombre, en el lado izquierdo del operador, con un *valor*, en el lado derecho. Es por eso que obtendrás un error si ingresas:\n",
    "\n",
    ">\n",
    "17 = n\n",
    ">"
   ],
   "cell_type": "markdown",
   "metadata": {}
  },
  {
   "source": [
    ">\n",
    "**Consejo**\n",
    "Al leer o escribir código, di \"a n se asigna 17\" o \"n obtiene el valor 17\" o \"n es una referencia al objeto 17\" o \"n se refiere al objeto 17\". No diga \"n es igual a 17\".\n",
    ">\n",
    "\n",
    "Si tu programa incluye una variable en cualquier expresión, siempre que se ejecute esa expresión producirá el valor que está vinculado a la variable en el momento de la ejecución. En otras palabras, evaluar una variable busca su valor."
   ],
   "cell_type": "markdown",
   "metadata": {}
  },
  {
   "cell_type": "code",
   "execution_count": 21,
   "metadata": {},
   "outputs": [
    {
     "output_type": "stream",
     "name": "stdout",
     "text": [
      "¿Qué onda, Doc?\n17\n3.14159\n"
     ]
    }
   ],
   "source": [
    "mensaje = \"¿Qué onda, Doc?\"\n",
    "n = 17\n",
    "pi = 3.14159\n",
    "\n",
    "print(mensaje)\n",
    "print(n)\n",
    "print(pi)"
   ]
  },
  {
   "source": [
    "Usamos variables en un programa para \"recordar\" cosas, como la puntuación actual en el partido de fútbol. Pero las variables son variables. Esto significa que pueden cambiar con el tiempo, al igual que el marcador en un partido de fútbol. Puedes asignar un valor a una variable y luego asignar un valor diferente a la misma variable.\n",
    "\n",
    "Gran parte de la programación consiste en que la computadora recuerde cosas. Por ejemplo, es posible que deseemos realizar un seguimiento de la cantidad de llamadas perdidas en tu teléfono. Cada vez que se pierda otra llamada, haremos los arreglos para actualizar o cambiar la variable para que siempre refleje el valor correcto.\n",
    "\n",
    "En cualquier lugar de un programa Python donde se espere un número o una cadena, puede poner un nombre de variable en su lugar. El intérprete de Python sustituirá el valor por el nombre de la variable.\n",
    "\n",
    "Por ejemplo, podemos averiguar el tipo de datos del valor actual de una variable poniendo el nombre de la variable entre paréntesis después de la función `type`"
   ],
   "cell_type": "markdown",
   "metadata": {}
  },
  {
   "cell_type": "code",
   "execution_count": 23,
   "metadata": {},
   "outputs": [
    {
     "output_type": "stream",
     "name": "stdout",
     "text": [
      "<class 'str'>\n<class 'int'>\n<class 'float'>\n"
     ]
    }
   ],
   "source": [
    "mensaje = \"¿Qué onda, Doc?\"\n",
    "n = 17\n",
    "pi = 3.14159\n",
    "\n",
    "print(type(mensaje))\n",
    "print(type(n))\n",
    "print(type(pi))"
   ]
  },
  {
   "source": [
    "# Valores booleanos y expresiones booleanas\n",
    "\n",
    "<iframe width=\"560\" height=\"315\" src=\"https://www.youtube.com/embed/Y6CwThhquQs\" title=\"YouTube video player\" frameborder=\"0\" allow=\"accelerometer; autoplay; clipboard-write; encrypted-media; gyroscope; picture-in-picture\" allowfullscreen></iframe>\n",
    "\n",
    "https://runestone.academy/runestone/books/published/fopp/Conditionals/BooleanValuesandBooleanExpressions.html\n",
    "\n",
    "Incluir operadores logicos"
   ],
   "cell_type": "markdown",
   "metadata": {}
  },
  {
   "source": [
    "# Statements and Expressions\n",
    "https://runestone.academy/runestone/books/published/fopp/SimplePythonData/StatementsandExpressions.html"
   ],
   "cell_type": "markdown",
   "metadata": {}
  },
  {
   "source": [
    "Si tienes tiempo, te invito a explorar el tutorial original. Capitulo 2"
   ],
   "cell_type": "markdown",
   "metadata": {}
  }
 ]
}