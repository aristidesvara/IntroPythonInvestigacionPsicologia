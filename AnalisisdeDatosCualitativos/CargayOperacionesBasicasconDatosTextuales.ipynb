{
 "metadata": {
  "language_info": {
   "codemirror_mode": {
    "name": "ipython",
    "version": 3
   },
   "file_extension": ".py",
   "mimetype": "text/x-python",
   "name": "python",
   "nbconvert_exporter": "python",
   "pygments_lexer": "ipython3",
   "version": "3.7.9"
  },
  "orig_nbformat": 2,
  "kernelspec": {
   "name": "python379jvsc74a57bd0fcc1d2c210046f8d6f0962280d91bf96fd89619bab60881df3e6b70c67140f94",
   "display_name": "Python 3.7.9 64-bit ('base': conda)"
  }
 },
 "nbformat": 4,
 "nbformat_minor": 2,
 "cells": [
  {
   "source": [
    "# Carga de datos\n",
    "\n",
    "Tutorial> http://www.nltk.org/book_1ed/ch03.html\n",
    "\n",
    "Incluir Twitter"
   ],
   "cell_type": "markdown",
   "metadata": {}
  },
  {
   "source": [
    "La fuente de textos más importante es sin duda la Web. Es conveniente tener colecciones de texto existentes para explorar. Sin embargo, probablemente tengas en mente tus propias fuentes de texto y necesites aprender a acceder a ellas.\n",
    "\n",
    "El objetivo de este capítulo es responder la siguiente pregunta:\n",
    "\n",
    "¿Cómo podemos escribir programas para acceder a texto desde archivos locales y desde la web, con el fin de disponer de una variedad ilimitada de material lingüístico?"
   ],
   "cell_type": "markdown",
   "metadata": {}
  },
  {
   "cell_type": "code",
   "execution_count": 2,
   "metadata": {},
   "outputs": [],
   "source": [
    "from __future__ import division\n",
    "import nltk, re, pprint"
   ]
  },
  {
   "source": [
    "# Operaciones Basicas\n",
    "\n",
    "Python built-in functions for text processing. \n",
    "http://www.nltk.org/book_1ed/ch01.html"
   ],
   "cell_type": "markdown",
   "metadata": {}
  },
  {
   "cell_type": "code",
   "execution_count": null,
   "metadata": {},
   "outputs": [],
   "source": [
    "import nltk"
   ]
  }
 ]
}