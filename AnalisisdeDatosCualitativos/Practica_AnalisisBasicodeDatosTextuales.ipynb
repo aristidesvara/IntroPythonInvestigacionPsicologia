{
 "metadata": {
  "language_info": {
   "codemirror_mode": {
    "name": "ipython",
    "version": 3
   },
   "file_extension": ".py",
   "mimetype": "text/x-python",
   "name": "python",
   "nbconvert_exporter": "python",
   "pygments_lexer": "ipython3",
   "version": 3
  },
  "orig_nbformat": 2
 },
 "nbformat": 4,
 "nbformat_minor": 2,
 "cells": [
  {
   "source": [
    "# Ejercicio 1: Análisis preliminar de entrevistas II\n",
    "\n",
    "Continuamos con nuestro trabajo como asistente de investigación un grupo enfocado en la toma de decisiones vocacionales. Ahora se te ha pedido que hagas un análisis individual de cada entrevistado. \n",
    "\n",
    "Nuevamente cargamos la transcripción de entrevistas, provista en formato PDF:"
   ],
   "cell_type": "markdown",
   "metadata": {}
  },
  {
   "cell_type": "code",
   "execution_count": null,
   "metadata": {},
   "outputs": [],
   "source": [
    "# Instalar el paquete PyPDF2\n",
    "!pip install PyPDF2"
   ]
  },
  {
   "cell_type": "code",
   "execution_count": null,
   "metadata": {},
   "outputs": [],
   "source": [
    "# Importar paquetes a ser utilizados\n",
    "import matplotlib.pyplot as plt\n",
    "import PyPDF2\n",
    "import nltk\n",
    "\n",
    "# crea un objeto de archivo pdf\n",
    "pdfFileObj = open('Anexo_Entrevistas.pdf', 'rb')\n",
    " \n",
    "# crea un objeto de lectura de pdf\n",
    "pdfReader = PyPDF2.PdfFileReader(pdfFileObj)\n",
    " \n",
    "# muestra el número de páginas en un archivo pdf\n",
    "print(pdfReader.numPages)\n",
    " \n",
    "# crea un objeto de página\n",
    "pageObj = pdfReader.getPage(2)\n",
    " \n",
    "# extrae text de una página\n",
    "print(pageObj.extractText())"
   ]
  },
  {
   "source": [
    "1. Selecciona las entrevistas realizadas a los participantes 2 y 5, divide cada entrevista en oraciones y extrae los tokens de cada oración."
   ],
   "cell_type": "markdown",
   "metadata": {}
  },
  {
   "cell_type": "code",
   "execution_count": null,
   "metadata": {},
   "outputs": [],
   "source": [
    "# Escribe tu respuesta aquí"
   ]
  },
  {
   "source": [
    "2. Aplica lematización a las oraciones de cada entrevista."
   ],
   "cell_type": "markdown",
   "metadata": {}
  },
  {
   "cell_type": "code",
   "execution_count": null,
   "metadata": {},
   "outputs": [],
   "source": [
    "# Escribe tu respuesta aquí"
   ]
  },
  {
   "cell_type": "code",
   "execution_count": null,
   "metadata": {},
   "outputs": [],
   "source": [
    "3. Extrae los stopwords de cada entrevista.\n",
    "(Sugerencia: Utiliza la función stopwords presente en NLTK) "
   ]
  },
  {
   "cell_type": "code",
   "execution_count": null,
   "metadata": {},
   "outputs": [],
   "source": [
    "# Escribe tu respuesta aquí"
   ]
  },
  {
   "source": [
    "4. Para cada entrevista, realiza un conteo de tipo TF-IDF y preséntalo en un gráfico. ¿Encuentras alguna diferencia entre las entrevistas?"
   ],
   "cell_type": "markdown",
   "metadata": {}
  },
  {
   "cell_type": "code",
   "execution_count": null,
   "metadata": {},
   "outputs": [],
   "source": [
    "# Escribe tu respuesta aquí"
   ]
  },
  {
   "source": [
    "# Ejercicio 2: Análisis preliminar de hasthags en Twitter II\n",
    "\n",
    "Continuamos en nuestro trabajo como consultores de Community Management. \n",
    "\n",
    "Dada la coyuntura, se te pide que profundices en tu análisis de los hasthags: `#CambioViciadoPorElLapiz` y `#CambioViciadoPorKeiko`"
   ],
   "cell_type": "markdown",
   "metadata": {}
  },
  {
   "cell_type": "code",
   "execution_count": null,
   "metadata": {},
   "outputs": [],
   "source": [
    "# Importa las librerías a utilizar\n",
    "import tweepy\n",
    "import re\n",
    "from unicodedata import normalize\n",
    "import numpy as np\n",
    "from PIL import Image\n",
    "from wordcloud import WordCloud\n",
    "from nltk.corpus import stopwords\n",
    "nltk.download(\"stopwords\")\n",
    "\n",
    "# Variables con las credenciales de acceso al API de Twitter\n",
    "consumerKey = \"TYPE HERE\"\n",
    "consumerSecret = \"TYPE HERE\"\n",
    "accessToken = \"TYPE HERE\"\n",
    "accessTokenSecret = \"TYPE HERE\"\n",
    "\n",
    "# Acceso al API de Twitter\n",
    "auth = tweepy.OAuthHandler(consumerKey, consumerSecret)\n",
    "auth.set_access_token(accessToken, accessTokenSecret)\n",
    "api = tweepy.API(auth)"
   ]
  },
  {
   "source": [
    "1. Extrae 2500 tweets que utilicen los hashtags mencionados y colócalos en dos listas separadas. "
   ],
   "cell_type": "markdown",
   "metadata": {}
  },
  {
   "cell_type": "code",
   "execution_count": null,
   "metadata": {},
   "outputs": [],
   "source": [
    "# Escribe tu respuesta aquí"
   ]
  },
  {
   "source": [
    "2. Crea dos Series de Pandas a partir de estas listas. Retira los duplicados y quita los caracteres indeseados utilizando expresiones regulares. "
   ],
   "cell_type": "markdown",
   "metadata": {}
  },
  {
   "cell_type": "code",
   "execution_count": null,
   "metadata": {},
   "outputs": [],
   "source": [
    "# Escribe tu respuesta aquí"
   ]
  },
  {
   "source": [
    "3. Encuentra colocaciones en las dos Series de Pandas utilizando la liberaría NLTK."
   ],
   "cell_type": "markdown",
   "metadata": {}
  },
  {
   "cell_type": "code",
   "execution_count": null,
   "metadata": {},
   "outputs": [],
   "source": [
    "# Escribe tu respuesta aquí"
   ]
  },
  {
   "source": [
    "4.  Para cada Serie, aplica lematización y realiza un conteo de tipo TF-IDF y preséntalo en un gráfico. ¿Encuentras alguna diferencia entre los hashtags?"
   ],
   "cell_type": "markdown",
   "metadata": {}
  },
  {
   "cell_type": "code",
   "execution_count": null,
   "metadata": {},
   "outputs": [],
   "source": [
    "# Escribe tu respuesta aquí"
   ]
  },
  {
   "cell_type": "code",
   "execution_count": null,
   "metadata": {},
   "outputs": [],
   "source": [
    "5. Crea dos nubes de palabras con las Series lematizadas asociadas a cada hashtag. "
   ]
  },
  {
   "cell_type": "code",
   "execution_count": null,
   "metadata": {},
   "outputs": [],
   "source": [
    "# Escribe tu respuesta aquí"
   ]
  }
 ]
}