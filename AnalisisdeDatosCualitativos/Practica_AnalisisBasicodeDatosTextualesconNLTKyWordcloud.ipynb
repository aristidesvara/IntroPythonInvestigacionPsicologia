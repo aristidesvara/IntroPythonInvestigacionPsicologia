{
 "metadata": {
  "language_info": {
   "codemirror_mode": {
    "name": "ipython",
    "version": 3
   },
   "file_extension": ".py",
   "mimetype": "text/x-python",
   "name": "python",
   "nbconvert_exporter": "python",
   "pygments_lexer": "ipython3",
   "version": 3
  },
  "orig_nbformat": 2
 },
 "nbformat": 4,
 "nbformat_minor": 2,
 "cells": [
  {
   "source": [
    "Ejercicio\n",
    "\n",
    "https://likegeeks.com/es/tutorial-de-nlp-con-python-nltk/\n",
    "\n",
    "https://www.aprendemachinelearning.com/ejercicio-nlp-cuentos-de-hernan-casciari-python-espanol/"
   ],
   "cell_type": "markdown",
   "metadata": {}
  }
 ]
}