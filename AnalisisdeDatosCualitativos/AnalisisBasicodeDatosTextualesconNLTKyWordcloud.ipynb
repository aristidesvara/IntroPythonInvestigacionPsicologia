{
 "metadata": {
  "language_info": {
   "codemirror_mode": {
    "name": "ipython",
    "version": 3
   },
   "file_extension": ".py",
   "mimetype": "text/x-python",
   "name": "python",
   "nbconvert_exporter": "python",
   "pygments_lexer": "ipython3",
   "version": 3
  },
  "orig_nbformat": 2
 },
 "nbformat": 4,
 "nbformat_minor": 2,
 "cells": [
  {
   "source": [
    "Dirk Hovy Text Analysis in Python for Social Scientist (https://github.com/dirkhovy/text_analysis_for_social_science)"
   ],
   "cell_type": "markdown",
   "metadata": {}
  },
  {
   "source": [
    "## ¿Qué hay en una palabra?\n",
    "\n",
    "Supongamos que hemos recopilado una gran cantidad de autodescripciones de empresas de sus sitios web. Queremos empezar a averiguar si existen diferencias sistemáticas, cuáles son los grandes temas y cómo actúan normalmente las empresas. La pregunta es, ¿cómo hacemos todo eso? ¿Importa que las empresas compren, compren y estén comprando, o solo queremos saber si hay algún evento de compra, sin importar cuándo? ¿Nos preocupan las preposiciones (por ejemplo, dentro, fuera, sobre, sobre) o simplemente nos distraen de lo que realmente queremos saber? ¿Cómo le decimos al programa que “Facebook adquiere Whatsapp” y “Whatsapp es adquirido por Facebook” significan lo mismo, pero “Whatsapp adquiere Facebook” no (aunque usa las mismas palabras que el primer ejemplo)?\n",
    "\n",
    "Antes de sumergirnos en las aplicaciones, echemos un vistazo al tema con el que estamos trabajando: el idioma. En esta sección, veremos la terminología para describir algunos de sus elementos básicos (morfología, sintaxis y semántica) y sus equivalentes en el texto (caracteres, palabras, oraciones). Para elegir el método correcto para cualquier pregunta de investigación relacionada con el texto que tengamos, tiene sentido pensar qué es el lenguaje y qué no es, cómo está estructurado y cómo \"funciona\".\n",
    "Esta sección no reemplaza una introducción a la lingüística, pero nos da un punto de partida sólido para nuestros propósitos. Si está interesado en leer más sobre esto, hay muchos libros de texto excelentes de introducción a la lingüística y sus diversos subcampos. Uno de los más entretenidos es Fromkin, Rodman y Hyams (2018)."
   ],
   "cell_type": "markdown",
   "metadata": {}
  },
  {
   "source": [
    "El lenguaje a menudo codifica información de manera redundante, es decir, decimos lo mismo de varias maneras: a través del significado de las palabras, sus posiciones, el contexto y muchas otras señales. Las palabras mismas constan de diferentes componentes, que son el foco de diferentes disciplinas lingüísticas: su significado (semántica), su función en una oración (sintaxis) y los prefijos y terminaciones (morfología). No todas las palabras contienen toda esta información. Y cuando trabajamos con datos textuales, es posible que no estemos interesados ​​en toda esta información. De hecho, puede resultar beneficioso eliminar parte de la información que no necesitamos.\n",
    "\n",
    "Cuando trabajamos con texto, la unidad que nos interesa depende en gran medida del problema que estamos investigando. Tradicionalmente, se trataba de un informe o un artículo. Sin embargo, cuando trabajamos con redes sociales, también puede referirse al historial de publicaciones completo de un usuario, a un solo mensaje o incluso a una oración individual. A lo largo de este tutorial, nos referiremos a todas estas unidades de texto como documentos. Debe quedar claro en el contexto qué tamaño tiene un documento. Fundamentalmente, un documento siempre representa una observación en nuestros datos. Para referirnos a la colección completa de documentos / observaciones, usamos la palabra corpus (corpora plural).\n",
    "\n",
    "El conjunto de todos los términos únicos en nuestros datos se llama vocabulario (V). Cada elemento de este conjunto se denomina tipo. Cada aparición de un tipo en los datos se denomina token. Entonces, la oración \"una buena oración es una oración que tiene buenas palabras\" tiene 10 símbolos pero solo 7 tipos (a saber, \"a\", \"bueno\", \"oración\", \"es\", \"eso\", \"tiene\" y \"palabras\"). Tenga en cuenta que los tipos también pueden incluir signos de puntuación y expresiones de varias palabras."
   ],
   "cell_type": "markdown",
   "metadata": {}
  },
  {
   "source": [
    "### Descriptores de palabras\n",
    "\n",
    "#### Tokens y Splitting"
   ],
   "cell_type": "markdown",
   "metadata": {}
  }
 ]
}