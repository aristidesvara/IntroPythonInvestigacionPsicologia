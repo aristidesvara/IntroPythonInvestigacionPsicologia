{
 "cells": [
  {
   "cell_type": "markdown",
   "metadata": {},
   "source": [
    "# Ejercicios de preprocesamiento de datos textuales\n",
    "\n",
    "## Primera parte\n",
    "\n",
    "Carga nuevamente el artículo de Psychology Today que trabajaste la semana pasada:"
   ]
  },
  {
   "cell_type": "code",
   "execution_count": null,
   "metadata": {},
   "outputs": [],
   "source": [
    "from urllib.request import urlopen\n",
    "from urllib.request import Request\n",
    "from bs4 import BeautifulSoup\n",
    "\n",
    "# Get html\n",
    "url = ...\n",
    "headers = {\n",
    "    \"User-Agent\": \"Mozilla/5.0 (Windows NT 6.1; WOW64; rv:23.0) Gecko/20100101 Firefox/23.0\"\n",
    "}\n",
    "req = Request(url=url, headers=headers)\n",
    "html = urlopen(req).read()\n",
    "\n",
    "# Parse html\n",
    "soup = BeautifulSoup(html)\n",
    "raw = soup.get_text(strip=True)\n",
    "\n",
    "# Select relevant portion of text\n",
    "fragment = ...\n",
    "fragment"
   ]
  },
  {
   "cell_type": "markdown",
   "metadata": {},
   "source": [
    "1. Divide el artículo en oraciones y extrae los tokens de cada oración."
   ]
  },
  {
   "cell_type": "code",
   "execution_count": 2,
   "metadata": {},
   "outputs": [],
   "source": [
    "# Escribe tu respuesta aquí"
   ]
  },
  {
   "cell_type": "markdown",
   "metadata": {},
   "source": [
    "2. Aplica lematización a las oraciones del artículo."
   ]
  },
  {
   "cell_type": "code",
   "execution_count": null,
   "metadata": {},
   "outputs": [],
   "source": [
    "# Escribe tu respuesta aquí"
   ]
  },
  {
   "cell_type": "markdown",
   "metadata": {},
   "source": [
    "3. Retira los stopwords del contenido del artículo."
   ]
  },
  {
   "cell_type": "code",
   "execution_count": null,
   "metadata": {},
   "outputs": [],
   "source": [
    "# Escribe tu respuesta aquí"
   ]
  },
  {
   "cell_type": "markdown",
   "metadata": {},
   "source": [
    "## Segunda parte\n",
    "\n",
    "Carga nuevamente los tweets que trabajaste la semana pasada:"
   ]
  },
  {
   "cell_type": "code",
   "execution_count": null,
   "metadata": {},
   "outputs": [],
   "source": [
    "import tweepy\n",
    "\n",
    "# Authenticate\n",
    "consumerKey = \"TYPE HERE\"\n",
    "consumerSecret = \"TYPE HERE\"\n",
    "accessToken = \"TYPE HERE\"\n",
    "accessTokenSecret = \"TYPE HERE\"\n",
    "\n",
    "auth = tweepy.OAuthHandler(consumerKey, consumerSecret)\n",
    "auth.set_access_token(accessToken, accessTokenSecret)\n",
    "api = tweepy.API(auth)\n",
    "\n",
    "# Get tweets\n",
    "keyword = ...\n",
    "noOfTweet = 200\n",
    "tweets = tweepy.Cursor(api.search, q=keyword).items(noOfTweet)\n",
    "\n",
    "# Put tweets in list\n",
    "tweet_list = []\n",
    "for tweet in tweets:\n",
    "    tweet_list.append(tweet.text)"
   ]
  },
  {
   "cell_type": "markdown",
   "metadata": {},
   "source": [
    "4.  Crea una Serie de Pandas a partir de esta lista de tweets. Retira los duplicados y quita los caracteres indeseados utilizando expresiones regulares. "
   ]
  },
  {
   "cell_type": "code",
   "execution_count": null,
   "metadata": {},
   "outputs": [],
   "source": [
    "# Escribe tu respuesta aquí"
   ]
  }
 ],
 "metadata": {
  "kernelspec": {
   "display_name": "Python 3.7.13 ('intropy')",
   "language": "python",
   "name": "python3"
  },
  "language_info": {
   "codemirror_mode": {
    "name": "ipython",
    "version": 3
   },
   "file_extension": ".py",
   "mimetype": "text/x-python",
   "name": "python",
   "nbconvert_exporter": "python",
   "pygments_lexer": "ipython3",
   "version": "3.7.13"
  },
  "orig_nbformat": 2,
  "vscode": {
   "interpreter": {
    "hash": "94285bb15823d6808010e9c4aa3c0f3449aea2861795e388604752bf8b5281bb"
   }
  }
 },
 "nbformat": 4,
 "nbformat_minor": 2
}
