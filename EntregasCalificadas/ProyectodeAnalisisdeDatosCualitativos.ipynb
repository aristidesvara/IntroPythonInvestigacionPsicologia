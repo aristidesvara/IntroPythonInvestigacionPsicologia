{
 "metadata": {
  "language_info": {
   "codemirror_mode": {
    "name": "ipython",
    "version": 3
   },
   "file_extension": ".py",
   "mimetype": "text/x-python",
   "name": "python",
   "nbconvert_exporter": "python",
   "pygments_lexer": "ipython3",
   "version": 3
  },
  "orig_nbformat": 2
 },
 "nbformat": 4,
 "nbformat_minor": 2,
 "cells": [
  {
   "source": [
    "# Proyecto de análisis de datos cualitativos\n",
    "\n",
    "## Parte 1\n",
    "Escoge un texto que te interese analizar utilizando las herramientas técnicas de análisis textual revisadas en el curso. Puede ser un documento estático (libro, post, etc) o un documento dinámico (redes sociales como Twitter). \n",
    "\n",
    "1. Escribe un párrafo detallando el análisis a realizar. Menciona las preguntas que te gustaría responder a partir de este proyecto. Además, Incluye un enlace o archivo adjunto para acceder a la fuente original del texto (3 pts)."
   ],
   "cell_type": "markdown",
   "metadata": {}
  },
  {
   "cell_type": "code",
   "execution_count": null,
   "metadata": {},
   "outputs": [],
   "source": [
    "# Escribe tu respuesta aquí"
   ]
  },
  {
   "source": [
    "2. Carga el documento que deseas analizar. Luego, identifica el bloque de texto que sea relevante para tu proyecto y excluye la información que no necesitas (5 pts).\n"
   ],
   "cell_type": "markdown",
   "metadata": {}
  },
  {
   "cell_type": "code",
   "execution_count": null,
   "metadata": {},
   "outputs": [],
   "source": [
    "# Escribe tu respuesta aquí"
   ]
  },
  {
   "source": [
    "## Parte 2\n",
    "\n",
    "3.  Aplica las técnicas de pre-procesamiento de datos textuales (tokenización, lematización, etc.) que consideres pertinentes como preparación para tu análisis. Incluye una breve justificación sobre las técnicas utilizadas (5 pts). "
   ],
   "cell_type": "markdown",
   "metadata": {}
  },
  {
   "cell_type": "code",
   "execution_count": null,
   "metadata": {},
   "outputs": [],
   "source": [
    "# Escribe tu respuesta aquí"
   ]
  },
  {
   "source": [
    "4. Realiza el análisis de tus datos. Este debe incluir métricas o gráficos que ayuden a responder las preguntas planteadas en la primera sección. Incluye un breve comentario sobre tus hallazgos (7 pts). "
   ],
   "cell_type": "markdown",
   "metadata": {}
  },
  {
   "cell_type": "code",
   "execution_count": null,
   "metadata": {},
   "outputs": [],
   "source": [
    "# Escribe tu respuesta aquí"
   ]
  }
 ]
}