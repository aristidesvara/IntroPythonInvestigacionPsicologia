{
 "metadata": {
  "language_info": {
   "codemirror_mode": {
    "name": "ipython",
    "version": 3
   },
   "file_extension": ".py",
   "mimetype": "text/x-python",
   "name": "python",
   "nbconvert_exporter": "python",
   "pygments_lexer": "ipython3",
   "version": "3.7.9"
  },
  "orig_nbformat": 2,
  "kernelspec": {
   "name": "python379jvsc74a57bd0fcc1d2c210046f8d6f0962280d91bf96fd89619bab60881df3e6b70c67140f94",
   "display_name": "Python 3.7.9 64-bit ('base': conda)"
  }
 },
 "nbformat": 4,
 "nbformat_minor": 2,
 "cells": [
  {
   "source": [
    "# Introducción\n",
    "\n",
    "Eres un funcionario del gobierno uruguayo especializado en psicología educacional. Se te ha asignado la responsabilidad de diseñar una estrategia para fortalecer la formación superior de los psicólogos en el país. \n",
    "\n",
    "Uno de tus primeros informes consiste en elaborar un reporte del Censo Nacional de Psicología realizado en el año 2014, con miras a que sirva de sustento para tus propuestas:\n",
    "\n",
    ">Suárez, Jorge; Facultad de Psicología de la Universidad de la República (2015): 1st. National Census of Psychology -Uruguay 2014-. Version: 1. FDP-URU - Facultad de Psicología de la Universidad de la República. Datensatz. http://doi.org/10.17891/19871.1\n",
    "\n",
    "A continuación, se plantean una serie de ejercicios que te servirán para elaborar tu reporte."
   ],
   "cell_type": "markdown",
   "metadata": {}
  },
  {
   "cell_type": "code",
   "execution_count": 1,
   "metadata": {
    "tags": []
   },
   "outputs": [
    {
     "output_type": "execute_result",
     "data": {
      "text/plain": [
       "          ID  Sexo  Edad  Lugar_Nac  Dep_Nac      Localidad País  \\\n",
       "0     10.000     0    46         91  911.000          Colon  NaN   \n",
       "1     88.000     0    25         91  913.000    Las Piedras  NaN   \n",
       "2     89.000     0    45         91    9.115          Salto  NaN   \n",
       "3     92.000     0    42         91  913.000  Los Cerrillos  NaN   \n",
       "4     95.000     0    26         91  913.000         La Paz  NaN   \n",
       "...      ...   ...   ...        ...      ...            ...  ...   \n",
       "7538  10.984     0    59         91  911.000            NaN  NaN   \n",
       "7539  10.985     0    34         91  911.000            NaN  NaN   \n",
       "7540  10.986     0    30         91  911.000            NaN  NaN   \n",
       "7541  10.987     0    37         91  913.000            NaN  NaN   \n",
       "7542  10.988     0    29         91  911.000            NaN  NaN   \n",
       "\n",
       "      Lugar_residencia_15a  Departamento_15a           Localidad_15a  ...  \\\n",
       "0                      101           911.000                   Colon  ...   \n",
       "1                      101           911.000                   Colón  ...   \n",
       "2                      101             9.115                   Salto  ...   \n",
       "3                      101           915.000  Colonia del Sacramento  ...   \n",
       "4                      101           913.000                  La Paz  ...   \n",
       "...                    ...               ...                     ...  ...   \n",
       "7538                   101           911.000                     NaN  ...   \n",
       "7539                   101           916.000                     NaN  ...   \n",
       "7540                   101           911.000                     NaN  ...   \n",
       "7541                   101           913.000               shangrila  ...   \n",
       "7542                   101           911.000                     NaN  ...   \n",
       "\n",
       "     Cuánto_hace_busca_trabajo  Tiempo_trabaja_ininterrumpida  \\\n",
       "0                          NaN                             25   \n",
       "1                          NaN                              2   \n",
       "2                          NaN                              6   \n",
       "3                          NaN                              6   \n",
       "4                          NaN                              1   \n",
       "...                        ...                            ...   \n",
       "7538                       NaN                             35   \n",
       "7539                       NaN                             11   \n",
       "7540                       NaN                              5   \n",
       "7541                       NaN                              6   \n",
       "7542                       NaN                              4   \n",
       "\n",
       "     Hs_promedio_trab_semana Ingresos_mensuales_pesos_último_año  \\\n",
       "0                         32                                5283   \n",
       "1                         25                                5281   \n",
       "2                         30                                5282   \n",
       "3                         35                                5282   \n",
       "4                         48                                5283   \n",
       "...                      ...                                 ...   \n",
       "7538                      40                                5283   \n",
       "7539                      25                                5282   \n",
       "7540                      45                                5283   \n",
       "7541                      35                                5284   \n",
       "7542                      44                                5282   \n",
       "\n",
       "     Aprox_porcentaje_ingreso_hogar_aportado_Ud  Área_inser_1  Área_inser_2  \\\n",
       "0                                         5.293        63.306           NaN   \n",
       "1                                         5.293           NaN           NaN   \n",
       "2                                         5.294           NaN           NaN   \n",
       "3                                         5.294        63.302        63.305   \n",
       "4                                         5.291        63.307           NaN   \n",
       "...                                         ...           ...           ...   \n",
       "7538                                      5.294           NaN           NaN   \n",
       "7539                                      5.292        63.316           NaN   \n",
       "7540                                      5.293        63.306           NaN   \n",
       "7541                                      5.294        63.310        63.311   \n",
       "7542                                      5.292        63.310           NaN   \n",
       "\n",
       "     Área_inser_3  Área_inser_4                 Otras_áreas  \n",
       "0             NaN           NaN              Docente en UTU  \n",
       "1             NaN           NaN                         NaN  \n",
       "2             NaN           NaN      No ejerzo la profesión  \n",
       "3             NaN           NaN                         NaN  \n",
       "4             NaN           NaN                         NaN  \n",
       "...           ...           ...                         ...  \n",
       "7538          NaN           NaN                   No ejerce  \n",
       "7539          NaN           NaN  Talleres psicoestimulación  \n",
       "7540          NaN           NaN                         NaN  \n",
       "7541          NaN           NaN                         NaN  \n",
       "7542          NaN           NaN                         NaN  \n",
       "\n",
       "[7543 rows x 64 columns]"
      ],
      "text/html": "<div>\n<style scoped>\n    .dataframe tbody tr th:only-of-type {\n        vertical-align: middle;\n    }\n\n    .dataframe tbody tr th {\n        vertical-align: top;\n    }\n\n    .dataframe thead th {\n        text-align: right;\n    }\n</style>\n<table border=\"1\" class=\"dataframe\">\n  <thead>\n    <tr style=\"text-align: right;\">\n      <th></th>\n      <th>ID</th>\n      <th>Sexo</th>\n      <th>Edad</th>\n      <th>Lugar_Nac</th>\n      <th>Dep_Nac</th>\n      <th>Localidad</th>\n      <th>País</th>\n      <th>Lugar_residencia_15a</th>\n      <th>Departamento_15a</th>\n      <th>Localidad_15a</th>\n      <th>...</th>\n      <th>Cuánto_hace_busca_trabajo</th>\n      <th>Tiempo_trabaja_ininterrumpida</th>\n      <th>Hs_promedio_trab_semana</th>\n      <th>Ingresos_mensuales_pesos_último_año</th>\n      <th>Aprox_porcentaje_ingreso_hogar_aportado_Ud</th>\n      <th>Área_inser_1</th>\n      <th>Área_inser_2</th>\n      <th>Área_inser_3</th>\n      <th>Área_inser_4</th>\n      <th>Otras_áreas</th>\n    </tr>\n  </thead>\n  <tbody>\n    <tr>\n      <th>0</th>\n      <td>10.000</td>\n      <td>0</td>\n      <td>46</td>\n      <td>91</td>\n      <td>911.000</td>\n      <td>Colon</td>\n      <td>NaN</td>\n      <td>101</td>\n      <td>911.000</td>\n      <td>Colon</td>\n      <td>...</td>\n      <td>NaN</td>\n      <td>25</td>\n      <td>32</td>\n      <td>5283</td>\n      <td>5.293</td>\n      <td>63.306</td>\n      <td>NaN</td>\n      <td>NaN</td>\n      <td>NaN</td>\n      <td>Docente en UTU</td>\n    </tr>\n    <tr>\n      <th>1</th>\n      <td>88.000</td>\n      <td>0</td>\n      <td>25</td>\n      <td>91</td>\n      <td>913.000</td>\n      <td>Las Piedras</td>\n      <td>NaN</td>\n      <td>101</td>\n      <td>911.000</td>\n      <td>Colón</td>\n      <td>...</td>\n      <td>NaN</td>\n      <td>2</td>\n      <td>25</td>\n      <td>5281</td>\n      <td>5.293</td>\n      <td>NaN</td>\n      <td>NaN</td>\n      <td>NaN</td>\n      <td>NaN</td>\n      <td>NaN</td>\n    </tr>\n    <tr>\n      <th>2</th>\n      <td>89.000</td>\n      <td>0</td>\n      <td>45</td>\n      <td>91</td>\n      <td>9.115</td>\n      <td>Salto</td>\n      <td>NaN</td>\n      <td>101</td>\n      <td>9.115</td>\n      <td>Salto</td>\n      <td>...</td>\n      <td>NaN</td>\n      <td>6</td>\n      <td>30</td>\n      <td>5282</td>\n      <td>5.294</td>\n      <td>NaN</td>\n      <td>NaN</td>\n      <td>NaN</td>\n      <td>NaN</td>\n      <td>No ejerzo la profesión</td>\n    </tr>\n    <tr>\n      <th>3</th>\n      <td>92.000</td>\n      <td>0</td>\n      <td>42</td>\n      <td>91</td>\n      <td>913.000</td>\n      <td>Los Cerrillos</td>\n      <td>NaN</td>\n      <td>101</td>\n      <td>915.000</td>\n      <td>Colonia del Sacramento</td>\n      <td>...</td>\n      <td>NaN</td>\n      <td>6</td>\n      <td>35</td>\n      <td>5282</td>\n      <td>5.294</td>\n      <td>63.302</td>\n      <td>63.305</td>\n      <td>NaN</td>\n      <td>NaN</td>\n      <td>NaN</td>\n    </tr>\n    <tr>\n      <th>4</th>\n      <td>95.000</td>\n      <td>0</td>\n      <td>26</td>\n      <td>91</td>\n      <td>913.000</td>\n      <td>La Paz</td>\n      <td>NaN</td>\n      <td>101</td>\n      <td>913.000</td>\n      <td>La Paz</td>\n      <td>...</td>\n      <td>NaN</td>\n      <td>1</td>\n      <td>48</td>\n      <td>5283</td>\n      <td>5.291</td>\n      <td>63.307</td>\n      <td>NaN</td>\n      <td>NaN</td>\n      <td>NaN</td>\n      <td>NaN</td>\n    </tr>\n    <tr>\n      <th>...</th>\n      <td>...</td>\n      <td>...</td>\n      <td>...</td>\n      <td>...</td>\n      <td>...</td>\n      <td>...</td>\n      <td>...</td>\n      <td>...</td>\n      <td>...</td>\n      <td>...</td>\n      <td>...</td>\n      <td>...</td>\n      <td>...</td>\n      <td>...</td>\n      <td>...</td>\n      <td>...</td>\n      <td>...</td>\n      <td>...</td>\n      <td>...</td>\n      <td>...</td>\n      <td>...</td>\n    </tr>\n    <tr>\n      <th>7538</th>\n      <td>10.984</td>\n      <td>0</td>\n      <td>59</td>\n      <td>91</td>\n      <td>911.000</td>\n      <td>NaN</td>\n      <td>NaN</td>\n      <td>101</td>\n      <td>911.000</td>\n      <td>NaN</td>\n      <td>...</td>\n      <td>NaN</td>\n      <td>35</td>\n      <td>40</td>\n      <td>5283</td>\n      <td>5.294</td>\n      <td>NaN</td>\n      <td>NaN</td>\n      <td>NaN</td>\n      <td>NaN</td>\n      <td>No ejerce</td>\n    </tr>\n    <tr>\n      <th>7539</th>\n      <td>10.985</td>\n      <td>0</td>\n      <td>34</td>\n      <td>91</td>\n      <td>911.000</td>\n      <td>NaN</td>\n      <td>NaN</td>\n      <td>101</td>\n      <td>916.000</td>\n      <td>NaN</td>\n      <td>...</td>\n      <td>NaN</td>\n      <td>11</td>\n      <td>25</td>\n      <td>5282</td>\n      <td>5.292</td>\n      <td>63.316</td>\n      <td>NaN</td>\n      <td>NaN</td>\n      <td>NaN</td>\n      <td>Talleres psicoestimulación</td>\n    </tr>\n    <tr>\n      <th>7540</th>\n      <td>10.986</td>\n      <td>0</td>\n      <td>30</td>\n      <td>91</td>\n      <td>911.000</td>\n      <td>NaN</td>\n      <td>NaN</td>\n      <td>101</td>\n      <td>911.000</td>\n      <td>NaN</td>\n      <td>...</td>\n      <td>NaN</td>\n      <td>5</td>\n      <td>45</td>\n      <td>5283</td>\n      <td>5.293</td>\n      <td>63.306</td>\n      <td>NaN</td>\n      <td>NaN</td>\n      <td>NaN</td>\n      <td>NaN</td>\n    </tr>\n    <tr>\n      <th>7541</th>\n      <td>10.987</td>\n      <td>0</td>\n      <td>37</td>\n      <td>91</td>\n      <td>913.000</td>\n      <td>NaN</td>\n      <td>NaN</td>\n      <td>101</td>\n      <td>913.000</td>\n      <td>shangrila</td>\n      <td>...</td>\n      <td>NaN</td>\n      <td>6</td>\n      <td>35</td>\n      <td>5284</td>\n      <td>5.294</td>\n      <td>63.310</td>\n      <td>63.311</td>\n      <td>NaN</td>\n      <td>NaN</td>\n      <td>NaN</td>\n    </tr>\n    <tr>\n      <th>7542</th>\n      <td>10.988</td>\n      <td>0</td>\n      <td>29</td>\n      <td>91</td>\n      <td>911.000</td>\n      <td>NaN</td>\n      <td>NaN</td>\n      <td>101</td>\n      <td>911.000</td>\n      <td>NaN</td>\n      <td>...</td>\n      <td>NaN</td>\n      <td>4</td>\n      <td>44</td>\n      <td>5282</td>\n      <td>5.292</td>\n      <td>63.310</td>\n      <td>NaN</td>\n      <td>NaN</td>\n      <td>NaN</td>\n      <td>NaN</td>\n    </tr>\n  </tbody>\n</table>\n<p>7543 rows × 64 columns</p>\n</div>"
     },
     "metadata": {},
     "execution_count": 1
    }
   ],
   "source": [
    "## Este código sirve para cargar la información del Censo Nacional de Psicología.\n",
    "import pandas\n",
    "df = pandas.read_csv(\"https://catalogodatos.gub.uy/dataset/b62bc86e-c4c2-4cb8-af18-388124eea2c9/resource/dec0a55d-1d86-4100-88ec-fc8dad06a363/download/microdatoscensopsicologia.csv\")\n",
    "nan_value = float(\"NaN\")\n",
    "df.replace(' ', nan_value, inplace=True)\n",
    "df"
   ]
  },
  {
   "source": [
    "# Parte 1: Especialidades cursadas en el posgrado\n",
    "\n",
    "La variable `especialidades` registra las especialidades que los psicólogos censados cursaron como parte de sus estudios de posgrado. \n",
    "\n",
    "A partir de la información disponible en esta variable, escribe programas que sean capaces de:\n",
    "\n",
    "1. Mostrar las especializaciones que contienen la palabras `terap` (2 pts). \n",
    "2. Mostrar las especializaciones que contienen la palabras `educ` o `pedag` (3 pts).\n",
    "\n",
    "Por último, escribe un programa que imprima un reporte indicando 5 categorías de especialidades (formadas a partir de raíces tales como `terap` o `educ`) y la cantidad de psicólogos que las cursaron durante su formación de posgrado (5 pts)."
   ],
   "cell_type": "markdown",
   "metadata": {}
  },
  {
   "cell_type": "code",
   "execution_count": 2,
   "metadata": {
    "tags": []
   },
   "outputs": [],
   "source": [
    "especialidades = df.dropna(subset = ['Nombre_C'], inplace=False)['Nombre_C'].str.lower().tolist()\n",
    "\n",
    "## Escribe tu respuesta aquí"
   ]
  },
  {
   "source": [
    "# Parte 2: Razones para no seguir estudios de posgrado\n",
    "\n",
    "La variable `razonesnoposgrado` registra los motivos por los que los psicólogos censados no siguieron estudios de posgrado. La variable está codificada de la siguiente manera:\n",
    "\n",
    "| Código \t|            Descripción           \t|\n",
    "|:------:\t|:--------------------------------:\t|\n",
    "|  3.231  \t| Considera que no son necesarios  \t|\n",
    "|  3.232  \t|  No tuvo acceso a la información \t|\n",
    "|  3.233  \t|        Razones familiares        \t|\n",
    "|  3.234  \t|         Razones laborales        \t|\n",
    "|  3.235  \t|        Razones económicas        \t|\n",
    "|  3.236  \t|      Dificultad con idiomas      \t|\n",
    "|  3.237  \t|           Otras causas           \t|\n",
    "\n",
    "A partir de la información disponible en esta variable, escribe un programa que sea capaz de:\n",
    "\n",
    "1. Indicar cuántos psicólogos no siguieron estudios de posgrado (3 pts).  \n",
    "2. Indicar cuántos no siguieron estudios de posgrado de acuerdo a las razones listadas (7 pts)."
   ],
   "cell_type": "markdown",
   "metadata": {}
  },
  {
   "cell_type": "code",
   "execution_count": 3,
   "metadata": {
    "tags": []
   },
   "outputs": [],
   "source": [
    "razonesnoposgrado=df.dropna(subset = [\"Por_qué_no_posgrado\"], inplace=False)['Por_qué_no_posgrado'].tolist()\n",
    "\n",
    "## Escribe tu respuesta aquí"
   ]
  }
 ]
}