{
 "cells": [
  {
   "cell_type": "markdown",
   "metadata": {
    "id": "bDvfB7y_36cL"
   },
   "source": [
    "# Proyecto de análisis de datos cualitativos\n",
    "\n",
    "## Parte 1\n",
    "Escoge un texto que te interese analizar utilizando las herramientas técnicas de análisis textual revisadas en el curso. Puede ser un documento estático (libro, post, etc) o un documento dinámico (redes sociales como Twitter). \n",
    "\n",
    "1. Escribe un párrafo detallando el análisis a realizar. Menciona las preguntas que te gustaría responder a partir de este proyecto. Además, Incluye un enlace o archivo adjunto para acceder a la fuente original del texto (3 pts)."
   ]
  },
  {
   "cell_type": "code",
   "execution_count": 1,
   "metadata": {
    "id": "1p4cb5O-36cR"
   },
   "outputs": [],
   "source": [
    "# Escribe tu respuesta aquí"
   ]
  },
  {
   "cell_type": "markdown",
   "metadata": {
    "id": "crLACzzY36cR"
   },
   "source": [
    "2. Carga el documento que deseas analizar. Luego, identifica el bloque de texto que sea relevante para tu proyecto y excluye la información que no necesitas (5 pts).\n"
   ]
  },
  {
   "cell_type": "code",
   "execution_count": 2,
   "metadata": {
    "colab": {
     "base_uri": "https://localhost:8080/"
    },
    "id": "Z41GIVJ-JY17",
    "outputId": "935a5f2c-64b4-4215-c1f5-4fb0965d15ea"
   },
   "outputs": [],
   "source": [
    "# Escribe tu respuesta aquí"
   ]
  },
  {
   "cell_type": "markdown",
   "metadata": {
    "id": "1mok9WT136cS"
   },
   "source": [
    "## Parte 2\n",
    "\n",
    "3.  Aplica las técnicas de pre-procesamiento de datos textuales (tokenización, lematización, etc.) que consideres pertinentes como preparación para tu análisis. Incluye una breve justificación sobre las técnicas utilizadas (5 pts). "
   ]
  },
  {
   "cell_type": "code",
   "execution_count": 3,
   "metadata": {
    "colab": {
     "base_uri": "https://localhost:8080/",
     "height": 288
    },
    "id": "aVe5dEOGgVSb",
    "outputId": "4351ef2a-c4cf-48a8-91ea-c19cc6015287"
   },
   "outputs": [],
   "source": [
    "# Escribe tu respuesta aquí"
   ]
  },
  {
   "cell_type": "markdown",
   "metadata": {
    "id": "6nMoOpns36cS"
   },
   "source": [
    "4. Realiza el análisis de tus datos. Este debe incluir métricas o gráficos que ayuden a responder las preguntas planteadas en la primera sección. Incluye un breve comentario sobre tus hallazgos (7 pts). "
   ]
  },
  {
   "cell_type": "code",
   "execution_count": 4,
   "metadata": {
    "id": "TXqw3jWeQxAm"
   },
   "outputs": [],
   "source": [
    "# Escribe tu respuesta aquí"
   ]
  }
 ],
 "metadata": {
  "colab": {
   "name": "[3] Proyecto de Analisis de Datos Cualitativos.ipynb",
   "provenance": []
  },
  "kernelspec": {
   "display_name": "Python 3.7.13 ('intropy')",
   "language": "python",
   "name": "python3"
  },
  "language_info": {
   "codemirror_mode": {
    "name": "ipython",
    "version": 3
   },
   "file_extension": ".py",
   "mimetype": "text/x-python",
   "name": "python",
   "nbconvert_exporter": "python",
   "pygments_lexer": "ipython3",
   "version": "3.7.13"
  },
  "orig_nbformat": 2,
  "vscode": {
   "interpreter": {
    "hash": "94285bb15823d6808010e9c4aa3c0f3449aea2861795e388604752bf8b5281bb"
   }
  }
 },
 "nbformat": 4,
 "nbformat_minor": 0
}
