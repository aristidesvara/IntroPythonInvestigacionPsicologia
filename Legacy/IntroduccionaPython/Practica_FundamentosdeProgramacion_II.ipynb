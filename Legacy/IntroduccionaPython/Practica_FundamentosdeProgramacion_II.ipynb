{
 "metadata": {
  "language_info": {
   "codemirror_mode": {
    "name": "ipython",
    "version": 3
   },
   "file_extension": ".py",
   "mimetype": "text/x-python",
   "name": "python",
   "nbconvert_exporter": "python",
   "pygments_lexer": "ipython3",
   "version": "3.7.9"
  },
  "orig_nbformat": 2,
  "kernelspec": {
   "name": "python379jvsc74a57bd0fcc1d2c210046f8d6f0962280d91bf96fd89619bab60881df3e6b70c67140f94",
   "display_name": "Python 3.7.9 64-bit ('base': conda)"
  }
 },
 "nbformat": 4,
 "nbformat_minor": 2,
 "cells": [
  {
   "source": [
    "# Guía Práctica: Fundamentos de Programación II\n",
    "\n",
    "Este tutorial es una adaptación al español del tutorial [Foundations of Python Programming](https://runestone.academy/runestone/books/published/fopp/index.html) desarrollado por Brad Miller, Paul Resnick, Lauren Murphy, Jeffrey Elkner, Peter Wentworth, Allen B. Downey, Chris como parte del proyecto [Runstone Interactive](http://runestoneinteractive.org/).\n",
    "\n",
    ">Barbara Ericson and Bradley Miller. 2020 Runestone: A Platform for Free, On-line, and Interactive Ebooks In Proceedings of the 51st ACM Technical Symposium on Computer Science Education (SIGCSE ’20). Association for Computing Machinery, New York, NY, USA, 1240.\n"
   ],
   "cell_type": "markdown",
   "metadata": {}
  },
  {
   "source": [
    "# Ejercicio 1\n",
    "\n",
    "Considere la lista `letras` presente en la celda siguiente. Escribe código que te permita hacer lo siguiente:\n",
    "\n",
    "- Imprimir la letra \"C\" de esta lista\n",
    "- Imprimir la longitud de esta lista\n",
    "- Imprimir el primer elemento de esta lista\n",
    "- Imprimir el último elemento de esta lista\n",
    "- Crear una variable llamada calificación y asignarle el tercer elemento (\"C\") de la lista de letras de la lista (imprime la variable para asegurarte de que realizaste la indexación correcta)"
   ],
   "cell_type": "markdown",
   "metadata": {}
  },
  {
   "cell_type": "code",
   "execution_count": null,
   "metadata": {},
   "outputs": [],
   "source": [
    "letras = [\"A\", \"B\", \"C\", \"D\", \"E\"]\n",
    "\n",
    "## Escribe tu respuesta aquí"
   ]
  },
  {
   "source": [
    "# Ejercicio 2\n",
    "\n",
    "Escriba un programa que imprima la longitud de cada elemento de la lista `estudiantes`, así como el primer y último caracter del elemento."
   ],
   "cell_type": "markdown",
   "metadata": {}
  },
  {
   "cell_type": "code",
   "execution_count": 2,
   "metadata": {},
   "outputs": [],
   "source": [
    "estudiantes = [\n",
    "    \"Claudia\",\n",
    "    \"Fernando\",\n",
    "    \"Jesus\",\n",
    "    \"Silvana\",\n",
    "    \"Gloria\",\n",
    "    \"Jose Carlos\",\n",
    "    \"Carlos\",\n",
    "    \"Chyristian\",\n",
    "    \"Arlis\",\n",
    "    \"Ricardo\",\n",
    "    \"Zulma\",\n",
    "    \"María\",\n",
    "    \"Alex\",\n",
    "    \"Melanie\",\n",
    "    \"Almendra\",\n",
    "]\n",
    "\n",
    "## Escribe tu respuesta aquí"
   ]
  },
  {
   "source": [
    "# Ejercicio 3\n",
    "\n",
    "Escribe código para determinar cuántas \"t\" hay en las siguientes oraciones.\n"
   ],
   "cell_type": "markdown",
   "metadata": {}
  },
  {
   "cell_type": "code",
   "execution_count": null,
   "metadata": {},
   "outputs": [],
   "source": [
    "oraciones = [\n",
    "    \"¿En qué momento se jodió el Perú, Zavalita?\",\n",
    "    \"Señor Ministro de Salud: ¿qué hacer? ¡Ah! desgraciadamente, hombre humanos, hay, hermanos, muchísimo que hacer.\",\n",
    "    \"¡Los viejos a la tumba, los jóvenes a la obra!\",\n",
    "]\n",
    "\n",
    "# Escribe tu respuesta aquí"
   ]
  },
  {
   "source": [
    "# Ejercicio 4\n",
    "\n",
    "Tienes una lista de números `12, 10, 32, 3, 66, 17, 42, 99, 20`\n",
    "\n",
    "1. Escribe un bucle que imprima cada uno de los números en una nueva línea.\n",
    "\n",
    "2. Escribe un bucle que imprima cada número y su cuadrado en una nueva línea."
   ],
   "cell_type": "markdown",
   "metadata": {}
  },
  {
   "cell_type": "code",
   "execution_count": 4,
   "metadata": {},
   "outputs": [],
   "source": [
    "# Escribe tu respuesta aquí"
   ]
  },
  {
   "source": [
    "# Ejercicio 5\n",
    "\n",
    "Escriba un bucle for para imprimir cada carácter de la cadena `my_str` en una línea separada."
   ],
   "cell_type": "markdown",
   "metadata": {}
  },
  {
   "cell_type": "code",
   "execution_count": 10,
   "metadata": {},
   "outputs": [],
   "source": [
    "my_str = \"ESTRUENDOMUDO\"\n",
    "\n",
    "## Escribe tu respuesta aquí"
   ]
  },
  {
   "source": [
    "# Ejercicio 6\n",
    "\n",
    "Este código debe producir acrónimos, que son la concatenación de las primeras letras (en mayúsculas) de cada palabra presente en `lst`. El código tiene un error y no produce el resultado esperado. Haz las correciones necesarias. Deberías tener solo una respuesta: MAPS. "
   ],
   "cell_type": "markdown",
   "metadata": {}
  },
  {
   "source": [
    "lst = ['mathematics', 'astronomy', 'physics', 'stuff']\n",
    "# No modifiques la variable lst\n",
    "\n",
    "for word in lst:\n",
    "acronym = ''\n",
    "acronym = word[1] + acronym\n",
    "\n",
    "print(acronym.capitalize())"
   ],
   "cell_type": "code",
   "metadata": {},
   "execution_count": null,
   "outputs": []
  },
  {
   "source": [
    "# Ejercicio 7\n",
    "\n",
    "Escribe una función que le pida al usuario que ingrese una puntuación numérica (0-100). En respuesta, debe imprimir el puntaje y la calificación de la letra correspondiente, de acuerdo con la tabla a continuación.\n",
    "\n",
    "| Puntaje | Nota |\n",
    "|:-------:|:----:|\n",
    "|  >= 90  |   A  |\n",
    "| [80-90) |   B  |\n",
    "| [70-80) |   C  |\n",
    "| [60-70) |   D  |\n",
    "|   <60   |   E  |\n",
    "\n",
    "Los corchetes y paréntesis denotan intervalos cerrados y abiertos. Un intervalo cerrado incluye el número y el intervalo abierto lo excluye. Entonces 79.99999 obtiene la calificación C, pero 80 obtiene la calificación B."
   ],
   "cell_type": "markdown",
   "metadata": {}
  },
  {
   "cell_type": "code",
   "execution_count": null,
   "metadata": {},
   "outputs": [],
   "source": [
    "# Escribe tu respuesta aquí"
   ]
  },
  {
   "source": [
    "# Ejercicio 8\n",
    "\n",
    "Escriba un programa que imprima un saludo para cada estudiante en la lista `estudiantes`. Este programa también debe llevar un registro de cuántos estudiantes se han recibido y tener en cuenta que cada vez que se saluda a un nuevo estudiante. Cuando solo haya ingresado un estudiante, el programa debe decir “¡Ha ingresado el primer estudiante!”. Después, el programa debería decir \"¡Hay {número aquí} estudiantes en el aula!\".\n"
   ],
   "cell_type": "markdown",
   "metadata": {}
  },
  {
   "source": [
    "estudiantes = [\n",
    "    \"Claudia\",\n",
    "    \"Fernando\",\n",
    "    \"Jesus\",\n",
    "    \"Silvana\",\n",
    "    \"Gloria\",\n",
    "    \"Jose Carlos\",\n",
    "    \"Carlos\",\n",
    "    \"Chyristian\",\n",
    "    \"Arlis\",\n",
    "    \"Ricardo\",\n",
    "    \"Zulma\",\n",
    "    \"María\",\n",
    "    \"Alex\",\n",
    "    \"Melanie\",\n",
    "    \"Almendra\",\n",
    "]\n",
    "\n",
    "# Escribe tu solución aquí"
   ],
   "cell_type": "code",
   "metadata": {},
   "execution_count": 13,
   "outputs": []
  },
  {
   "source": [
    "Si tienes tiempo, te invito a explorar los [ejercicios de los capítulos 6, 7 y 8](https://runestone.academy/runestone/books/published/fopp/index.html) del tutorial original en inglés."
   ],
   "cell_type": "markdown",
   "metadata": {}
  }
 ]
}