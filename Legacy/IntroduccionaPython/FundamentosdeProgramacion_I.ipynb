{
 "metadata": {
  "language_info": {
   "codemirror_mode": {
    "name": "ipython",
    "version": 3
   },
   "file_extension": ".py",
   "mimetype": "text/x-python",
   "name": "python",
   "nbconvert_exporter": "python",
   "pygments_lexer": "ipython3",
   "version": "3.7.9"
  },
  "orig_nbformat": 2,
  "kernelspec": {
   "name": "python3",
   "display_name": "Python 3.7.9 64-bit ('base': conda)",
   "metadata": {
    "interpreter": {
     "hash": "fcc1d2c210046f8d6f0962280d91bf96fd89619bab60881df3e6b70c67140f94"
    }
   }
  }
 },
 "nbformat": 4,
 "nbformat_minor": 2,
 "cells": [
  {
   "source": [
    "# Fundamentos de Programación I\n",
    "\n",
    "Este tutorial es una adaptación al español del tutorial [Foundations of Python Programming](https://runestone.academy/runestone/books/published/fopp/index.html) desarrollado por Brad Miller, Paul Resnick, Lauren Murphy, Jeffrey Elkner, Peter Wentworth, Allen B. Downey, Chris como parte del proyecto [Runstone Interactive](http://runestoneinteractive.org/).\n",
    "\n",
    ">Barbara Ericson and Bradley Miller. 2020 Runestone: A Platform for Free, On-line, and Interactive Ebooks In Proceedings of the 51st ACM Technical Symposium on Computer Science Education (SIGCSE ’20). Association for Computing Machinery, New York, NY, USA, 1240.\n"
   ],
   "cell_type": "markdown",
   "metadata": {}
  },
  {
   "source": [
    "# Valores y Tipos de datos\n",
    "\n",
    "Un valor es una de las cosas fundamentales, como una palabra o un número, que un programa manipula. Algunos valores son `5` (el resultado cuando sumamos `2 + 3`) y `\"¡Hola, mundo!\"`. Estos objetos se clasifican en diferentes clases o tipos de datos: `4` es un número entero (**integer**) y \"¡Hola, mundo!\" es una cadena (**string**), así llamada porque contiene una cadena o secuencia de letras. Usted (y el intérprete) pueden identificar cadenas porque están entre comillas.\n",
    "\n",
    "Podemos especificar valores directamente en los programas que escribimos. Por ejemplo, podemos especificar un número como literal simplemente escribiéndolo (literalmente) directamente en el programa (por ejemplo, `5` o `4.32`). En un programa, especificamos una palabra, o más generalmente una cadena de caracteres, encerrando los caracteres entre comillas (por ejemplo, `\"¡Hola, mundo!\"`).\n",
    "\n",
    "Durante la ejecución de un programa, el intérprete de Python crea una representación interna de literales que se especifican en un programa. Luego puede manipularlos, por ejemplo, multiplicando dos números. Llamamos a las representaciones internas **objetos** o simplemente **valores**.\n",
    "\n",
    "No puede ver directamente las representaciones internas de valores. Sin embargo, puede utilizar la función `print` para ver una representación impresa en la ventana de salida.\n",
    "\n",
    "La representación impresa de un número utiliza la conocida representación decimal. Por lo tanto, la representación impresa de un número que se muestra en la ventana de salida es la misma que el literal que especifica en un programa.\n",
    "\n",
    "Sin embargo, la representación impresa de una cadena de caracteres no es exactamente la misma que la del literal utilizado para especificar la cadena en un programa. Para el literal en un programa, encierra la cadena entre comillas. La representación impresa, en la ventana de salida, omite las comillas.\n",
    "\n",
    "### Prueba imprimiendo valores decimales y literales:\n"
   ],
   "cell_type": "markdown",
   "metadata": {}
  },
  {
   "cell_type": "code",
   "execution_count": 1,
   "metadata": {},
   "outputs": [
    {
     "output_type": "stream",
     "name": "stdout",
     "text": [
      "3.2\nHello, World!\n"
     ]
    }
   ],
   "source": [
    "print(3.2)\n",
    "print(\"Hello, World!\")"
   ]
  },
  {
   "source": [
    "> **Nota** <br />\n",
    "Los literales (**literals**) aparecen en los programas. El intérprete de Python convierte los literales en valores (**values**), que tienen representaciones internas que la gente nunca puede ver directamente. Las salidas (**outputs**) son representaciones externas de valores que aparecen en la ventana de salida. En ese tutorial se usarán los términos de esta manera. A veces, sin embargo, nos volveremos un poco descuidados y nos referiremos a literales o representaciones externas como valores (**values**).\n",
    "\n",
    "Los números con un punto decimal pertenecen a un tipo llamado **float**, porque estos números se representan en un formato llamado floating-point.\n",
    "\n",
    "Pronto encontrarás también otros tipos de objetos, como listas (**lists**) y diccionarios (**dictionaries**). Cada uno de estos tiene su propia representación especial para especificar un objeto como literal en un programa y para mostrar un objeto cuando se imprime. Por ejemplo, el contenido de la lista se incluye entre corchetes []. También encontrará algunos objetos más complicados que no tienen representaciones impresas muy agradables: imprimirlos no será muy útil."
   ],
   "cell_type": "markdown",
   "metadata": {}
  },
  {
   "source": [
    "# Operadores y operandos\n",
    "\n",
    "Puede construir expresiones complejas a partir de expresiones más simples usando operadores (**operators**). Los operadores son fichas especiales que representan cálculos como suma, multiplicación y división. Los valores con los que trabaja el operador se denominan operandos.\n",
    "\n",
    "Las siguientes son expresiones legales de Python cuyo significado es más o menos claro:\n",
    "\n",
    ">20 + 32<br />\n",
    "5 ** 2<br />\n",
    "(5 + 9) * (15 - 7)\n",
    "\n",
    "Los tokens `+`, `-` y `*`, y el uso de paréntesis para agrupar, significan en Python lo que significan en matemáticas. El asterisco (`*`) es el símbolo para la multiplicación y `**` es el símbolo para la potenciación. La suma, la resta, la multiplicación y la potenciación hacen lo que esperas.\n",
    "\n",
    "Recuerde que si queremos ver los resultados del cálculo, el programa debe especificarlo con la palabra `print`. Se producen los tres primeros cálculos, pero sus resultados no se imprimen."
   ],
   "cell_type": "markdown",
   "metadata": {}
  },
  {
   "cell_type": "code",
   "execution_count": 2,
   "metadata": {},
   "outputs": [
    {
     "output_type": "stream",
     "name": "stdout",
     "text": [
      "12\n"
     ]
    }
   ],
   "source": [
    "20 + 32\n",
    "5**2\n",
    "(5 + 9) * (15 - 7)\n",
    "print(7 + 5)"
   ]
  },
  {
   "source": [
    "En Python 3, que usaremos, el operador de división `/` produce un resultado de punto flotante (incluso si el resultado es un número entero; `4/2` es `2.0`). Si desea una división truncada, que ignora el residuo, puede usar el operador `//` (por ejemplo: `5 // 2` es `2`)."
   ],
   "cell_type": "markdown",
   "metadata": {}
  },
  {
   "cell_type": "code",
   "execution_count": 3,
   "metadata": {},
   "outputs": [
    {
     "output_type": "stream",
     "name": "stdout",
     "text": [
      "1.8\n0.5555555555555556\n1\n"
     ]
    }
   ],
   "source": [
    "print(9 / 5)\n",
    "print(5 / 9)\n",
    "print(9 // 5)"
   ]
  },
  {
   "source": [
    "Presta especial atención a los ejemplos anteriores. Tenga en cuenta que `9 // 5` trunca en lugar de redondear, por lo que produce el valor 1 en lugar de 2.\n",
    "\n",
    "El operador de división truncado, `//`, también funciona con números de punto flotante. Se trunca al número entero más cercano, pero aún produce un resultado de punto flotante. Por tanto, `7.0 // 3.0` es `2.0`."
   ],
   "cell_type": "markdown",
   "metadata": {}
  },
  {
   "cell_type": "code",
   "execution_count": 4,
   "metadata": {},
   "outputs": [
    {
     "output_type": "stream",
     "name": "stdout",
     "text": [
      "2.3333333333333335\n2.0\n"
     ]
    }
   ],
   "source": [
    "print(7.0 / 3.0)\n",
    "print(7.0 // 3.0)"
   ]
  },
  {
   "source": [
    "El operador módulo (**modulus**), a veces también llamado operador de residuo (**remainder**) o operador de residuo entero (**integer remainder**), funciona con enteros (**integers**) (y expresiones de números enteros) y produce el residuo cuando el primer operando se divide por el segundo. En Python, el operador de módulo es un signo de porcentaje (`%`). La sintaxis es la misma que para otros operadores."
   ],
   "cell_type": "markdown",
   "metadata": {}
  },
  {
   "cell_type": "code",
   "execution_count": 5,
   "metadata": {},
   "outputs": [
    {
     "output_type": "stream",
     "name": "stdout",
     "text": [
      "2\n1\n"
     ]
    }
   ],
   "source": [
    "print(7 // 3)  # Este es operador de división de enteros\n",
    "print(7 % 3)  # Este es el operador de residuo o módulo"
   ]
  },
  {
   "source": [
    "En el ejemplo anterior, 7 dividido por 3 es 2 cuando usamos la división entera y hay un resto de 1.\n",
    "\n",
    "El operador de módulo resulta sorprendentemente útil. Por ejemplo, puedes verificar si un número es divisible por otro; si `x % y` es cero, entonces x es divisible por y. Además, puede extraer el dígito o dígitos más a la derecha de un número. Por ejemplo, `x % 10` produce el dígito más a la derecha de `x` (en base 10). De manera similar, `x % 100` produce los dos últimos dígitos."
   ],
   "cell_type": "markdown",
   "metadata": {}
  },
  {
   "source": [
    "# Uso de funciones\n",
    "\n",
    "El intérprete de Python puede calcular nuevos valores con el uso de funciones. Estás familiarizado con la idea de funciones del álgebra de la escuela secundaria. Allí puedes definir una función `f` especificando cómo transforma una entrada en una salida, `f (x) = 3x + 2`. Luego, puede escribir `f (5)` y esperar obtener el valor 17.\n",
    "\n",
    "Python adopta una sintaxis similar para invocar funciones. Si hay una función con nombre `foo` que toma una sola entrada, podemos invocar a foo en el valor 5 escribiendo `foo (5)`.\n",
    "\n",
    "Hay muchas funciones integradas disponibles en Python. Veremos algunas en este tutorial.\n",
    "\n",
    "Las funciones son como fábricas que toman algún material, realizan alguna operación y luego envían el objeto resultante. En este caso, nos referimos a los materiales como argumentos o entradas (**input**) y el objeto resultante se denomina salida o valor de retorno (**output**). Este proceso de tomar información, hacer algo y luego devolver la salida se demuestra en el siguiente gif. \n",
    "\n",
    "En este caso, nos referimos a los materiales como argumentos o entradas y el objeto resultante se denomina salida o valor de retorno. Este proceso de tomar información, hacer algo y luego devolver la salida se demuestra en el siguiente gif.\n",
    "\n",
    "<center><img src=\"https://runestone.academy/runestone/books/published/fopp/_images/function_calls.gif\" alt=\"Funciones\"\n",
    "\ttitle=\"Funciones\" width=\"300\" height=\"300\" /></center>\n",
    "\n",
    "También es posible que los programadores definan nuevas funciones en sus programas. A continuación un par de ejemplos sobre funciones definidas por un usuario: \n"
   ],
   "cell_type": "markdown",
   "metadata": {}
  },
  {
   "source": [
    "def square(x):\n",
    "    return x * x\n",
    "\n",
    "\n",
    "def sub(x, y):\n",
    "    return x - y"
   ],
   "cell_type": "code",
   "metadata": {},
   "execution_count": 6,
   "outputs": []
  },
  {
   "source": [
    "La función `square` toma un único parámetro de entrada y devuelve esa entrada multiplicada por sí misma. La función `sub` toma dos parámetros de entrada y devuelve el resultado de restar el segundo del primero. Obviamente, estas funciones no son particularmente útiles, ya que tenemos los operadores `*` y `-` disponibles. Pero ilustran cómo operan las funciones. La imagen siguiente ilustra cómo opera la función `square`.\n",
    "\n",
    "<center><img src=\"https://runestone.academy/runestone/books/published/fopp/_images/square_function.gif\" alt=\"Square\"\n",
    "\ttitle=\"Square\" width=\"400\" height=\"200\" /></center>"
   ],
   "cell_type": "markdown",
   "metadata": {}
  },
  {
   "cell_type": "code",
   "execution_count": 7,
   "metadata": {},
   "outputs": [
    {
     "output_type": "stream",
     "name": "stdout",
     "text": [
      "9\n2\n-4\n"
     ]
    }
   ],
   "source": [
    "print(square(3))\n",
    "square(5)\n",
    "print(sub(6, 4))\n",
    "print(sub(5, 9))"
   ]
  },
  {
   "source": [
    "Observa que cuando una función toma más de un parámetro de entrada, las entradas están separadas por una coma. También tenga en cuenta que el orden de las entradas es importante. El valor antes de la coma se trata como la primera entrada, el valor después de ella como la segunda entrada.\n",
    "\n",
    "Nuevamente, recuerde que cuando Python realiza cálculos, los resultados solo se muestran en la ventana de salida si hay una declaración `print` que indique que haga eso. En la ventana de código activo de arriba, `square (5)` produce el valor 25 pero nunca lo vemos en la ventana de salida, porque no se imprime.\n",
    "\n",
    "## Uso de funciones como parte de expresiones complejas\n",
    "\n",
    "En cualquier lugar de una expresión en la que puedas escribir un literal como un número, también puedes escribir una invocación de función que produzca un número.\n",
    "\n",
    "Por ejemplo:\n"
   ],
   "cell_type": "markdown",
   "metadata": {}
  },
  {
   "cell_type": "code",
   "execution_count": 8,
   "metadata": {},
   "outputs": [
    {
     "output_type": "stream",
     "name": "stdout",
     "text": [
      "11\n5\n"
     ]
    }
   ],
   "source": [
    "print(square(3) + 2)\n",
    "print(sub(square(3), square(1 + 1)))"
   ]
  },
  {
   "source": [
    "## Las funciones son objetos; los paréntesis invocan funciones\n",
    "\n",
    "Las funciones son en sí mismas solo objetos. Si le dice a Python que imprima el objeto de la función, en lugar de imprimir los resultados de invocar el objeto de la función, obtendrá una representacón impresas no tan agradable.\n",
    "\n",
    "Simplemente escribir el nombre de la función se refiere a la función como un objeto. Escribir el nombre de la función seguido de paréntesis `()` invoca la función."
   ],
   "cell_type": "markdown",
   "metadata": {}
  },
  {
   "cell_type": "code",
   "execution_count": 9,
   "metadata": {},
   "outputs": [
    {
     "output_type": "stream",
     "name": "stdout",
     "text": [
      "<function square at 0x000001DB474AD168>\n9\n"
     ]
    }
   ],
   "source": [
    "print(square)\n",
    "print(square(3))"
   ]
  },
  {
   "source": [
    "# Tipos de datos\n",
    "Si no estás seguro de qué tipo de dato se trata un valor determinado, Python tiene una función llamada `type` que puede decírtelo.\n"
   ],
   "cell_type": "markdown",
   "metadata": {}
  },
  {
   "cell_type": "code",
   "execution_count": 10,
   "metadata": {},
   "outputs": [
    {
     "output_type": "stream",
     "name": "stdout",
     "text": [
      "<class 'str'>\n<class 'int'>\nHello, World\n<class 'float'>\n"
     ]
    }
   ],
   "source": [
    "print(type(\"Hello, World!\"))\n",
    "print(type(17))\n",
    "print(\"Hello, World\")\n",
    "print(type(3.2))"
   ]
  },
  {
   "source": [
    "¿Qué pasa con valores como `\"17\"` y `\"3,2\"`? Parecen números, pero están entre comillas como cadenas."
   ],
   "cell_type": "markdown",
   "metadata": {}
  },
  {
   "cell_type": "code",
   "execution_count": 11,
   "metadata": {},
   "outputs": [
    {
     "output_type": "stream",
     "name": "stdout",
     "text": [
      "<class 'str'>\n<class 'str'>\n"
     ]
    }
   ],
   "source": [
    "print(type(\"17\"))\n",
    "print(type(\"3.2\"))"
   ]
  },
  {
   "source": [
    "¡Son cadenas!\n",
    "\n",
    "Las cadenas en Python se pueden escribir entre comillas simples (`'`) o comillas dobles (`\"`), o tres de cada uno (`'''` o `\"\"\"`)"
   ],
   "cell_type": "markdown",
   "metadata": {}
  },
  {
   "cell_type": "code",
   "execution_count": 12,
   "metadata": {},
   "outputs": [
    {
     "output_type": "stream",
     "name": "stdout",
     "text": [
      "<class 'str'>\n<class 'str'>\n<class 'str'>\n<class 'str'>\n"
     ]
    }
   ],
   "source": [
    "print(type(\"This is a string.\"))\n",
    "print(type(\"And so is this.\"))\n",
    "print(type(\"\"\"and this.\"\"\"))\n",
    "print(type(\"\"\"and even this...\"\"\"))"
   ]
  },
  {
   "source": [
    "A Python no le importa si usas comillas simples o dobles o las comillas tripartitas para rodear sus cadenas. Una vez que ha analizado el texto de su programa o comando, la forma en que almacena el valor es idéntica en todos los casos, y las comillas circundantes no forman parte del valor."
   ],
   "cell_type": "markdown",
   "metadata": {}
  },
  {
   "cell_type": "code",
   "execution_count": 13,
   "metadata": {},
   "outputs": [
    {
     "output_type": "stream",
     "name": "stdout",
     "text": [
      "This is a string.\nAnd so is this.\n"
     ]
    }
   ],
   "source": [
    "print(\"This is a string.\")\n",
    "print(\"\"\"And so is this.\"\"\")"
   ]
  },
  {
   "source": [
    "Cuando escribe un número entero grande, puede tener la tentación de utilizar comas entre grupos de tres dígitos, como en `42,000`. Este no es integer legal en Python, pero significa algo más, que es legal:"
   ],
   "cell_type": "markdown",
   "metadata": {}
  },
  {
   "cell_type": "code",
   "execution_count": 14,
   "metadata": {},
   "outputs": [
    {
     "output_type": "stream",
     "name": "stdout",
     "text": [
      "42500\n42 500\n"
     ]
    }
   ],
   "source": [
    "print(42500)\n",
    "print(42, 500)"
   ]
  },
  {
   "source": [
    "Bueno, ¡eso no es lo que esperábamos en absoluto! Debido a la coma, Python eligió tratar esto como un par de valores. De hecho, una declaración `print` puede imprimir cualquier número de valores siempre que sean separados con comas. Observa que los valores están separados por espacios cuando se muestran."
   ],
   "cell_type": "markdown",
   "metadata": {}
  },
  {
   "cell_type": "code",
   "execution_count": 15,
   "metadata": {},
   "outputs": [
    {
     "output_type": "stream",
     "name": "stdout",
     "text": [
      "42 17 56 34 11 4.35 32\n3.4 hello 45\n"
     ]
    }
   ],
   "source": [
    "print(42, 17, 56, 34, 11, 4.35, 32)\n",
    "print(3.4, \"hello\", 45)"
   ]
  },
  {
   "source": [
    "Recuerda no poner comas o espacios en sus números enteros, sin importar cuán grandes sean. *Los lenguajes formales son estrictos, la notación es concisa e incluso el cambio más pequeño puede significar algo bastante diferente de lo que se pretendía*."
   ],
   "cell_type": "markdown",
   "metadata": {}
  },
  {
   "source": [
    "# Variables\n",
    "\n",
    "Una de las características más poderosas de un lenguaje de programación es la capacidad de manipular variables. Una variable es un nombre que hace referencia a un valor.\n",
    "\n",
    "Las declaraciones de asignación (**assignment statements**) crean nuevas variables y también les dan valores a los que hacer referencia.\n",
    "\n",
    ">mensaje = \"¿Qué onda, Doc?\"<br />\n",
    "n = 17<br />\n",
    "pi = 3.14159\n",
    "\n",
    "Este ejemplo hace tres asignaciones. El primero asigna el valor de cadena `\"¿Qué onda, Doc?\"` a una nueva variable llamada `mensaje`. El segundo asigna el integer `17` a `n`, y el tercero asigna el número de punto flotante `3.14159` a una variable llamada `pi`.\n",
    "\n",
    "El token de asignación, `=`, no debe confundirse con la igualdad (veremos más adelante que la igualdad usa el token `==`). La declaración de asignación vincula un nombre, en el lado izquierdo del operador, con un *valor*, en el lado derecho. Es por eso que obtendrás un error si ingresas:\n",
    "\n",
    ">17 = n\n"
   ],
   "cell_type": "markdown",
   "metadata": {}
  },
  {
   "source": [
    ">\n",
    "**Consejo**\n",
    ">\n",
    "Al leer o escribir código, di \"a n se asigna 17\" o \"n obtiene el valor 17\" o \"n es una referencia al objeto 17\" o \"n se refiere al objeto 17\". No diga \"n es igual a 17\".\n",
    ">\n",
    "\n",
    "Si tu programa incluye una variable en cualquier expresión, siempre que se ejecute esa expresión producirá el valor que está vinculado a la variable en el momento de la ejecución. En otras palabras, evaluar una variable busca su valor."
   ],
   "cell_type": "markdown",
   "metadata": {}
  },
  {
   "cell_type": "code",
   "execution_count": 16,
   "metadata": {},
   "outputs": [
    {
     "output_type": "stream",
     "name": "stdout",
     "text": [
      "¿Qué onda, Doc?\n",
      "17\n",
      "3.14159\n"
     ]
    }
   ],
   "source": [
    "mensaje = \"¿Qué onda, Doc?\"\n",
    "n = 17\n",
    "pi = 3.14159\n",
    "\n",
    "print(mensaje)\n",
    "print(n)\n",
    "print(pi)"
   ]
  },
  {
   "source": [
    "Usamos variables en un programa para \"recordar\" cosas, como la puntuación actual en el partido de fútbol. Pero las variables son variables. Esto significa que pueden cambiar con el tiempo, al igual que el marcador en un partido de fútbol. Puedes asignar un valor a una variable y luego asignar un valor diferente a la misma variable.\n",
    "\n",
    "Gran parte de la programación consiste en que la computadora recuerde cosas. Por ejemplo, es posible que deseemos realizar un seguimiento de la cantidad de llamadas perdidas en tu teléfono. Cada vez que se pierda otra llamada, haremos los arreglos para actualizar o cambiar la variable para que siempre refleje el valor correcto.\n",
    "\n",
    "En cualquier lugar de un programa Python donde se espere un número o una cadena, puede poner un nombre de variable en su lugar. El intérprete de Python sustituirá el valor por el nombre de la variable.\n",
    "\n",
    "Por ejemplo, podemos averiguar el tipo de datos del valor actual de una variable poniendo el nombre de la variable entre paréntesis después de la función `type`"
   ],
   "cell_type": "markdown",
   "metadata": {}
  },
  {
   "cell_type": "code",
   "execution_count": 17,
   "metadata": {},
   "outputs": [
    {
     "output_type": "stream",
     "name": "stdout",
     "text": [
      "<class 'str'>\n",
      "<class 'int'>\n",
      "<class 'float'>\n"
     ]
    }
   ],
   "source": [
    "mensaje = \"¿Qué onda, Doc?\"\n",
    "n = 17\n",
    "pi = 3.14159\n",
    "\n",
    "print(type(mensaje))\n",
    "print(type(n))\n",
    "print(type(pi))"
   ]
  },
  {
   "source": [
    "# Valores booleanos y expresiones booleanas\n",
    "\n",
    "El tipo de datos en Python utilizado para almacenar valores verdaderos y falsos se llama `bool`, llamado así por el matemático británico George Boole. George Boole creó el álgebra booleana, que es la base de toda la aritmética informática moderna.\n",
    "\n",
    "Solo hay dos valores booleanos. Son verdaderos (`True`) y falsos (`False`). El uso de mayúsculas es importante, ya que `true` y `false` no son valores booleanos (recuerda que Python distingue entre mayúsculas y minúsculas).\n",
    "\n",
    "\n",
    "https://runestone.academy/runestone/books/published/fopp/Conditionals/BooleanValuesandBooleanExpressions.html\n",
    "\n",
    "Incluir operadores logicos"
   ],
   "cell_type": "markdown",
   "metadata": {}
  },
  {
   "cell_type": "code",
   "execution_count": 18,
   "metadata": {},
   "outputs": [
    {
     "output_type": "stream",
     "name": "stdout",
     "text": [
      "True\n<class 'bool'>\n<class 'bool'>\n"
     ]
    }
   ],
   "source": [
    "print(True)\n",
    "print(type(True))\n",
    "print(type(False))"
   ]
  },
  {
   "source": [
    "¡Los valores booleanos no son cadenas!\n",
    "\n",
    "Es extremadamente importante darse cuenta de que True y False no son cadenas. No están rodeados de comillas. Son los únicos dos valores del tipo de datos `bool`. Echa un vistazo de cerca a los tipos que se muestran a continuación."
   ],
   "cell_type": "markdown",
   "metadata": {}
  },
  {
   "cell_type": "code",
   "execution_count": 19,
   "metadata": {},
   "outputs": [
    {
     "output_type": "stream",
     "name": "stdout",
     "text": [
      "<class 'bool'>\n",
      "<class 'str'>\n"
     ]
    }
   ],
   "source": [
    "print(type(True))\n",
    "print(type(\"True\"))"
   ]
  },
  {
   "source": [
    "Una expresión booleana es una expresión que da como resultado un valor booleano. El operador de igualdad, `==`, compara dos valores y produce un valor booleano que indica si los dos valores son iguales entre sí."
   ],
   "cell_type": "markdown",
   "metadata": {}
  },
  {
   "cell_type": "code",
   "execution_count": 20,
   "metadata": {},
   "outputs": [
    {
     "output_type": "stream",
     "name": "stdout",
     "text": [
      "True\nFalse\n"
     ]
    }
   ],
   "source": [
    "print(5 == 5)\n",
    "print(5 == 6)"
   ]
  },
  {
   "source": [
    "En la primera declaración, los dos operandos son iguales, por lo que la expresión se evalúa como `True`. En la segunda declaración, 5 no es igual a 6, por lo que obtenemos `False`.\n",
    "\n",
    "El operador `==` es uno de los seis operadores de comparación comunes; los otros son:\n",
    "\n",
    ">x! = y      # x no es igual a y <br />\n",
    "x> y        # x es mayor que y <br />\n",
    "x <y        # x es menor que y <br />\n",
    "x> = y      # x es mayor o igual que y <br />\n",
    "x <= y      # x es menor o igual que y <br />\n",
    "\n",
    "Aunque estas operaciones probablemente le resulten familiares, los símbolos de Python son diferentes de los símbolos matemáticos. Un error común es usar un solo signo igual (`=`) en lugar de un doble signo igual (`==`). Recuerda que `=` es un operador de asignación y `==` es un operador de comparación. Además, no existe tal cosa como `=<` o `=>`.\n",
    "\n",
    "Tenga en cuenta también que una prueba de igualdad es simétrica, pero la asignación no lo es. Por ejemplo, si a == 7 entonces 7 == a. Pero en Python, la declaración `a = 7` es legal y `7 = a` no lo es.\n"
   ],
   "cell_type": "markdown",
   "metadata": {}
  },
  {
   "source": [
    "## Operadores lógicos\n",
    "\n",
    "Hay tres operadores lógicos: `and`, `or` y `not`. Los tres operadores toman operandos booleanos y producen valores booleanos. El significado de estos operadores es similar a su significado en inglés:\n",
    "\n",
    "`x and y` es verdadero si tanto `x` como `y` son `True`. De lo contrario, produce `False`.\n",
    "\n",
    "`x or y` da como resultado `True` si `x` o `y` es `True`. Solo si ambos operandos son `False`, `or` produce `False`.\n",
    "\n",
    "`not x` produce `False` si x es `True`, y viceversa.\n",
    "\n",
    "Mira el siguiente ejemplo. Ve si puedes predecir la salida. Luego, ejecuta la celda para ver si tus predicciones fueron correctas:"
   ],
   "cell_type": "markdown",
   "metadata": {}
  },
  {
   "cell_type": "code",
   "execution_count": 21,
   "metadata": {},
   "outputs": [
    {
     "output_type": "stream",
     "name": "stdout",
     "text": [
      "True\nFalse\nFalse\n"
     ]
    }
   ],
   "source": [
    "x = True\n",
    "y = False\n",
    "print(x or y)\n",
    "print(x and y)\n",
    "print(not x)"
   ]
  },
  {
   "source": [
    "Aunque puede usar operadores booleanos con variables o literales booleanos simples como en el ejemplo anterior, a menudo se combinan con los operadores de comparación, como en este ejemplo. Nuevamente, antes de ejecutar esto, ve si puedes predecir el resultado:"
   ],
   "cell_type": "markdown",
   "metadata": {}
  },
  {
   "cell_type": "code",
   "execution_count": 22,
   "metadata": {},
   "outputs": [
    {
     "output_type": "stream",
     "name": "stdout",
     "text": [
      "True\nFalse\n"
     ]
    }
   ],
   "source": [
    "x = 5\n",
    "print(x > 0 and x < 10)\n",
    "\n",
    "n = 25\n",
    "print(n % 2 == 0 or n % 3 == 0)"
   ]
  },
  {
   "source": [
    "La expresión `x>0 and x<10` es `True` solo si `x` es mayor que 0 y, al mismo tiempo, `x` es menor que 10. En otras palabras, esta expresión es `True` si `x` está entre 0 y 10, sin incluir los extremos."
   ],
   "cell_type": "markdown",
   "metadata": {}
  },
  {
   "source": [
    "# Statements and Expressions\n",
    "\n",
    "Una **declaración** es una instrucción que puede ejecutar el intérprete de Python. Hasta ahora, solo has visto la declaración de **asignación**. Algunos otros tipos de declaraciones que verás posteriormente son declaraciones `while`, `for`, `if` e `import` (¡También hay otros tipos!).\n",
    "\n",
    "Una **expresión** es una combinación de literales, nombres de variables, operadores y llamadas a funciones. Las expresiones deben evaluarse. El resultado de evaluar una expresión es un *value* u *object*.\n",
    "\n",
    "Si les pide a Python que imprima una expresión, el intérprete evalúa la expresión y muestra el resultado.\n",
    "\n",
    "## Reassignment\n",
    "## Updating Variables\n",
    "https://runestone.academy/runestone/books/published/fopp/SimplePythonData/StatementsandExpressions.html"
   ],
   "cell_type": "markdown",
   "metadata": {}
  },
  {
   "cell_type": "code",
   "execution_count": 23,
   "metadata": {},
   "outputs": [
    {
     "output_type": "stream",
     "name": "stdout",
     "text": [
      "8\n5\n"
     ]
    }
   ],
   "source": [
    "print(1 + 1 + (2 * 3))\n",
    "print(len(\"hello\"))"
   ]
  },
  {
   "source": [
    "En este ejemplo, `len` es una función de Python que devuelve el número de caracteres en una cadena.\n",
    "\n",
    "La *evaluación de una expresión* produce un valor, por lo que las expresiones pueden aparecer en el lado derecho de las instrucciones de asignación. Un literal en sí mismo es una expresión simple, y también una variable."
   ],
   "cell_type": "markdown",
   "metadata": {}
  },
  {
   "cell_type": "code",
   "execution_count": 24,
   "metadata": {},
   "outputs": [
    {
     "output_type": "stream",
     "name": "stdout",
     "text": [
      "5\n3.14\n"
     ]
    }
   ],
   "source": [
    "y = 3.14\n",
    "x = len(\"hello\")\n",
    "print(x)\n",
    "print(y)"
   ]
  },
  {
   "source": [
    "En un programa, en cualquier lugar donde sea aceptable un valor literal (una cadena o un número), también es aceptable una expresión más complicada. A continuación, se muestran todos los tipos de expresiones que hemos visto hasta ahora:\n",
    "\n",
    "**literal** <br/>\n",
    "por ejemplo, \"Hola\" o 3.14\n",
    "\n",
    "**nombre de la variable** <br/>\n",
    "por ejemplo, x o len\n",
    "\n",
    "**expresión del operador** <br/>\n",
    "<expresión> nombre-del-operador <expresión>\n",
    "\n",
    "**expresiones de llamada a función** <br/>\n",
    "<expresión> (<expresiones separadas por comas>)\n",
    "\n",
    "Observe que las expresiones de operador (como `+` y `*`) tienen subexpresiones antes y después del operador. Cada uno de estos pueden ser expresiones simples o complejas. De esa manera, puedes llegar a tener expresiones bastante complicadas."
   ],
   "cell_type": "markdown",
   "metadata": {}
  },
  {
   "cell_type": "code",
   "execution_count": 25,
   "metadata": {},
   "outputs": [
    {
     "output_type": "stream",
     "name": "stdout",
     "text": [
      "17\n"
     ]
    }
   ],
   "source": [
    "print(2 * len(\"hello\") + len(\"goodbye\"))"
   ]
  },
  {
   "source": [
    "De manera similar, al llamar a una función, en lugar de poner un literal entre paréntesis, se puede colocar una expresión compleja entre paréntesis."
   ],
   "cell_type": "markdown",
   "metadata": {}
  },
  {
   "cell_type": "code",
   "execution_count": 26,
   "metadata": {},
   "outputs": [
    {
     "output_type": "stream",
     "name": "stdout",
     "text": [
      "16\n25\n-3\n"
     ]
    }
   ],
   "source": [
    "x = 2\n",
    "y = 1\n",
    "print(square(y + 3))\n",
    "print(square(y + square(x)))\n",
    "print(sub(square(y), square(x)))"
   ]
  },
  {
   "source": [
    "Con una llamada de función, incluso es posible tener una expresión compleja antes del paréntesis izquierdo, siempre que esa expresión se evalúe como un objeto de función.\n",
    "\n",
    "Es importante comenzar a aprender a leer código que contiene expresiones complejas. El intérprete de Python examina cualquier línea de código y la analiza en componentes. Por ejemplo, si ve un símbolo `=`, intentará tratar toda la línea como una declaración de asignación. Esperará ver un nombre de variable válido a la izquierda de `=` y analizará todo lo que esté a la derecha de `=` como una expresión. Intentará averiguar si el lado derecho es un literal, un nombre de variable, una expresión de operador o una expresión de llamada a función. Si es una expresión de operador, intentará analizar las subexpresiones antes y después del operador. Etcétera. Deberías aprender a analizar líneas de código de la misma manera.\n",
    "\n",
    "Para evaluar una expresión de operador, el intérprete de Python primero evalúa completamente la expresión antes del operador, luego la siguiente, luego combina los dos valores resultantes usando el operador. Para evaluar una expresión de llamada de función, el intérprete evalúa la expresión antes del paréntesis (es decir, busca el nombre de la función). Luego intenta evaluar cada una de las expresiones entre paréntesis. Puede haber más de uno, separados por comas. Los valores de esas expresiones se pasan como entradas a la función cuando se llama a la función.\n",
    "\n",
    "Si una expresión de llamada a función es una subexpresión de alguna expresión más complicada, como `square (x)` está en `sub(square (y), square(x))`, entonces el valor de retorno de `square(x)` se pasa como entrada a la subfunción. Esta es una de las cosas difíciles a las que tendrá que acostumbrarse cuando lea (o escriba) código. En este ejemplo, la función `square` se llama (dos veces) antes de que se llame a `sub`, aunque la función `sub` aparece primero al leer el código de izquierda a derecha."
   ],
   "cell_type": "markdown",
   "metadata": {}
  },
  {
   "source": [
    "Si tienes tiempo, te invito a explorar el [Capitulo 2](https://runestone.academy/runestone/books/published/fopp/SimplePythonData/intro-VariablesExpressionsandStatements.html) del tutorial original en inglés."
   ],
   "cell_type": "markdown",
   "metadata": {}
  }
 ]
}