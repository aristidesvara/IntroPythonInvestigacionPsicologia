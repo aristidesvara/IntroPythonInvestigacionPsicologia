{
 "metadata": {
  "language_info": {
   "codemirror_mode": {
    "name": "ipython",
    "version": 3
   },
   "file_extension": ".py",
   "mimetype": "text/x-python",
   "name": "python",
   "nbconvert_exporter": "python",
   "pygments_lexer": "ipython3",
   "version": "3.7.9"
  },
  "orig_nbformat": 2,
  "kernelspec": {
   "name": "python379jvsc74a57bd0fcc1d2c210046f8d6f0962280d91bf96fd89619bab60881df3e6b70c67140f94",
   "display_name": "Python 3.7.9 64-bit (conda)"
  }
 },
 "nbformat": 4,
 "nbformat_minor": 2,
 "cells": [
  {
   "source": [
    "# Intervenciones web de psicología positiva\n",
    "\n",
    "Como parte de tu trabajo en la división de salud mental de la OMS, te han encargado examinar la evidencia disponible acerca de intervenciones web breves para mejorar el bienestar y reducir la depresión. Durante tu revisión, un colega te compartió la siguiente referencia:\n",
    "\n",
    ">Woodworth, R. J., O'Brien-Malone, A., Diamond, M. R., & Schüz, B. (2018). Data from, ‘Web-based Positive Psychology Interventions: A Reexamination of Effectiveness’. Journal of Open Psychology Data, 6(1), 1. DOI: http://doi.org/10.5334/jopd.35\n",
    "\n",
    "El estudio en cuestión tiene resultados alentadores. Sin embargo, algo dentro de ti te dice que puede ser demasiado bueno para ser cierto. Decides escuchar tu intuición y revisas los datos para re-hacer el análisis y extraer tus propias conclusiones. \n",
    "\n",
    "Primero, cargas los datos y das un vistazo general."
   ],
   "cell_type": "markdown",
   "metadata": {}
  },
  {
   "cell_type": "code",
   "execution_count": 1,
   "metadata": {},
   "outputs": [],
   "source": [
    "import pandas as pd\n",
    "import matplotlib.pyplot as plt\n",
    "import numpy as np\n",
    "import scipy.stats as stats\n",
    "import seaborn as sns\n",
    "import statsmodels.formula.api as smf\n",
    "from statsmodels.stats.multicomp import pairwise_tukeyhsd\n",
    "\n",
    "df = pd.read_csv(\n",
    "    \"https://raw.githubusercontent.com/renatoparedes/IntroPythonInvestigacionPsicologia/master/AnalisisdeDatosCuantitativos/ahi-cesd.csv\"\n",
    ")"
   ]
  },
  {
   "cell_type": "code",
   "execution_count": 2,
   "metadata": {},
   "outputs": [
    {
     "output_type": "execute_result",
     "data": {
      "text/plain": [
       "   id  occasion  elapsed.days  intervention  ahi01  ahi02  ahi03  ahi04  \\\n",
       "0   1         0      0.000000             4      2      3      2      3   \n",
       "1   1         1     11.772731             4      3      3      4      3   \n",
       "2   2         0      0.000000             1      3      4      3      4   \n",
       "3   2         1      8.017523             1      3      4      4      4   \n",
       "4   2         2     14.304086             1      3      4      4      4   \n",
       "\n",
       "   ahi05  ahi06  ...  cesd13  cesd14  cesd15  cesd16  cesd17  cesd18  cesd19  \\\n",
       "0      3      2  ...       2       3       1       2       1       1       2   \n",
       "1      3      4  ...       1       2       1       3       1       1       1   \n",
       "2      2      3  ...       1       1       1       4       1       1       1   \n",
       "3      3      3  ...       1       1       1       3       1       1       1   \n",
       "4      3      3  ...       3       1       1       1       1       1       1   \n",
       "\n",
       "   cesd20  ahiTotal  cesdTotal  \n",
       "0       2        63         14  \n",
       "1       1        73          6  \n",
       "2       1        73          7  \n",
       "3       1        89         10  \n",
       "4       1        89         13  \n",
       "\n",
       "[5 rows x 50 columns]"
      ],
      "text/html": "<div>\n<style scoped>\n    .dataframe tbody tr th:only-of-type {\n        vertical-align: middle;\n    }\n\n    .dataframe tbody tr th {\n        vertical-align: top;\n    }\n\n    .dataframe thead th {\n        text-align: right;\n    }\n</style>\n<table border=\"1\" class=\"dataframe\">\n  <thead>\n    <tr style=\"text-align: right;\">\n      <th></th>\n      <th>id</th>\n      <th>occasion</th>\n      <th>elapsed.days</th>\n      <th>intervention</th>\n      <th>ahi01</th>\n      <th>ahi02</th>\n      <th>ahi03</th>\n      <th>ahi04</th>\n      <th>ahi05</th>\n      <th>ahi06</th>\n      <th>...</th>\n      <th>cesd13</th>\n      <th>cesd14</th>\n      <th>cesd15</th>\n      <th>cesd16</th>\n      <th>cesd17</th>\n      <th>cesd18</th>\n      <th>cesd19</th>\n      <th>cesd20</th>\n      <th>ahiTotal</th>\n      <th>cesdTotal</th>\n    </tr>\n  </thead>\n  <tbody>\n    <tr>\n      <th>0</th>\n      <td>1</td>\n      <td>0</td>\n      <td>0.000000</td>\n      <td>4</td>\n      <td>2</td>\n      <td>3</td>\n      <td>2</td>\n      <td>3</td>\n      <td>3</td>\n      <td>2</td>\n      <td>...</td>\n      <td>2</td>\n      <td>3</td>\n      <td>1</td>\n      <td>2</td>\n      <td>1</td>\n      <td>1</td>\n      <td>2</td>\n      <td>2</td>\n      <td>63</td>\n      <td>14</td>\n    </tr>\n    <tr>\n      <th>1</th>\n      <td>1</td>\n      <td>1</td>\n      <td>11.772731</td>\n      <td>4</td>\n      <td>3</td>\n      <td>3</td>\n      <td>4</td>\n      <td>3</td>\n      <td>3</td>\n      <td>4</td>\n      <td>...</td>\n      <td>1</td>\n      <td>2</td>\n      <td>1</td>\n      <td>3</td>\n      <td>1</td>\n      <td>1</td>\n      <td>1</td>\n      <td>1</td>\n      <td>73</td>\n      <td>6</td>\n    </tr>\n    <tr>\n      <th>2</th>\n      <td>2</td>\n      <td>0</td>\n      <td>0.000000</td>\n      <td>1</td>\n      <td>3</td>\n      <td>4</td>\n      <td>3</td>\n      <td>4</td>\n      <td>2</td>\n      <td>3</td>\n      <td>...</td>\n      <td>1</td>\n      <td>1</td>\n      <td>1</td>\n      <td>4</td>\n      <td>1</td>\n      <td>1</td>\n      <td>1</td>\n      <td>1</td>\n      <td>73</td>\n      <td>7</td>\n    </tr>\n    <tr>\n      <th>3</th>\n      <td>2</td>\n      <td>1</td>\n      <td>8.017523</td>\n      <td>1</td>\n      <td>3</td>\n      <td>4</td>\n      <td>4</td>\n      <td>4</td>\n      <td>3</td>\n      <td>3</td>\n      <td>...</td>\n      <td>1</td>\n      <td>1</td>\n      <td>1</td>\n      <td>3</td>\n      <td>1</td>\n      <td>1</td>\n      <td>1</td>\n      <td>1</td>\n      <td>89</td>\n      <td>10</td>\n    </tr>\n    <tr>\n      <th>4</th>\n      <td>2</td>\n      <td>2</td>\n      <td>14.304086</td>\n      <td>1</td>\n      <td>3</td>\n      <td>4</td>\n      <td>4</td>\n      <td>4</td>\n      <td>3</td>\n      <td>3</td>\n      <td>...</td>\n      <td>3</td>\n      <td>1</td>\n      <td>1</td>\n      <td>1</td>\n      <td>1</td>\n      <td>1</td>\n      <td>1</td>\n      <td>1</td>\n      <td>89</td>\n      <td>13</td>\n    </tr>\n  </tbody>\n</table>\n<p>5 rows × 50 columns</p>\n</div>"
     },
     "metadata": {},
     "execution_count": 2
    }
   ],
   "source": [
    "df.head()"
   ]
  },
  {
   "source": [
    "# Antes y después\n",
    "\n",
    "La base de datos tiene muchas variables. Para enfocar tu trabajo, decides fijarte únicamente en las siguientes variables:\n",
    "\n",
    "- `ahiTotal` : Puntaje total del Authentic Happiness Inventory (AHI)\n",
    "- `cesdTotal` : Puntaje total del Center for Epidemiological Studies Depression (CES-D) scale\n",
    "- `occasion`: Momento de medición (0:Pretest, 1:Posttest, 2: Seguimiento a la 1era semana, 3: Seguimiento al 1er mes, 4: Seguimiento a los 3 meses, 5: Seguimiento a los 6 meses).\n",
    "- `intervention`: Intervención recibida (1:Usar fortalezas distintivas, 2:Tres cosas buenas, 3:Visita de gratitud, 4:Registro de recuerdos tempranos -condición de control- )\n",
    "\n",
    "## A partir de estas variables:\n",
    "\n",
    "- Genera un DataFrame que solo contenga los datos de Pretest y Posttest."
   ],
   "cell_type": "markdown",
   "metadata": {}
  },
  {
   "cell_type": "code",
   "execution_count": 52,
   "metadata": {},
   "outputs": [],
   "source": []
  },
  {
   "source": [
    "- Genera una visualización que permita comparar los puntajes de la escala AHI según las intervenciones y los momentos de medición (pretest y posttest). ¿Observas alguna diferencia potencialmente significativa?\n",
    "\n",
    ">Sugerencia: utiliza las funciones boxpot o violinplot del paquete seaborn."
   ],
   "cell_type": "markdown",
   "metadata": {}
  },
  {
   "cell_type": "code",
   "execution_count": null,
   "metadata": {},
   "outputs": [],
   "source": []
  },
  {
   "source": [
    "- Genera una visualización que permita comparar los puntajes de la escala CES-D según las intervenciones y los momentos de medición (pretest y posttest). ¿Observas alguna diferencia potencialmente significativa?\n",
    "\n",
    ">Sugerencia: utiliza las funciones boxpot o violinplot del paquete seaborn."
   ],
   "cell_type": "markdown",
   "metadata": {}
  },
  {
   "cell_type": "code",
   "execution_count": null,
   "metadata": {},
   "outputs": [],
   "source": []
  },
  {
   "source": [
    "- Utiliza un ANOVA mixto (1 factor intrasujeto y 1 factor intersujeto) para examinar si existen efectos principales de las intervenciones (`Intervention`) y el momento de medición (`Occasion`) en los puntajes de la escala AHI (`ahiTotal`). ¿Qué puedes concluir?\n",
    "\n",
    ">Sugerencia: Utiliza la función `mixedlm` disponible en el paquete [statsmodel](https://www.statsmodels.org/stable/mixed_linear.html). Puede que necesites leer un poco sobre el [lenguaje de fórmulas](https://patsy.readthedocs.io/en/latest/formulas.html) para aplicarla correctamente. "
   ],
   "cell_type": "markdown",
   "metadata": {}
  },
  {
   "cell_type": "code",
   "execution_count": null,
   "metadata": {},
   "outputs": [],
   "source": []
  },
  {
   "source": [
    "- Utiliza un ANOVA mixto (1 factor intrasujeto y 1 factor intersujeto) para examinar si existen efectos principales de las intervenciones (`Intervention`) y el momento de medición (`Occasion`) en los puntajes de la escala CES-D (`cesdTotal`). ¿Qué puedes concluir?\n",
    "\n",
    ">Sugerencia: Utiliza la función `mixedlm` disponible en el paquete [statsmodel](https://www.statsmodels.org/stable/mixed_linear.html). Puede que necesites leer un poco sobre el [lenguaje de fórmulas](https://patsy.readthedocs.io/en/latest/formulas.html) para aplicarla correctamente. "
   ],
   "cell_type": "markdown",
   "metadata": {}
  },
  {
   "cell_type": "code",
   "execution_count": null,
   "metadata": {},
   "outputs": [],
   "source": []
  },
  {
   "source": [
    "# Follow-up\n",
    "\n",
    "Ahora te propones trabajar con todas los momentos de medición para verificar si existe algún cambio en tus conclusiones preliminares. \n",
    "\n",
    "- Genera una visualización que permita comparar los puntajes de la escala AHI según las 4 intervenciones y los 6 momentos de medición. ¿Observas alguna diferencia potencialmente significativa?\n",
    "\n",
    ">Sugerencia: Utiliza la función `lineplot` del paquete seaborn. "
   ],
   "cell_type": "markdown",
   "metadata": {}
  },
  {
   "cell_type": "code",
   "execution_count": null,
   "metadata": {},
   "outputs": [],
   "source": []
  },
  {
   "source": [
    "- Genera una visualización que permita comparar los puntajes de la escala CES-D según las 4 intervenciones y los 6 momentos de medición. ¿Observas alguna diferencia potencialmente significativa?\n",
    "\n",
    ">Sugerencia: Utiliza la función `lineplot` del paquete seaborn. "
   ],
   "cell_type": "markdown",
   "metadata": {}
  },
  {
   "cell_type": "code",
   "execution_count": null,
   "metadata": {},
   "outputs": [],
   "source": []
  },
  {
   "source": [
    "- Utiliza un ANOVA mixto 4x6 para examinar si existen efectos principales de las intervenciones (Intervention) y el momento de medición (Occasion) en los puntajes de la escala AHI (`ahiTotal`). ¿Qué puedes concluir?\n"
   ],
   "cell_type": "markdown",
   "metadata": {}
  },
  {
   "cell_type": "code",
   "execution_count": null,
   "metadata": {},
   "outputs": [],
   "source": []
  },
  {
   "source": [
    "- De ser pertinente, realiza el cálculo de comparaciones múltiples con la prueba de Tukey. ¿Qué puedes concluir?\n",
    "> Sugerencia: utiliza la función `pairwise_tukeyhsd` del paquete stats.model"
   ],
   "cell_type": "markdown",
   "metadata": {}
  },
  {
   "cell_type": "code",
   "execution_count": null,
   "metadata": {},
   "outputs": [],
   "source": []
  },
  {
   "source": [
    "- Utiliza un ANOVA mixto 4x6 para examinar si existen efectos principales de las intervenciones (Intervention) y el momento de medición (Occasion) en los puntajes de la escala CES-D (`cesdTotal`). ¿Qué puedes concluir?"
   ],
   "cell_type": "markdown",
   "metadata": {}
  },
  {
   "cell_type": "code",
   "execution_count": null,
   "metadata": {},
   "outputs": [],
   "source": []
  }
 ]
}