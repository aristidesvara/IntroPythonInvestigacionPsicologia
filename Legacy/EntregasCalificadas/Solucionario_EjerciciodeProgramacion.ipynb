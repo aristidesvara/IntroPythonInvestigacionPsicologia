{
 "metadata": {
  "language_info": {
   "codemirror_mode": {
    "name": "ipython",
    "version": 3
   },
   "file_extension": ".py",
   "mimetype": "text/x-python",
   "name": "python",
   "nbconvert_exporter": "python",
   "pygments_lexer": "ipython3",
   "version": "3.7.9"
  },
  "orig_nbformat": 2,
  "kernelspec": {
   "name": "python379jvsc74a57bd0fcc1d2c210046f8d6f0962280d91bf96fd89619bab60881df3e6b70c67140f94",
   "display_name": "Python 3.7.9 64-bit (conda)"
  }
 },
 "nbformat": 4,
 "nbformat_minor": 2,
 "cells": [
  {
   "source": [
    "# Introducción\n",
    "\n",
    "Eres un funcionario del gobierno uruguayo especializado en psicología educacional. Se te ha asignado la responsabilidad de diseñar una estrategia para fortalecer la formación superior de los psicólogos en el país. \n",
    "\n",
    "Uno de tus primeros informes consiste en elaborar un reporte del Censo Nacional de Psicología realizado en el año 2014, con miras a que sirva de sustento para tus propuestas:\n",
    "\n",
    ">Suárez, Jorge; Facultad de Psicología de la Universidad de la República (2015): 1st. National Census of Psychology -Uruguay 2014-. Version: 1. FDP-URU - Facultad de Psicología de la Universidad de la República. Datensatz. http://doi.org/10.17891/19871.1\n",
    "\n",
    "A continuación, se plantean una serie de ejercicios que te servirán para elaborar tu reporte."
   ],
   "cell_type": "markdown",
   "metadata": {}
  },
  {
   "cell_type": "code",
   "execution_count": 2,
   "metadata": {
    "tags": []
   },
   "outputs": [
    {
     "output_type": "execute_result",
     "data": {
      "text/plain": [
       "     ID  Sexo  Edad  Lugar_Nac  Dep_Nac      Localidad País  \\\n",
       "0  10.0     0    46         91  911.000          Colon  NaN   \n",
       "1  88.0     0    25         91  913.000    Las Piedras  NaN   \n",
       "2  89.0     0    45         91    9.115          Salto  NaN   \n",
       "3  92.0     0    42         91  913.000  Los Cerrillos  NaN   \n",
       "4  95.0     0    26         91  913.000         La Paz  NaN   \n",
       "\n",
       "   Lugar_residencia_15a  Departamento_15a           Localidad_15a País_15a  \\\n",
       "0                   101           911.000                   Colon      NaN   \n",
       "1                   101           911.000                   Colón      NaN   \n",
       "2                   101             9.115                   Salto      NaN   \n",
       "3                   101           915.000  Colonia del Sacramento      NaN   \n",
       "4                   101           913.000                  La Paz      NaN   \n",
       "\n",
       "   Lugar_residencia_CC Deptartamento_CC   Localidad_CC País_CC  \\\n",
       "0                  111              911          Colon     NaN   \n",
       "1                  111              911          Colón     NaN   \n",
       "2                  111              911     Montevideo     NaN   \n",
       "3                  111              911  La Blanqueada     NaN   \n",
       "4                  111              913         La Paz     NaN   \n",
       "\n",
       "   Lugar_residencia_actual  Deptartamento_RA      Localidad_RA  \\\n",
       "0                      121               913  Lomas de Solymar   \n",
       "1                      121               913            La Paz   \n",
       "2                      121               911        Montevideo   \n",
       "3                      121               913     Los Cerrillos   \n",
       "4                      121               911      Ciudad Vieja   \n",
       "\n",
       "   Estado_conyugal  Num_hijos  Padres_Ud  Cónyuge_comp_Ud  Cónyuge_padres_Ud  \\\n",
       "0             2132          0          0                1                  0   \n",
       "1             2131          1          0                0                  0   \n",
       "2             2131          0          0                0                  0   \n",
       "3             2135          1          0                0                  0   \n",
       "4             2133          0          0                1                  0   \n",
       "\n",
       "   Hijos_Ud  Hermanos_Ud  Abuelos_Ud  Suegros_Ud  Otros_Familiares_Ud  \\\n",
       "0         0            0           0           0                    1   \n",
       "1         1            0           0           0                    0   \n",
       "2         0            0           0           0                    0   \n",
       "3         0            0           0           0                    0   \n",
       "4         0            0           0           0                    0   \n",
       "\n",
       "   Otras_Personas_Ud  Único_percibe_ingresos_hogar  Vivienda_Ud_es  \\\n",
       "0                  0                         1.611           2.175   \n",
       "1                  0                         1.610           2.171   \n",
       "2                  0                         1.610           2.178   \n",
       "3                  0                         1.610           2.178   \n",
       "4                  0                         1.611           2.174   \n",
       "\n",
       "   Titulado_Uy  Centro_estudio_T Centro_estudio_E País_D  \\\n",
       "0         3.18             3.181              NaN    NaN   \n",
       "1         3.18             3.181              NaN    NaN   \n",
       "2         3.18             3.182              NaN    NaN   \n",
       "3         3.18             3.181              NaN    NaN   \n",
       "4         3.18             3.181              NaN    NaN   \n",
       "\n",
       "   Año_comienzo_carrera  Año_grad  Máximo_niv_educativo  \\\n",
       "0                 1.987     2.012                 3.211   \n",
       "1                 2.007     2.012                 3.211   \n",
       "2                 1.988     1.996                 3.212   \n",
       "3                 1.994     2.004                 3.212   \n",
       "4                 2.007     2.012                 3.211   \n",
       "\n",
       "                                            Nombre_C  \\\n",
       "0                                                NaN   \n",
       "1                                                NaN   \n",
       "2                             Curso Derecho y Género   \n",
       "3  Evaluación psicológica del Maltrato Infantil, ...   \n",
       "4                                                NaN   \n",
       "\n",
       "                      Nombre_Inst País_E  Por_qué_no_posgrado  \\\n",
       "0                             NaN    NaN                3.233   \n",
       "1                             NaN    NaN                3.235   \n",
       "2             Facultad de Derecho     UY                  NaN   \n",
       "3  Facultad de Psicología, UDELAR     UY                  NaN   \n",
       "4                             NaN    NaN                3.235   \n",
       "\n",
       "   Próximos_tres_años_posgrado  Tipo_estudio_posgrado  \\\n",
       "0                        3.241                  2.412   \n",
       "1                        3.241                  2.412   \n",
       "2                        3.241                    NaN   \n",
       "3                        3.241                    NaN   \n",
       "4                        3.241                  2.412   \n",
       "\n",
       "                           Áreas_interés_formacion_1  \\\n",
       "0                                   Primera Infancia   \n",
       "1                                        Educacional   \n",
       "2                                 Políticas Públicas   \n",
       "3  Maestría en Derechos de Infancia y Políticas P...   \n",
       "4  Postgrado en psicología laboral (gestión de pe...   \n",
       "\n",
       "                    Áreas_interés_formacion_2  Nro_trabajos  \\\n",
       "0                                         NaN           243   \n",
       "1                                   Sexología           241   \n",
       "2                                   Educación           241   \n",
       "3         Profundización en Maltrato Infantil           241   \n",
       "4  Especialización en psicoanálisis con niños           241   \n",
       "\n",
       "   Buscando_trabajo_N  Buscando_otro_trabajo_T  Razón_busca_otro_trabajo  \\\n",
       "0                 NaN                    2.611                       NaN   \n",
       "1                 NaN                    2.610                     261.0   \n",
       "2                 NaN                    2.610                     263.0   \n",
       "3                 NaN                    2.610                     261.0   \n",
       "4                 NaN                    2.611                       NaN   \n",
       "\n",
       "   Posición_Ocupacional  Sector  Razón_trabaja_más_un_lugar  \\\n",
       "0                 4.242  42.421                       261.0   \n",
       "1                 4.246  42.421                         NaN   \n",
       "2                42.410  42.422                         NaN   \n",
       "3                 4.242  42.422                         NaN   \n",
       "4                 4.242  42.421                         NaN   \n",
       "\n",
       "   Tiempo_más_un_lugar  Cuánto_hace_busca_trabajo  \\\n",
       "0                271.0                        NaN   \n",
       "1                  NaN                        NaN   \n",
       "2                  NaN                        NaN   \n",
       "3                  NaN                        NaN   \n",
       "4                  NaN                        NaN   \n",
       "\n",
       "  Tiempo_trabaja_ininterrumpida Hs_promedio_trab_semana  \\\n",
       "0                            25                      32   \n",
       "1                             2                      25   \n",
       "2                             6                      30   \n",
       "3                             6                      35   \n",
       "4                             1                      48   \n",
       "\n",
       "   Ingresos_mensuales_pesos_último_año  \\\n",
       "0                                 5283   \n",
       "1                                 5281   \n",
       "2                                 5282   \n",
       "3                                 5282   \n",
       "4                                 5283   \n",
       "\n",
       "   Aprox_porcentaje_ingreso_hogar_aportado_Ud  Área_inser_1  Área_inser_2  \\\n",
       "0                                       5.293        63.306           NaN   \n",
       "1                                       5.293           NaN           NaN   \n",
       "2                                       5.294           NaN           NaN   \n",
       "3                                       5.294        63.302        63.305   \n",
       "4                                       5.291        63.307           NaN   \n",
       "\n",
       "   Área_inser_3  Área_inser_4             Otras_áreas  \n",
       "0           NaN           NaN          Docente en UTU  \n",
       "1           NaN           NaN                     NaN  \n",
       "2           NaN           NaN  No ejerzo la profesión  \n",
       "3           NaN           NaN                     NaN  \n",
       "4           NaN           NaN                     NaN  "
      ],
      "text/html": "<div>\n<style scoped>\n    .dataframe tbody tr th:only-of-type {\n        vertical-align: middle;\n    }\n\n    .dataframe tbody tr th {\n        vertical-align: top;\n    }\n\n    .dataframe thead th {\n        text-align: right;\n    }\n</style>\n<table border=\"1\" class=\"dataframe\">\n  <thead>\n    <tr style=\"text-align: right;\">\n      <th></th>\n      <th>ID</th>\n      <th>Sexo</th>\n      <th>Edad</th>\n      <th>Lugar_Nac</th>\n      <th>Dep_Nac</th>\n      <th>Localidad</th>\n      <th>País</th>\n      <th>Lugar_residencia_15a</th>\n      <th>Departamento_15a</th>\n      <th>Localidad_15a</th>\n      <th>País_15a</th>\n      <th>Lugar_residencia_CC</th>\n      <th>Deptartamento_CC</th>\n      <th>Localidad_CC</th>\n      <th>País_CC</th>\n      <th>Lugar_residencia_actual</th>\n      <th>Deptartamento_RA</th>\n      <th>Localidad_RA</th>\n      <th>Estado_conyugal</th>\n      <th>Num_hijos</th>\n      <th>Padres_Ud</th>\n      <th>Cónyuge_comp_Ud</th>\n      <th>Cónyuge_padres_Ud</th>\n      <th>Hijos_Ud</th>\n      <th>Hermanos_Ud</th>\n      <th>Abuelos_Ud</th>\n      <th>Suegros_Ud</th>\n      <th>Otros_Familiares_Ud</th>\n      <th>Otras_Personas_Ud</th>\n      <th>Único_percibe_ingresos_hogar</th>\n      <th>Vivienda_Ud_es</th>\n      <th>Titulado_Uy</th>\n      <th>Centro_estudio_T</th>\n      <th>Centro_estudio_E</th>\n      <th>País_D</th>\n      <th>Año_comienzo_carrera</th>\n      <th>Año_grad</th>\n      <th>Máximo_niv_educativo</th>\n      <th>Nombre_C</th>\n      <th>Nombre_Inst</th>\n      <th>País_E</th>\n      <th>Por_qué_no_posgrado</th>\n      <th>Próximos_tres_años_posgrado</th>\n      <th>Tipo_estudio_posgrado</th>\n      <th>Áreas_interés_formacion_1</th>\n      <th>Áreas_interés_formacion_2</th>\n      <th>Nro_trabajos</th>\n      <th>Buscando_trabajo_N</th>\n      <th>Buscando_otro_trabajo_T</th>\n      <th>Razón_busca_otro_trabajo</th>\n      <th>Posición_Ocupacional</th>\n      <th>Sector</th>\n      <th>Razón_trabaja_más_un_lugar</th>\n      <th>Tiempo_más_un_lugar</th>\n      <th>Cuánto_hace_busca_trabajo</th>\n      <th>Tiempo_trabaja_ininterrumpida</th>\n      <th>Hs_promedio_trab_semana</th>\n      <th>Ingresos_mensuales_pesos_último_año</th>\n      <th>Aprox_porcentaje_ingreso_hogar_aportado_Ud</th>\n      <th>Área_inser_1</th>\n      <th>Área_inser_2</th>\n      <th>Área_inser_3</th>\n      <th>Área_inser_4</th>\n      <th>Otras_áreas</th>\n    </tr>\n  </thead>\n  <tbody>\n    <tr>\n      <th>0</th>\n      <td>10.0</td>\n      <td>0</td>\n      <td>46</td>\n      <td>91</td>\n      <td>911.000</td>\n      <td>Colon</td>\n      <td>NaN</td>\n      <td>101</td>\n      <td>911.000</td>\n      <td>Colon</td>\n      <td>NaN</td>\n      <td>111</td>\n      <td>911</td>\n      <td>Colon</td>\n      <td>NaN</td>\n      <td>121</td>\n      <td>913</td>\n      <td>Lomas de Solymar</td>\n      <td>2132</td>\n      <td>0</td>\n      <td>0</td>\n      <td>1</td>\n      <td>0</td>\n      <td>0</td>\n      <td>0</td>\n      <td>0</td>\n      <td>0</td>\n      <td>1</td>\n      <td>0</td>\n      <td>1.611</td>\n      <td>2.175</td>\n      <td>3.18</td>\n      <td>3.181</td>\n      <td>NaN</td>\n      <td>NaN</td>\n      <td>1.987</td>\n      <td>2.012</td>\n      <td>3.211</td>\n      <td>NaN</td>\n      <td>NaN</td>\n      <td>NaN</td>\n      <td>3.233</td>\n      <td>3.241</td>\n      <td>2.412</td>\n      <td>Primera Infancia</td>\n      <td>NaN</td>\n      <td>243</td>\n      <td>NaN</td>\n      <td>2.611</td>\n      <td>NaN</td>\n      <td>4.242</td>\n      <td>42.421</td>\n      <td>261.0</td>\n      <td>271.0</td>\n      <td>NaN</td>\n      <td>25</td>\n      <td>32</td>\n      <td>5283</td>\n      <td>5.293</td>\n      <td>63.306</td>\n      <td>NaN</td>\n      <td>NaN</td>\n      <td>NaN</td>\n      <td>Docente en UTU</td>\n    </tr>\n    <tr>\n      <th>1</th>\n      <td>88.0</td>\n      <td>0</td>\n      <td>25</td>\n      <td>91</td>\n      <td>913.000</td>\n      <td>Las Piedras</td>\n      <td>NaN</td>\n      <td>101</td>\n      <td>911.000</td>\n      <td>Colón</td>\n      <td>NaN</td>\n      <td>111</td>\n      <td>911</td>\n      <td>Colón</td>\n      <td>NaN</td>\n      <td>121</td>\n      <td>913</td>\n      <td>La Paz</td>\n      <td>2131</td>\n      <td>1</td>\n      <td>0</td>\n      <td>0</td>\n      <td>0</td>\n      <td>1</td>\n      <td>0</td>\n      <td>0</td>\n      <td>0</td>\n      <td>0</td>\n      <td>0</td>\n      <td>1.610</td>\n      <td>2.171</td>\n      <td>3.18</td>\n      <td>3.181</td>\n      <td>NaN</td>\n      <td>NaN</td>\n      <td>2.007</td>\n      <td>2.012</td>\n      <td>3.211</td>\n      <td>NaN</td>\n      <td>NaN</td>\n      <td>NaN</td>\n      <td>3.235</td>\n      <td>3.241</td>\n      <td>2.412</td>\n      <td>Educacional</td>\n      <td>Sexología</td>\n      <td>241</td>\n      <td>NaN</td>\n      <td>2.610</td>\n      <td>261.0</td>\n      <td>4.246</td>\n      <td>42.421</td>\n      <td>NaN</td>\n      <td>NaN</td>\n      <td>NaN</td>\n      <td>2</td>\n      <td>25</td>\n      <td>5281</td>\n      <td>5.293</td>\n      <td>NaN</td>\n      <td>NaN</td>\n      <td>NaN</td>\n      <td>NaN</td>\n      <td>NaN</td>\n    </tr>\n    <tr>\n      <th>2</th>\n      <td>89.0</td>\n      <td>0</td>\n      <td>45</td>\n      <td>91</td>\n      <td>9.115</td>\n      <td>Salto</td>\n      <td>NaN</td>\n      <td>101</td>\n      <td>9.115</td>\n      <td>Salto</td>\n      <td>NaN</td>\n      <td>111</td>\n      <td>911</td>\n      <td>Montevideo</td>\n      <td>NaN</td>\n      <td>121</td>\n      <td>911</td>\n      <td>Montevideo</td>\n      <td>2131</td>\n      <td>0</td>\n      <td>0</td>\n      <td>0</td>\n      <td>0</td>\n      <td>0</td>\n      <td>0</td>\n      <td>0</td>\n      <td>0</td>\n      <td>0</td>\n      <td>0</td>\n      <td>1.610</td>\n      <td>2.178</td>\n      <td>3.18</td>\n      <td>3.182</td>\n      <td>NaN</td>\n      <td>NaN</td>\n      <td>1.988</td>\n      <td>1.996</td>\n      <td>3.212</td>\n      <td>Curso Derecho y Género</td>\n      <td>Facultad de Derecho</td>\n      <td>UY</td>\n      <td>NaN</td>\n      <td>3.241</td>\n      <td>NaN</td>\n      <td>Políticas Públicas</td>\n      <td>Educación</td>\n      <td>241</td>\n      <td>NaN</td>\n      <td>2.610</td>\n      <td>263.0</td>\n      <td>42.410</td>\n      <td>42.422</td>\n      <td>NaN</td>\n      <td>NaN</td>\n      <td>NaN</td>\n      <td>6</td>\n      <td>30</td>\n      <td>5282</td>\n      <td>5.294</td>\n      <td>NaN</td>\n      <td>NaN</td>\n      <td>NaN</td>\n      <td>NaN</td>\n      <td>No ejerzo la profesión</td>\n    </tr>\n    <tr>\n      <th>3</th>\n      <td>92.0</td>\n      <td>0</td>\n      <td>42</td>\n      <td>91</td>\n      <td>913.000</td>\n      <td>Los Cerrillos</td>\n      <td>NaN</td>\n      <td>101</td>\n      <td>915.000</td>\n      <td>Colonia del Sacramento</td>\n      <td>NaN</td>\n      <td>111</td>\n      <td>911</td>\n      <td>La Blanqueada</td>\n      <td>NaN</td>\n      <td>121</td>\n      <td>913</td>\n      <td>Los Cerrillos</td>\n      <td>2135</td>\n      <td>1</td>\n      <td>0</td>\n      <td>0</td>\n      <td>0</td>\n      <td>0</td>\n      <td>0</td>\n      <td>0</td>\n      <td>0</td>\n      <td>0</td>\n      <td>0</td>\n      <td>1.610</td>\n      <td>2.178</td>\n      <td>3.18</td>\n      <td>3.181</td>\n      <td>NaN</td>\n      <td>NaN</td>\n      <td>1.994</td>\n      <td>2.004</td>\n      <td>3.212</td>\n      <td>Evaluación psicológica del Maltrato Infantil, ...</td>\n      <td>Facultad de Psicología, UDELAR</td>\n      <td>UY</td>\n      <td>NaN</td>\n      <td>3.241</td>\n      <td>NaN</td>\n      <td>Maestría en Derechos de Infancia y Políticas P...</td>\n      <td>Profundización en Maltrato Infantil</td>\n      <td>241</td>\n      <td>NaN</td>\n      <td>2.610</td>\n      <td>261.0</td>\n      <td>4.242</td>\n      <td>42.422</td>\n      <td>NaN</td>\n      <td>NaN</td>\n      <td>NaN</td>\n      <td>6</td>\n      <td>35</td>\n      <td>5282</td>\n      <td>5.294</td>\n      <td>63.302</td>\n      <td>63.305</td>\n      <td>NaN</td>\n      <td>NaN</td>\n      <td>NaN</td>\n    </tr>\n    <tr>\n      <th>4</th>\n      <td>95.0</td>\n      <td>0</td>\n      <td>26</td>\n      <td>91</td>\n      <td>913.000</td>\n      <td>La Paz</td>\n      <td>NaN</td>\n      <td>101</td>\n      <td>913.000</td>\n      <td>La Paz</td>\n      <td>NaN</td>\n      <td>111</td>\n      <td>913</td>\n      <td>La Paz</td>\n      <td>NaN</td>\n      <td>121</td>\n      <td>911</td>\n      <td>Ciudad Vieja</td>\n      <td>2133</td>\n      <td>0</td>\n      <td>0</td>\n      <td>1</td>\n      <td>0</td>\n      <td>0</td>\n      <td>0</td>\n      <td>0</td>\n      <td>0</td>\n      <td>0</td>\n      <td>0</td>\n      <td>1.611</td>\n      <td>2.174</td>\n      <td>3.18</td>\n      <td>3.181</td>\n      <td>NaN</td>\n      <td>NaN</td>\n      <td>2.007</td>\n      <td>2.012</td>\n      <td>3.211</td>\n      <td>NaN</td>\n      <td>NaN</td>\n      <td>NaN</td>\n      <td>3.235</td>\n      <td>3.241</td>\n      <td>2.412</td>\n      <td>Postgrado en psicología laboral (gestión de pe...</td>\n      <td>Especialización en psicoanálisis con niños</td>\n      <td>241</td>\n      <td>NaN</td>\n      <td>2.611</td>\n      <td>NaN</td>\n      <td>4.242</td>\n      <td>42.421</td>\n      <td>NaN</td>\n      <td>NaN</td>\n      <td>NaN</td>\n      <td>1</td>\n      <td>48</td>\n      <td>5283</td>\n      <td>5.291</td>\n      <td>63.307</td>\n      <td>NaN</td>\n      <td>NaN</td>\n      <td>NaN</td>\n      <td>NaN</td>\n    </tr>\n  </tbody>\n</table>\n</div>"
     },
     "metadata": {},
     "execution_count": 2
    }
   ],
   "source": [
    "## Este código sirve para cargar la información del Censo Nacional de Psicología.\n",
    "import pandas as pd\n",
    "\n",
    "pd.set_option(\"display.max.columns\", None)\n",
    "df = pd.read_csv(\n",
    "    \"https://catalogodatos.gub.uy/dataset/b62bc86e-c4c2-4cb8-af18-388124eea2c9/resource/dec0a55d-1d86-4100-88ec-fc8dad06a363/download/microdatoscensopsicologia.csv\"\n",
    ")\n",
    "nan_value = float(\"NaN\")\n",
    "df.replace(\" \", nan_value, inplace=True)\n",
    "df.head()"
   ]
  },
  {
   "source": [
    "# Parte 1: Especialidades cursadas en el posgrado\n",
    "\n",
    "La variable `especialidades` registra las especialidades que los psicólogos censados cursaron como parte de sus estudios de posgrado. \n",
    "\n",
    "A partir de la información disponible en esta variable, escribe programas que sean capaces de:\n",
    "\n",
    "1. Mostrar las especializaciones que contienen la palabras `terap` (2 pts). \n",
    "2. Mostrar las especializaciones que contienen la palabras `educ` o `pedag` (3 pts).\n",
    "\n",
    "Por último, escribe un programa que imprima un reporte indicando 5 categorías de especialidades (formadas a partir de raíces tales como `terap` o `educ`) y la cantidad de psicólogos que las cursaron durante su formación de posgrado (5 pts)."
   ],
   "cell_type": "markdown",
   "metadata": {}
  },
  {
   "cell_type": "code",
   "execution_count": 8,
   "metadata": {
    "tags": [
     "outputPrepend"
    ]
   },
   "outputs": [
    {
     "output_type": "stream",
     "name": "stdout",
     "text": [
      "educación\nformación en terapeuta gestáltica. cursos de formación permanente. curso de mediación y facilitación\ncurso de especialización en terapia gestáltica de parejas y sistemas vinculares\nespecialización psicoterapia corporal bioenergetica\ndiplomatura de psicoterapia en servicios de salud\nformación en psicoterapia psicodramática// psicología operativa\nformacion basica en psicoterapia psicoanalitica - cpu\npsicoterapia en los servicios de salud\npsicoterapia psicoanalitica de adultos\npsicoterapia focal\npsicoterapeuta\nterapeuta gestaltico\npsicoterapias focales\nterapia sexual, sexología clínica\ncurso de posgrado psicoterapeuta gestáltico de niños y adolescentes, y formación en terapia familiar sistémica\nlogoterapia\ndiplomatura de psicoterapia en servicios de salud\n\"ciencias de la familia , familias y nuevas tecnologías\" ( terapia sistémica)\nselección de personal, trabajo clínico con adultos desde una perspectiva gestáltica, abordaje terapéutico al paciente adicto y f\npsicología de la actividad física y deporte, psicoterapia familiar sistémica, entrenador fútbol,técnicas selección de personal.\ndiploma en recursos humanos/especialización en psicoterapia psicoanalítica (audepp)\nterapia individual de adultos\nespecialización en psicoterapia psicoanalítica\nespecialización en psicoterapia focal psicoanalítica adultos\nmaestría en psicoterapia orientación psicología analítica\nterapia de la conducta\ndiplomatura en psicoterapia psicoanalítica\nterapia familiar sistemica, psicologia educacional, constelaciones familiares, terapia gestaltica\npsicoterapia gestaltica en adultos\npsicoterapeuta cognitivo conductual\ncursos varios relacionados con la primer infancia, formación permanente curso las parejas en psicoterapia, herramientas selecci\nespecializacion en psicoterapia focal\nespecialización en psicoterapia focal\npsicoterapeuta cognitivo conductual\npsicoterapia en servicios de salud\npsicoterapia psicoanalitica\nmaestria en psicoterapia analitica\nterapia focal,t.familiar sistémica,grupo v,inculo familia adolescente ceipdem\nespecialización en psicoterapia psicoanalítica\nespecializacion en logoterapia y analisis existencial\nposgrado en psicoterapia comportamental,curso de selección de personal, curso: “adolescencia y posmodernidad”curso: vulnerabil.\npsicoterapia focal\npostgrado en psicología analítica. diplomatura en psicoterapia psicoanalítica. maestria en psicología clínica. maestria en psico\nterapueta cognitivo conductual\nposgrado en psicoterapia cognitivo comportamental opción adultos // diplomatura en psicología del trabajo y las organizaciones\npsicoterapia focal psicoanalitica. especializacion en salud publica\npsicoterapia psicoanalitica para adultos\npsicoterapia individual con adultos\nespecialización en terapia gestaltica\nmaestría en psicoterapia con orientación en psicología analítica junguiana\npsicoterapia de adultos y laboral\nformacion de terapeuta del comportamiento\norientación vocacional ocupacional, psicoterapias de objetivo limitado para niños y sus familias.\nprograma de intervenciones psicoterapéuticas de c.h.p.r\npsicoterapia focalizada y orientación vocacional\nterapeuta cognitivo-comportamental\npostgrado de psicoterapia psicoanalitica\npsicoterapeuta de niños y adolescentes\ndiplomatura en psicoterapia en servicios de salud\ndiplomatura en psicoterapia en servicios de salud\npsicoterapia focal psicoanalitica íntervencion en crisis\ndiplomatura en psicoterapia en los servicios de salud\npsicoterapeuta habilitante\nespecializacion en psicoterapia psicoanalítica\nintervención en terapia de grupo familia y pareja\nterapeuta gestaltico de adultos, niños y adolecentes\npsicoterapia psicoanalitica\nmaestria en psicoterapia orientacion psicologia junguiana\ngrupo de estudios sobre psicoanálisis, grupo de estudio sobre psicoterapia en niños y adolescentes,\npsicoterapia en servicios de salud y especialización en psicoanálisis focal\ndirección de programas terapéuticos para upd\npsicoterapeuta para el tratamiento de trastornos orgánicos” (2º año) y curso de formación de terapeuta del comportamiento\ndiplomatura de piscoterapia en centros de salud\nterapauta de niños y jóvenes\npsicoterapia gestáltica / clínica bioenergética\nterapeuta gestáltica especializada en psicoterapia de niños y adolescentes,\npsicoterapeuta gestaltico\npsicoterapia especializada en paciente con trastornos orgánicos\npsicoterapia breve focalizada. psic. médica.\npsicoterapia focal psicoanalitica\nformación de psicoterapeuta gestáltico, de adultos, formación de psicoterapeuta de grupo, pareja y familia. tanatologia.\nterapias corporales\npostgrado en terapia familiar sistemica (sólo falta presentación de tesis final)\naproximacion y tecnicas de selecion de ambito laboral ---- psicoterapia psicoanalitica vincular parejas y familias\nespecialización en psicoterapias focalizadas\npsicoterapeuta psicoanalítica\nespecialista en terapias con niños y adolescentes\nespecialización en terapia gestáltica\npsicoterapeuta guestáltica; psicoterapeuta guestáltica de niños y adolescentes; psicoterapeuta orgonómica\ncoordinadora terapeutica de expresion\npsicoterapia psicoanalítica de niños y adolescentes\naportes t, psicoanalítica a la función doc; psicopedagogía clinica; clínica familiar, abordaje, diagnóstico y terapéutico\ncurso de terapeuta cognitivo comportamental\nformacion como terapeuta cognitivo conductual en suamoc, posgrado en liderazgo y coaching ontologico\nasistencia al paciente somático y quirúrgico,terapia focal, terapia gestáltica\npsicoterapias breves\npsicoterapeuta caracteroanalitico\nposgrado en terapia familiar sistémica e instituciones; formación en psicoanálisis\nmaestría en psicoterapia analítica\nposgrado en psicoterapia psicoanalítica (completo, en el iupa, de audepp), parte del curso de maestría en el mismo tema.\nespecializacion en psicoterapia focal y breve diplomado en ciencias biocognitivas\npsicoterapia focal, psicología perinatal, ps sistémica\ndiplomatura en psicoterapia en servicios de salud\npsicoterapeuta cognitivo-conductual\nterapeuta cognitivo comportamental\ncapacitación en psicoterapia de niños y adolescentes\npsicoterapeuta habilitante audepp\npsicologia del deporte, logoterapia\nespecializacion en terapia gestaltica de grupos parejas y familas\npsicoterapia psicoanalitica de adultos\ncurso expresion plastica como mediador terapeutico una herraienta en el capo de las intervenciones psicologicas abril a diciebr\npsicoterapia de adultos\nespecializacion en psicoterapia infantil y adolescente\npsicoterapeuta gestaltico\npsicoterapia en los servicios de salud\nterapeuta cognitivo conductual\nespecialización en psicoterapia\nespecializacion en psicoterapia psicoanalitica\nespecialización en psicoterapia psicoanalítica.\nformación en psicoterapia. cursos capacitación caif.\npsicoterapia de parejas\nespecialización en psicoterapia psicoanalítica\ndiploma en operador socio-terapéutico en abuso y dependencia de drogas // especialización en psicodrama\nterapia gestalt para adultos\npsicoterapia focal\ncurso actualización terapia de pareja\nterapeuta conductual\nformaciòn en gestalt, arteterapia, actualización en terapia sistèmica transgeneracional\npsicoterapia familiar y sistémica\nintervención en crisis. psicoterapia focal. operador familiar. cursando posgrado políticas de género y políticas públicas.\noperador terapeutico en adicciones\nmestria en psicoterapia junguiana\npsicoterapia grupal psicodramática\npsicoterapia en los servicios de salud\nespecialista en psicoterapia psicoanalítica\noperador terapeutico en adicciones\ndiplomatura psicoterapia en servicios de salud\nterapeuta gestáltico individual, terapeuta gestáltico grupal, constelaciones familiares y soluciones sistémicas, seminario sobre\npsicoterapia en los servicios de salud\ndiploma en intervenciones psicosociales en la vulnerabilidad y el desamparo especiallización psicoterapia focal psicoanalítica\ncurso de especialización en terapia gestáltica\npsicoterapeuta cognitivo-conductual\nmaestría en psicoterapia junguiana\nespecializacion en psicoterapiapsicoanalitica\nposgrado en psicoterapia gestalt\nterapeuta del comportamiento\nespecialización en análisis existencial y logoterapia\npsicoterapia psicoanalítica para terapeutas nóveles, grupos de estudio para psicoterapia, psicología laboral, etc\npsicoterapeuta cognitivo conductual\npsicoterapia en servicios de salud\npostgrado de grupo, psicoterapeuta gestaltico\npsicoterapia psicanalitica focal y breve\npsicoterapia gestáltica, psicoterapia gestálitica vincular\npsicología perinatal y psicoterapia focal\nteoria y tecnicas de terapia psicologica socioanalitica\nterapia familiar sistémica\npsicoterapia emdr\nposgrado en psicoterapia gestaltica\nsexualidad y genero, violencia, logoterapia, psicoterapia focal\nposgrado de terapia cognitiva-comportamental\npsicoterapeuta clínico en psicoterapia individual, niños adolescentes y familia y en grupos\npsicoterapia con niños y adolescentes\npsicoterapeuta focal de adultos\npsicopedagogía clínica - psicoterapeuta habilitante\nabordaje terapéutico del paciente adicto\nespecializacion en psicoterapia focal psicoanalitica\nposgrado en psicoterapia psicoanalitica\nterapeuta destaltico\ncoordinador de grupos, gestion de rrhh; psicoterapia de tiempo y objetivos limitados\nterapia cognitiva conductual. diploma en rrhh,pnl\ncurso de formacíon de gestalt-terapia\npsicoterapia psicoanalítica de adultos\nespecialista en psicoterapia psicoanalítica\npsicoterapia gestaltica\nposgrado en psicoterapia psicoanalítica\ndos masters: 1.master en psicobiología y neurociencias cognitivas, 2. master en terapias psicologicas de tercera generación\npostgrado en psicoterapia infantil\narteterapia (taller malvín); expresión en primera infancia (taller barradas en curso)\nposgrado en terapia de adultos. posgrado en terapia de pareja, familia y grupos. (gestalt). cursos de intervencion focal .\nterapia cognitiva\npsicoterapia psicoanalítica de adultos- clínica uno; apu\ndiplomatura de psicoterapia en los servisios de salud\nterapia familiar sistemica\nformación en teoría y metodología guestáltica con niños y adolescentes, instructor de equinoterapia\npsicoanálisis, adolescencia, psicoterapia en familia\nespecialización en psicoterapia focal psicoanalitica\npsicoterapia especializada en atención a pacientes con problemas orgánicos\npostgrado como terapeuta de niños y adolescentes\nseminario de formación en psicoterapia psicoanalitica\nespecializacion en psicoterapia focal\nespecializacion en corriente cognitivo y conductual. profundizacion en psicoterapia\nterapeuta estratégica breve. terapeuta emdr\nquimioterapia\nespecialista de psicoterapia en servicios de salud\nterapia sistemica y familia\npsicoterapias psicoanalíticas breves y focalizadas para adultos\nterapeuta conductual\npsicoterapia de adultos\ncurso de especialización en psicoterapia de niños\nterapia breve conductual sistemica\npsicoterapeuta especializado en trastornos orgánicos\npsicoterapia con niños y adolescentes\npsicologia laboral. enfoque centrado en la persona. aportes de la psicoterapia guestáltica al proceso creativo.\ndiplomatura en psicoterapia en los servicios de salud pública\npsicoterapia focal e intervención en crisis\npsicoterapia psicuanalitica para adultos\nterapeuta grupo, familia y pareja\npsicoterapeuta cognitivo-conductual\npsicoterapia integrativa pnie\nequinoterapeuta\ndiplomatura en psicoterapia en los servicios de salud\npsicoterapia en los servicios de salud - psicoanálisis\nespecialización en psicoterapia psicoanalítica audepp\nterapia cognitivo conductual\nmaestría en psicoterapia\nespecializacion en gestalt-terapia\npsicoterapia gestáltica / constelaciones familiares\npost grado en gestalt en ninños,jóvenes y adultos,terapia floral y constelaciones fliares.\nterapeuta gestaltico\npsicoterapia en los servicios de salud\npsicoterapia en niños y adolescentes\nespecialista en psicoterapia corporal reichiana\nterapeuta gestaltt . consteladora sistémica\ndiplomatura psicoterapia en los servicios de salud - especialización en psicoterapia focal psicoanalítica\npsicoterapeuta de niños y adolescentes\nterapia gestalt\nterapia corporal reichiana\npsicoterapeuta cognitivo conductual\npostgrado en psicoterapia psicoanalítica/psicoanalista\npsicopedagogía clínica. medicina y psicoterapia integrativa psiconeuroinmunoendocrinología\nterapeuta cognitivo conductual\npsicoterapeuta en salud\nsicoterapeuta gestaltico en niños y adolescentes\npsicoterapia focal\npsicoterapia cognitivo comporta mental\ntécnicas terapéuticas en tempranos\nposgrado de psicoterapia de niños y adolescentes\nconstelaciones familiares, post-grado terapeuta guestaltica.\npsicoterapia psicoanalítica focal\ndiplomatura en psicoterapia en servicios de salud\nformación de terapia gestáltica ¨gestalt de puertas abiertas¨, curso de terapeuta del comportamiento\npsicoterapeuta coginitivo conductual\nterapia psicoanalitica\npsicoterapia psicoanalítica de niños y adolescentes\ndiplomatura en psicoterapia\npsicoterapi en servicios de salud\ndiploma en psicoterapia psicoanalitica para adultos\npsicoterapia psicoanalitica\nterapeuta gestáltica - cips\nterapeuta cognitivo conductual\nentrenamiento en terapia gestalt para niño/as y adolescentes.\npost grado en sexplogia y terapia de pareja\nterapeuta cognitivo conductual\npsicoterapia breve\nterapeuta cognitivo comportamental\npsicoterapia psicoanalitica\nespecialización en psicoterapia focal\npsicología y terapia cognitiva\nterapia sistemica modelo palo alto, reduccion de riesgos en el consumo problematico de drogas\narteterapia\ndiplomatura en psicoterapia de servicios de salud\nterapia familiar sistemica\nmaestría en psicoterapia junguiana\npsicoterapeuta pnie\npsicoterapias breves y otros\npsicoterapeuta cognitivo comportamental\ndiplomado en sexología, operador socio-terapéutico en adicciones y violencia. e curso esp. en logoterapia y posgrado en psic soc\nespecializacion en operador familiar - psicoterapia sistemica\npsicoterapeuta cognitiva-conductual\npost grado en psicoterapia focal (agora)\nterapeuta guestáltica\nneuropsicologia, psicoterapia\nintroduccion a la psicologia gestaltica y terapia focal\nterapeuta de adultos\npsicoterapeuta gestaltico\ndiplomatura en psicoterapia en servicios de salud\nespecializacion en terapia familiar sistemica\nactualmente estoy cursando en suamoc. terapia cognitivo conductual\npsicoterapia adultos, psicoterapia grupos, t.sistemica familiar\nclínica de la parentalidad ytrastornos de los vínculostemprano/técnico de psicoterapia de niños y adolescentes\npsicoterapia en servicios de salud, psicoterapia psicoanalitica\ndiplomatura en psicoterapia en servicios de salud\npsicoterapia cognitivo conductual\ndiplomatura psicoterapia en servicios de salud opción psicoterapia psicoanalítica\npsicología médica, introducción a la terapia gestaltica\noperador socioterapéutico en abuso y dependencia de drogas.\ndiploma en psicoterapia en los servicios de salud\npsicoterapia psicoanalitica y psicosomática\nterapeuta de adultos\nterapeuta cognitivo conductual\ndiplomado en dirección de programas terapéuticos para tratamiento de adictos\ntécnicas psicoterapeúticas\nespecializacion en psicoterapia focal -\nprograma psicoterapia chpr,\npsicoterapia en servicios de salud\npsicoterapia en servicios de salud\nterapeuta cognitivo conductual\npsicoanalisis de orientación lacaniana. magister necesidades y derechos de la adolescencia y la infancia. acompañante terapeutic\ncurso de capacitación en psicoterapia de niños y adolescentes\nterapia focal\nformacion de terapeuta sistemico, educadora sexual, sexologia clinica\nterapeuta cognitivo- comportamental\npsicoterapia en servicios de salud\ncapacitación en psicoterapia de niños y adolescentes\npsicoterapueta habilitante de audepp\npsicoterapia focal de niños\nlic de psicología.psicoterapeuta grupal. esquizoanálisis.\npsicoterapia infantil y adolescencia\nespecialización en terapia familiar sistémica\n\"trabajar en psicoterapia. el método y la técnica psicoanalítica\"\nterapeuta gestaltico de adultos\nterapia psicomotris\npsicoterapia psicoanalitica focalizada\ndiploma de psicoterapeuta habilitante y supervisora. posgrado en psicoterapia psicoanalítica, posgrado en clínica psicoanalitica\nterapeuta cognitivo conductual\npsicoterapia de parejas\npsicoterapeuta habilitante\nespecialización en psicoterapia psicoanalítica\nterapia gestal y programacion neuro linguistica\npsicoterapia en niños, coaching, coordinadora de técnicas expresivas integradas\nespec.administraciónservicios en salud mental y planificación estrategica.-diplomatura psicoterapia en serviciosdesalud\npsicoterapias focalizadas\n\"perfil psicológico en inserción laboral\" \"psicodiagnóstico de rorschach\" \"formación en psicoterapia gestaltica\nterapia sistemica\nterapeuta cognitivo comportamental\nsistemica, cognitivo comportamental, logoterapia, emdr\nterapia sistemica\nterapia cognitivo conductual\npsicoterapeuta cognitivo-conductual\npsicoterapia integrativa pnie\npsicoterapia focal\nestudios de genero. psicoalnalisis. psicoterapia grupal y familiar\nterapeuta cognitivo comportamental\ndiplomatura en psicoterapias por actuacion certificada,postgrado en terapias cognitivas; terapeuta cognitiva conductual.\nterapeuta psicoanalitico\npsicoterapia focal y breve. intervención en crisis\nterapeuta guestáltico\npsicoterapia psicoanalitica para adultos\nequinoterapia,\nformación psicoterapeuta en psicodrama/bioenérgetica\nterapeuta gestaltica\npsicoterapia integrativa\ncurso de formación de psicoterapeuta cognitivo-conductual\npsicoterapia psicoanalítica con niños, intentos de abordaje al paciente con iae, orientación laboral, curso de psicología sanita\nterapeuta gestaltica- adolescentes- adultos\ndiploma en terapia familiar sistemica\npsicoterapia para los servicios de salud\npsicoterapeuta, administracion, sanitaria en salud mental.\nespecialista en psicoterapia psicoanalítica\npsicoterapeuta comunitario\npsicoterapia integrativa psiconeuroinmunoendrocina y especializacion pnie\npsicoterapia para adultos\npsicodrama, orientación vocacional, psicoterapia breve o focal\nespecializacion en logoterapia\nespecializacion en terapias breve y focalizada\npsicoterapeuta psicoanalitico\nespecialización en psicoterapia psicoanalitica\npsicodiagnostico de niños y adolescentes, terapia de niños y adolescentes en linea de winicot\nespecializacion en psicoterapia y psicoanalitica\nterapia familiar sistemica\nen psicologia medica,especializacion en psicoterapia focal\npsicoterapia en servicios de salud psicoanalitica\nlogoterapia, sexologia, sessex\npsicoterapeuta cognitiva comportamental. terapeuta trastrnos del espectro autista.\nformación de psicoterapeutas\nsexologia y eduacion sexual, especializacion en analisis existencial y logoterapia. formacion en terapia gestaltica con adultos\npsicoterapeuta focal psicoanalitico, diplomatura psicologia medica,psicologa del deporte\nintroduccion a psicoterapia de niños y adolecentes\nespecialización terapeuta gestáltico\npsicoterapeuta habilitante de audepp\nformacion como prisocterapeuta\npsicoterapia psicoanalçitica de niños y adolescentes\nterapia familar sistémica\nterapeuta cognitivo conductual\npsicoterapia en los servicios de salud.\npsicoterapia focal\nintroduccion a la teoría sistemica, psicoterapia focal, e intervencion en crisis. cursos realizados en el marco del plan caif.\nformación en psicoterapia para adultos\npsicoterapia focal psicoanalítica adultos/ certificado uruguayo de psicoterapia\narteterapia.actualizaciones terapeuticas.terapeuta grupal\nterapia gestaltica\nespecializacion en terapia gestaltica\npsicoterapia focal psicoanalítica, guestalt,peritaje victimologico\nprofundizacion en psicoterapia en servicios de salud\nacompañante socioterapeutico en adicciones y violencia\npsicoterapeuta transpersonal\npsicoterapeuta corporal neo-reichiano y emdr\npsicoterapeuta habilitante y supervisor\npiscoterapia focal psicoanalítica\npsicoterapia psicoanalítica de adultos\npsicoterapia focal\npsicoterapia psicoanalitica focal\npsicoterapia bioenergética, emdr\npsicoterapia psicoanalitica\npsicoterapia cognitivo comportamental\nterapias breves focalizadas, sociologia clinica\nterapia gestaltica\npsicoterapia cognitivo conductual\npsicoterapia cognitiva conductual\nterapeuta en terapia cognitiva conductual\n"
     ]
    }
   ],
   "source": [
    "especialidades = (\n",
    "    df.dropna(subset=[\"Nombre_C\"], inplace=False)[\"Nombre_C\"]\n",
    "    .str.lower()\n",
    "    .tolist()\n",
    ")\n",
    "\n",
    "## Parte 1\n",
    "for esp in especialidades:\n",
    "    if \"terap\" in esp:\n",
    "        print(esp)"
   ]
  },
  {
   "cell_type": "code",
   "execution_count": 9,
   "metadata": {
    "tags": []
   },
   "outputs": [
    {
     "output_type": "stream",
     "name": "stdout",
     "text": [
      "clínica educacional\nposgrado en psicología educacional\npsicoterapia psicoanalítica (audepp). psicología educacional (ucudal)\nrealizando actualmente maestría psicología y educación\nmaestría en psicología y educacion\npsicología y educación\nmaestría en psicología y educación\nmaestría en psicología, educación y desarrollo humano\nmaestria en psicologia y educacion\nmediacion en conflictos educativos. y otros\nmaestría en psicología y educación\nmaestría en psicología y educacion\npsicología educacional\neducador sexual\neducación y tic en la universidad oberta e catalunya\npsicología y educación\neducacion y desarrollo\nposgrado en psicología educacional\ndidáctica de la educación superior\ndiploma en cuidados paliativos del adulto, diploma en psicoterapias en servicios de salud. maestría en psicología y educación\ndiplomatura en psicologia educacional. maestria en educación\ndoctorado en educacion\nmaestría en psicología educacional\neducadora sexual y sexología clínica\npsicología y educación\nmaestría en psicología y educación\nmaster en educación\npsicología y educación\npsicología educacional\npsicología educacional\nmaestría en psicología y educación\nagregación en psicología educacional.\npsicología educacional\nsexóloga / educadora sexual\nmagister en psicología y educación. actualmente doctoranda en doctorado en educación.\npolíticas educativas y educación\neducadora sexual y terapeuta cursando práctica. sexur. cursando formación de psicoterapia en gestalt centro encuentro(2014)\npsicología educacional\nmaestria en educación popular\norientacion vocacional-ocupacional en las instituciones educativas.\nviolencia doméstica, psicología educacional, adolescencia.\npsicología educacional\n1.psicopedagogia -2.postgrado en or voc.- 3. dip. gestion educ.\nespecialización en intervención psicosocial (en curso) / diploma en educación afectivo sexual (completo)\npsicología y educación\nmaestría en psicología y educación\nmaestría en psicología y educación\nmaestría en psicología educacional\npsicologia educacional\npsicología y educación\nmagister en psicología y educación\neducador sexual\nmaestría en psicología y educación\nmaestría en educación\nmaestría en psicología educacional\npsicología de la educación\npostgrado en clinica educacional\nmaestria en psicologia y educacion.\nmaestría en educación y extensión rural\ndoctorado en ciencias de la educación\nclínica educacional-dificultades de aprendizaje-orientación vocacional-teoría psicoanalítica-adoelscentes y niños\n\"violencia intrafamiliar\" \"fortalecimiento de las instituciones educativas\"\npsicologia y educacion\nmaestría de educación en entornos virtuales / máster iberoamericano de psicología del deporte\ncurso de sensibilizacion y aproximacion a la lengua de señas; capacitacion: sistema de gestion de procesos socioeducativos\nmaestría en psicología y educación\ndoctorado en educación\nmaestría en psicología y educación\nmaestria en psicología y educación\nmaestría en psicología y educación\neducador sexual\nmagister en educación; diploma en educación y en psicopedagogía\ntecnicatura en análisis y modificación de la conducta, aplicado al ámbito educativo.\ndoctorando en evaluación e intervención en psicología educacional\nmaestría en psicología educacional\noperador violencia familiar, el lugar de los padres en psicoanalisis con niños,psicoterapia psicoanalitica vincular,curso educac\npsicología y educación\nmaestría en psicología y educación\npostgrado en psicologia educacional / cursos de psicologia organizacional\nmaestría en psicología y educación\nmaestro en educación\nuna mirada gestáltica a la educación\npsicoterapeuta psicoanalítica. psicoterapeuta de niños. inserción laboral en personas con discapacidad educadora sexual\nmaestria psicologia y educacion\nneurología de los trastornos en la adquisición del código escrito - salud laboral en maestras de educación inicial\nentornos virtuales de aprendizaje. didáctica de la educación superior\neducadora sexual - terapeuta psicosexual\npsicología educacional\nmaestría en psicología y educación\nsalud sexual y reproductiva. educación sexual\nmaestría en psicología y educación\nmaestría interuniversitaria de psicología de la educación\nmaestría en educación y extensión rural\nmaestría en psicología educacional\npsicologia y educación\nmaestría en psicología y educación\neducación física escolar y deportes\npsicología en educación\nmaestría en psicología y educación\neducación para la salud\neducadora sexual.\ncurso de especialización en psicología educacional\nmaestría en psicología y educación\nmáster interuniversitario de psicología en la educación\nespecialización en psicología educacional\nmaestría en gestalt educacional\nsexologia clinica y educacional-especializacion en abuso sxeual, maltrato y violencia doméstica.\neducacional. clinica de ninos y adolescentes\npsicología educacional\nmaestria en psicología y educación\n“terapia educativa para niños y adolescentes con t.e.a”- “trastornos de conducta en el niño y adolescente”\npostgrado de psicología educacional en curso.\ntallerista en educacion sexual, formacion en constelaciones familiares\nmaestría en psicología educacional\nmaestría en educación\ncursos /jornadas referente a educación-inclusión y gestiòn de rrhh\nmaestría en educación y desarrollo rural\nmaestria en psicologia educacional\njóvenes educación y trabajo\nmaestría en psicología y educación\nmaestría de psicología y educación\npsicología y educación\nparalisis cerebral y educacion\nespecializacion en educacion / psicologia clinica\ndoctorado en educación\npsicología y educación\nmaestría en psicología y educación cohorte 2009\nformación en esquizoanalisis (3 años) y curso - taller en psicología educacional.\neducación sexual\ninvestigación en psicología aplicada a la educación\nen psicología educacional e intervención psicopedagógica\nmaestría en educación\ncalidad de los procesos educativos\npsicología y educación\neducadora sexual\neducadora sexual\nmaestría en psicología educacional\nmaestría en psicología y educación\norientacion vocacional,psicologia educacional\nclinica educacional, coord.talleres, psicoterapia focal,viol.dom.\npsicologia y educacion\nterapeuta gestaltica, de parejas y gestal educacional\ndiplomado en derechos humanos y educación\nmaestría en psicología y educación\nmaestría en psicología y educación\norientación vocacional. psicología educacional.drogas\nfamilia-pareja y educadora sexual y sexología\neducador sexual\nmaestría en psicología y educación cohorte 2013\nmaestría en psicología educacional\nposgrdo en psicologia educacional\norientaciòn vocacional ocupacional, psicologia educacional, postgrado en psicoterapia cognitivo conductual\nposgrado en psicologia de la educacion\npsicología educacional\nperfeccionamiento profesional en gestión de centros educativos\nmaestría en educación\nmaestria en psicología y educación\nmaestría en psicología y educación\nespecialización en psicología educacional\npsicología educacional. además, curse la carrera de grado psicopedagógia, tesis pendiente.\nposgrado en psicología educacional\nposgrado en orientación educativa\nmaestría en psicología y educación\nmaestría en psicología y educación\nclinica familiar nivel i y ii. psicologia educacional en los nuevos contextos. terapia sistemica relacional. consulta infantil.\ndiploma en educacion y desarrollo\nméster en educación. postrgrado en psicología infantil y adolescente y postgrado en psicología educacional\nmaestria en psicologia y educacion\nmaestría en educación\npsicologia y educación\nposgrado especialización en psicologia educacional\npsicologia de la educación\npsicodrama, educación pouular, violencia doméstica, en primera infancia, orientación vocacional, entre otros\nmaestría en psicología y educación\neducaciòn sexual- psicosomàtica\ncurso de educadora sexual - curso de problemas de conductas en niños\nespecialización en gestión educativa\nmaestria en psicología y educación\nmaestría en educación y extensión rural\neducación popular. medicina china.\nmaestría en psicología y educación\npsicología y educación\nmaestria en psicologia y educacion\ndoctorado en educación\nmagister en educación\npsicología y educación\npsicología educacional\nmaestría en psicología y educación\ngestión de centros educativos/ especialista en gestión artística, cultura y ciudadanía\nmaestría en psicología educacional\npostgrado psicología educacional\npsicologia vincular.psicologia en la educacion.\nmaestria en psicología y educación\neducadora sexual\ndiploma de perfeccionamiento profesional en psicopedagogía / posgrado en psicología educacional\ndiplomatura en psicopedagogia y posgrado en psicologia educacional, terapeuta cognitivo conductual\nposgrado en gestión de centros educativos\nmaestria en ps. educacional\ngestion de centros educativos\nmaestría en psicología educacional\nmaestría en psicología y educación\nmaestria en psicología educacional\ndiploma superior en gestión educativa\nmetodología de trabajo educativa i y ii, politicas públicas\npsicologia y educacion\npsicología y educación\npostgrado en educacion con enfasis en orientacion educativa\nmaestría en tecnología educativa\ndiploma en educación y desarrollo\n2009 hasta 2011 maestria ps y educacion en udelar\nmaestría en psicología educacional\ndiploma de perefeccionamiento profesional y gestion de centros educativos y especialista en educación sexual\npostgrado en psicoterapia psicoanalitica y otro en educacional\npsicología y educación\nlic. en psicología educativa\n\"curso de educadores sexuales\"; \"al frente de la organización (rrhh)\"\npsicología educacional\nmaestría en psicología y educación\nmaestria en psicologia educacional\ndiplomatura en psicoterapia en servicios de salud. ippao / maestrìa en educaciòn\nmáster en educación social y animación socio-cultural\nmagister en educación\ndiplomado superior en ciencias sociales con mención en gestión de las instituciones educativas\neducación y desarrollo\npsicología y educación. tuve que abandonarlo por viaje de 2 años a vivir a venezuela, por razones de trabajo de mi esposo\npsicologia y educacion\nmaestría psicología y educación\nmaestrando en psicología educacional\nmaestría en psicología educacional\npostgrado de especialización en psicología educacional\nmaestría en psicología educacional\nmaestría en psicología y educación\nmaestría en psicología y educación\nmaestria psicologia y educacion\ndiploma en educación afectivo sexual\ndiplomatura en orientación educativa. maestría en psicología clínica\ndiplomatura en ciencias sociales con mencion en gestion educativa\npostgrado en ps. educacional. maestría en ps. educacional (falta tesis). especialización en psicoanálisis vincular.\neducador sexual\neducación y psicoanálisis\ndoctorado en ciencias de la educación\nposgrado psicología educacional\npsicoloia y educacion\nvarios cursos relacionados a infancia, educaccion, y psic laboral\neducación social\ndirección de instituciones educativas\npsicología educacional / psicoterapia focalizada / orientación vocacional\nterapia focal- intervención en crisis-operadora en violencia doméstica y abuso sexual infantil y adolescente-educador/a sexual\nescritura y educación\neducadora en sexualidad y logoterapeuta\nposgrado en psicología educacional\ndeportes, grupos, laboral, educacional\npsicologia y educación\nmaestría en psicología y educación\nmaestría en educación con énfasis en gestión de centros educativos\npsicología y educación\npsicologia y educacion\ngestiòn de centros educativos\ncursos varios fuera de facultad. soy técnica en sexología y en educación sexual y sexóloga.\nmaestria psicologia educacional\nvarios en clínica y educación\neducación sexual, estudios en género\neducación sexual, sexología\nmaestría en psicologìa y educación\nespecialización en psicología educacional/posgrado en psicoterapia servicios de salud\ngestion educativa\npostgrado de psicoterapia psicoanalítica y licenciatura en educación\npsicodiagnostico, orientacion vocacional y cursos sobre educacion, instituto de profesores artigas, docente de idioma español\neducación en dd hh\nespecialista en anatheoresis- educacion y trabajo claeh\nterapia familiar sistemica, psicologia educacional, constelaciones familiares, terapia gestaltica\ndiploma superior en gestión educativa\ndrogodependencias educacion para adultos, alfabetizacion laboral, c.r.m\nposgrado en psicología educacional\ncontructivismo y educación con énfasis en ciencias sociales\nintervención en crisis, perinatología para psicologos, prevención, detención e intervención en abuso y maltrato, educación sexua\neducacion y derechos humanos\nsicologia educacional\nmediación y facilitación de conflictos ámbito educativo y comunitario\nmaestria en educación\niso 9000 para centros de educación\ndiploma en gestión de centros educativos\n1)maestría en educación 2)maestría en filosofía contemporánea\ngestión en centros educativos\npsicología educacional\nmaestría en psicología y educación\nmaestría en educación popular\nmaestría en psicología educacional\nposgrado en psicologia de la educacion\nmaestria en psicología educacional\nreeducación en dificultades del aprendizaje\ncursos sobre psicoanálisis y psicología de la educación\ndificultades de aprendizaje-especialización en educacion inicial\npsicología educacional\npsicología y educación\neducador sexual, sexologia clinica (incompleto)\ninstituciones, grupo y familia, psicosomática, inclusión educativa, lo grupal lo institucional, la institución educativa,\ngestión de centros educativos\npsicologia y educación\nmaestría en psicología y educación\ndiplomado transformacion educativa pensamiento complejo edgar morim\npsicología clínica educacional, psicología sistémica\nlicenciatura en educación\npsicología educacional\npsicologia y educacion\npsicología clínica educacional, psicología infantil, psicodrama\npsicologia y educacion\nmaestria psicología educacional\nmaestría en ps educacional\nmaestría en psicología educacional\npsicologia educacional\nmaestría en educación superior\nformaciòn en gestalt educacional, formaciòn en gestalt con niños y adolescentes\nrecursos humanos, desafios del psicologo educacional\npsicología médica y hospitalaria. sexología y educación sexual. perito en violencia fliar. perito en victimología y criminología\nmaestría en psicología y educación\npostitulo de gestion de centros educativos\nperspectiva de género en la educación\nintervencione en crisis. psicología educacional. uso problemático de sustancias. psicoanálisis de adolescentes y niños\neducacion inicial, psicodiagnostico en dificcultad de aprendizaje\nmaestría en psicología educacional\nmaestría en psicología y educación\neducadora sexual, gestión en rrhh, sexologia clinica,\nsexólogo/a especialista en educación sexual (en curso)\neducasion universitaria\nmaestría en psicología y educación\neducación sexual\nmaestría en psicología y educación 2009\neducación en infancia\npostgrado en psicología educacional\nmaestría en psicología educacional\nposgrado en psicologia educacional\n1) pericia victimologica y criminologica. 2)educador sexual\nmaestría en piscología y educación\ndiploma en rrhh, postgrado en gestion educativa\nmaestria en psicologia educacional\ndirección superior de centros educativos\nintegracion afectiva de la familia y educacion biocentrica\nterapia sistemica modelo palo alto, reduccion de riesgos en el consumo problematico de drogas\nmaster en educación-master en gestión de centros educativos- master en didáctica de la educación superior\nmaestría psicología y educación\nmaestria en psicologia y educacion\nt{ecnica psicoanalitica. ...winnicott para niños adolescentes y adultos......educación y winnicott\nformacion de terapeuta sistemico, educadora sexual, sexologia clinica\npostgrado en gestión de centros educativos\npsicología de la educación\nespecializacioón en educación\npost grado en psicología educacional\nmaestría en dirección de centros educativos, doctorado en psicología\neducadora sexual,psicoanálisis de niños y adolescentes\nespecializacion en educacion artistica\npostgrado en psicología educacional\ndoctorado en educación\ndiploma en gestión de instituciones educativas y en educación.\nposgrado en psicología educacional\njóvenes, educación y trabajo: nuevas tendencias y desafíos\nespecializacion en el area educativa: dificultad de aprendizaje, psicopedagogia, formacion en la primera infancia.\njóvenes: educación y trabajo\nmaestria en psicología y educación\npsicología educacional\npsicologia educacional\npsicologìa educativa\npostgrado en psicología educacional\neducacion social y animador sociocultural\nrol del psicólogo en el ámbito educacional\npsicología y educación\neducacional\n"
     ]
    }
   ],
   "source": [
    "## Parte 2\n",
    "for esp in especialidades:\n",
    "    if (\"educ\" or \"pedag\") in esp:\n",
    "        print(esp)"
   ]
  },
  {
   "cell_type": "code",
   "execution_count": 16,
   "metadata": {
    "tags": []
   },
   "outputs": [
    {
     "output_type": "stream",
     "name": "stdout",
     "text": [
      "soc : 295\norgan : 164\nforen : 55\nneuro : 116\ncomun : 30\n"
     ]
    }
   ],
   "source": [
    "# Parte 3\n",
    "def reporte(raices):\n",
    "    for rs in raices:\n",
    "        count = 0\n",
    "        for esp in especialidades:\n",
    "            if rs in esp:\n",
    "                count = count + 1\n",
    "        print(rs, \":\", count)\n",
    "\n",
    "\n",
    "raices_de_interes = [\"soc\", \"organ\", \"foren\", \"neuro\", \"comun\"]\n",
    "reporte(raices_de_interes)"
   ]
  },
  {
   "source": [
    "# Parte 2: Razones para no seguir estudios de posgrado\n",
    "\n",
    "La variable `razonesnoposgrado` registra los motivos por los que los psicólogos censados no siguieron estudios de posgrado. La variable está codificada de la siguiente manera:\n",
    "\n",
    "| Código \t|            Descripción           \t|\n",
    "|:------:\t|:--------------------------------:\t|\n",
    "|  3.231  \t| Considera que no son necesarios  \t|\n",
    "|  3.232  \t|  No tuvo acceso a la información \t|\n",
    "|  3.233  \t|        Razones familiares        \t|\n",
    "|  3.234  \t|         Razones laborales        \t|\n",
    "|  3.235  \t|        Razones económicas        \t|\n",
    "|  3.236  \t|      Dificultad con idiomas      \t|\n",
    "|  3.237  \t|           Otras causas           \t|\n",
    "\n",
    "A partir de la información disponible en esta variable, escribe un programa que sea capaz de:\n",
    "\n",
    "1. Indicar cuántos psicólogos no siguieron estudios de posgrado (3 pts).  \n",
    "2. Indicar cuántos no siguieron estudios de posgrado de acuerdo a las razones listadas (7 pts)."
   ],
   "cell_type": "markdown",
   "metadata": {}
  },
  {
   "cell_type": "code",
   "execution_count": 17,
   "metadata": {
    "tags": []
   },
   "outputs": [
    {
     "output_type": "execute_result",
     "data": {
      "text/plain": [
       "1305"
      ]
     },
     "metadata": {},
     "execution_count": 17
    }
   ],
   "source": [
    "razonesnoposgrado = df.dropna(subset=[\"Por_qué_no_posgrado\"], inplace=False)[\n",
    "    \"Por_qué_no_posgrado\"\n",
    "].tolist()\n",
    "\n",
    "## Parte 1\n",
    "len(razonesnoposgrado)"
   ]
  },
  {
   "cell_type": "code",
   "execution_count": 32,
   "metadata": {},
   "outputs": [
    {
     "output_type": "stream",
     "name": "stdout",
     "text": [
      "Considera que no son necesarios : 11\nNo tuvo acceso a la información : 30\nRazones familiares : 126\nRazones laborales : 232\nRazones económicas : 471\nDificultad con idiomas : 1\nOtras causas : 434\n"
     ]
    }
   ],
   "source": [
    "## Parte 2\n",
    "cod_razones = [3.231, 3.232, 3.233, 3.234, 3.235, 3.236, 3.237]\n",
    "desc_razones = [\n",
    "    \"Considera que no son necesarios\",\n",
    "    \"No tuvo acceso a la información\",\n",
    "    \"Razones familiares\",\n",
    "    \"Razones laborales\",\n",
    "    \"Razones económicas\",\n",
    "    \"Dificultad con idiomas\",\n",
    "    \"Otras causas\",\n",
    "]\n",
    "\n",
    "for i in range(len(cod_razones)):\n",
    "    count = 0\n",
    "    for raz in razonesnoposgrado:\n",
    "        if cod_razones[i] == raz:\n",
    "            count = count + 1\n",
    "    print(desc_razones[i], \":\", count)"
   ]
  }
 ]
}