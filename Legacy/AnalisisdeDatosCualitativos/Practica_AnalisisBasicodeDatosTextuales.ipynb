{
 "metadata": {
  "language_info": {
   "codemirror_mode": {
    "name": "ipython",
    "version": 3
   },
   "file_extension": ".py",
   "mimetype": "text/x-python",
   "name": "python",
   "nbconvert_exporter": "python",
   "pygments_lexer": "ipython3",
   "version": "3.7.10"
  },
  "orig_nbformat": 2,
  "kernelspec": {
   "name": "python3",
   "display_name": "Python 3.7.10 64-bit ('base': conda)"
  },
  "interpreter": {
   "hash": "fcc1d2c210046f8d6f0962280d91bf96fd89619bab60881df3e6b70c67140f94"
  }
 },
 "nbformat": 4,
 "nbformat_minor": 2,
 "cells": [
  {
   "source": [
    "# Ejercicio 1: Análisis preliminar de entrevistas II\n",
    "\n",
    "Continuamos con nuestro trabajo como asistente de investigación un grupo enfocado en la toma de decisiones vocacionales. Ahora se te ha pedido que hagas un análisis individual de cada entrevistado. \n",
    "\n",
    "Nuevamente cargamos la transcripción de entrevistas, provista en formato PDF:"
   ],
   "cell_type": "markdown",
   "metadata": {}
  },
  {
   "cell_type": "code",
   "execution_count": null,
   "metadata": {},
   "outputs": [],
   "source": [
    "# Instalar el paquete PyPDF2\n",
    "!pip install PyPDF2"
   ]
  },
  {
   "cell_type": "code",
   "execution_count": 1,
   "metadata": {},
   "outputs": [
    {
     "output_type": "stream",
     "name": "stdout",
     "text": [
      "92\n1\n \n \n1.\n \nEntrevista 1\n \n \nEstudiante 1 de género masculino, universidad pública, \npsicología\n, que proviene de \nliceo\n \ncientífico \n\n \nhumanista A (entrevistado el 6 de enero de 2014).\n \n \n \nIniciando mi nombre es \nentrevistado uno\n, tengo 20 años, estudio \npsicología\n \nen la \nuniversidad pública\n, estoy, pasé a tercer año de la carrera y egresé, la enseñanza media la \ncursé en el liceo\n \ncientífico \n\n \nhumanista A \nde la comuna de P. A.\n \n \nEl Liceo, ¿es municipal?\n \n \nEs municipal, si, uno de los otrora emblemáticos de \ncomuna de P. A. \nque ahora está de mal \nen peor, con mucho estudiante en riesgo social, muy vulnerable, con matrícula reducida \npara\n \nlo que es su infraestructura. No, es como quizás da cuenta la situación de la educación \nmunicipal y de la educación pública a nivel medio en Chile, que están siendo vejados en \nfunción de lo privado, eso.\n \n \nHa venido como disminuyéndose. Mira, la pregunta q\nue guía la siguiente entrevista es \nmás menos ¿cómo fue tu proceso de decisión vocacional tanto en tu etapa escolar, \nconsiderando elementos de tu historia de vida hasta más menos como has llegado \nahora, cómo llegaste en el fondo a tomar esta decisión en el \ncontexto de oportunidades \nque se te dio?\n \n \n\nahí. Bueno, cuando yo era chico, tenía alrededor de diez años pertenecí a una congregación \nreligiosa que entre otras cosas ins\ntaba a los jóvenes a hacer una especie de misión que se \nllama, en la cual tu cumples diecinueve años y tienes que servir por dos años a tu religión \nhaciendo proselitismo religioso en otro país por lo general. Entonces mis padres siempre \nme inculcaron que y\no tenía que hacer eso y posterior a ello yo podía estudiar no sé, algún \nbachillerato, algo así que ellos me iban a poder financiar la carrera. Bueno, después con los \nvaivenes de la vida yo salí afortunadamente de esa congregación religiosa, puedo decir que\n \nvi la luz al salir.\n \n \n¿Qué edad tenías ahí más menos?\n \n \nDiecisiete años cuando sucedió eso pero antes de eso igual mucho, muchas situaciones, \ncambios de empleo de mi viejo que le bajaron el sueldo, que a mi vieja le subieron el \nsueldo, muchas situaciones ca\nmbiaron, entonces ahí tu por medio de tus viejos, no tanto \nmis viejos quizás, sino que más que nada sentía la presión de que tenía que hacerlo porque \n\n \nque \n\n\nporque sino ingresas a la universidad, pucha, vas a ser un pollo, \ncachai\n.\n \n \n¿Qué significa ser un pollo?\n \n \n\n"
     ]
    }
   ],
   "source": [
    "# Importar paquetes a ser utilizados\n",
    "import matplotlib.pyplot as plt\n",
    "import PyPDF2\n",
    "import nltk\n",
    "\n",
    "# crea un objeto de archivo pdf\n",
    "pdfFileObj = open(\"Anexo_Entrevistas.pdf\", \"rb\")\n",
    "\n",
    "# crea un objeto de lectura de pdf\n",
    "pdfReader = PyPDF2.PdfFileReader(pdfFileObj)\n",
    "\n",
    "# muestra el número de páginas en un archivo pdf\n",
    "print(pdfReader.numPages)\n",
    "\n",
    "# crea un objeto de página\n",
    "pageObj = pdfReader.getPage(2)\n",
    "\n",
    "# extrae text de una página\n",
    "print(pageObj.extractText())"
   ]
  },
  {
   "source": [
    "1. Selecciona las entrevistas realizadas a los participantes 2 y 5, divide cada entrevista en oraciones y extrae los tokens de cada oración."
   ],
   "cell_type": "markdown",
   "metadata": {}
  },
  {
   "cell_type": "code",
   "execution_count": 2,
   "metadata": {},
   "outputs": [],
   "source": [
    "# Escribe tu respuesta aquí"
   ]
  },
  {
   "source": [
    "2. Aplica lematización a las oraciones de cada entrevista."
   ],
   "cell_type": "markdown",
   "metadata": {}
  },
  {
   "cell_type": "code",
   "execution_count": null,
   "metadata": {},
   "outputs": [],
   "source": [
    "# Escribe tu respuesta aquí"
   ]
  },
  {
   "source": [
    "3. Extrae los stopwords de cada entrevista.\n",
    "(Sugerencia: Utiliza la función stopwords presente en NLTK) "
   ],
   "cell_type": "markdown",
   "metadata": {}
  },
  {
   "cell_type": "code",
   "execution_count": null,
   "metadata": {},
   "outputs": [],
   "source": [
    "# Escribe tu respuesta aquí"
   ]
  },
  {
   "source": [
    "4. Para cada entrevista, realiza un conteo de tipo TF-IDF y preséntalo en un gráfico. ¿Encuentras alguna diferencia entre las entrevistas?"
   ],
   "cell_type": "markdown",
   "metadata": {}
  },
  {
   "cell_type": "code",
   "execution_count": null,
   "metadata": {},
   "outputs": [],
   "source": [
    "# Escribe tu respuesta aquí"
   ]
  },
  {
   "source": [
    "# Ejercicio 2: Análisis preliminar de hasthags en Twitter II\n",
    "\n",
    "Continuamos en nuestro trabajo como consultores de Community Management. \n",
    "\n",
    "Dada la coyuntura, se te pide que profundices en tu análisis de los hasthags: `#CambioViciadoPorElLapiz` y `#CambioViciadoPorKeiko`"
   ],
   "cell_type": "markdown",
   "metadata": {}
  },
  {
   "cell_type": "code",
   "execution_count": null,
   "metadata": {},
   "outputs": [],
   "source": [
    "# Importa las librerías a utilizar\n",
    "import tweepy\n",
    "import re\n",
    "from unicodedata import normalize\n",
    "import numpy as np\n",
    "from PIL import Image\n",
    "from wordcloud import WordCloud\n",
    "from nltk.corpus import stopwords\n",
    "\n",
    "nltk.download(\"stopwords\")\n",
    "\n",
    "# Variables con las credenciales de acceso al API de Twitter\n",
    "consumerKey = \"TYPE HERE\"\n",
    "consumerSecret = \"TYPE HERE\"\n",
    "accessToken = \"TYPE HERE\"\n",
    "accessTokenSecret = \"TYPE HERE\"\n",
    "\n",
    "# Acceso al API de Twitter\n",
    "auth = tweepy.OAuthHandler(consumerKey, consumerSecret)\n",
    "auth.set_access_token(accessToken, accessTokenSecret)\n",
    "api = tweepy.API(auth)"
   ]
  },
  {
   "source": [
    "1. Extrae 2500 tweets que utilicen los hashtags mencionados y colócalos en dos listas separadas. "
   ],
   "cell_type": "markdown",
   "metadata": {}
  },
  {
   "cell_type": "code",
   "execution_count": null,
   "metadata": {},
   "outputs": [],
   "source": [
    "# Escribe tu respuesta aquí"
   ]
  },
  {
   "source": [
    "2. Crea dos Series de Pandas a partir de estas listas. Retira los duplicados y quita los caracteres indeseados utilizando expresiones regulares. "
   ],
   "cell_type": "markdown",
   "metadata": {}
  },
  {
   "cell_type": "code",
   "execution_count": null,
   "metadata": {},
   "outputs": [],
   "source": [
    "# Escribe tu respuesta aquí"
   ]
  },
  {
   "source": [
    "3. Encuentra colocaciones en las dos Series de Pandas utilizando la liberaría NLTK."
   ],
   "cell_type": "markdown",
   "metadata": {}
  },
  {
   "cell_type": "code",
   "execution_count": null,
   "metadata": {},
   "outputs": [],
   "source": [
    "# Escribe tu respuesta aquí"
   ]
  },
  {
   "source": [
    "4.  Para cada Serie, aplica lematización y realiza un conteo de tipo TF-IDF y preséntalo en un gráfico. ¿Encuentras alguna diferencia entre los hashtags?"
   ],
   "cell_type": "markdown",
   "metadata": {}
  },
  {
   "cell_type": "code",
   "execution_count": null,
   "metadata": {},
   "outputs": [],
   "source": [
    "# Escribe tu respuesta aquí"
   ]
  },
  {
   "cell_type": "code",
   "execution_count": null,
   "metadata": {},
   "outputs": [],
   "source": [
    "5. Crea dos nubes de palabras con las Series lematizadas asociadas a cada hashtag. "
   ]
  },
  {
   "cell_type": "code",
   "execution_count": null,
   "metadata": {},
   "outputs": [],
   "source": [
    "# Escribe tu respuesta aquí"
   ]
  }
 ]
}